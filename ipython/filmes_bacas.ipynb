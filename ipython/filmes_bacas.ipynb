{
 "metadata": {
  "name": "",
  "signature": "sha256:1c294e1cfa06decde8449373ecbc708c526221d2f43967f25639abc95f41371c"
 },
 "nbformat": 3,
 "nbformat_minor": 0,
 "worksheets": [
  {
   "cells": [
    {
     "cell_type": "code",
     "collapsed": false,
     "input": [
      "import os,sys\n",
      "import datetime\n",
      "import shutil\n",
      "import re\n",
      "import urllib\n",
      "import json\n",
      "import tmdb3\n",
      "from imdb import IMDb\n",
      "from sqlalchemy import *\n",
      "import win32api"
     ],
     "language": "python",
     "metadata": {},
     "outputs": [],
     "prompt_number": 1
    },
    {
     "cell_type": "code",
     "collapsed": false,
     "input": [
      "extensoes = {\n",
      "        'avi':{ 'total':0, 'arquivos':[]},\n",
      "        'mp4':{ 'total':0, 'arquivos':[]},\n",
      "        'mpg':{ 'total':0, 'arquivos':[]},\n",
      "        'wmv':{ 'total':0, 'arquivos':[]},\n",
      "        'mov':{ 'total':0, 'arquivos':[]},\n",
      "        'mkv':{ 'total':0, 'arquivos':[]},        \n",
      "        'flv':{ 'total':0, 'arquivos':[]},  \n",
      "        'divx':{ 'total':0, 'arquivos':[]},  \n",
      "        'rar':{ 'total':0, 'arquivos':[]},  \n",
      "        'm4v':{ 'total':0, 'arquivos':[]},  \n",
      "        'zip':{ 'total':0, 'arquivos':[]},  \n",
      "        'rm':{ 'total':0, 'arquivos':[]},  \n",
      "        \"srt\":{ 'total':0, 'arquivos':[]}\n",
      "        }\n",
      "pastas = [u'1910-1930', u'1940', u'1950', u'1960', u'1970', u'1980', u'1990', u'2000', u'2010', u'2011', u'2012', u'2013', u'2014']\n",
      "\n",
      "top = u'h:/filmes/'"
     ],
     "language": "python",
     "metadata": {},
     "outputs": [],
     "prompt_number": 2
    },
    {
     "cell_type": "code",
     "collapsed": false,
     "input": [
      "def GetVolumeInformation(disco=\"g\"):\n",
      "    \"\"\" \n",
      "    http://msdn.microsoft.com/en-us/library/windows/desktop/aa364993(v=vs.85).aspx\n",
      "    \n",
      "        BOOL WINAPI GetVolumeInformation(\n",
      "          _In_opt_   LPCTSTR lpRootPathName,\n",
      "          _Out_opt_  LPTSTR lpVolumeNameBuffer,\n",
      "          _In_       DWORD nVolumeNameSize,\n",
      "          _Out_opt_  LPDWORD lpVolumeSerialNumber,\n",
      "          _Out_opt_  LPDWORD lpMaximumComponentLength,\n",
      "          _Out_opt_  LPDWORD lpFileSystemFlags,\n",
      "          _Out_opt_  LPTSTR lpFileSystemNameBuffer,\n",
      "          _In_       DWORD nFileSystemNameSize\n",
      "        );    \n",
      "    \"\"\"\n",
      "    #drives = win32api.GetLogicalDriveStrings()\n",
      "    #drives = drives.split('\\000')[:-1]\n",
      "    #print drives\n",
      "    info = win32api.GetVolumeInformation(disco + \":\\\\\")\n",
      "    return info"
     ],
     "language": "python",
     "metadata": {},
     "outputs": [],
     "prompt_number": 3
    },
    {
     "cell_type": "code",
     "collapsed": false,
     "input": [
      "def baca01():\n",
      "    #limite_erros = 5\n",
      "    for pasta in pastas:\n",
      "        path = top + pasta\n",
      "        filmes = os.listdir( path)\n",
      "        i = 0\n",
      "        erros = 0\n",
      "        for filme in filmes:\n",
      "            i += 1\n",
      "            info_imdb = path + '/' + filme + '/imdb.json'\n",
      "            if os.path.exists(info_imdb): \n",
      "                json_data = open(info_imdb)\n",
      "                info = json.load(json_data)\n",
      "                json_data.close()\n",
      "                if \"Error\" in info:\n",
      "                    print filme, \" -- Erro: \", info['Error']\n",
      "                    os.remove(info_imdb)\n",
      "                #print filme, \" - OK\"\n",
      "                continue\n",
      "            else:\n",
      "                pass\n",
      "                #print filme, \" - NOK\"\n",
      "\n",
      "            print \"-\"*15\n",
      "        print \"FIM - leu:%d da pasta %s\" % (i,pasta)"
     ],
     "language": "python",
     "metadata": {},
     "outputs": [],
     "prompt_number": 4
    },
    {
     "cell_type": "code",
     "collapsed": false,
     "input": [
      "def info_omdbapi(id):\n",
      "    url = 'http://www.omdbapi.com/?i=tt' + id + '&plot=full&r=json&tomatoes=true'\n",
      "\n",
      "\n",
      "    d = urllib.urlopen(url).read()\n",
      "\n",
      "    info = json.loads(d)\n",
      "    if not info['Response']:\n",
      "        print 'id: ', id, ' - Erro: ',info['Error']\n",
      "        info = {}\n",
      "    return info\n"
     ],
     "language": "python",
     "metadata": {},
     "outputs": [],
     "prompt_number": 5
    },
    {
     "cell_type": "code",
     "collapsed": false,
     "input": [
      "def apaga_arquivos_info(root=\"\"):\n",
      "    if not root: root = top\n",
      "\n",
      "    for pasta in pastas:\n",
      "        path = root + pasta\n",
      "        filmes = os.listdir( path)\n",
      "        i = 0\n",
      "        erros = 0\n",
      "        for filme in filmes:\n",
      "            i += 1\n",
      "            info_imdb = path + '/' + filme + '/imdb.json'  \n",
      "            if os.path.exists(info_imdb):\n",
      "                os.remove(info_imdb)\n",
      "                print \"Apagou - \",info_imdb \n",
      "    "
     ],
     "language": "python",
     "metadata": {},
     "outputs": [],
     "prompt_number": 6
    },
    {
     "cell_type": "code",
     "collapsed": false,
     "input": [
      "#baca01()\n",
      "apaga_arquivos_info(root=\"g:/filmes/\")"
     ],
     "language": "python",
     "metadata": {},
     "outputs": [
      {
       "output_type": "stream",
       "stream": "stdout",
       "text": [
        "Apagou -  g:/filmes/1910-1930/A Grande Ilus\u00e3o (1937) Jean Renoir/imdb.json\n",
        "Apagou -  g:/filmes/1910-1930/A Mulher Faz o Homem (1939) Franck Capra/imdb.json\n",
        "Apagou -  g:/filmes/1910-1930/A Porta da Loucura (1936) Louis J. Gasnier/imdb.json\n",
        "Apagou -  g:/filmes/1910-1930/A Prop\u00f3sito de Nice (1930) Jean Vigo - Mudo/imdb.json\n",
        "Apagou -  g:/filmes/1910-1930/A Regra do Jogo (1939) Jean Renoir/imdb.json\n",
        "Apagou -  g:/filmes/1910-1930/Aconteceu Naquela Noite (1934) Franck Capra/imdb.json\n",
        "Apagou -  g:/filmes/1910-1930/Aconteceu Naquela Noite (1934) Frank Capra/imdb.json\n",
        "Apagou -  g:/filmes/1910-1930/Chantagem e Confiss\u00e3o (1929) Alfred Hitchcock/imdb.json\n",
        "Apagou -  g:/filmes/1910-1930/Confins (1933) Boris Barnet/imdb.json\n",
        "Apagou -  g:/filmes/1910-1930/Do Mundo Nada Se Leva (1938) Frank Capra/imdb.json\n",
        "Apagou -  g:/filmes/1910-1930/E o Vento Levou (1939) Victor Fleming, George Cukor e Sam Wood/imdb.json\n",
        "Apagou -  g:/filmes/1910-1930/Em Busca do Ouro (1925) Charles Chaplin/imdb.json\n",
        "Apagou -  g:/filmes/1910-1930/Loura e Sedutora (1931) Frank Capra/imdb.json\n",
        "Apagou -  g:/filmes/1910-1930/M - O Vampiro de D\u00fcsseldorf (1931) Fritz Lang/imdb.json\n",
        "Apagou -  g:/filmes/1910-1930/Madame DuBarry (1919) Ernst Lubistsch/imdb.json\n",
        "Apagou -  g:/filmes/1910-1930/Metr\u00f3polis (1927) Firtz Lang/imdb.json\n",
        "Apagou -  g:/filmes/1910-1930/O Galante Mr. Deeds (1936) Frank Capra/imdb.json\n",
        "Apagou -  g:/filmes/1910-1930/O Inquilino (1927) Alfred Hitchcock/imdb.json\n",
        "Apagou -  g:/filmes/1910-1930/O Ladr\u00e3o de Bagd\u00e1 (1924) Raoul Walsh/imdb.json\n",
        "Apagou -  g:/filmes/1910-1930/O Milh\u00e3o (1931) Ren\u00e9 Clair/imdb.json\n",
        "Apagou -  g:/filmes/1910-1930/O M\u00e1gico de Oz (1939) Victor Fleming, George Cukor, Mervyn LeRoy, Norman Taurog e King Vidor/imdb.json\n",
        "Apagou -  g:/filmes/1910-1930/Outubro (1928) Sergei Eisenstein/imdb.json\n",
        "Apagou -  g:/filmes/1910-1930/Tempos Modernos (1936) Charles Chaplin/imdb.json\n",
        "Apagou -  g:/filmes/1910-1930/The General (1926) Buster Keaton e Clyde Bruckman/imdb.json\n",
        "Apagou -  g:/filmes/1910-1930/Within our Gates (1920)/imdb.json\n",
        "Apagou -  g:/filmes/1910-1930/\u00caxtase (1933) Gustav Machat\u00fd/imdb.json\n",
        "Apagou -  g:/filmes/1940/A Felicidade N\u00e3o Se Compra (1946) Frank Capra/imdb.json\n",
        "Apagou -  g:/filmes/1940/A Possu\u00edda (1947) Clarence Brown/imdb.json\n",
        "Apagou -  g:/filmes/1940/As Damas dos Bois de Boulogne (1945) Robert Besson/imdb.json\n",
        "Apagou -  g:/filmes/1940/As Oito V\u00edtimas (1949) Robert Hamer/imdb.json\n",
        "Apagou -  g:/filmes/1940/Contrastes Humanos (1941) Preston Sturges/imdb.json\n",
        "Apagou -  g:/filmes/1940/Festim Diab\u00c3\u00b3lico (1948) Alfred Hitchcock/imdb.json\n",
        "Apagou -  g:/filmes/1940/F\u00faria Sanguin\u00e1ria (1949) Raoul Walsh/imdb.json\n",
        "Apagou -  g:/filmes/1940/Ivan, o Terr\u00edvel (1945) Sergei Eisenstein/imdb.json\n",
        "Apagou -  g:/filmes/1940/O Terceiro Homem (1949) Carol Reed/imdb.json\n",
        "Apagou -  g:/filmes/1940/Sob o Signo de Capric\u00f3rnio (1949) Alfred Hitchcock/imdb.json\n",
        "Apagou -  g:/filmes/1940/Um Barco e Nove Destinos (1944) Alfred Hitchcock/imdb.json\n",
        "Apagou -  g:/filmes/1940/Vinhas da Ira (1940) John Ford/imdb.json\n",
        "Apagou -  g:/filmes/1950/A Gard\u00eania Azul (1953) Fritz Lang/imdb.json\n",
        "Apagou -  g:/filmes/1950/A Grande Guerra (1959) Mario Monicelli/imdb.json\n",
        "Apagou -  g:/filmes/1950/Amor na Tarde (1957) Billy Wilder/imdb.json\n",
        "Apagou -  g:/filmes/1950/As Diab\u00f3licas (1955) Henri-Georges Clouzot/imdb.json\n",
        "Apagou -  g:/filmes/1950/As F\u00e9rias do Sr. Hulot (1953) Jacques Tati/imdb.json\n",
        "Apagou -  g:/filmes/1950/Boneca de Carne (1956) Elia Kazan/imdb.json\n",
        "Apagou -  g:/filmes/1950/Brinquedo Proibido (1952) Ren\u00e9 Cl\u00e9ment/imdb.json\n",
        "Apagou -  g:/filmes/1950/Contos da Lua Vaga (1953) Kenji Mizoguchi/imdb.json\n",
        "Apagou -  g:/filmes/1950/Estranha Compuls\u00e3o (1959) Richard Fleischer/imdb.json\n",
        "Apagou -  g:/filmes/1950/Gata em Teto de Zinco Quente (1958) Richards Brooks/imdb.json\n",
        "Apagou -  g:/filmes/1950/Hiroshima Mon Amour (1959) Alain Resnais/imdb.json\n",
        "Apagou -  g:/filmes/1950/Ivan, o Terr\u00edvel - Parte II  (1958) Sergei Eisenstein/imdb.json\n",
        "Apagou -  g:/filmes/1950/Lola Montes (1955) Max Oph\u00fcls/imdb.json\n",
        "Apagou -  g:/filmes/1950/Luzes da Ribalta (1952) Charles Chaplin/imdb.json\n",
        "Apagou -  g:/filmes/1950/Medo e Desejo (1953) Stanley Kubrick/imdb.json\n",
        "Apagou -  g:/filmes/1950/Meu Tio (1958) Jacques Tati/imdb.json\n",
        "Apagou -  g:/filmes/1950/O Dia que a Terra Parou (1951) Robert Wise/imdb.json\n",
        "Apagou -  g:/filmes/1950/O Di\u00e1rio de Anne Frank (1959) George Stevens/imdb.json\n",
        "Apagou -  g:/filmes/1950/O Grande Golpe (1956) Stanley Kubrick/imdb.json\n",
        "Apagou -  g:/filmes/1950/O Homem que Sabia Demais (1956) Alfred Hitchcock/imdb.json\n",
        "Apagou -  g:/filmes/1950/O Incr\u00edvel Homem que Encolheu (1957) Jack Arnold/imdb.json\n",
        "Apagou -  g:/filmes/1950/O S\u00e9timo Selo (1957) Ingmar Bergman/imdb.json\n",
        "Apagou -  g:/filmes/1950/Ordet (1955) Carl Theodor Dreyer/imdb.json\n",
        "Apagou -  g:/filmes/1950/Os Eternos Desconhecidos (1958) Mario Monicelli/imdb.json\n",
        "Apagou -  g:/filmes/1950/Pacto Sinistro (1951) Alfred Hitchcock/imdb.json\n",
        "Apagou -  g:/filmes/1950/Plano 9 do Espa\u00e7o Sideral (1959) Ed Wood/imdb.json\n",
        "Apagou -  g:/filmes/1950/Um Rei em Nova York (1957) Charles Chaplin/imdb.json\n",
        "Apagou -  g:/filmes/1950/Uma Cruz \u00c3\u00a0 Beira do Abismo (1959) Fred Zinnemann/imdb.json\n",
        "Apagou -  g:/filmes/1950/Umberto D. (1952) Vittorio de Sica/imdb.json\n",
        "Apagou -  g:/filmes/1950/Viver (1952) Akira Kurosawa/imdb.json\n",
        "Apagou -  g:/filmes/1960/2001 A Space Odyssey (1968) Stanley Kubrick/imdb.json\n",
        "Apagou -  g:/filmes/1960/322 (1969) Dusan Han\u00e1k - Tchecoslov\u00e1quia/imdb.json\n",
        "Apagou -  g:/filmes/1960/7 Faces do Dr. Lao (1964) George Pal/imdb.json\n",
        "Apagou -  g:/filmes/1960/A Inf\u00e2ncia de Ivan (1962) Andrei Tarkovsky/imdb.json\n",
        "Apagou -  g:/filmes/1960/Amphibian Man (1962) Vladimir Chebotaryov e Gennadi Kazansky (URSS)/imdb.json\n",
        "Apagou -  g:/filmes/1960/Anna (1967) Pierre Koralnik/imdb.json\n",
        "Apagou -  g:/filmes/1960/Ano Passado em Marienbad (1961) Alain Resnais/imdb.json\n",
        "Apagou -  g:/filmes/1960/As Pequenas Margaridas (1966) Vera Chytilova - Tchecoslov\u00e1quia/imdb.json\n",
        "Apagou -  g:/filmes/1960/Bande a Part (1964) Jean Luc-Godard/imdb.json\n",
        "Apagou -  g:/filmes/1960/Beije-me, Idiota (1964) Billy Wilder/imdb.json\n",
        "Apagou -  g:/filmes/1960/Bonnie e  Clyde - Uma Rajada de Balas (1967) Arthur Penn/imdb.json\n",
        "Apagou -  g:/filmes/1960/Bullitt (1968) Peter Yates/imdb.json\n",
        "Apagou -  g:/filmes/1960/Cabo do Medo (1962) J. Lee Thompson/imdb.json\n",
        "Apagou -  g:/filmes/1960/Carnival of Souls (1962) Herk Harvey/imdb.json\n",
        "Apagou - "
       ]
      },
      {
       "output_type": "stream",
       "stream": "stdout",
       "text": [
        " g:/filmes/1960/Cathy Come Home (1966) Ken Loach/imdb.json\n",
        "Apagou -  g:/filmes/1960/Chappaqua - Almas Entorpecidas (1966) Conrad Rooks/imdb.json\n",
        "Apagou -  g:/filmes/1960/Com a Maldade na Alma (1964) Robert Aldrich/imdb.json\n",
        "Apagou -  g:/filmes/1960/Cr\u00f4nica de Anna Magdalena Bach (1968) Dani\u00e8le Hvillet e Jean-Marie Straub/imdb.json\n",
        "Apagou -  g:/filmes/1960/Darling - A que Amou Demais (1965) John Schlesinger/imdb.json\n",
        "Apagou -  g:/filmes/1960/Dersu Uzala (1961) Agasi Babayan/imdb.json\n",
        "Apagou -  g:/filmes/1960/Desafio \u00e0 Corrup\u00e7\u00e3o (1961) Robert Rossen/imdb.json\n",
        "Apagou -  g:/filmes/1960/Div\u00f3rcio \u00e0 Italiana (1961) Pietro Germi/imdb.json\n",
        "Apagou -  g:/filmes/1960/Django (1966) Sergio Corbucci/imdb.json\n",
        "Apagou -  g:/filmes/1960/Domingo \u00e0s Seis Horas (1965) Lucian Pintille - Rom\u00eania/imdb.json\n",
        "Apagou -  g:/filmes/1960/Double Suicide (1969) Masahiro Shinoda/imdb.json\n",
        "Apagou -  g:/filmes/1960/Dr. Fant\u00e1stico (1964) Stanley Kubrick/imdb.json\n",
        "Apagou -  g:/filmes/1960/Eu te Amo, eu te Amo (1968) Alain Resnais/imdb.json\n",
        "Apagou -  g:/filmes/1960/Faces (1968) John Cassavetes/imdb.json\n",
        "Apagou -  g:/filmes/1960/Farsa Diab\u00f3lica (1964) Bryan Forbes/imdb.json\n",
        "Apagou -  g:/filmes/1960/Freud, Al\u00e9m da Alma (1962) John Huston/imdb.json\n",
        "Apagou -  g:/filmes/1960/Gavi\u00f5es e Passarinhos (1966) Pier Paolo Pasolini/imdb.json\n",
        "Apagou -  g:/filmes/1960/Homem Mau, Dorme Bem (1960) Akira Kurosawa/imdb.json\n",
        "Apagou -  g:/filmes/1960/Irma la Douce (1963) Billy Wilder/imdb.json\n",
        "Apagou -  g:/filmes/1960/Joen (1967) Yoshishige Yoshida - Jap\u00e3o/imdb.json\n",
        "Apagou -  g:/filmes/1960/Kes (1969) Ken Loach/imdb.json\n",
        "Apagou -  g:/filmes/1960/L'homme qui ment (1968) Alain Robbe-Grillet/imdb.json\n",
        "Apagou -  g:/filmes/1960/La madriguera (1969) Carlos Saura/imdb.json\n",
        "Apagou -  g:/filmes/1960/Nas Garras do \u00d3dio (1965) Seth Holt/imdb.json\n",
        "Apagou -  g:/filmes/1960/O Barba Ruiva (1965) Akira Kurosawa/imdb.json\n",
        "Apagou -  g:/filmes/1960/O Beijo Amargo (1964) Samuel Fuller/imdb.json\n",
        "Apagou -  g:/filmes/1960/O Ladr\u00e3o Aventureiro (1967) Louis Malle/imdb.json\n",
        "Apagou -  g:/filmes/1960/O Milagre de Anna Sullivan (1962) Arthur Penn/imdb.json\n",
        "Apagou -  g:/filmes/1960/O que Ter\u00e1 Acontecido a Baby Jane (1962) Robert Aldrich/imdb.json\n",
        "Apagou -  g:/filmes/1960/O Sol por Testemunha (1960) Ren\u00e9 Cl\u00e9ment/imdb.json\n",
        "Apagou -  g:/filmes/1960/Os Amores de uma Loira (1965) Milos Forman/imdb.json\n",
        "Apagou -  g:/filmes/1960/Os Assassinos (1964) Don Siegel/imdb.json\n",
        "Apagou -  g:/filmes/1960/Os P\u00e1ssaros (1963) Alfred Hitchcock/imdb.json\n",
        "Apagou -  g:/filmes/1960/Paix\u00c3\u00b5es que Alucinam (1963) Samuel Fuller/imdb.json\n",
        "Apagou -  g:/filmes/1960/Playtime - Tempo de Divers\u00c3\u00a3o (1967) Jacques Tati/imdb.json\n",
        "Apagou -  g:/filmes/1960/Psicose (1960) Alfred Hitchcock/imdb.json\n",
        "Apagou -  g:/filmes/1960/Quem Tem Medo de  Virginia Woolf (1966) Mike Nichols/imdb.json\n",
        "Apagou -  g:/filmes/1960/Rebeldia Indom\u00c3\u00a1vel (1967) Stuart Rosenberg/imdb.json\n",
        "Apagou -  g:/filmes/1960/Skupljaci perja (1967) Aleksandra Petrovica/imdb.json\n",
        "Apagou -  g:/filmes/1960/Tempestade Sobre Washington (1962) Otto Preminger/imdb.json\n",
        "Apagou -  g:/filmes/1960/Um Clar\u00c3\u00a3o nas Trevas (1967) Terence Young/imdb.json\n",
        "Apagou -  g:/filmes/1960/Um Dia, Um Gato (1963) Vojtech Jasny -  Tchecoslov\u00c3\u00a1quia/imdb.json\n",
        "Apagou -  g:/filmes/1960/Uma Mulher Delicada (1969) Robert Bresson/imdb.json\n",
        "Apagou -  g:/filmes/1960/Uma Sobre a Outra (1969) Lucio Fulci/imdb.json\n",
        "Apagou -  g:/filmes/1960/Un uomo a met\u00e0 (1966) Vittorio de Seta/imdb.json\n",
        "Apagou -  g:/filmes/1960/Via Margutta (1960) Mario Camerini - It\u00c3\u00a1lia/imdb.json\n",
        "Apagou -  g:/filmes/1960/Viagem ao Fim do Universo (1963) Jindrich Polak- Tchecoslov\u00e1quia/imdb.json\n",
        "Apagou -  g:/filmes/1960/Vidas em Fuga (1960) Sidney Lumet/imdb.json\n",
        "Apagou -  g:/filmes/1960/V\u00c3\u00adcio Maldito (1962) Blake Edwards/imdb.json\n",
        "Apagou -  g:/filmes/1960/Z (1969) Costa-Gavras/imdb.json\n",
        "Apagou -  g:/filmes/1960/Zazie no M\u00c3\u00aatro (1960) Louis Malle/imdb.json\n",
        "Apagou -  g:/filmes/1960/\u00c2nsia de Amar (1971) Mike Nichols/imdb.json\n",
        "Apagou -  g:/filmes/1970/A Classe Oper\u00e1ria Vai ao Para\u00edso (1971) Elio Petri/imdb.json\n",
        "Apagou -  g:/filmes/1970/A Estrat\u00e9gia da Aranha (1970) Bernardo Bertolucci/imdb.json\n",
        "Apagou -  g:/filmes/1970/A F\u00faria (1978) Brian de Palma/imdb.json\n",
        "Apagou -  g:/filmes/1970/A Garota (1975) Souleymane Ciss\u00e9 - Mali/imdb.json\n",
        "Apagou -  g:/filmes/1970/A Garota do Adeus (1977) Herbert Ross/imdb.json\n",
        "Apagou -  g:/filmes/1970/A Montanha Sagrada (1973) Alejandro Jodorowski/imdb.json\n",
        "Apagou -  g:/filmes/1970/A Morte de Um Bookmaker Chin\u00eas (1976) John Cassavetes/imdb.json\n",
        "Apagou -  g:/filmes/1970/Amargo Pesadelo (1972) John Boorman/imdb.json\n",
        "Apagou -  g:/filmes/1970/Amor e Anarquia (1973) Lina Wertm\u00fcller - It\u00e1lia/imdb.json\n",
        "Apagou -  g:/filmes/1970/Amor \u00e0 Tarde (1972) Eric Rohmer - Fran\u00e7a/imdb.json\n",
        "Apagou -  g:/filmes/1970/Ana e os Lobos (1972) Carlos Saura/imdb.json\n",
        "Apagou -  g:/filmes/1970/Ao Anoitecer (1971) Claude Chabrol/imdb.json\n",
        "Apagou -  g:/filmes/1970/As Esposas de Stepford (1975) Bryan Forbes/imdb.json\n",
        "Apagou -  g:/filmes/1970/As L\u00e1grimas Amargas de Petra von Kant (1972) Rainer Werner Fassbinder/imdb.json\n",
        "Apagou -  g:/filmes/1970/Assalto \u00e0 13\u00aa DP (1976) John Carpenter/imdb.json\n",
        "Apagou -  g:/filmes/1970/Assassinato por Morte (1976) Robert Moore/imdb.json\n",
        "Apagou -  g:/filmes/1970/Assim Fala o Amor (1971) John Cassavetes/imdb.json\n",
        "Apagou -  g:/filmes/1970/Banz\u00e9 no Oeste (1974) Mel Brooks/imdb.json\n",
        "Apagou -  g:/filmes/1970/Cabaret (1972) Bob Fosse/imdb.json\n",
        "Apagou -  g:/filmes/1970/Calafrios (1975) David Cronenberg - Terror/imdb.json\n",
        "Apagou -  g:/filmes/1970/Canoa (1976) Felipe Cazals/imdb.json\n",
        "Apagou -  g:/filmes/1970/Coffy (1973) Jack Hill/imdb.json\n",
        "Apagou -  g:/filmes/1970/Corrida sem Fim (1971) Monte Haellman/imdb.json\n",
        "Apagou -  g:/filmes/1970/Cria Cuervos (1976) Carlos Saura/imdb.json\n",
        "Apagou -  g:/filmes/1970/Cruz de Ferro (1977) Sam Peckinpah/imdb.json\n",
        "Apagou -  g:/filmes/1970/Deslizamentos Progressivos do Prazer (1974) Alain Robbe-Griliet/imdb.json\n",
        "Apagou -  g:/filmes/1970/Enraivecida na F\u00c3\u00baria do Sexo (1977) David Cronenberg/imdb.json\n",
        "Apagou - "
       ]
      },
      {
       "output_type": "stream",
       "stream": "stdout",
       "text": [
        " g:/filmes/1970/Enraivecida na F\u00faria do Sexo (1977) David Cronenberg/imdb.json\n",
        "Apagou -  g:/filmes/1970/Equus (1977) Sidney Lumet/imdb.json\n",
        "Apagou -  g:/filmes/1970/Fedora (1978) Billy Wilder/imdb.json\n",
        "Apagou -  g:/filmes/1970/Fern\u00e3o Capelo Gaivota (1973) Hall Bartlett/imdb.json\n",
        "Apagou -  g:/filmes/1970/Grease; Nos Tempos da Brilhantina (1978) Randal Kleiser/imdb.json\n",
        "Apagou -  g:/filmes/1970/Irm\u00e3s Diab\u00f3licas (1973)  Brian De Palma/imdb.json\n",
        "Apagou -  g:/filmes/1970/Jesus Cristo Superstar (1973) Norman Jewison/imdb.json\n",
        "Apagou -  g:/filmes/1970/Jogo Mortal (1972) Joseph L.Mankiewicz/imdb.json\n",
        "Apagou -  g:/filmes/1970/Johnny Vai \u00e0 Guerra (1971) Dalton Trumbo/imdb.json\n",
        "Apagou -  g:/filmes/1970/La Luna (1979) Bernardo Bertolucci/imdb.json\n",
        "Apagou -  g:/filmes/1970/Laranja Mec\u00c3\u00a2nica (1971) Stanley Kubrick/imdb.json\n",
        "Apagou -  g:/filmes/1970/Le camion (1977) Marguerite Duras/imdb.json\n",
        "Apagou -  g:/filmes/1970/Louca Paix\u00e3o (1973) Paul Verhoeven/imdb.json\n",
        "Apagou -  g:/filmes/1970/Mahler (1974) Ken Russel/imdb.json\n",
        "Apagou -  g:/filmes/1970/Mam\u00c3\u00a3e faz 100 Anos (1979) Carlos Saura/imdb.json\n",
        "Apagou -  g:/filmes/1970/Moi, Pierre Rivi\u00e8re, ayant \u00e9gorg\u00e9 ma m\u00e8re, ma soeur et mon fr\u00e8re... (1976) Ren\u00e9 Allio/imdb.json\n",
        "Apagou -  g:/filmes/1970/Muito Al\u00e9m do Jardim (1979) Hal Ashey/imdb.json\n",
        "Apagou -  g:/filmes/1970/N\u00f3s N\u00e3o Envelheceremos Juntos (1972) Maurice Pialat - Fran\u00e7a/imdb.json\n",
        "Apagou -  g:/filmes/1970/O Assalariado (1973) Alan Bridges/imdb.json\n",
        "Apagou -  g:/filmes/1970/O Casamento de Maria Braun (1979) Rainer Werner Fassbinder/imdb.json\n",
        "Apagou -  g:/filmes/1970/O Expresso para Chicago (1976) Arthur Miller/imdb.json\n",
        "Apagou -  g:/filmes/1970/O Homem de M\u00e1rmore (1977) Andrzej Wajda/imdb.json\n",
        "Apagou -  g:/filmes/1970/O Jovem Frankenstein (1974) Mel Brooks/imdb.json\n",
        "Apagou -  g:/filmes/1970/O Porteiro da Noite (1974) Liliana Cavani/imdb.json\n",
        "Apagou -  g:/filmes/1970/Os Filhos do Medo (1979) David Cronenberg/imdb.json\n",
        "Apagou -  g:/filmes/1970/Os Maridos (1970) John Cassavetes/imdb.json\n",
        "Apagou -  g:/filmes/1970/Pelos Caminhos do Inferno (1971) Ted Kotcheff/imdb.json\n",
        "Apagou -  g:/filmes/1970/Planeta Fant\u00c3\u00a1stico (1973) Ren\u00c3\u00a9 Laloux/imdb.json\n",
        "Apagou -  g:/filmes/1970/Problemas Femininos (1974) John Waters/imdb.json\n",
        "Apagou -  g:/filmes/1970/Profiss\u00c3\u00a3o Rep\u00c3\u00b3rter (1975) Michelangelo Antonioni/imdb.json\n",
        "Apagou -  g:/filmes/1970/Quadrophenia (1979) Franc Roddam/imdb.json\n",
        "Apagou -  g:/filmes/1970/Rockers (1978) Ted Bafaloukos/imdb.json\n",
        "Apagou -  g:/filmes/1970/Sanat\u00f3rio da Clepsidra (1973) Wojciech Has - Pol\u00f4nia/imdb.json\n",
        "Apagou -  g:/filmes/1970/Sem Anestesia (1978) Andrej Wajda/imdb.json\n",
        "Apagou -  g:/filmes/1970/Serpico (1973) Sidney Lumet/imdb.json\n",
        "Apagou -  g:/filmes/1970/Sweet Movie (1974) Dusan Makavejev/imdb.json\n",
        "Apagou -  g:/filmes/1970/Tokyo senso sengo hiwa (1970) Nagisa Oshima/imdb.json\n",
        "Apagou -  g:/filmes/1970/Touki Bouki (1973) Djibril Diop Mambety - Senegal/imdb.json\n",
        "Apagou -  g:/filmes/1970/Tropoy beskorystoy lyubvi (1972) Agasi Babayan/imdb.json\n",
        "Apagou -  g:/filmes/1970/Tr\u00c3\u00aas Dias do Condor (1975) Sydney Pollack/imdb.json\n",
        "Apagou -  g:/filmes/1970/Um Dia Muito Especial (1977) Ettore Scola/imdb.json\n",
        "Apagou -  g:/filmes/1970/Un homme qui dort (1974) Bernard Queysanne/imdb.json\n",
        "Apagou -  g:/filmes/1970/Valerie e sua Semana de Deslumbramento (1970) Jaromil Jireas - Tchecoslov\u00e1quia/imdb.json\n",
        "Apagou -  g:/filmes/1970/Vida em Fam\u00edlia (1971) Ken Loach/imdb.json\n",
        "Apagou -  g:/filmes/1970/W.R. - Mysteries of the Organism (1971) Dusan Makavejev/imdb.json\n",
        "Apagou -  g:/filmes/1980/A Hist\u00f3ria Oficial (1985) Luis Puenzo/imdb.json\n",
        "Apagou -  g:/filmes/1980/A Hora da Zona Morta (1983) David Cronenberg/imdb.json\n",
        "Apagou -  g:/filmes/1980/A Mosca (1986) David Cronenberg/imdb.json\n",
        "Apagou -  g:/filmes/1980/A Sociedade dos Poetas Mortos (1989) Peter Weir/imdb.json\n",
        "Apagou -  g:/filmes/1980/A Vingan\u00e7a de Manon (1986) Claude Berri/imdb.json\n",
        "Apagou -  g:/filmes/1980/Amantes (1984) John Cassavetes/imdb.json\n",
        "Apagou -  g:/filmes/1980/Atrai\u00e7oados (1988) Constantin Costa-Gavras/imdb.json\n",
        "Apagou -  g:/filmes/1980/Atra\u00e7\u00e3o Mortal (1988) Michael Lehmann/imdb.json\n",
        "Apagou -  g:/filmes/1980/Bad Timing (1980) Nicolas Roeg/imdb.json\n",
        "Apagou -  g:/filmes/1980/Black Rain (1989) Shohei Imamura - Jap\u00e3o/imdb.json\n",
        "Apagou -  g:/filmes/1980/Bodas de Sangue (1980) Carlos Saura/imdb.json\n",
        "Apagou -  g:/filmes/1980/Bom Dia Vietn\u00e3 (1987) Barry Levison/imdb.json\n",
        "Apagou - "
       ]
      },
      {
       "output_type": "stream",
       "stream": "stdout",
       "text": [
        " g:/filmes/1980/Boy Meets Girl (1984) Leos Carax/imdb.json\n",
        "Apagou -  g:/filmes/1980/Busca Fren\u00e9tica (1988) Roman Polanski/imdb.json\n",
        "Apagou -  g:/filmes/1980/Casanova e a Revolu\u00c3\u00a7\u00c3\u00a3o (1982) Ettore Scola/imdb.json\n",
        "Apagou -  g:/filmes/1980/Classe Oper\u00e1ria (1982) Jerzy Skolimowski/imdb.json\n",
        "Apagou -  g:/filmes/1980/Corretores de Amor (1982) Ron Howard/imdb.json\n",
        "Apagou -  g:/filmes/1980/Cowboys de Lenigrado V\u00e3o Para a Am\u00e9rica (1989) Aki Kaurismaki/imdb.json\n",
        "Apagou -  g:/filmes/1980/Danton - O Processo da Revolu\u00c3\u00a7\u00c3\u00a3o (1983) Andrzej Wajda/imdb.json\n",
        "Apagou -  g:/filmes/1980/Digam o Que Quiserem (1989) Cameron Crowe/imdb.json\n",
        "Apagou -  g:/filmes/1980/Down by Law (1986) Jim Jamursch/imdb.json\n",
        "Apagou -  g:/filmes/1980/Drugstore Cowboy (1989) Gus Van Sant/imdb.json\n",
        "Apagou -  g:/filmes/1980/Fome de Viver (1983) Tony Scott/imdb.json\n",
        "Apagou -  g:/filmes/1980/Francesco (1989) Liliana Cavani/imdb.json\n",
        "Apagou -  g:/filmes/1980/Gl\u00f3ria (1980) John Cassavetes/imdb.json\n",
        "Apagou -  g:/filmes/1980/Gosto de Sangue (1984) Irm\u00e3os Joel e Ethan Coel/imdb.json\n",
        "Apagou -  g:/filmes/1980/Gremlins (1984) Joe Dante/imdb.json\n",
        "Apagou -  g:/filmes/1980/G\u00c3\u00aameos - M\u00c3\u00b3rbida Semelhan\u00c3\u00a7a (1988) David Cronenberg/imdb.json\n",
        "Apagou -  g:/filmes/1980/K\u00e1rhozat (1988) B\u00e9la Tarr - Hungria/imdb.json\n",
        "Apagou -  g:/filmes/1980/Liberte, la Nuit (1983) Philippe Garrel/imdb.json\n",
        "Apagou -  g:/filmes/1980/Loulou (1980) Maurice Pialat - Fran\u00e7a/imdb.json\n",
        "Apagou -  g:/filmes/1980/Manhunter (1986) Michael Mann/imdb.json\n",
        "Apagou -  g:/filmes/1980/Maus H\u00e1bitos (1983) Pedro Almod\u00f3var/imdb.json\n",
        "Apagou -  g:/filmes/1980/Meu P\u00e9 Esquerdo (1989) Jim Sheridan/imdb.json\n",
        "Apagou -  g:/filmes/1980/Missing (1982) Costa Gavras/imdb.json\n",
        "Apagou -  g:/filmes/1980/Muito Mais que Um Crime (1989) Constantin Costa-Gavras/imdb.json\n",
        "Apagou -  g:/filmes/1980/Nascido para Matar (1987) Stanley Kubrick/imdb.json\n",
        "Apagou -  g:/filmes/1980/Nosso S\u00e9culo (1983) Artavazd Peleshian - URSS/imdb.json\n",
        "Apagou -  g:/filmes/1980/Noturno Indiano (1989) Alain Corneau/imdb.json\n",
        "Apagou -  g:/filmes/1980/O Apicultor (1986) Theodoros Angelopoulos/imdb.json\n",
        "Apagou -  g:/filmes/1980/O Baile (1983) Ettore Scola/imdb.json\n",
        "Apagou -  g:/filmes/1980/O Cuko na Floresta Negra (1986) Anton\u00edn Moskalyk/imdb.json\n",
        "Apagou -  g:/filmes/1980/O Desespero de Veronika Voss (1982) Rainer Werner Fassbinder/imdb.json\n",
        "Apagou -  g:/filmes/1980/O Dia Seguinte (1983) Nicholas Meyer/imdb.json\n",
        "Apagou -  g:/filmes/1980/O Homem de Ferro (1981) Andrzej Wajda/imdb.json\n",
        "Apagou -  g:/filmes/1980/O Homem Elefante (1980) David Lynch/imdb.json\n",
        "Apagou -  g:/filmes/1980/O Portal do Para\u00edso (1980) Michael Cimino/imdb.json\n",
        "Apagou -  g:/filmes/1980/O Segredo do Abismo (1989) James Cameron/imdb.json\n",
        "Apagou -  g:/filmes/1980/O Traidor (1984) Stephen Frears/imdb.json\n",
        "Apagou -  g:/filmes/1980/O \u00daltimo Americano Virgem (1982) Boaz Davidson/imdb.json\n",
        "Apagou -  g:/filmes/1980/Os Aventureiros do Bairro Proibido (1986) John Carpenter/imdb.json\n",
        "Apagou -  g:/filmes/1980/Os Desajustados (1987) Bruce Robinson - Inglaterra/imdb.json\n",
        "Apagou -  g:/filmes/1980/Os Possessos (1988) Andrzej Wajda/imdb.json\n",
        "Apagou -  g:/filmes/1980/Pink Floyd - The Wall (1982) Alan Parker/imdb.json\n",
        "Apagou -  g:/filmes/1980/Quarto 666 (1982) Wim Wenders/imdb.json\n",
        "Apagou -  g:/filmes/1980/Reds (1981) Warren Beatty/imdb.json\n",
        "Apagou -  g:/filmes/1980/Repo Man - A Onda Punk (1984) Alex Cox/imdb.json\n",
        "Apagou -  g:/filmes/1980/Rys Follows the Path (1983) Agasi Babayan/imdb.json\n",
        "Apagou -  g:/filmes/1980/Sem Aviso (1980) Greydon Clark - Terror/imdb.json\n",
        "Apagou -  g:/filmes/1980/Sob Fogo Cerrado (1983) Roger Spottiswoode/imdb.json\n",
        "Apagou -  g:/filmes/1980/Sombras no Para\u00edso (1986) Aki Kaurismaki - Finl\u00e2ndia/imdb.json\n",
        "Apagou -  g:/filmes/1980/Sorte Cega (1987) Krzystof Kieslowski/imdb.json\n",
        "Apagou -  g:/filmes/1980/The Coca-Cola Kid (1985) Dusan Makavejev/imdb.json\n",
        "Apagou -  g:/filmes/1980/Tras el cristal (1986) Agusti Villaronga/imdb.json\n",
        "Apagou -  g:/filmes/1980/Triunfo do Esp\u00edrito (1989) Robert M. Young/imdb.json\n",
        "Apagou -  g:/filmes/1980/Twist and Shout (1984) Bille August/imdb.json\n",
        "Apagou -  g:/filmes/1980/Um Estranho Vampiro (1988) Robert Bierman/imdb.json\n",
        "Apagou -  g:/filmes/1980/Um Peixe Chamado Wanda (1988) Charles Crichton/imdb.json\n",
        "Apagou -  g:/filmes/1980/Um Salto para a Felicidade (1987) Garry Marshall/imdb.json\n",
        "Apagou -  g:/filmes/1980/Videodrome (1983) David Cronenberg/imdb.json\n",
        "Apagou -  g:/filmes/1980/Willow - Na Terra da Magia (1988) Ron Howard/imdb.json\n",
        "Apagou -  g:/filmes/1980/Xanadu (1980) Robert Greenwald/imdb.json\n",
        "Apagou -  g:/filmes/1990/71 Fragmente Einer Chronologie des Zufalls (1994) Michael Haneke/imdb.json\n",
        "Apagou -  g:/filmes/1990/A Bela Intrigante (1991) Jacques Rivette/imdb.json\n",
        "Apagou -  g:/filmes/1990/A Casa do \u00c1cido (1998) Paul McGuigan/imdb.json\n",
        "Apagou -  g:/filmes/1990/A Cor do Para\u00edso (1999) Majid Majidi/imdb.json\n",
        "Apagou -  g:/filmes/1990/A Cura (1995) Peter Horton/imdb.json\n",
        "Apagou -  g:/filmes/1990/A L\u00c3\u00adngua das Mariposas (1999) Jos\u00c3\u00a9 Luis Cuerda/imdb.json\n",
        "Apagou -  g:/filmes/1990/A Mocinha da F\u00e1brica de F\u00f3sforos (1990) Aki Kaurism\u00e4ki/imdb.json\n",
        "Apagou -  g:/filmes/1990/A M\u00fasica e o Sil\u00eancio (1996) Caroline Linck/imdb.json\n",
        "Apagou -  g:/filmes/1990/A Promessa (1996) Luc e Jean-Pierre Dardenne/imdb.json\n",
        "Apagou -  g:/filmes/1990/Adrenalina M\u00e1xima (1993) Takeshi Kitano/imdb.json\n",
        "Apagou -  g:/filmes/1990/Alucina\u00e7\u00f5es do Passado (1990) Adrian Lyne/imdb.json\n",
        "Apagou -  g:/filmes/1990/Amigas de Col\u00e9gio (1998) Lukas Moodysson/imdb.json\n",
        "Apagou -  g:/filmes/1990/Amor Al\u00e9m da Vida (1998) Vicent Ward/imdb.json\n",
        "Apagou -  g:/filmes/1990/Amor \u00e0 Queima-Roupa (1993) Tony Scott/imdb.json\n",
        "Apagou -  g:/filmes/1990/Amores Expressos (1994) Wong Kar-Wai/imdb.json\n",
        "Apagou -  g:/filmes/1990/Angel Baby (1995) Michael Rymer/imdb.json\n",
        "Apagou - "
       ]
      },
      {
       "output_type": "stream",
       "stream": "stdout",
       "text": [
        " g:/filmes/1990/Anjos Ca\u00eddos (1995) Wong Kar-Wai/imdb.json\n",
        "Apagou -  g:/filmes/1990/Anna dos 6 aos 18 (1994) Nikita Mikhalkov/imdb.json\n",
        "Apagou -  g:/filmes/1990/Antes do Amanhecer (1995) Richard Linklater/imdb.json\n",
        "Apagou -  g:/filmes/1990/As Idades de Lulu (1990) Bigas Luna/imdb.json\n",
        "Apagou -  g:/filmes/1990/As Tartarugas Ninjas (1990) Steven Barron/imdb.json\n",
        "Apagou -  g:/filmes/1990/As Tartarugas Ninjas 2 - O Segredo de Ooze (1991) Michael Pressman/imdb.json\n",
        "Apagou -  g:/filmes/1990/As Tartarugas Ninjas 3 (1993) Stuart Gillard/imdb.json\n",
        "Apagou -  g:/filmes/1990/Ay Carmela (1990) Carlos Saura/imdb.json\n",
        "Apagou -  g:/filmes/1990/Boogie Nights - Prazer sem Limites (1997) Paul Thomas Anderson/imdb.json\n",
        "Apagou -  g:/filmes/1990/Caballos salvajes (1995) Marcelo Pi\u00f1eyro/imdb.json\n",
        "Apagou -  g:/filmes/1990/Car\u00e1ter (1997) Mike Van Diem/imdb.json\n",
        "Apagou -  g:/filmes/1990/Casa de Lava (1994) Pedro Costa - Portugal/imdb.json\n",
        "Apagou -  g:/filmes/1990/Cidade das Sombras (1998) Alex Proyas/imdb.json\n",
        "Apagou -  g:/filmes/1990/Clube da Luta (1999) David Fincher/imdb.json\n",
        "Apagou -  g:/filmes/1990/Como \u00c1gua para Chocolate (1992) Alfonso Arau - M\u00e9xico/imdb.json\n",
        "Apagou -  g:/filmes/1990/Contato (1997) Robert Zemeckis/imdb.json\n",
        "Apagou -  g:/filmes/1990/Corvos (1994) Dorota Kedzierzawska/imdb.json\n",
        "Apagou -  g:/filmes/1990/Crash - Estranhos Prazeres (1996) David Cronenberg/imdb.json\n",
        "Apagou -  g:/filmes/1990/Cremaster 1 (1995) Mattew Barney/imdb.json\n",
        "Apagou -  g:/filmes/1990/Cremaster 2 (1999) Matthew Barney/imdb.json\n",
        "Apagou -  g:/filmes/1990/Cremaster 4 (1994) Matthew Barney/imdb.json\n",
        "Apagou -  g:/filmes/1990/Cry Baby (1990) John Waters/imdb.json\n",
        "Apagou -  g:/filmes/1990/Da Magia \u00e0 Sedu\u00e7\u00e3o (1998) Griffin Dunne/imdb.json\n",
        "Apagou -  g:/filmes/1990/De Olhos Bem Fechados (1999) Stanley Kubrick/imdb.json\n",
        "Apagou -  g:/filmes/1990/Defying Gravity (1997) John Keitel/imdb.json\n",
        "Apagou -  g:/filmes/1990/Deus S\u00f3 Atende aos Domingos (1996) Didier Le P\u00eacheur/imdb.json\n",
        "Apagou -  g:/filmes/1990/Deuses e Monstros (1998) Bill Condon/imdb.json\n",
        "Apagou -  g:/filmes/1990/Dr\u00e1cula de Bram Stoker (1992) Francis Ford Coppola/imdb.json\n",
        "Apagou -  g:/filmes/1990/Eclipse de uma Paix\u00c3\u00a3o (1995) Agnieszka Holland/imdb.json\n",
        "Apagou -  g:/filmes/1990/Eclipse Total (1995) Taylor Hackford/imdb.json\n",
        "Apagou -  g:/filmes/1990/Emboscada (1999) Olli Saarela/imdb.json\n",
        "Apagou -  g:/filmes/1990/Emma (1996) Douglas McGrath/imdb.json\n",
        "Apagou -  g:/filmes/1990/Estrada para Lugar Nenhum (1997) Gregg Araki/imdb.json\n",
        "Apagou -  g:/filmes/1990/Estranhos Prazeres (1995) Kathryn Bigelow/imdb.json\n",
        "Apagou -  g:/filmes/1990/Evita (1996) Alan Parker/imdb.json\n",
        "Apagou -  g:/filmes/1990/eXistenZ (1999) David Cronenberg/imdb.json\n",
        "Apagou -  g:/filmes/1990/Face a Face com o Inimigo (1992) Carl Schenkel/imdb.json\n",
        "Apagou -  g:/filmes/1990/Festa de Fam\u00edlia (1998) Thomas Vinterberg - Dinamarca/imdb.json\n",
        "Apagou -  g:/filmes/1990/Filhos do Para\u00edso (1997) Majuid Majida/imdb.json\n",
        "Apagou -  g:/filmes/1990/Funny Games (1997) Michael Haneke/imdb.json\n",
        "Apagou -  g:/filmes/1990/Gente da Sic\u00edlia (1999) Dani\u00e8le Huillet e Jean-Marie Straub/imdb.json\n",
        "Apagou -  g:/filmes/1990/Germinal (1993) Claude Berri/imdb.json\n",
        "Apagou -  g:/filmes/1990/Gilbert Grape - Aprendiz de Sonhador (1993) Lasse Hallstr\u00f6m/imdb.json\n",
        "Apagou -  g:/filmes/1990/Grandes Esperan\u00e7as (1998) Alfonso Cuar\u00f3n/imdb.json\n",
        "Apagou -  g:/filmes/1990/Gremlins 2 - A Nova Gera\u00e7\u00e3o (1990) Joe Dante/imdb.json\n",
        "Apagou -  g:/filmes/1990/Gummo (1997) Harmony Korine/imdb.json\n",
        "Apagou -  g:/filmes/1990/Irma Vep (1996) Olivier Assayas/imdb.json\n",
        "Apagou -  g:/filmes/1990/Julien Donkey Boy (1999) Harmony Korine/imdb.json\n",
        "Apagou -  g:/filmes/1990/Kadosh - La\u00e7os Sagrados (1999) Amos Gitai/imdb.json\n",
        "Apagou -  g:/filmes/1990/Korczak (1990) Andrzej Wajda/imdb.json\n",
        "Apagou -  g:/filmes/1990/Krug vtoroy (1990) Aleksandr Sokurov/imdb.json\n",
        "Apagou -  g:/filmes/1990/La Naissance de L amour (1993) Philippe Garrel/imdb.json\n",
        "Apagou -  g:/filmes/1990/Land and Freedom (1995) Ken Loach/imdb.json\n",
        "Apagou -  g:/filmes/1990/Lendas da Paix\u00e3o (1994) Edward Zwick/imdb.json\n",
        "Apagou -  g:/filmes/1990/Leningrad Cowboys Meet Moses (1994) Aki Kaurismaki/imdb.json\n",
        "Apagou -  g:/filmes/1990/Les enfants du marais (1999) Jean Becker/imdb.json\n",
        "Apagou -  g:/filmes/1990/Libert\u00e1rias (1996) Vicente Aranda/imdb.json\n",
        "Apagou -  g:/filmes/1990/Louca Obsess\u00e3o (1990) Rob Reiner/imdb.json\n",
        "Apagou -  g:/filmes/1990/Lugar Santo (1990) Djordje Kadijevic/imdb.json\n",
        "Apagou -  g:/filmes/1990/M. Butterfly (1993) David Cronenberg/imdb.json\n",
        "Apagou -  g:/filmes/1990/Matilda (1996) Danny De Vito/imdb.json\n",
        "Apagou -  g:/filmes/1990/Meu Querido Intruso (1991) Lasse Hallstr\u00f6m/imdb.json\n",
        "Apagou -  g:/filmes/1990/Monella (1998) Tinto Brass/imdb.json\n",
        "Apagou -  g:/filmes/1990/Morango e Chocolate (1993) Tom\u00e1s Guti\u00e9rrez Alea e Juan Carlos Tab\u00edo/imdb.json\n",
        "Apagou -  g:/filmes/1990/Morto ao Chegar (D.O.A.) (1998) Annabel Jankel e Rocky Morton/imdb.json\n",
        "Apagou -  g:/filmes/1990/Mundo Gr\u00faa (1999) Pablo Trapero/imdb.json\n",
        "Apagou -  g:/filmes/1990/M\u00c3\u00a3e e Filho (1997) Aleksandr Sokurov/imdb.json\n",
        "Apagou -  g:/filmes/1990/Naked (1993) Mike Leigh/imdb.json\n",
        "Apagou -  g:/filmes/1990/Nu (1993) Mike Leigh/imdb.json\n",
        "Apagou -  g:/filmes/1990/O Advogado do Diabo (1997) Taylor Hackford/imdb.json\n",
        "Apagou -  g:/filmes/1990/O Aprendiz (1998) Bryan Singer/imdb.json\n",
        "Apagou -  g:/filmes/1990/O Avarento (1990) Tonino Cervi/imdb.json\n",
        "Apagou -  g:/filmes/1990/O Bal\u00e3o Branco (1995) Jafar Panahi/imdb.json\n",
        "Apagou -  g:/filmes/1990/O Buraco (1998) Tsai Ming-Liang/imdb.json\n",
        "Apagou -  g:/filmes/1990/O Cheiro do Papaia Verde (1993) Anh Hung Tran/imdb.json\n",
        "Apagou -  g:/filmes/1990/O Ci\u00fame - O Inferno do Amor Possessivo (1994) Claude Chabrol/imdb.json\n",
        "Apagou -  g:/filmes/1990/O Cora\u00e7\u00e3o Fantasma (1996) Philippe Garrel/imdb.json\n",
        "Apagou -  g:/filmes/1990/O Dia que o Porco Caiu no Po\u00e7o (1996) Hon Sang-soo - Cor\u00e9ia do Sul/imdb.json\n",
        "Apagou -  g:/filmes/1990/O Homem Que Sabia de Menos (1997) Jon Amiel/imdb.json\n",
        "Apagou - "
       ]
      },
      {
       "output_type": "stream",
       "stream": "stdout",
       "text": [
        " g:/filmes/1990/O Livro de Cabeceira (1996) Peter Greenaway/imdb.json\n",
        "Apagou -  g:/filmes/1990/O Mesmo Amor a Mesma Chuva (1999) Juan Jos\u00e9 Campanella - Argentina/imdb.json\n",
        "Apagou -  g:/filmes/1990/O Mesmo Amor, a Mesma Chuva (1999) Juan Jos\u00e9 Campanella/imdb.json\n",
        "Apagou -  g:/filmes/1990/O Nascimento do Amor (1993) Philippe Garrel/imdb.json\n",
        "Apagou -  g:/filmes/1990/O Quarto Poder (1997) Costa Gavras/imdb.json\n",
        "Apagou -  g:/filmes/1990/O Rio (1997) Tsai Ming-Liang/imdb.json\n",
        "Apagou -  g:/filmes/1990/O Sexto Sentido (1999) M. Night Shyamalan - Terror/imdb.json\n",
        "Apagou -  g:/filmes/1990/O Silencio (1998) Mohsen Makhmalbaf/imdb.json\n",
        "Apagou -  g:/filmes/1990/O Sil\u00eancio dos Inocentes (1991) Jonathan Demme/imdb.json\n",
        "Apagou -  g:/filmes/1990/O Trem da Vida (1998) Radu Mihaileanu/imdb.json\n",
        "Apagou -  g:/filmes/1990/O T\u00c3\u00a9dio (1998) C\u00c3\u00a9dric Kahn/imdb.json\n",
        "Apagou -  g:/filmes/1990/O T\u00e9dio (1998) C\u00e9dric Kahn/imdb.json\n",
        "Apagou -  g:/filmes/1990/O Vento da Noite (1999) Philippe Garrel/imdb.json\n",
        "Apagou -  g:/filmes/1990/O V\u00c3\u00addeo de Benny (1992) Michael Haneke/imdb.json\n",
        "Apagou -  g:/filmes/1990/O \u00d3dio (1995) Mathieu Kassovitz/imdb.json\n",
        "Apagou -  g:/filmes/1990/Oito Mil\u00edmetros (1999) Joel Schumacher/imdb.json\n",
        "Apagou -  g:/filmes/1990/Os 12 Macacos (1995) Terry Gilliam/imdb.json\n",
        "Apagou -  g:/filmes/1990/Os Amantes de Pont Neuf (1991) Leos Carax/imdb.json\n",
        "Apagou -  g:/filmes/1990/Os Viciosos (1995) Abel Ferrara/imdb.json\n",
        "Apagou -  g:/filmes/1990/Ossos (1997) Pedro Costa - Portugal/imdb.json\n",
        "Apagou -  g:/filmes/1990/Paprika (1991) Tinto Brass - It\u00c3\u00a1lia/imdb.json\n",
        "Apagou -  g:/filmes/1990/Paris is Burning (1990) Jennie Livingston/imdb.json\n",
        "Apagou -  g:/filmes/1990/Patch Adams - O Amor \u00e9 Contagioso (1998) Tom Shadyac/imdb.json\n",
        "Apagou -  g:/filmes/1990/Pel\u00edsky (1999) Jan Hrebejk/imdb.json\n",
        "Apagou -  g:/filmes/1990/Pola X (1999) Leos Carax/imdb.json\n",
        "Apagou -  g:/filmes/1990/Polytechnique (1999) Denis Villeneuve/imdb.json\n",
        "Apagou -  g:/filmes/1990/Possu\u00c3\u00addos (1998) Gregory Hoblit/imdb.json\n",
        "Apagou -  g:/filmes/1990/Prova Final (1998) Robert Rodriguez/imdb.json\n",
        "Apagou -  g:/filmes/1990/Pulp Fiction - Tempos de Viol\u00eancia (1994) Quentin Tarantino/imdb.json\n",
        "Apagou -  g:/filmes/1990/P\u00c3\u00a1ginas Ocultas (1994) Aleksandr Sokurov/imdb.json\n",
        "Apagou -  g:/filmes/1990/Rebeldes (1996) Annethe Haywood-Carter/imdb.json\n",
        "Apagou -  g:/filmes/1990/Regarde la Mer (1997) Fan\u00c3\u00a7ois Ozon/imdb.json\n",
        "Apagou -  g:/filmes/1990/Reviravolta (1997) Oliver Stone/imdb.json\n",
        "Apagou -  g:/filmes/1990/Ricardo III (1995) Richard Loncraine/imdb.json\n",
        "Apagou -  g:/filmes/1990/Rosetta (1999) Irm\u00c3\u00a3os Jean-Pierre e Luc Dardenne/imdb.json\n",
        "Apagou -  g:/filmes/1990/Rush - Uma Viagem ao Inferno (1991) Lili Fini Zanuck/imdb.json\n",
        "Apagou -  g:/filmes/1990/R\u00e1pida e Mortal (1995) Sam Raimi/imdb.json\n",
        "Apagou -  g:/filmes/1990/Simples Desejo (1992) Hal Hartley/imdb.json\n",
        "Apagou -  g:/filmes/1990/Sunshine - O Despertar de um S\u00c3\u00a9culo (1999) Istv\u00c3\u00a1n Szab\u00c3\u00b3/imdb.json\n",
        "Apagou -  g:/filmes/1990/Tango Argentino (1992) Gorana Paskaljevica/imdb.json\n",
        "Apagou -  g:/filmes/1990/The Doors (1991) Oliver Stone/imdb.json\n",
        "Apagou -  g:/filmes/1990/The evil cult (1993) Jin Wong e Sammo Hung Kam-Bo/imdb.json\n",
        "Apagou -  g:/filmes/1990/The Juniper Tree (1990) Nietzchka Keene/imdb.json\n",
        "Apagou -  g:/filmes/1990/The Temptations (1998) Allan Arkush/imdb.json\n",
        "Apagou -  g:/filmes/1990/Tio Vanya em Nova York (1994) Louis Malle/imdb.json\n",
        "Apagou -  g:/filmes/1990/Titanic (1997) James Cameron/imdb.json\n",
        "Apagou -  g:/filmes/1990/Tra\u00c3\u00addos pelo Desejo (1992) Neil Jordan/imdb.json\n",
        "Apagou -  g:/filmes/1990/Um Adolescente em Apuros (1997) George Huang/imdb.json\n",
        "Apagou -  g:/filmes/1990/Um Drink  no Inferno (1996) Robert Rodriguez/imdb.json\n",
        "Apagou -  g:/filmes/1990/Uma Can\u00c3\u00a7\u00c3\u00a3o Para Carla (1996) Ken Loach/imdb.json\n",
        "Apagou -  g:/filmes/1990/Uma Noite Sobre a Terra (1991) Jim Jarmusch/imdb.json\n",
        "Apagou -  g:/filmes/1990/Uma Rela\u00e7\u00e3o Pornogr\u00e1fica (1999) Fr\u00e9d\u00e8ric Fonteyne - Fran\u00e7a/imdb.json\n",
        "Apagou -  g:/filmes/1990/Velvet Goldmine (1998) Todd Haynes/imdb.json\n",
        "Apagou -  g:/filmes/1990/Vida de Solteiro (1992) Cameron Crowe/imdb.json\n",
        "Apagou -  g:/filmes/1990/Vidas em Jogo (1997) David Fincher/imdb.json\n",
        "Apagou -  g:/filmes/1990/Voltar a Morrer (1991) Kenneth Branagh/imdb.json\n",
        "Apagou -  g:/filmes/1990/Z\u00e1hrada (1995) Martin Sulik/imdb.json\n",
        "Apagou -  g:/filmes/2000/12 Anos e Pouca Ilus\u00e3o (2005) Michael Cuesta/imdb.json\n",
        "Apagou -  g:/filmes/2000/13 Desafios (2006) Chookiat Sakveerakul - Tail\u00c3\u00a2ndia/imdb.json\n",
        "Apagou -  g:/filmes/2000/15 Anos e Meio (2008) Fran\u00c3\u00a7ois Desagnat e Thomas Sorriaux/imdb.json\n",
        "Apagou -  g:/filmes/2000/15 Anos e Meio (2008) Fran\u00e7ois Desagnat e Thomas Sorriaux/imdb.json\n",
        "Apagou -  g:/filmes/2000/3 Idiotas (2009) Rajkumar Hirani/imdb.json\n",
        "Apagou -  g:/filmes/2000/44 Minutos (2003) Yves Simoneau/imdb.json\n",
        "Apagou -  g:/filmes/2000/9 Can\u00e7\u00f5es (2004) Michael Winterbottom/imdb.json\n",
        "Apagou -  g:/filmes/2000/A Antena (2007) Esteban Sapir/imdb.json\n",
        "Apagou -  g:/filmes/2000/A Armadilha do Caranguejo (2009) Oscar Ruiz Navia/imdb.json\n",
        "Apagou -  g:/filmes/2000/A Aura (2005) Fabi\u00e1n Bielinsky - Argentino/imdb.json\n",
        "Apagou -  g:/filmes/2000/A Bomba (2001) Colin Nutley (Su\u00e9cia)/imdb.json\n",
        "Apagou -  g:/filmes/2000/A Can\u00e7\u00e3o dos Pardais (2008) Majid Majidi/imdb.json\n",
        "Apagou -  g:/filmes/2000/A Comunidade (2000) \u00c1lex de La Iglesia/imdb.json\n",
        "Apagou -  g:/filmes/2000/A Confus\u00e3o de G\u00eaneros (2000) Ilan Duran Cohen/imdb.json\n",
        "Apagou -  g:/filmes/2000/A Culpa \u00c3\u00a9 do Fidel (2006) Julie Gavras/imdb.json\n",
        "Apagou -  g:/filmes/2000/A Culpa \u00e9 do Fidel (2006) Julie Gavras/imdb.json\n",
        "Apagou -  g:/filmes/2000/A Dan\u00e7arina e o Ladr\u00e3o (2009) Fernando Trueba/imdb.json\n",
        "Apagou -  g:/filmes/2000/A Educa\u00c3\u00a7\u00c3\u00a3o das Fadas (2006) Jos\u00c3\u00a9 Luis Cuerda/imdb.json\n",
        "Apagou -  g:/filmes/2000/A Experi\u00eancia (2001) Oliver Hirschbieger/imdb.json\n",
        "Apagou -  g:/filmes/2000/A Fuga (2001) Eduardo Mignogna/imdb.json\n",
        "Apagou -  g:/filmes/2000/A Hist\u00f3ria de Marie e Julien (2003) Jaques Rivette/imdb.json\n",
        "Apagou - "
       ]
      },
      {
       "output_type": "stream",
       "stream": "stdout",
       "text": [
        " g:/filmes/2000/A Janela da Frente (2003) Ferzan \u00d6zpetek/imdb.json\n",
        "Apagou -  g:/filmes/2000/A Massai Branca (2005)  Hermine Huntgeburth/imdb.json\n",
        "Apagou -  g:/filmes/2000/A Menina no Pa\u00eds das Maravilhas (2008) Daniel Barnz/imdb.json\n",
        "Apagou -  g:/filmes/2000/A Menina Santa (2004) Lucrecia Martel/imdb.json\n",
        "Apagou -  g:/filmes/2000/A Morte do Sr. Lazarescu (2005) Cristi Puiu - Rom\u00eania/imdb.json\n",
        "Apagou -  g:/filmes/2000/A Mulher de Meu Irm\u00e3o (2005) Ricardo de Montreuil (Argentina)/imdb.json\n",
        "Apagou -  g:/filmes/2000/A Mulher de Meu Irm\u00c3\u00a3o (2005) Ricardo de Montreuil (Argentina)/imdb.json\n",
        "Apagou -  g:/filmes/2000/A Mulher Sem Cabe\u00e7a (2008) Lucr\u00e9cia Martel - Argentina/imdb.json\n",
        "Apagou -  g:/filmes/2000/A Papisa Joana (2009) S\u00f6nke Wortmann/imdb.json\n",
        "Apagou -  g:/filmes/2000/A Passagem (2005) Marc Forster/imdb.json\n",
        "Apagou -  g:/filmes/2000/A Procura de Eric (2009) Ken Loach/imdb.json\n",
        "Apagou -  g:/filmes/2000/A Queda! As \u00daltimas Horas de Hitler (2004) Oliver Hirschbiegel/imdb.json\n",
        "Apagou -  g:/filmes/2000/A Vida Durante a Guerra (2009) Todd Solondz/imdb.json\n",
        "Apagou -  g:/filmes/2000/A Vida Marinha com Steve Zissou (2004) Wes Anderson/imdb.json\n",
        "Apagou -  g:/filmes/2000/A Vi\u00fava de Saint Pierre (2000) Patrice Leconte/imdb.json\n",
        "Apagou -  g:/filmes/2000/A V\u00edtima Perfeita (2009) Simone North/imdb.json\n",
        "Apagou -  g:/filmes/2000/Acusado (2005) Jacob Thuesen - Dinamarca/imdb.json\n",
        "Apagou -  g:/filmes/2000/Agora ou Nunca (2002) Mike Leigh/imdb.json\n",
        "Apagou -  g:/filmes/2000/Alexandra (2007) Aleksandr Sokurov/imdb.json\n",
        "Apagou -  g:/filmes/2000/Alice e o Novo Pa\u00eds das Maravilhas (2009) Nick Willing/imdb.json\n",
        "Apagou -  g:/filmes/2000/Alles is liefde (2007) Joram L\u00fcrsen - Holanda/imdb.json\n",
        "Apagou -  g:/filmes/2000/Am\u00c3\u00a9n (2002) Costa Gavras/imdb.json\n",
        "Apagou -  g:/filmes/2000/Angel (2007) Fran\u00e7ois Ozon/imdb.json\n",
        "Apagou -  g:/filmes/2000/Antes do Anoitecer (2000) Julian Schnabel/imdb.json\n",
        "Apagou -  g:/filmes/2000/Antes do P\u00f4r-do-Sol (2004) Rchard Linklater/imdb.json\n",
        "Apagou -  g:/filmes/2000/Aquiles e a Tartaruga (2008) Takeshi Kitano/imdb.json\n",
        "Apagou -  g:/filmes/2000/Arca Russa (2002) Aleksandr Sokurov/imdb.json\n",
        "Apagou -  g:/filmes/2000/As Confiss\u00f5es de Schmidt (2002) Alexander Payne/imdb.json\n",
        "Apagou -  g:/filmes/2000/As Luzes de Um Ver\u00e3o (2000) Ahn Hung Tran/imdb.json\n",
        "Apagou -  g:/filmes/2000/As Praias de Agn\u00e9s (2008) Agn\u00e9s Varda/imdb.json\n",
        "Apagou -  g:/filmes/2000/At\u00e9 o Fim (2001) Scott McGehee e David Siegel/imdb.json\n",
        "Apagou -  g:/filmes/2000/Basquiat - Tra\u00e7os de Uma Vida (1996) Julian Schnabel/imdb.json\n",
        "Apagou -  g:/filmes/2000/Batismo de Sangue (2006) Helv\u00e9cio Ratton/imdb.json\n",
        "Apagou -  g:/filmes/2000/Beatrice  e o Monstro (2001) Hal Hartley/imdb.json\n",
        "Apagou -  g:/filmes/2000/Beaufort (2007) Joseph Cedar/imdb.json\n",
        "Apagou -  g:/filmes/2000/Bem-Vindo (2009) Phillippe Lioret/imdb.json\n",
        "Apagou -  g:/filmes/2000/Big Nothing (2006) Jean-Baptiste Andrea/imdb.json\n",
        "Apagou -  g:/filmes/2000/Bill (2007) Bernie Goldmann e Melisa Wallack/imdb.json\n",
        "Apagou -  g:/filmes/2000/Breaking Upwards (2009) Daryl Wein/imdb.json\n",
        "Apagou -  g:/filmes/2000/Buda as sharm foru rikht (2007) Hana Makhmalbaf/imdb.json\n",
        "Apagou -  g:/filmes/2000/Cach\u00c3\u00a9 (2005) Michael Haneke/imdb.json\n",
        "Apagou -  g:/filmes/2000/Cadillac Records (2008) Darnell Martin/imdb.json\n",
        "Apagou -  g:/filmes/2000/Captain Abu Raed (2008) Amin Matalga/imdb.json\n",
        "Apagou -  g:/filmes/2000/Carne Fresca, Procura-se (2003) Anders Thomas Jensen - Dinamarca/imdb.json\n",
        "Apagou -  g:/filmes/2000/Cashback (2006) Sean Ellis/imdb.json\n",
        "Apagou -  g:/filmes/2000/Castaway on the moon (2009) Hey-jun Lee/imdb.json\n",
        "Apagou -  g:/filmes/2000/Cativa (2005) Gast\u00f3n Biraben/imdb.json\n",
        "Apagou -  g:/filmes/2000/Chumbo Grosso (2007) Edgar Wright/imdb.json\n",
        "Apagou -  g:/filmes/2000/Cle\u00f3patra (2003) Eduardo Mignona - Argentina/imdb.json\n",
        "Apagou -  g:/filmes/2000/Climas (2006) Nuri Blige Ceylan/imdb.json\n",
        "Apagou -  g:/filmes/2000/Clube da Lua (2004) Juan Jos\u00e9 Campanella/imdb.json\n",
        "Apagou -  g:/filmes/2000/Coach Carter - Treino para a Vida (2005) Thomas Carter/imdb.json\n",
        "Apagou -  g:/filmes/2000/Comandante (2003) Oliver Stone - Document\u00c3\u00a1rio/imdb.json\n",
        "Apagou -  g:/filmes/2000/Comendo pelas Beiradas (2009) Kevin Heffernan/imdb.json\n",
        "Apagou -  g:/filmes/2000/Concorr\u00c3\u00aancia Desleal (2001) Ettore Scola/imdb.json\n",
        "Apagou -  g:/filmes/2000/Confus\u00f5es em Fam\u00edlia (2009) Raymond de Felitta/imdb.json\n",
        "Apagou -  g:/filmes/2000/Consequ\u00eancias (2007) Talia Lugacy/imdb.json\n",
        "Apagou -  g:/filmes/2000/Contra a Parede (2004) Fatih Akin/imdb.json\n",
        "Apagou -  g:/filmes/2000/Crime Ferpeito (2004) \u00c1lex de la Iglesia/imdb.json\n",
        "Apagou -  g:/filmes/2000/Dans ma peau (2002) Marina de Van/imdb.json\n",
        "Apagou -  g:/filmes/2000/Dante 01 - Pris\u00e3o Espacial (2008) Marc Caro/imdb.json\n",
        "Apagou -  g:/filmes/2000/Delta (2008) Korn\u00e9l Mundrucz\u00f3/imdb.json\n",
        "Apagou -  g:/filmes/2000/Desierto adentro (2008) Rodrigo Pl\u00e1 - M\u00e9xico/imdb.json\n",
        "Apagou -  g:/filmes/2000/Distrito 9 (2009) Neill Blomkamp/imdb.json\n",
        "Apagou -  g:/filmes/2000/Doce Perfume (2009) Andrzej Wajda/imdb.json\n",
        "Apagou -  g:/filmes/2000/Double Suicide Elegy (2005) Toru Kamei/imdb.json\n",
        "Apagou -  g:/filmes/2000/Dramas Adolescentes (2009) Adam Salky/imdb.json\n",
        "Apagou -  g:/filmes/2000/Eastern Plays (2009) Kamen Kalev/imdb.json\n",
        "Apagou -  g:/filmes/2000/Eight Miles High (2007) Achim Bornhak/imdb.json\n",
        "Apagou -  g:/filmes/2000/El Cantante (2007) Leon Ichaco/imdb.json\n",
        "Apagou -  g:/filmes/2000/El ni\u00f1o pez (2009) Luc\u00eda Puenzo - Argentina/imdb.json\n",
        "Apagou -  g:/filmes/2000/Em Minha Mem\u00f3ria (2007) Saverio Costanzo/imdb.json\n",
        "Apagou -  g:/filmes/2000/Em Segredo (2006) Jasmila \u017dbani\u0107/imdb.json\n",
        "Apagou -  g:/filmes/2000/Embriagado de Amor (2002) Paul Thomas Anderson/imdb.json\n",
        "Apagou -  g:/filmes/2000/Encantadora de Baleias (2002) Niki Caro/imdb.json\n",
        "Apagou -  g:/filmes/2000/Enquanto o Sol N\u00e3o Vem (2008) Agn\u00e8s Jaoui/imdb.json\n",
        "Apagou -  g:/filmes/2000/Entre o C\u00c3\u00a9u e o Inferno (2007) Craig Brewer/imdb.json\n",
        "Apagou -  g:/filmes/2000/Entre o C\u00e9u e o Inferno (2007) Craig Brewer/imdb.json\n",
        "Apagou -  g:/filmes/2000/Entre os Muros da Escola (2008) Laurent Cantet/imdb.json\n",
        "Apagou -  g:/filmes/2000/Entre os Muros da Pris\u00e3o (2008) Christian Faure/imdb.json\n",
        "Apagou -  g:/filmes/2000/Entre os Muros da Pris\u00c3\u00a3o (2008) Christian Faure/imdb.json\n",
        "Apagou -  g:/filmes/2000/Escritores da Liberdade (2007) Rchard LaGravenese/imdb.json\n",
        "Apagou - "
       ]
      },
      {
       "output_type": "stream",
       "stream": "stdout",
       "text": [
        " g:/filmes/2000/Esperando o Messias (2000) Daniel Burman - Argentina/imdb.json\n",
        "Apagou -  g:/filmes/2000/Eu N\u00e3o Tenho Medo (2003) Gabriele Salvatores/imdb.json\n",
        "Apagou -  g:/filmes/2000/Evelyn (2002) Bruce Beresford/imdb.json\n",
        "Apagou -  g:/filmes/2000/Evid\u00eancia de um Crime (2007) Renny Harlin/imdb.json\n",
        "Apagou -  g:/filmes/2000/Face (2009) Tsai Ming-Liang/imdb.json\n",
        "Apagou -  g:/filmes/2000/Familia Rodante (2004) Pablo Trapero/imdb.json\n",
        "Apagou -  g:/filmes/2000/Fatal (2008) Isabel Coixet/imdb.json\n",
        "Apagou -  g:/filmes/2000/Fish Story (2009) Yoshihiro Nakamura/imdb.json\n",
        "Apagou -  g:/filmes/2000/Fome (2008) Steve McQueen/imdb.json\n",
        "Apagou -  g:/filmes/2000/Gigante (2009) Adri\u00e1n Biniez/imdb.json\n",
        "Apagou -  g:/filmes/2000/Good time Max (2007) James Franco/imdb.json\n",
        "Apagou -  g:/filmes/2000/Gouttes d'eau sur pierres br\u00fblantes (2000) Fran\u00e7ois Ozon/imdb.json\n",
        "Apagou -  g:/filmes/2000/Grimm Love (2006) Martin Weisz/imdb.json\n",
        "Apagou -  g:/filmes/2000/Habana Blues (2005) Benito Zambrano/imdb.json\n",
        "Apagou -  g:/filmes/2000/Hamaca Paraguaya (2006) Paz Encina/imdb.json\n",
        "Apagou -  g:/filmes/2000/Hanyo (2010) Im Sang-soo - Cor\u00e9ia do Sul/imdb.json\n",
        "Apagou -  g:/filmes/2000/Hist\u00c3\u00b3rias Proibidas (2001) Todd Solondz/imdb.json\n",
        "Apagou -  g:/filmes/2000/Hist\u00f3rias de Cozinha (2003) Bent Hamer/imdb.json\n",
        "Apagou -  g:/filmes/2000/Hist\u00f3rias M\u00ednimas (2002) Carlos Sorin (Argentina)/imdb.json\n",
        "Apagou -  g:/filmes/2000/Horas de Ver\u00e3o (2008) Olivier Assayas/imdb.json\n",
        "Apagou -  g:/filmes/2000/Hotel Ruanda (2004) Terry George/imdb.json\n",
        "Apagou -  g:/filmes/2000/I skuggan av v\u00e4rmen (2009) Beata G\u00e4rdeler/imdb.json\n",
        "Apagou -  g:/filmes/2000/Ink (2009) Jamin Winans/imdb.json\n",
        "Apagou -  g:/filmes/2000/Italiano Para Principiantes (2000) Lone Scherfig/imdb.json\n",
        "Apagou -  g:/filmes/2000/Jap\u00e3o (2002) Carlos Reygadas/imdb.json\n",
        "Apagou -  g:/filmes/2000/Jestem (2005) Dorota Kedzierzawska/imdb.json\n",
        "Apagou -  g:/filmes/2000/Kinetta (2005) Giorgos Lanthimos/imdb.json\n",
        "Apagou -  g:/filmes/2000/Kisses (2008) Lance Daly/imdb.json\n",
        "Apagou -  g:/filmes/2000/Knerten (2009) Asleik Engmark/imdb.json\n",
        "Apagou -  g:/filmes/2000/Kung-Fus\u00e3o (2004) Stephen Chow/imdb.json\n",
        "Apagou -  g:/filmes/2000/K\u00e4sky (2008) Aku Louhimies/imdb.json\n",
        "Apagou -  g:/filmes/2000/L'enfant (2005) Jean Pierre et Luc Dardenne/imdb.json\n",
        "Apagou -  g:/filmes/2000/La captive (2000) Chantal Akerman/imdb.json\n",
        "Apagou -  g:/filmes/2000/La masseria delle allodole (2007) Paolo e Vittorio Taviani/imdb.json\n",
        "Apagou -  g:/filmes/2000/La nuit de la v\u00e9rit\u00e9 (2004) Fanta R\u00e9gina Nacro/imdb.json\n",
        "Apagou -  g:/filmes/2000/La Pianiste (2001) Michael Haneke/imdb.json\n",
        "Apagou -  g:/filmes/2000/La stella che non c'\u00e8 (2006) Gianni Amelio/imdb.json\n",
        "Apagou -  g:/filmes/2000/La Terre Abandonn\u00e9e (2005) Vimukthi Jayasundara/imdb.json\n",
        "Apagou -  g:/filmes/2000/Leonera (2008) Pablo Trapero/imdb.json\n",
        "Apagou -  g:/filmes/2000/Leslie, My Name Is Evil (2009) Reginald Harkema/imdb.json\n",
        "Apagou -  g:/filmes/2000/Ligeiramente Gr\u00e1vidos (2007)  Judd Apatow/imdb.json\n",
        "Apagou -  g:/filmes/2000/Liverpool (2008) Lisandro Alonso - Argentina/imdb.json\n",
        "Apagou -  g:/filmes/2000/Loft (2008) Erik Van Looy/imdb.json\n",
        "Apagou -  g:/filmes/2000/Lola (2009) Brillante Mendoza/imdb.json\n",
        "Apagou -  g:/filmes/2000/Loucuras de Um G\u00eanio (2005) Jeff Fauerzeig/imdb.json\n",
        "Apagou -  g:/filmes/2000/Lugar Nenhum na \u00c1frica (2001) Caroline Link/imdb.json\n",
        "Apagou -  g:/filmes/2000/Lunar (2009) Duncan Jones/imdb.json\n",
        "Apagou -  g:/filmes/2000/Luz Silenciosa (2007) Carlos Reygadas/imdb.json\n",
        "Apagou -  g:/filmes/2000/Machuca (2004) Andr\u00e9s Wood/imdb.json\n",
        "Apagou -  g:/filmes/2000/Mah Nakorn (2004) Wisit Sasanatieng - Tailandes/imdb.json\n",
        "Apagou -  g:/filmes/2000/Mais Estranho que a Fic\u00c3\u00a7\u00c3\u00a3o (2006) Marc Forster/imdb.json\n",
        "Apagou -  g:/filmes/2000/Mais Estranho que a Fic\u00e7\u00e3o (2006) Marc Forster/imdb.json\n",
        "Apagou -  g:/filmes/2000/Maldita Sorte (2007) Mark Helfrich/imdb.json\n",
        "Apagou -  g:/filmes/2000/Marcas da Viol\u00c3\u00aancia (2005) David Cronenberg/imdb.json\n",
        "Apagou -  g:/filmes/2000/Maria (2005) Abel Ferrara/imdb.json\n",
        "Apagou -  g:/filmes/2000/Mata-me de Prazer (2002) Kaige Chen/imdb.json\n",
        "Apagou -  g:/filmes/2000/Mayak (2006) Mariya Saakyan/imdb.json\n",
        "Apagou -  g:/filmes/2000/Mickybo and Me (2004) Terry Loane/imdb.json\n",
        "Apagou -  g:/filmes/2000/MicMacs - Um Plano Complicado (2009) Jean-Pierre Jeunet/imdb.json\n",
        "Apagou -  g:/filmes/2000/Mon fils \u00e0 moi (2006) Martial Fougeron/imdb.json\n",
        "Apagou -  g:/filmes/2000/Morrer Como Um Homem (2009) Jo\u00e3o Pedro Rodriguez/imdb.json\n",
        "Apagou -  g:/filmes/2000/Morro do C\u00e9u (2009) Gustavo Spolidoro/imdb.json\n",
        "Apagou -  g:/filmes/2000/Mum and Dad (2008) Steven Sheil/imdb.json\n",
        "Apagou -  g:/filmes/2000/Mundo Livre (2007) Ken Loach/imdb.json\n",
        "Apagou -  g:/filmes/2000/Musta j\u00e4\u00e4 (2007) Petri Kotwica - Finl\u00e2ndia/imdb.json\n",
        "Apagou -  g:/filmes/2000/M\u00e1ncora (2008) Ricardo de Montreuli/imdb.json\n",
        "Apagou -  g:/filmes/2000/Na Cama (2005) Mat\u00edas Bize/imdb.json\n",
        "Apagou - "
       ]
      },
      {
       "output_type": "stream",
       "stream": "stdout",
       "text": [
        " g:/filmes/2000/Na Cidade de Sylvia (2007) Jos\u00e9 Luis Guerin/imdb.json\n",
        "Apagou -  g:/filmes/2000/Na Escurid\u00e3o (2009) \u00c7agan Irmak/imdb.json\n",
        "Apagou -  g:/filmes/2000/Nachmittag (2007) Angela Schanelec/imdb.json\n",
        "Apagou -  g:/filmes/2000/Nacido y Criado (2006) Pablo Trapero/imdb.json\n",
        "Apagou -  g:/filmes/2000/Napoli, Napoli. Napoli (2009) Abel Ferrara/imdb.json\n",
        "Apagou -  g:/filmes/2000/Ninho Vazio (2008) Daniel Burman - Argentina/imdb.json\n",
        "Apagou -  g:/filmes/2000/No Princ\u00edpio (2009) Xavier Giannoli/imdb.json\n",
        "Apagou -  g:/filmes/2000/Nordeste (2005) Juan Diego Solanas/imdb.json\n",
        "Apagou -  g:/filmes/2000/Nossa Senhora dos Assassinos (2000) Barbel Schroeder/imdb.json\n",
        "Apagou -  g:/filmes/2000/Notre Musique (2004) Jean-Luc Godard/imdb.json\n",
        "Apagou -  g:/filmes/2000/Nove Rainhas (2000) Fabi\u00e1n Bielinsky/imdb.json\n",
        "Apagou -  g:/filmes/2000/Novo no Peda\u00e7o (2002) Ed Decter/imdb.json\n",
        "Apagou -  g:/filmes/2000/N\u00e3o Conte a Ningu\u00e9m (2006) Guillaume Canet/imdb.json\n",
        "Apagou -  g:/filmes/2000/N\u00e3o se Preocupe, Estou Bem (2006) Philippe Lioret/imdb.json\n",
        "Apagou -  g:/filmes/2000/N\u00e9s en 68 (2008) Oliver Ducastel e Jacques Martineau/imdb.json\n",
        "Apagou -  g:/filmes/2000/O Banheiro do Papa (2007) C\u00e9sar Charlone e Enrique Fern\u00e1ndez/imdb.json\n",
        "Apagou -  g:/filmes/2000/O Buda (2005) Diego Rafecas/imdb.json\n",
        "Apagou -  g:/filmes/2000/O B\u00fafalo da Noite (2007) Jorge Hern\u00e1ndez Aldana/imdb.json\n",
        "Apagou -  g:/filmes/2000/O Cachorro (2004) Carlos Sorin (Argentina)/imdb.json\n",
        "Apagou -  g:/filmes/2000/O Caminho das Nuvens (2003) Vicente Amorin/imdb.json\n",
        "Apagou -  g:/filmes/2000/O Caso Farewell (2009) Christian Carion/imdb.json\n",
        "Apagou -  g:/filmes/2000/O Divo (2008) Paolo Sorrentino/imdb.json\n",
        "Apagou -  g:/filmes/2000/O Filho (2002) Jean-Pierre e Luc Dardenne/imdb.json\n",
        "Apagou -  g:/filmes/2000/O Fim do Mundo (2006) Richard Kelly/imdb.json\n",
        "Apagou -  g:/filmes/2000/O Grande Truque (2006) Christopher Nolan/imdb.json\n",
        "Apagou -  g:/filmes/2000/O Grupo Baader Meinhof (2008) Uli Edel/imdb.json\n",
        "Apagou -  g:/filmes/2000/O Homem do Lado (2009) Gast\u00f3n Duprat e Mariano Cohn/imdb.json\n",
        "Apagou -  g:/filmes/2000/O Homem Mais Perigoso da Am\u00e9rica (2009) Judith Ehrlich e Rick Goldsmith/imdb.json\n",
        "Apagou -  g:/filmes/2000/O Homem que Era o Super-Homem (2008) Yoon-Chul Jeong - Cor\u00e9ia do Sul/imdb.json\n",
        "Apagou -  g:/filmes/2000/O Homem Que Incomoda (2006) Jens Lien/imdb.json\n",
        "Apagou -  g:/filmes/2000/O Homem que Vir\u00e1 (2009) Giorgio Diritti/imdb.json\n",
        "Apagou -  g:/filmes/2000/O Homem que Vir\u00c3\u00a1 (2009) Giorgio Diritti/imdb.json\n",
        "Apagou -  g:/filmes/2000/O Homem sem Passado (2002) Aki Kaurism\u00c3\u00a4ki/imdb.json\n",
        "Apagou -  g:/filmes/2000/O Mundo Imagin\u00e1rio do Dr. Parnassus (2009) Terry Gilliam/imdb.json\n",
        "Apagou -  g:/filmes/2000/O Novo Pa\u00c3\u00ads (2000) Geir Hansteen J\u00c3\u00b6rgensen - Su\u00c3\u00a9cia/imdb.json\n",
        "Apagou -  g:/filmes/2000/O N\u00facleo -  Miss\u00e3o Terra (2003) Jon Amiel/imdb.json\n",
        "Apagou -  g:/filmes/2000/O Pai de Giovanna (2008) Pupi Avati/imdb.json\n",
        "Apagou -  g:/filmes/2000/O Pequeno Nicolau (2009) Laurent Tirard/imdb.json\n",
        "Apagou -  g:/filmes/2000/O Pianista (2002) Roman Polanski/imdb.json\n",
        "Apagou -  g:/filmes/2000/O Porco Espinho (2009) Mona Achache/imdb.json\n",
        "Apagou -  g:/filmes/2000/O Profeta (2009) Jacques Audiard/imdb.json\n",
        "Apagou -  g:/filmes/2000/O P\u00e1ssaro de Argila (2002) Tareque Masud/imdb.json\n",
        "Apagou -  g:/filmes/2000/O Quarto de Fermat (2007) Luis Piedrahita e Rodrigo Sope\u00f1a - Espanha/imdb.json\n",
        "Apagou -  g:/filmes/2000/O Romance de Morvern Callar (2002) Lynne Ramsay/imdb.json\n",
        "Apagou -  g:/filmes/2000/O Sabor da Melancia (2005) Tsai Ming-Liang - Taiwan/imdb.json\n",
        "Apagou -  g:/filmes/2000/O Segredo de Vera Drake (2004) Mike Leigh/imdb.json\n",
        "Apagou -  g:/filmes/2000/O Segredo dos Seus Olhos (2009) Juan Jos\u00e9 Campanella/imdb.json\n",
        "Apagou -  g:/filmes/2000/O Sil\u00c3\u00aancio de Lorna (2008) Jean-Pierre e Luc Dardenne/imdb.json\n",
        "Apagou -  g:/filmes/2000/O Sol (2005) Alexsandr Sokurov/imdb.json\n",
        "Apagou -  g:/filmes/2000/O Som do Mar (2001) Bigas Luna/imdb.json\n",
        "Apagou -  g:/filmes/2000/O Tempo do Lobo (2003) Michael Haneke/imdb.json\n",
        "Apagou -  g:/filmes/2000/O Tempo que Resta (2005) Fran\u00e7ois Ozon/imdb.json\n",
        "Apagou -  g:/filmes/2000/O Terno (2002) Alberto Rodr\u00c3\u00adguez/imdb.json\n",
        "Apagou -  g:/filmes/2000/O Terno (2002) Alberto Rodr\u00edguez/imdb.json\n",
        "Apagou -  g:/filmes/2000/O Vento (2005) Eduardo Mignogna - Argentina/imdb.json\n",
        "Apagou -  g:/filmes/2000/Odete (2005) Joao Pedro Rodrigues - Portugal/imdb.json\n",
        "Apagou -  g:/filmes/2000/Ondas Invis\u00edveis (2006) Pen-Ek Ratanaruang - Tail\u00e2ndia/imdb.json\n",
        "Apagou -  g:/filmes/2000/Os Donos da Noite (2007) James Gray/imdb.json\n",
        "Apagou -  g:/filmes/2000/Os Fals\u00c3\u00a1rios (2007) Stefan Ruzowitzky/imdb.json\n",
        "Apagou -  g:/filmes/2000/Os Girass\u00c3\u00b3is Cegos (2008) Jos\u00c3\u00a9 Luis Cuerda - Espanha/imdb.json\n",
        "Apagou -  g:/filmes/2000/Os Limites do Controle (2009) Jim Jarmusch/imdb.json\n",
        "Apagou -  g:/filmes/2000/Os Melhores Dias de Nossas Vidas (2004) Damien O'Donnell/imdb.json\n",
        "Apagou -  g:/filmes/2000/Owl and the Sparrow (2007) Stephane Gauger - Vietnamita/imdb.json\n",
        "Apagou -  g:/filmes/2000/Pai e Filho (2003) Aleksandr Sokurov/imdb.json\n",
        "Apagou -  g:/filmes/2000/Pal\u00c3\u00adndromos (2004) Todd Solondz/imdb.json\n",
        "Apagou -  g:/filmes/2000/Paradise Now (2005) Hany Abu-Assad/imdb.json\n",
        "Apagou -  g:/filmes/2000/Paris (2008) C\u00c3\u00a9dric Klapisch/imdb.json\n",
        "Apagou -  g:/filmes/2000/Party Monster (2003) Fenton Bailey e Randy Barbato/imdb.json\n",
        "Apagou -  g:/filmes/2000/Patrik 1.5 (2008) Ella Lemhagen - Su\u00c3\u00a9cia/imdb.json\n",
        "Apagou -  g:/filmes/2000/Pelos Meus Olhos (2003) Ic\u00edar Bolla\u00edn - Espanha/imdb.json\n",
        "Apagou -  g:/filmes/2000/Pequena Miss Sunshine (2006) Jonathan Dayton e Valerie Faris/imdb.json\n",
        "Apagou -  g:/filmes/2000/Play (2005) Alicia Scherson/imdb.json\n",
        "Apagou -  g:/filmes/2000/Pol\u00edcia Adjetivo (2009) Cornelius Porumboiu/imdb.json\n",
        "Apagou -  g:/filmes/2000/Pora umierac (2007) Dorota Kedzierzawska/imdb.json\n",
        "Apagou -  g:/filmes/2000/Pornografia (2003) Jan Jakub Kolski - Pol\u00c3\u00b4nia/imdb.json\n",
        "Apagou -  g:/filmes/2000/Preciosa (2009) Lee Daniels/imdb.json\n",
        "Apagou - "
       ]
      },
      {
       "output_type": "stream",
       "stream": "stdout",
       "text": [
        " g:/filmes/2000/P\u00c3\u00a1lpebras Azuis (2007) Ernesto Contreras/imdb.json\n",
        "Apagou -  g:/filmes/2000/P\u00c3\u00a3o e Rosas (2000) Ken Loach/imdb.json\n",
        "Apagou -  g:/filmes/2000/Que Horas S\u00c3\u00a3o A\u00c3\u00ad (2001) Tsai Ming-Liang/imdb.json\n",
        "Apagou -  g:/filmes/2000/Querida Wendy (2004) Thomas Vinterberg/imdb.json\n",
        "Apagou -  g:/filmes/2000/Recontagem (2008) Jay Roach/imdb.json\n",
        "Apagou -  g:/filmes/2000/Redemoinho (2000) Denis Villeneuve/imdb.json\n",
        "Apagou -  g:/filmes/2000/Rent; Os Bo\u00c3\u00aamios (2005) Chris Columbus/imdb.json\n",
        "Apagou -  g:/filmes/2000/Rua das Tenta\u00c3\u00a7\u00c3\u00b5es (2002) Lisa Cholodenko/imdb.json\n",
        "Apagou -  g:/filmes/2000/Sagrado Cora\u00c3\u00a7\u00c3\u00a3o (2005) Ferzan Ozpetek/imdb.json\n",
        "Apagou -  g:/filmes/2000/Sem Nome (2009) Cary Joji Fukunaga/imdb.json\n",
        "Apagou -  g:/filmes/2000/Sem Sa\u00c3\u00adda (2008) James Watkins - Reino Unido/imdb.json\n",
        "Apagou -  g:/filmes/2000/Senhores do Crime (2007) David Cronenberg/imdb.json\n",
        "Apagou -  g:/filmes/2000/Sennen joy\u00fb (2001) Satoshi Kon - Jap\u00e3o - Anima\u00e7\u00e3o/imdb.json\n",
        "Apagou -  g:/filmes/2000/Sete Vidas (2008) Gabriel Muccino/imdb.json\n",
        "Apagou -  g:/filmes/2000/Shade - Nos Bastidores do Jogo (2003) Damian Nieman/imdb.json\n",
        "Apagou -  g:/filmes/2000/Shotgun Stories (2007) Jeff Nichols/imdb.json\n",
        "Apagou -  g:/filmes/2000/Show de Vizinha (2004) Luke Greenfield/imdb.json\n",
        "Apagou -  g:/filmes/2000/Simplesmente Complicado (2009) Nancy Meyers/imdb.json\n",
        "Apagou -  g:/filmes/2000/Simplesmente Martha (2001) Sandra Nettelbeck/imdb.json\n",
        "Apagou -  g:/filmes/2000/Slovenka (2009) Damjan Kozole/imdb.json\n",
        "Apagou -  g:/filmes/2000/Sobre Caf\u00c3\u00a9 e Cigarros (2004) Jim Jarmusch/imdb.json\n",
        "Apagou -  g:/filmes/2000/Sobre os Meus L\u00c3\u00a1bios (2001) Jacques Audiard/imdb.json\n",
        "Apagou -  g:/filmes/2000/Solino (2002) Fatih Akin/imdb.json\n",
        "Apagou -  g:/filmes/2000/Sonhando Acordado (2006) Michel Gondry/imdb.json\n",
        "Apagou -  g:/filmes/2000/Sonhos Vazios (2009) Nitara Lee Osbourne/imdb.json\n",
        "Apagou -  g:/filmes/2000/Sou um Cyborg, E Da\u00ed, Eu (2006) Chan-wook Park - Cor\u00e9ia do Sul/imdb.json\n",
        "Apagou -  g:/filmes/2000/Sr. Ningu\u00c3\u00a9m (2009) Jaco Van Dormael/imdb.json\n",
        "Apagou -  g:/filmes/2000/Strella (2009) Panos H. Koutras/imdb.json\n",
        "Apagou -  g:/filmes/2000/S\u00c3\u00a3o Jo\u00c3\u00a3o de Las Vegas (2009) Hue Rhodes/imdb.json\n",
        "Apagou -  g:/filmes/2000/Taurus (2001) Aleksandr Sokurov/imdb.json\n",
        "Apagou -  g:/filmes/2000/Taxidermia (2006) Gy\u00c3\u00b6rgy P\u00c3\u00a1lfi - Hungria/imdb.json\n",
        "Apagou -  g:/filmes/2000/Tempestade de Ver\u00c3\u00a3o (2004) Marco Kreuzpainter - Alemanha/imdb.json\n",
        "Apagou -  g:/filmes/2000/Tempos de Tormenta (2009) Taddheus O'Sulliva/imdb.json\n",
        "Apagou -  g:/filmes/2000/Terra Son\u00c3\u00a2mbula (2007) Teresa Prata/imdb.json\n",
        "Apagou -  g:/filmes/2000/The Edukators (2004) Hans Weingartner/imdb.json\n",
        "Apagou -  g:/filmes/2000/The Gathering Storm (2002) Richard Loncraine/imdb.json\n",
        "Apagou -  g:/filmes/2000/The Man From Earth (2007) Richard Schenkman/imdb.json\n",
        "Apagou -  g:/filmes/2000/The World is Big and Salvation Lurks Around the Corner (2008) Stephan Komandarev - Bulg\u00c3\u00a1ria/imdb.json\n",
        "Apagou -  g:/filmes/2000/Tobruk (2008) V\u00c3\u00a1clav Marhoul/imdb.json\n",
        "Apagou -  g:/filmes/2000/Todos os Outros (2009) Maren Ade/imdb.json\n",
        "Apagou -  g:/filmes/2000/Tokyo! (2008) Michel Gondry, Leos Carax e Bong Joon-ho/imdb.json\n",
        "Apagou -  g:/filmes/2000/Trair \u00c3\u00a9 uma Arte (2009) Duncan Ward/imdb.json\n",
        "Apagou -  g:/filmes/2000/Trotsky A Revolu\u00c3\u00a7\u00c3\u00a3o; Come\u00c3\u00a7a na Escola (2009) Jacob Tierney/imdb.json\n",
        "Apagou -  g:/filmes/2000/Tulpan (2008) Sergey Dvortsevoy/imdb.json\n",
        "Apagou -  g:/filmes/2000/Um Amigo Meu (2006) Sebastian Schipper/imdb.json\n",
        "Apagou -  g:/filmes/2000/Um Duende em Nova York (2003) Jon Favreau/imdb.json\n",
        "Apagou -  g:/filmes/2000/Um Sonho Poss\u00edvel (2009) John Lee Hancock/imdb.json\n",
        "Apagou -  g:/filmes/2000/Um Urso Vermelho (2002) Israel Adrian Caetano/imdb.json\n",
        "Apagou -  g:/filmes/2000/Uma Amizade sem Fronteiras (2003) Fran\u00c3\u00a7ois Dupeyron/imdb.json\n",
        "Apagou -  g:/filmes/2000/Uma Can\u00c3\u00a7\u00c3\u00a3o de Amor (2008) Karin Albou/imdb.json\n",
        "Apagou -  g:/filmes/2000/Uma Garota Encantada (2004) Tommy O'Harver/imdb.json\n",
        "Apagou -  g:/filmes/2000/Uma Visita ao Louvre (2004) Dani\u00c3\u00a8le Hullet e Jean-Marie Straub/imdb.json\n",
        "Apagou -  g:/filmes/2000/Valent\u00c3\u00adn (2002) Alejandro Agresti/imdb.json\n",
        "Apagou -  g:/filmes/2000/Vencer (2009) Marco Bellocchio/imdb.json\n",
        "Apagou -  g:/filmes/2000/Ventos da Liberdade (2006) Ken Loach/imdb.json\n",
        "Apagou -  g:/filmes/2000/Vermelho como o C\u00c3\u00a9u (2006) Cristiano Bortone/imdb.json\n",
        "Apagou -  g:/filmes/2000/Vil Romance (2008) Jos\u00e9 Campusano/imdb.json\n",
        "Apagou -  g:/filmes/2000/Vinicius (2005) Miguel Faria Jr. - Brasil - Document\u00e1rio/imdb.json\n",
        "Apagou -  g:/filmes/2000/Wendy e Lucy (2008) Kelly Reichardt/imdb.json\n",
        "Apagou -  g:/filmes/2000/Wolke 9 (2008) Andreas Dresen/imdb.json\n",
        "Apagou -  g:/filmes/2000/Wonderful Town (2007) Aditya Assarat/imdb.json\n",
        "Apagou - "
       ]
      },
      {
       "output_type": "stream",
       "stream": "stdout",
       "text": [
        " g:/filmes/2000/XXY (2007) Luc\u00eda Puenzo/imdb.json\n",
        "Apagou -  g:/filmes/2000/Yella (2007) Christian Petzold/imdb.json\n",
        "Apagou -  g:/filmes/2000/Zeitgeist Addendum (2008) Peter Joseph/imdb.json\n",
        "Apagou -  g:/filmes/2000/Zona do Crime (2008) Rodrigo Pl\u00c3\u00a1/imdb.json\n",
        "Apagou -  g:/filmes/2000/Zozo (2005) Josef Fares/imdb.json\n",
        "Apagou -  g:/filmes/2000/\u00c0 Prova de Morte (2007) Quentin Tarantino/imdb.json\n",
        "Apagou -  g:/filmes/2000/\u00c0s Cinco da Tarde (2003) Samira Makhmalbaf/imdb.json\n",
        "Apagou -  g:/filmes/2000/\u00c1guas Turvas (2008) Erik Poppe/imdb.json\n",
        "Apagou -  g:/filmes/2000/\u00c9l\u00e8ve libre (2008) Joachim Lafosse/imdb.json\n",
        "Apagou -  g:/filmes/2010/20 Sigarette (2010) Aureliano Amadei/imdb.json\n",
        "Apagou -  g:/filmes/2010/A Bela Adormecida (2010) Catherine Breillat/imdb.json\n",
        "Apagou -  g:/filmes/2010/A Chave de Sarah (2010) Gilles Paquet-Brenner/imdb.json\n",
        "Apagou -  g:/filmes/2010/A Horrible Way to Die (2010) Adam Wingard/imdb.json\n",
        "Apagou -  g:/filmes/2010/A Marine Story (2010) Ned Farr/imdb.json\n",
        "Apagou -  g:/filmes/2010/A Mosquiteira (2010) Agust\u00ed Vila/imdb.json\n",
        "Apagou -  g:/filmes/2010/A Princesa de Montpensier (2010) Bertrand Tavernier/imdb.json\n",
        "Apagou -  g:/filmes/2010/A Queima Roupa (2010) Fred Cavay\u00e9/imdb.json\n",
        "Apagou -  g:/filmes/2010/Abutres (2010) Pablo Trapero/imdb.json\n",
        "Apagou -  g:/filmes/2010/Amor e Outras Drogas (2010) Edward Zwick/imdb.json\n",
        "Apagou -  g:/filmes/2010/Amor Obsessivo (A Woman) (2010) Giada Colagrande/imdb.json\n",
        "Apagou -  g:/filmes/2010/As Quatro Voltas (2010) Michelangelo Frammartino/imdb.json\n",
        "Apagou -  g:/filmes/2010/At\u00e9 a Chuva (2010) Iciar Bollain/imdb.json\n",
        "Apagou -  g:/filmes/2010/Aurora (2010) Cristi Puiu/imdb.json\n",
        "Apagou -  g:/filmes/2010/Boy (2010) Taika Waititi/imdb.json\n",
        "Apagou -  g:/filmes/2010/Branco como a Neve (2010) Selim G\u00fcnes/imdb.json\n",
        "Apagou -  g:/filmes/2010/Cairo 678 (2010) Moham\u00e9d Diab/imdb.json\n",
        "Apagou -  g:/filmes/2010/Chantrapas (2010) Otar Iosseliani/imdb.json\n",
        "Apagou -  g:/filmes/2010/Curling (2010) Denis C\u00f4t\u00e9/imdb.json\n",
        "Apagou -  g:/filmes/2010/Elvis e Madona (2010) Marcelo Laffitte/imdb.json\n",
        "Apagou -  g:/filmes/2010/Em Um Mundo Melhor (2010) Susanne Bier/imdb.json\n",
        "Apagou -  g:/filmes/2010/Enlouquecendo com a Liberdade (2010) Tim Allen/imdb.json\n",
        "Apagou -  g:/filmes/2010/Esperar Para Sempre (2010) James Keach/imdb.json\n",
        "Apagou -  g:/filmes/2010/Eu Vi o Diabo (2010) Ji-woon Kim - Cor\u00c3\u00a9ia do Sul/imdb.json\n",
        "Apagou -  g:/filmes/2010/Eu Vi o Diabo (2010) Ji-woon Kim - Cor\u00e9ia do Sul/imdb.json\n",
        "Apagou -  g:/filmes/2010/Expresso da Morte (2010) Aleksey Uchitel - R\u00fassia/imdb.json\n",
        "Apagou -  g:/filmes/2010/Face Oculta (2010) Michael Lander/imdb.json\n",
        "Apagou -  g:/filmes/2010/Filme Socialismo (2010) Jean-luc Godard/imdb.json\n",
        "Apagou -  g:/filmes/2010/For Colored Girls (2010) Tyler Perry/imdb.json\n",
        "Apagou -  g:/filmes/2010/Gatos Velhos (2010) Pedro Peirano e Sebasti\u00e1n Silva/imdb.json\n",
        "Apagou -  g:/filmes/2010/Goethe (2010) Philipp St\u00f6lzl/imdb.json\n",
        "Apagou -  g:/filmes/2010/Guzaarish (2010) Sanjay Leela Bhansalt/imdb.json\n",
        "Apagou -  g:/filmes/2010/Hahaha (2010) Hong Sang-soo - Cor\u00e9ia do Sul/imdb.json\n",
        "Apagou -  g:/filmes/2010/Ilegal (2010) Olivier Masset- Depasse/imdb.json\n",
        "Apagou -  g:/filmes/2010/Inc\u00c3\u00aandios (2010) Denis Villeneuve/imdb.json\n",
        "Apagou -  g:/filmes/2010/Insanamente Feliz (2010) Anne Sewitsky/imdb.json\n",
        "Apagou -  g:/filmes/2010/Iron Doors (2010) Stephen Manuel/imdb.json\n",
        "Apagou -  g:/filmes/2010/Janie Jones (2010) David M Rosenthal/imdb.json\n",
        "Apagou -  g:/filmes/2010/Kosmos (2010) Reha Erdem/imdb.json\n",
        "Apagou -  g:/filmes/2010/La Prima Cosa Bella (2010) Paolo Virz\u00ec/imdb.json\n",
        "Apagou -  g:/filmes/2010/Ladr\u00f5es (2010) John Luessenhop/imdb.json\n",
        "Apagou -  g:/filmes/2010/Last Night (2010)/imdb.json\n",
        "Apagou -  g:/filmes/2010/Machete (2010) Robert Rodriguez e Ethan Maniquis/imdb.json\n",
        "Apagou -  g:/filmes/2010/Mahler no Div\u00e3 (2010) Percy Adlon e Felix Adlon/imdb.json\n",
        "Apagou -  g:/filmes/2010/Minha Felicidade (2010) Sergei Loznitsa/imdb.json\n",
        "Apagou -  g:/filmes/2010/Moby Dick (2010) Trey Stokes/imdb.json\n",
        "Apagou -  g:/filmes/2010/Namorados para Sempre (2010) Derek Cianfrance/imdb.json\n",
        "Apagou -  g:/filmes/2010/Neds (2010) Peter Mullan/imdb.json\n",
        "Apagou -  g:/filmes/2010/Norwegian Wood (2010) Tran Anh Hung/imdb.json\n",
        "Apagou -  g:/filmes/2010/O Assaltante (2010) Benjamin Heisenberg - Alemanha/imdb.json\n",
        "Apagou -  g:/filmes/2010/O Atalho (2010) Kelly Reichardt/imdb.json\n",
        "Apagou -  g:/filmes/2010/O Campe\u00e3o de Hitler (2010) Uwe Boll/imdb.json\n",
        "Apagou -  g:/filmes/2010/O Dia em que Eu N\u00e3o Nasci (2010) Florian Micoud Cossen/imdb.json\n",
        "Apagou -  g:/filmes/2010/O Enviado (2010) Mark Ruffalo/imdb.json\n",
        "Apagou -  g:/filmes/2010/O Filho de Jo (2010) Philippe Guillard/imdb.json\n",
        "Apagou -  g:/filmes/2010/O Homem que Queria Viver a Sua Vida (2010) Eric Lartigau/imdb.json\n",
        "Apagou -  g:/filmes/2010/O Olhar Invis\u00edvel  (2010) Diego Lerma e Mar\u00eda Meira/imdb.json\n",
        "Apagou -  g:/filmes/2010/O Tio Booonmee, Que Se Lembra das Suas Vidas Passadas (2010) Apichatpong Weerasethakul/imdb.json\n",
        "Apagou -  g:/filmes/2010/Os Acompanhantes (2010) Shari Springer Berman e Robert Pulcini/imdb.json\n",
        "Apagou -  g:/filmes/2010/Os Coletores (2010) Miguel Sarochnik/imdb.json\n",
        "Apagou -  g:/filmes/2010/Os Nomes do Amor (2010) Michel Leclerc/imdb.json\n",
        "Apagou -  g:/filmes/2010/Os Olhos de J\u00falia (2010) Guilhem Moraes - Espanha/imdb.json\n",
        "Apagou -  g:/filmes/2010/Os Perdedores (2010) Sylvain White/imdb.json\n",
        "Apagou -  g:/filmes/2010/Parked (2010) Darragh Byrne - Irlanda/imdb.json\n",
        "Apagou -  g:/filmes/2010/Pelot\u00e3o de Elite (2010) Jeremy Sims - Austr\u00e1lia/imdb.json\n",
        "Apagou -  g:/filmes/2010/Poesia (2010) Lee Chang-Dong - Cor\u00e9ia do Sul/imdb.json\n",
        "Apagou -  g:/filmes/2010/Post Mortem (2010) Pablo Larra\u00edn/imdb.json\n",
        "Apagou -  g:/filmes/2010/Pr\u00edncipe de Ferro (2010) Dmitriy Korobkin - R\u00fassia/imdb.json\n",
        "Apagou -  g:/filmes/2010/P\u00c3\u00a3o Negro (2010) Agust\u00c3\u00ad Villaronga/imdb.json\n",
        "Apagou -  g:/filmes/2010/Red - Aposentados e Perigosos (2010) Robert Schwentke/imdb.json\n",
        "Apagou -  g:/filmes/2010/Rota Irlandesa (2010) Ken Loach/imdb.json\n",
        "Apagou -  g:/filmes/2010/Sacrif\u00edcio (2010) Kaige Chen - China/imdb.json\n",
        "Apagou -  g:/filmes/2010/Se eu Quiser Assobiar, eu Assobio (2010) Florin Serban/imdb.json\n",
        "Apagou -  g:/filmes/2010/Senna - O Brasileiro, O Her\u00f3i, O Campe\u00e3o (2010) Asif Kapadia - Document\u00e1rio/imdb.json\n",
        "Apagou -  g:/filmes/2010/Shank (2010) Mo Ali/imdb.json\n",
        "Apagou -  g:/filmes/2010/Sonhos de  Duas Passagens (2010) Alistair Banks Griffin/imdb.json\n",
        "Apagou -  g:/filmes/2010/Temporada de Ca\u00e7a (2010) Yavuz Turgul - Turquia/imdb.json\n",
        "Apagou -  g:/filmes/2010/Ter\u00c3\u00a7a Feira Depois do Natal (2010) Radu Muntean/imdb.json\n",
        "Apagou - "
       ]
      },
      {
       "output_type": "stream",
       "stream": "stdout",
       "text": [
        " g:/filmes/2010/Tokio Blues (2010) Tran Anh Hung/imdb.json\n",
        "Apagou -  g:/filmes/2010/Transfer (2010) Damir Lukacevic - Alemanha/imdb.json\n",
        "Apagou -  g:/filmes/2010/Tr\u00e1fico de \u00d3rg\u00e3os (2010) Baltasar Korm\u00e1kur/imdb.json\n",
        "Apagou -  g:/filmes/2010/Tudo Acontece em Nova York (2010) Josh Radnor/imdb.json\n",
        "Apagou -  g:/filmes/2010/Tudo Que Quiseres (2010) Achero Ma\u00c3\u00b1as/imdb.json\n",
        "Apagou -  g:/filmes/2010/Uivo (2010) Rob Epstein e Jeffrey Friedman/imdb.json\n",
        "Apagou -  g:/filmes/2010/Ultraje (2010) Takeshi Kitano - Jap\u00c3\u00a3o/imdb.json\n",
        "Apagou -  g:/filmes/2010/Um Homem um Tanto Gentil (2010) Hans Petter Moland/imdb.json\n",
        "Apagou -  g:/filmes/2010/Um Lugar Qualquer (2010) Sofia Coppola/imdb.json\n",
        "Apagou -  g:/filmes/2010/Vejo Voc\u00c3\u00aa no Pr\u00c3\u00b3ximo Ver\u00c3\u00a3o (2010) Philip Seymour Hoffman/imdb.json\n",
        "Apagou -  g:/filmes/2011/10 Anos (2011) Jamie Linden/imdb.json\n",
        "Apagou -  g:/filmes/2011/360 (2011) Fernando Meirelles/imdb.json\n",
        "Apagou -  g:/filmes/2011/5 C\u00e2meras Quebradas (2011) Emad Burnat e Guy Davidi/imdb.json\n",
        "Apagou -  g:/filmes/2011/A Doen\u00e7a do Sono (2011) Ulrich K\u00f6hler/imdb.json\n",
        "Apagou -  g:/filmes/2011/A Filha do Meu Melhor Amigo (2011) Julian Farino/imdb.json\n",
        "Apagou -  g:/filmes/2011/A Guerra Est\u00e1 Declarada (2011) Val\u00e9rie Donzelli/imdb.json\n",
        "Apagou -  g:/filmes/2011/A Guerreira (2011) David Wnendt/imdb.json\n",
        "Apagou -  g:/filmes/2011/A Guerreira (2011) David Wnendt - Alemanha/imdb.json\n",
        "Apagou -  g:/filmes/2011/A Heran\u00e7a (2011) Robert O'Hara/imdb.json\n",
        "Apagou -  g:/filmes/2011/A Inven\u00c3\u00a7\u00c3\u00a3o de Hugo Cabret (2011) Martin Scorcese/imdb.json\n",
        "Apagou -  g:/filmes/2011/A Separa\u00c3\u00a7\u00c3\u00a3o (2011) Asghar Farhadi/imdb.json\n",
        "Apagou -  g:/filmes/2011/A Separa\u00e7\u00e3o (2011) Asghar Farhadi/imdb.json\n",
        "Apagou -  g:/filmes/2011/A Tenta\u00e7\u00e3o (2011) Matthew Chapman/imdb.json\n",
        "Apagou -  g:/filmes/2011/A Vida Vai Melhorar (2011) C\u00e9dric Kahn/imdb.json\n",
        "Apagou -  g:/filmes/2011/Adeus, Primeiro Amor (2011) Mia Hansen-Love/imdb.json\n",
        "Apagou -  g:/filmes/2011/Alpes (2011) Giorgos Lanthimos/imdb.json\n",
        "Apagou -  g:/filmes/2011/Amor \u00e9 Tudo que Precisa (2011) Suzanne Bier/imdb.json\n",
        "Apagou -  g:/filmes/2011/Amors Baller (2011) Kristoffer Metcalfe/imdb.json\n",
        "Apagou -  g:/filmes/2011/Apflickorna aka She Monkeys (2011) Lisa Aschan/imdb.json\n",
        "Apagou -  g:/filmes/2011/Arirang (2011) Kim Ki-duk/imdb.json\n",
        "Apagou -  g:/filmes/2011/Beast (2011) Christoffer Boe/imdb.json\n",
        "Apagou -  g:/filmes/2011/Beleza (2011) Oliver Hermanus/imdb.json\n",
        "Apagou -  g:/filmes/2011/Bernie (2011) Richard Linklater/imdb.json\n",
        "Apagou -  g:/filmes/2011/Bullhead (2011) Michael R. Roskam/imdb.json\n",
        "Apagou -  g:/filmes/2011/Can (2011) Rasit Celikeser - Turquia/imdb.json\n",
        "Apagou -  g:/filmes/2011/Cartas para Inglile (2011) Sulev Keedu/imdb.json\n",
        "Apagou -  g:/filmes/2011/Celda (2011) Daniel Monz\u00f3n/imdb.json\n",
        "Apagou -  g:/filmes/2011/Circumstance (2011) Maryam Keshavarz/imdb.json\n",
        "Apagou -  g:/filmes/2011/Code Blue (2011) Urszula Antoniak - Holanda/imdb.json\n",
        "Apagou -  g:/filmes/2011/Cold Fusion (2011) Ivan Mitov/imdb.json\n",
        "Apagou -  g:/filmes/2011/Crian\u00e7as... (2011) Kyoo-man Lee/imdb.json\n",
        "Apagou -  g:/filmes/2011/Dark Horse (2011) Todd Solondz/imdb.json\n",
        "Apagou -  g:/filmes/2011/Donovans Echo (2011) Jim Cliffe/imdb.json\n",
        "Apagou -  g:/filmes/2011/E que Deus nos Ajude (2011) George Ratliff/imdb.json\n",
        "Apagou -  g:/filmes/2011/E Se Vivessemos Todos Juntos (2011) St\u00e9phane Robelin/imdb.json\n",
        "Apagou -  g:/filmes/2011/Elles (2011) Malgoska Szumowska/imdb.json\n",
        "Apagou -  g:/filmes/2011/Elling (2001) Peter Naess - Noruega/imdb.json\n",
        "Apagou -  g:/filmes/2011/Estocolmo Leste (2011) Simon Kaijser/imdb.json\n",
        "Apagou -  g:/filmes/2011/Eu Receberia as Piores Not\u00c3\u00adcias dos Seus Lindos L\u00c3\u00a1bios (2011)/imdb.json\n",
        "Apagou -  g:/filmes/2011/Fausto (2011) Aleksandr Sokurov/imdb.json\n",
        "Apagou -  g:/filmes/2011/Guerreiro (2011) Gavin O'Connor/imdb.json\n",
        "Apagou -  g:/filmes/2011/Hahithalfut (2011) Eran Kolirin/imdb.json\n",
        "Apagou -  g:/filmes/2011/Ice - Um Dia Depois do Amanh\u00e3 (2011) Nick Copus/imdb.json\n",
        "Apagou -  g:/filmes/2011/Inf\u00e2ncia Clandestina (2011) Benjamin \u00c1vila -  Argentina/imdb.json\n",
        "Apagou -  g:/filmes/2011/Intouchables (2011) Oliver Nakache e Eric Toledano/imdb.json\n",
        "Apagou -  g:/filmes/2011/Irm\u00e3s e Irm\u00e3os (2011) Carl Bessai/imdb.json\n",
        "Apagou -  g:/filmes/2011/Just Henry - A Verdade de Uma Vida (2011) David Moore/imdb.json\n",
        "Apagou -  g:/filmes/2011/L'Apollonide - Os Amores da Casa de Toler\u00e2ncia (2011) Bertrand Bonello/imdb.json\n",
        "Apagou -  g:/filmes/2011/Las Acacias (2011) Pablo Giorgelli/imdb.json\n",
        "Apagou -  g:/filmes/2011/Love Likes Coincidences (2011) \u00d6mer Faruk Sorak/imdb.json\n",
        "Apagou -  g:/filmes/2011/Malu de Bicicleta (2011) Fl\u00c3\u00a1vio Tambellim/imdb.json\n",
        "Apagou -  g:/filmes/2011/Margaret (2011) Kenneth Lonergan/imdb.json\n",
        "Apagou -  g:/filmes/2011/Mar\u00e9cages (2011) Guy \u00c9doin/imdb.json\n",
        "Apagou -  g:/filmes/2011/Me Excita, Droga! (2011) Jannicke Systad Jacobsen/imdb.json\n",
        "Apagou -  g:/filmes/2011/Medianeras (2011) Gustavo Taretto/imdb.json\n",
        "Apagou -  g:/filmes/2011/Megan is Missing (2011) Michael Goi/imdb.json\n",
        "Apagou -  g:/filmes/2011/Mem\u00f3ria de Minhas Putas Tristes (2011) Henning Carlsen/imdb.json\n",
        "Apagou -  g:/filmes/2011/Michael (2011) Markus Schleinzer/imdb.json\n",
        "Apagou -  g:/filmes/2011/Miral (2011) Julian Schnabel/imdb.json\n",
        "Apagou -  g:/filmes/2011/Miss Bala (2011)/imdb.json\n",
        "Apagou -  g:/filmes/2011/Mundo Injusto (2011) Filippos Tsitos/imdb.json\n",
        "Apagou -  g:/filmes/2011/Na Escurid\u00c3\u00a3o (2011) Agnieszka Holland/imdb.json\n",
        "Apagou -  g:/filmes/2011/N\u00e3o Tenha Medo (2011) Montxo Armend\u00e1riz - Espanha/imdb.json\n",
        "Apagou -  g:/filmes/2011/N\u00c3\u00a3o Tenha Medo (2011) Montxo Armend\u00c3\u00a1riz - Espanha/imdb.json\n",
        "Apagou -  g:/filmes/2011/O Amor N\u00e3o Tem Fim (2011) Julie Gavras/imdb.json\n",
        "Apagou -  g:/filmes/2011/O Artista (2011) Michel Hazanavicius/imdb.json\n",
        "Apagou -  g:/filmes/2011/O Assassino da Internet (2011) Stephen Kay/imdb.json\n",
        "Apagou -  g:/filmes/2011/O Ca\u00e7ador (2011) Ian Sharp/imdb.json\n",
        "Apagou -  g:/filmes/2011/O Exerc\u00edcio do Poder (2011) Pierre Schoeller/imdb.json\n",
        "Apagou -  g:/filmes/2011/O Futuro (2011) Miranda July/imdb.json\n",
        "Apagou -  g:/filmes/2011/O Garoto da Bicicleta (2011) Jean-Pierre e Luc Dardenne/imdb.json\n",
        "Apagou -  g:/filmes/2011/O Invasor (2011) Nicolas Provost/imdb.json\n",
        "Apagou - "
       ]
      },
      {
       "output_type": "stream",
       "stream": "stdout",
       "text": [
        " g:/filmes/2011/O Moinho e a Cruz (2011) Lech Majewski - Pol\u00c3\u00b4nia/imdb.json\n",
        "Apagou -  g:/filmes/2011/O Morro dos Ventos Uivantes (2011) Andrea Arnold/imdb.json\n",
        "Apagou -  g:/filmes/2011/O Perd\u00e3o de Sangue (2011) Joshua Marston/imdb.json\n",
        "Apagou -  g:/filmes/2011/O Porto (2011) Aki Kaurism\u00e4ki/imdb.json\n",
        "Apagou -  g:/filmes/2011/O Primeiro Homem (2011) Gianni Amelio/imdb.json\n",
        "Apagou -  g:/filmes/2011/O que eu Mais Desejo (2011) Hirokazu Koreeda/imdb.json\n",
        "Apagou -  g:/filmes/2011/O Senhor dos Mares (2011) Reinout Derlemans/imdb.json\n",
        "Apagou -  g:/filmes/2011/O Teatro Bizarro (2011) Douglas Buck,Buddy Giovinazzo,David Gregory,Karim Hussain,Jeremy Kasten,Tom Savini,Richard Stanley/imdb.json\n",
        "Apagou -  g:/filmes/2011/O Ver\u00e3o do Skylab (2011) Julie Delpy/imdb.json\n",
        "Apagou -  g:/filmes/2011/Opera\u00e7\u00e3o Invas\u00e3o (2011) Gareth Huw Evans/imdb.json\n",
        "Apagou -  g:/filmes/2011/Os Finkels em A\u00e7\u00e3o (2011) Jonathan Newman/imdb.json\n",
        "Apagou -  g:/filmes/2011/Pacto de Sangue (2011) Olivier Marchal/imdb.json\n",
        "Apagou -  g:/filmes/2011/Papagaio no Ar (2011) Margaret Whitton/imdb.json\n",
        "Apagou -  g:/filmes/2011/Parada em Pleno Curso (2011) Andreas Dresen/imdb.json\n",
        "Apagou -  g:/filmes/2011/Pausa para Uma Assassinato (2011) J\u00c3\u00a9r\u00c3\u00b4me Le Gris/imdb.json\n",
        "Apagou -  g:/filmes/2011/Paz, Amor e Muito Mais (2011) Bruce Beresford/imdb.json\n",
        "Apagou -  g:/filmes/2011/Perd\u00e3o de Sangue (2011) Joshua Marston/imdb.json\n",
        "Apagou -  g:/filmes/2011/Planeta Solit\u00e1rio (2011) Julia Loktev/imdb.json\n",
        "Apagou -  g:/filmes/2011/Pol\u00edssia (2011) Maiwenn Le Besco/imdb.json\n",
        "Apagou -  g:/filmes/2011/P\u00e2ntanos (2011) Guy \u00c9doin/imdb.json\n",
        "Apagou -  g:/filmes/2011/Q. Sexual Desire (2011) Laurent Bouhnik/imdb.json\n",
        "Apagou -  g:/filmes/2011/Quando as Coisas Acontecem (2011) Nancy Savoca/imdb.json\n",
        "Apagou -  g:/filmes/2011/Rela\u00e7\u00e3o Mortal (2011) Mary Harron/imdb.json\n",
        "Apagou -  g:/filmes/2011/Respirar (2011) Karl Markovies/imdb.json\n",
        "Apagou -  g:/filmes/2011/Revolucion el Cruce de los Andes (2011) Leandro Ipi\u00f1a/imdb.json\n",
        "Apagou -  g:/filmes/2011/Segredos Mortais (2011) Harold Guskin/imdb.json\n",
        "Apagou -  g:/filmes/2011/Sem Prada nem Nada (2011) Angel Garcia/imdb.json\n",
        "Apagou -  g:/filmes/2011/Snowtown (2011) Justin Kurzel/imdb.json\n",
        "Apagou -  g:/filmes/2011/The Giants (2011) Bouli Lanners - B\u00e9lgica/imdb.json\n",
        "Apagou -  g:/filmes/2011/The Phantom Father (2011) Lucian Georgescu - Rom\u00eania/imdb.json\n",
        "Apagou -  g:/filmes/2011/The Squad - El P\u00e1ramo (2011) Jaime Osorio Marquez/imdb.json\n",
        "Apagou -  g:/filmes/2011/The Sunset Limited (2011) Tommy Lee Jones/imdb.json\n",
        "Apagou -  g:/filmes/2011/The Trouble With Bliss (2011) Michael Knowles/imdb.json\n",
        "Apagou -  g:/filmes/2011/Tudo o que Desejamos (2011) Phillipe Lioret/imdb.json\n",
        "Apagou -  g:/filmes/2011/Um Conto Chin\u00eas (2011) Sebasti\u00e1n Borensztein - Argentina/imdb.json\n",
        "Apagou -  g:/filmes/2011/Um Dia (2011) Lone Scherfig/imdb.json\n",
        "Apagou -  g:/filmes/2011/Um Dia Essa Dor Ser\u00e1 \u00datil (2011) Roberto Faenza/imdb.json\n",
        "Apagou -  g:/filmes/2011/Um Met\u00c3\u00b3do Perigoso (2011) David Cronenberg/imdb.json\n",
        "Apagou -  g:/filmes/2011/Um Porco em Gaza (2011) Sylvain Estibal/imdb.json\n",
        "Apagou -  g:/filmes/2011/Uma Boa e Velha Orgia (2011) Alex Gregory e Peter Huyck/imdb.json\n",
        "Apagou -  g:/filmes/2011/Uma Carona para o Amor (2011) Sam Jaeger/imdb.json\n",
        "Apagou -  g:/filmes/2011/Violeta e Margarida (2011) Geoffrey Fletcher/imdb.json\n",
        "Apagou -  g:/filmes/2011/Violeta Foi para o C\u00e9u (2011) Andr\u00e9s Wood/imdb.json\n",
        "Apagou -  g:/filmes/2011/Vulc\u00e3o (2011) - Isl\u00e2ndia/imdb.json\n",
        "Apagou -  g:/filmes/2011/You May not Kiss the Bride (2011) Rob Hedden/imdb.json\n",
        "Apagou -  g:/filmes/2011/Zeitgeist Moving Forward (2011) Peter Joseph/imdb.json\n",
        "Apagou -  g:/filmes/2011/\u00c1rea Q (2011) Gerson Sanginitto/imdb.json\n",
        "Apagou -  g:/filmes/2011/\u00c3\u0081rea Q (2011) Gerson Sanginitto/imdb.json\n",
        "Apagou -  g:/filmes/2012/2 Dias em Nova York (2012) Julie Delpy/imdb.json\n",
        "Apagou -  g:/filmes/2012/3 Days of Normal (2012) Ishai Setton/imdb.json\n",
        "Apagou -  g:/filmes/2012/38 Testemunhas (2012) Lucas Belvaux/imdb.json\n",
        "Apagou -  g:/filmes/2012/7 Caixas (2012) Juan Carlos Maneglia e Tana Schembori - Paraguay/imdb.json\n",
        "Apagou -  g:/filmes/2012/7 Dias em Havana (2012) Laurent Cantet, Ben\u00edcio del Toro, Julio Medem, Gaspar No\u00e9, Elia Suleiman, Juan Carlos Trapero e Juan Carlos Tabio/imdb.json\n",
        "Apagou -  g:/filmes/2012/A Bela que Dorme (2012) Marco Bellochio/imdb.json\n",
        "Apagou -  g:/filmes/2012/A Bicicleta do meu Pai (2012) Pior Trzaskalski/imdb.json\n",
        "Apagou -  g:/filmes/2012/A Ca\u00e7a (2012) Thomas Vinterberg/imdb.json\n",
        "Apagou -  g:/filmes/2012/A Datil\u00f3grafa (2012) R\u00e9gis Roinsard/imdb.json\n",
        "Apagou -  g:/filmes/2012/A Demora (2012) Rodrigo Pl\u00e1/imdb.json\n",
        "Apagou -  g:/filmes/2012/A Escolha Perfeita (2012) Jason Moore/imdb.json\n",
        "Apagou -  g:/filmes/2012/A Esta\u00e7\u00e3o do Rinoceronte (2012) Bahman Ghobadi/imdb.json\n",
        "Apagou -  g:/filmes/2012/A Estranha Vida de Timothy Green (2012) Peter Hedges/imdb.json\n",
        "Apagou -  g:/filmes/2012/A Feiticeira da Guerra (2012) Kim Nguyen/imdb.json\n",
        "Apagou -  g:/filmes/2012/A Felicidade (2012) Doris D\u00f6rrie/imdb.json\n",
        "Apagou -  g:/filmes/2012/A Fria Luz do Dia (2012) Mabrouk El Mechri/imdb.json\n",
        "Apagou -  g:/filmes/2012/A Fronteira (2012) Gabriela Tagliavini/imdb.json\n",
        "Apagou -  g:/filmes/2012/A Fuga (2012) Stefan Ruzowitzky/imdb.json\n",
        "Apagou -  g:/filmes/2012/A Garota de Lugar Nenhum (2012) Jean-Luc Brisseau/imdb.json\n",
        "Apagou -  g:/filmes/2012/A Idade do Rock (2012) Adam Shankman/imdb.json\n",
        "Apagou -  g:/filmes/2012/A Ilha do Tesouro (2012) Steve Barron/imdb.json\n",
        "Apagou -  g:/filmes/2012/A l'aveugle (2012) Xavier Palud/imdb.json\n",
        "Apagou -  g:/filmes/2012/A Late Quartet (2012) Yaron Zilberman/imdb.json\n",
        "Apagou -  g:/filmes/2012/A Loja de Suic\u00eddios (2012) Patrice Leconte/imdb.json\n",
        "Apagou -  g:/filmes/2012/A Morte de Mr.Wright (2012) Stephen Kay/imdb.json\n",
        "Apagou -  g:/filmes/2012/A Morte de Um Homem nos Balc\u00e3s (2012) Miroslav Momcilovic - S\u00e9rvia/imdb.json\n",
        "Apagou -  g:/filmes/2012/A Negocia\u00e7\u00e3o (2012) Nicholas Jarecki/imdb.json\n",
        "Apagou -  g:/filmes/2012/A Parede (2012) Julian Romam P\u00f6lsler/imdb.json\n",
        "Apagou -  g:/filmes/2012/A Parte dos Anjos (2012) Ken Loach/imdb.json\n",
        "Apagou -  g:/filmes/2012/A Pedra de Paci\u00eancia (2012) Atiq Rahimi/imdb.json\n",
        "Apagou -  g:/filmes/2012/A Segunda Esposa (2012) Umut Dag/imdb.json\n",
        "Apagou -  g:/filmes/2012/A Sobrevivente (2012) Gi Luna/imdb.json\n",
        "Apagou -  g:/filmes/2012/A Super Agente (2012) Tom Vaughan/imdb.json\n",
        "Apagou -  g:/filmes/2012/A Viagem (2012) Tom Tykwer, Andy Wachowski e Lana Wachowski/imdb.json\n",
        "Apagou -  g:/filmes/2012/A Vida de Outra Mulher (2012) Sylvie Testud/imdb.json\n",
        "Apagou - "
       ]
      },
      {
       "output_type": "stream",
       "stream": "stdout",
       "text": [
        " g:/filmes/2012/A Vida de Pi (2012) Ang Lee/imdb.json\n",
        "Apagou -  g:/filmes/2012/A Vingan\u00e7a por Jolly (2012) Chadd Harbold/imdb.json\n",
        "Apagou -  g:/filmes/2012/A Visitante Francesa (2012) Hong Sang-soo - Cor\u00e9ia do Sul/imdb.json\n",
        "Apagou -  g:/filmes/2012/Adeus Minha Rainha (2012) Beno\u00eet Jacquot/imdb.json\n",
        "Apagou -  g:/filmes/2012/Aglaja (2012) Krisztina De\u00e1k/imdb.json\n",
        "Apagou -  g:/filmes/2012/Alabama Monroe (2012) Felix Van Groeningen/imdb.json\n",
        "Apagou -  g:/filmes/2012/Al\u00e9m das Montanhas (2012) Cristian Mungiu/imdb.json\n",
        "Apagou -  g:/filmes/2012/Amanhecer (2012) Dan Bradley/imdb.json\n",
        "Apagou -  g:/filmes/2012/Amanhecer Parte 2 (2012) Bil Condon/imdb.json\n",
        "Apagou -  g:/filmes/2012/Amigos Insepar\u00e1veis (2012) Fisher Stevens/imdb.json\n",
        "Apagou -  g:/filmes/2012/Amor (2012) Michael Haneke/imdb.json\n",
        "Apagou -  g:/filmes/2012/Amor Bandido (2012) Jeff Nichols/imdb.json\n",
        "Apagou -  g:/filmes/2012/Amor Pleno (2012) Terrence Malick/imdb.json\n",
        "Apagou -  g:/filmes/2012/Anjo da Guarda (2012) Til Schweiger/imdb.json\n",
        "Apagou -  g:/filmes/2012/Anna Karenina (2012) Joe Wright/imdb.json\n",
        "Apagou -  g:/filmes/2012/Any Day Now (2012) Travis Fine/imdb.json\n",
        "Apagou -  g:/filmes/2012/Apenas o Vento (2012) Benedek Fliegavf/imdb.json\n",
        "Apagou -  g:/filmes/2012/Argo (2012) Ben Affleck/imdb.json\n",
        "Apagou -  g:/filmes/2012/Arthur Newman (2012) Dante Ariola/imdb.json\n",
        "Apagou -  g:/filmes/2012/As Aventuras de uma Ninfoman\u00edaca (2012) Marialy Rivas/imdb.json\n",
        "Apagou -  g:/filmes/2012/As Idades do Amor (2012) Giovanni Veronesi/imdb.json\n",
        "Apagou - "
       ]
      },
      {
       "output_type": "stream",
       "stream": "stdout",
       "text": [
        " g:/filmes/2012/As Loucuras de Charlie (2012) Roman Coppola/imdb.json\n",
        "Apagou -  g:/filmes/2012/As Sess\u00f5es (2012) Ben Lewin/imdb.json\n",
        "Apagou -  g:/filmes/2012/Assassinos de Aluguel (2012) Jessy Terrero/imdb.json\n",
        "Apagou -  g:/filmes/2012/Ast\u00e9rix e Ob\u00e9lix A Servi\u00e7o de sua Majestade (2012) Laurent Tirard/imdb.json\n",
        "Apagou -  g:/filmes/2012/At Any Price (2012) Ramin Bahrani/imdb.json\n",
        "Apagou -  g:/filmes/2012/Atr\u00e1s da Porta (2012) Istv\u00e1n Szab\u00f3/imdb.json\n",
        "Apagou -  g:/filmes/2012/At\u00e9 que a Sorte nos Separe (2012) Roberto Santucci/imdb.json\n",
        "Apagou -  g:/filmes/2012/Augustine (2012) Alice Winocour/imdb.json\n",
        "Apagou -  g:/filmes/2012/Aurora (2012) Kristina Buozyte/imdb.json\n",
        "Apagou -  g:/filmes/2012/Bachelorette (2012) Leslye Headland/imdb.json\n",
        "Apagou -  g:/filmes/2012/Battleship - Batalha dos Mares (2012) Peter Berg/imdb.json\n",
        "Apagou -  g:/filmes/2012/Bekas (2012) Karzan Kader/imdb.json\n",
        "Apagou -  g:/filmes/2012/Bem-Vindo aos 40 (2012) Judd Apaton/imdb.json\n",
        "Apagou -  g:/filmes/2012/Berberian Sound Studio (2012) Peter Strickland/imdb.json\n",
        "Apagou -  g:/filmes/2012/Big Love (2012) Barbara Bialowas/imdb.json\n",
        "Apagou -  g:/filmes/2012/Billi Pig (2012) Jos\u00c3\u00a9 Eduardo Belmonte/imdb.json\n",
        "Apagou -  g:/filmes/2012/Branca de Neve (2012) Pablo Berger/imdb.json\n",
        "Apagou -  g:/filmes/2012/Branded (2012) James Bradshaw e Aleksandr Dulerayn/imdb.json\n",
        "Apagou -  g:/filmes/2012/Broken (2012) Rufus Norris/imdb.json\n",
        "Apagou -  g:/filmes/2012/Byzantium (2012) Neil Jordan/imdb.json\n",
        "Apagou -  g:/filmes/2012/B\u00e1rbara (2012) Christian Petzold/imdb.json\n",
        "Apagou -  g:/filmes/2012/B\u00c3\u00a1rbara (2012) Christian Petzold/imdb.json\n",
        "Apagou -  g:/filmes/2012/Camille Outra Vez (2012) No\u00e9mie Lvovsky/imdb.json\n",
        "Apagou -  g:/filmes/2012/Canibal Vegetariano (2012) Branko Schmidt/imdb.json\n",
        "Apagou -  g:/filmes/2012/Can\u00e7\u00e3o para Marion (2012) Paul Andrew Williams/imdb.json\n",
        "Apagou -  g:/filmes/2012/Cavaleiros e Drag\u00f5es (2012) Mark Atkins/imdb.json\n",
        "Apagou -  g:/filmes/2012/Ca\u00e7ada Humana (2012) Marcin Krzysztalowicz/imdb.json\n",
        "Apagou -  g:/filmes/2012/Ca\u00e7ador de Almas (2012) Andrew Goth/imdb.json\n",
        "Apagou -  g:/filmes/2012/Celeste e Jesse para Sempre (2012) Lee Toland Krieger/imdb.json\n",
        "Apagou -  g:/filmes/2012/Cirque du Soleil Worlds Away (2012) Andrew Adamson/imdb.json\n",
        "Apagou -  g:/filmes/2012/Clip (2012) Maja Milos/imdb.json\n",
        "Apagou -  g:/filmes/2012/Como Agarrar Meu Ex-Namorado  (2012) Julie Anne Robinson/imdb.json\n",
        "Apagou -  g:/filmes/2012/Como um Chef (2012) Daniel Cohen/imdb.json\n",
        "Apagou -  g:/filmes/2012/Como um Trov\u00e3o (2012) Derek Cianfrance/imdb.json\n",
        "Apagou -  g:/filmes/2012/Conex\u00f5es (2012) Shervin Yunssefian/imdb.json\n",
        "Apagou -  g:/filmes/2012/Cosm\u00c3\u00b3polis (2012) David Cronenberg/imdb.json\n",
        "Apagou -  g:/filmes/2012/Crian\u00e7as de Sarajevo (2012) Aida Begic/imdb.json\n",
        "Apagou -  g:/filmes/2012/Dan\u00e7a de Pardais (2012) Noah Buschel/imdb.json\n",
        "Apagou -  g:/filmes/2012/Dark Tourist (2012) Suri Krishnamma/imdb.json\n",
        "Apagou -  g:/filmes/2012/De Cabe\u00e7a para Baixo (2012) Juan Diego Solanas/imdb.json\n",
        "Apagou -  g:/filmes/2012/De Cora\u00e7\u00e3o Aberto (2012) Marion Laine/imdb.json\n",
        "Apagou -  g:/filmes/2012/De Volta para Casa (2012) Fr\u00e9d\u00e8ric Videau - Fran\u00e7a/imdb.json\n",
        "Apagou -  g:/filmes/2012/Deixe a Luz Acesa (2012) Ira Sachs/imdb.json\n",
        "Apagou -  g:/filmes/2012/Dentro de Casa (2012) Fran\u00e7ois Ozon/imdb.json\n",
        "Apagou -  g:/filmes/2012/Depois de L\u00facia (2012) Michel Franco/imdb.json\n",
        "Apagou -  g:/filmes/2012/Depois de Maio (2012) Olivier Assayas/imdb.json\n",
        "Apagou -  g:/filmes/2012/Detona Ralph (2012) Rick Moore/imdb.json\n",
        "Apagou -  g:/filmes/2012/Diaz - Pol\u00edtica e Viol\u00eancia (2012) Daniele Vicari/imdb.json\n",
        "Apagou -  g:/filmes/2012/Django Livre (2012) Quentin Tarantino/imdb.json\n",
        "Apagou -  g:/filmes/2012/Doce Tenta\u00e7\u00e3o (2012) Stephen Eliott/imdb.json\n",
        "Apagou -  g:/filmes/2012/Doomsday Book (2012)  Pil-Sung Yim e Kim Jee-Woon - Cor\u00e9ia do Sul/imdb.json\n",
        "Apagou -  g:/filmes/2012/Duas Vidas (2012) Georg Maas e Judith Kaufmann/imdb.json\n",
        "Apagou -  g:/filmes/2012/Elefante Branco (2012) Pablo Trapero/imdb.json\n",
        "Apagou -  g:/filmes/2012/Em Busca do Amor (2012) James Ivory/imdb.json\n",
        "Apagou -  g:/filmes/2012/Em Nome de Deus (2012) Brillante Mendoza/imdb.json\n",
        "Apagou -  g:/filmes/2012/English Vinglish (2012) Gauri Shinde/imdb.json\n",
        "Apagou - "
       ]
      },
      {
       "output_type": "stream",
       "stream": "stdout",
       "text": [
        " g:/filmes/2012/Entre Inimigos (2012) Petter Naess/imdb.json\n",
        "Apagou -  g:/filmes/2012/Entre o Amor e a Paix\u00e3o (2012) Sarah Polley/imdb.json\n",
        "Apagou -  g:/filmes/2012/Ernest e Celestine (2012) Benjamin Renner, St\u00e9phane Aubiere e Vincent Patar - Anima\u00e7\u00e3o/imdb.json\n",
        "Apagou -  g:/filmes/2012/Errors of the Human Body (2012) Eron Sheean/imdb.json\n",
        "Apagou -  g:/filmes/2012/Esim\u00e9sac (2012) Luc Picard (Canad\u00e1)/imdb.json\n",
        "Apagou -  g:/filmes/2012/Espera a\u00c3\u00ad que j\u00c3\u00a1 Casamos (2012) Nicholas Stoller/imdb.json\n",
        "Apagou -  g:/filmes/2012/Espera a\u00ed que j\u00e1 Casamos (2012) Nicholas Stoller/imdb.json\n",
        "Apagou -  g:/filmes/2012/Esquentando a Rela\u00e7\u00e3o (2012) Jean Garrity/imdb.json\n",
        "Apagou -  g:/filmes/2012/Eu Anna (2012) Barnaby Southcombe/imdb.json\n",
        "Apagou -  g:/filmes/2012/Eu e Voc\u00ea (2012) Bernardo Bertolucci/imdb.json\n",
        "Apagou -  g:/filmes/2012/Excision (2012) Richard Bates Jr/imdb.json\n",
        "Apagou -  g:/filmes/2012/Expurgo (2012) Antti Jokinen/imdb.json\n",
        "Apagou -  g:/filmes/2012/Ferrugem e Osso (2012) Jacques Audiard/imdb.json\n",
        "Apagou -  g:/filmes/2012/Fetih (Conquest) 1453 (2012) Faruk Aksoy/imdb.json\n",
        "Apagou -  g:/filmes/2012/Fim de Semana em Casa (2012) Hans-Christian Schmid/imdb.json\n",
        "Apagou -  g:/filmes/2012/Fintar o Amor (2012) Gabriele Muccino/imdb.json\n",
        "Apagou -  g:/filmes/2012/Fj\u00e4lbackamorden; I Betraktarens \u00d6ga (2012) J\u00f6rgem Bergmark - Su\u00e9cia/imdb.json\n",
        "Apagou -  g:/filmes/2012/Fogo (2012) Yulene Olaizola/imdb.json\n",
        "Apagou -  g:/filmes/2012/Formatura Fantasma (2012) Javier Ruiz Caldera/imdb.json\n",
        "Apagou -  g:/filmes/2012/Foxfire - Confiss\u00f5es de Uma Gangue de Garotas (2012) Laurent Cantet/imdb.json\n",
        "Apagou -  g:/filmes/2012/Frances Ha (2012) Noah Baum Bach/imdb.json\n",
        "Apagou -  g:/filmes/2012/Frauensee (2012) Zoltan Paul - Alemanha/imdb.json\n",
        "Apagou -  g:/filmes/2012/Fuga do Tibet (2012) Maria Blumencron/imdb.json\n",
        "Apagou -  g:/filmes/2012/Fun Size (2012)/imdb.json\n",
        "Apagou - "
       ]
      },
      {
       "output_type": "stream",
       "stream": "stdout",
       "text": [
        " g:/filmes/2012/Funeral Kings (2012) Kevin McManus e Matthew McManus/imdb.json\n",
        "Apagou -  g:/filmes/2012/Ginger e Rosa (2012) Sally Potter/imdb.json\n",
        "Apagou -  g:/filmes/2012/Girl in Progress (2012) Patricia Riggen/imdb.json\n",
        "Apagou -  g:/filmes/2012/Gnade (2012) Matthias Glasner/imdb.json\n",
        "Apagou -  g:/filmes/2012/Grandes Experan\u00e7as (2012) Mike Newell/imdb.json\n",
        "Apagou -  g:/filmes/2012/Hannah Arendt (2012) Margarethe Von Trotta/imdb.json\n",
        "Apagou -  g:/filmes/2012/Havana 57 (2012) Heidi Jim Purdy/imdb.json\n",
        "Apagou -  g:/filmes/2012/Hemingway and Gellhorn (2012) Philip Kaufman/imdb.json\n",
        "Apagou -  g:/filmes/2012/Hirokin o \u00daltimo Samurai (2012) Alejo Mo-Sun/imdb.json\n",
        "Apagou -  g:/filmes/2012/Hitchcock (2012) Sacha Gervasi/imdb.json\n",
        "Apagou -  g:/filmes/2012/IDA Identidade An\u00f4nima (2012) Christian E. Christiansen/imdb.json\n",
        "Apagou -  g:/filmes/2012/Imaginaerum (2012) Stobe Harju/imdb.json\n",
        "Apagou -  g:/filmes/2012/Imperador (2012) Peter Webber/imdb.json\n",
        "Apagou -  g:/filmes/2012/Inch'Allah (2012) Anais Barbeau-Lavalette/imdb.json\n",
        "Apagou -  g:/filmes/2012/Incompat\u00edveis e N\u00e3o S\u00f3... (2012) David Charhon/imdb.json\n",
        "Apagou -  g:/filmes/2012/Indom\u00e1vel Sonhadora (2012) Behn Zeitlin/imdb.json\n",
        "Apagou -  g:/filmes/2012/Inescapable (2012)/imdb.json\n",
        "Apagou -  g:/filmes/2012/Inquilino Desajeitado (2012) Jonas \u00c5kerlund/imdb.json\n",
        "Apagou -  g:/filmes/2012/Invasor (2012) Daniel Calparsoro - Espanha/imdb.json\n",
        "Apagou -  g:/filmes/2012/Izmena (2012) Kirell Serebrennokov/imdb.json\n",
        "Apagou -  g:/filmes/2012/Jack e Diane (2012) Bradley Rust Gray/imdb.json\n",
        "Apagou -  g:/filmes/2012/Jackie (2012) Antoinette Beumer - Holanda/imdb.json\n",
        "Apagou -  g:/filmes/2012/Jogos de Interesses (2012) Bill Guttentag/imdb.json\n",
        "Apagou -  g:/filmes/2012/Jogos Vorazes (2012) Gary Ross/imdb.json\n",
        "Apagou -  g:/filmes/2012/Kon Tiki (2012) Joachim Ronning e Espen Sandeberg/imdb.json\n",
        "Apagou -  g:/filmes/2012/La Playa (2012) Juan Andr\u00e9s Arango Garcia/imdb.json\n",
        "Apagou -  g:/filmes/2012/Ladr\u00f5es com Estilo (2012) Michael Hoffman/imdb.json\n",
        "Apagou -  g:/filmes/2012/Laurence Anyways (2012) Xavier Dolan/imdb.json\n",
        "Apagou -  g:/filmes/2012/Lay the Favorite (2012) Stephen Frears/imdb.json\n",
        "Apagou -  g:/filmes/2012/Liberal Arts (2012) Josh Radner/imdb.json\n",
        "Apagou -  g:/filmes/2012/Ligados pelo Amor (2012) Josh Boone/imdb.json\n",
        "Apagou -  g:/filmes/2012/Liga\u00e7\u00f5es Perigosas (2012) Jin-Ho Hur/imdb.json\n",
        "Apagou -  g:/filmes/2012/Lincoln (2012) Steven Spielberg/imdb.json\n",
        "Apagou -  g:/filmes/2012/Liv & Ingmar (2012),Dheeraj Akolkar/imdb.json\n",
        "Apagou -  g:/filmes/2012/Lore (2012) Cate Shortland/imdb.json\n",
        "Apagou -  g:/filmes/2012/Louco de Pedra (2012) Charles Matthau/imdb.json\n",
        "Apagou -  g:/filmes/2012/Loucos por Dinheiro (2012) Ramaa Mosley/imdb.json\n",
        "Apagou -  g:/filmes/2012/Loucura (2012) Jeong-woo Park - Cor\u00e9ia do Sul/imdb.json\n",
        "Apagou -  g:/filmes/2012/Mar\u00e9 Negra (2012) John Stockwell/imdb.json\n",
        "Apagou -  g:/filmes/2012/Mate-me (2012) Emily Atef/imdb.json\n",
        "Apagou -  g:/filmes/2012/Mel de Laranjas (2012) Imanol Uribe/imdb.json\n",
        "Apagou -  g:/filmes/2012/Menos que Nada (2012) Carlos Gerbase - Brasil/imdb.json\n",
        "Apagou -  g:/filmes/2012/Mental (2012) P. J. Hogan/imdb.json\n",
        "Apagou -  g:/filmes/2012/Meteora (2012) Spiros Stathoulopoulos - Gr\u00e9cia/imdb.json\n",
        "Apagou -  g:/filmes/2012/Meu Amigo Alem\u00e3o (2012) Jeanine Meerappel/imdb.json\n",
        "Apagou -  g:/filmes/2012/MIB Homens de Petro III (2012) Barry Sonnenfeld/imdb.json\n",
        "Apagou -  g:/filmes/2012/MIB Homens de Preto III (2012) Barry Sonnenfeld/imdb.json\n",
        "Apagou -  g:/filmes/2012/Mince Alors! (2012) Charlotte de Turckheim/imdb.json\n",
        "Apagou -  g:/filmes/2012/Minha Irm\u00e3 (2012) Ursula Meier/imdb.json\n",
        "Apagou -  g:/filmes/2012/Minha Vida Dava Um Filme (2012) Shari Springer Berman e Robert Pulcini/imdb.json\n",
        "Apagou -  g:/filmes/2012/Modus Anomali (2012) Joko Anwar - Terror/imdb.json\n",
        "Apagou -  g:/filmes/2012/Moonrise Kingdom (2012) Wes Anderson/imdb.json\n",
        "Apagou -  g:/filmes/2012/Na Neblina (2012) Sergei Loznitsa/imdb.json\n",
        "Apagou - "
       ]
      },
      {
       "output_type": "stream",
       "stream": "stdout",
       "text": [
        " g:/filmes/2012/Na Sombra (2012)/imdb.json\n",
        "Apagou -  g:/filmes/2012/Na Trilha da Vinganca (2012) David Jacobson/imdb.json\n",
        "Apagou -  g:/filmes/2012/Naked Harbour (2012) Aku Louhimies - Finl\u00e2ndia/imdb.json\n",
        "Apagou -  g:/filmes/2012/No (2012) Pablo Larra\u00edn/imdb.json\n",
        "Apagou -  g:/filmes/2012/Nobody Walks (2012)/imdb.json\n",
        "Apagou -  g:/filmes/2012/O Artista e a Modelo (2012) Fernando Trueba/imdb.json\n",
        "Apagou -  g:/filmes/2012/O Atentado (2012) Ziad Doueiri/imdb.json\n",
        "Apagou -  g:/filmes/2012/O Capital (2012) Costa-Gavras/imdb.json\n",
        "Apagou -  g:/filmes/2012/O Ditador (2012) Larry Charles/imdb.json\n",
        "Apagou -  g:/filmes/2012/O Filho do Outro (2012) Lorraine Levy/imdb.json\n",
        "Apagou -  g:/filmes/2012/O Fim do Amor (2012) Mark webber/imdb.json\n",
        "Apagou -  g:/filmes/2012/O Fundamentalista Relutante (2012) Mira Nair/imdb.json\n",
        "Apagou -  g:/filmes/2012/O Gosto do Dinheiro (2012) Sang-soo Im - Cor\u00e9ia do Sul/imdb.json\n",
        "Apagou -  g:/filmes/2012/O Hipnotista (2012) Lasse Hallstr\u00f6m - Su\u00e9cia/imdb.json\n",
        "Apagou -  g:/filmes/2012/O Hobbit (2012) Peter Jackson/imdb.json\n",
        "Apagou -  g:/filmes/2012/O Homem de Gelo (2012) Ariel Vromen/imdb.json\n",
        "Apagou -  g:/filmes/2012/O Homem que Ri (2012) Jean-Pierre Am\u00e9ris/imdb.json\n",
        "Apagou -  g:/filmes/2012/O Imposs\u00edvel (2012) Juan Antonio Bayona/imdb.json\n",
        "Apagou -  g:/filmes/2012/O Intoc\u00e1vel (2012) Boaz Yakin/imdb.json\n",
        "Apagou -  g:/filmes/2012/O Lado Bom da Vida (2012) David O. Russel/imdb.json\n",
        "Apagou -  g:/filmes/2012/O Legado Bourne (2012) Tony Gilroy/imdb.json\n",
        "Apagou -  g:/filmes/2012/O Mestre (2012) Paul Thomas Anderson/imdb.json\n",
        "Apagou -  g:/filmes/2012/O Quarteto (2012) Dustin Hoffman/imdb.json\n",
        "Apagou -  g:/filmes/2012/O que Richard Fez (2012) Lenny Abrahamson - Irlanda/imdb.json\n",
        "Apagou -  g:/filmes/2012/O Relutante Fundamentalista (2012) Mira Nair/imdb.json\n",
        "Apagou -  g:/filmes/2012/O \u00daltimo Elvis (2012) Armando Bo - Argentina/imdb.json\n",
        "Apagou -  g:/filmes/2012/Oh Boy (2012) Jan Ole Gerster - Alemanha/imdb.json\n",
        "Apagou -  g:/filmes/2012/Olhos de Todos (2012) C\u00e9dric Jimenez/imdb.json\n",
        "Apagou -  g:/filmes/2012/Opera\u00e7\u00e3o Sofia (2012) Isaac Florentine/imdb.json\n",
        "Apagou -  g:/filmes/2012/Os Infratores (2012) John Hilcoat/imdb.json\n",
        "Apagou -  g:/filmes/2012/Os Miser\u00c3\u00a1veis (2012) Tom Hooper/imdb.json\n",
        "Apagou -  g:/filmes/2012/Os Reis do Ver\u00c3\u00a3o (2012) Henry Alex Rubin/imdb.json\n",
        "Apagou -  g:/filmes/2012/Os Sabores do Pal\u00c3\u00a1cio (2012) Christian Vincent - Fran\u00c3\u00a7a/imdb.json\n",
        "Apagou -  g:/filmes/2012/Os Vingadores (2012) Joss Whedon/imdb.json\n",
        "Apagou -  g:/filmes/2012/Ovelha Negra (2012) Christopher Neil/imdb.json\n",
        "Apagou -  g:/filmes/2012/Para\u00c3\u00adso; F\u00c3\u00a9 (2012) Ulrich Seidl/imdb.json\n",
        "Apagou -  g:/filmes/2012/Para\u00c3\u00adsos Artificiais (2012)/imdb.json\n",
        "Apagou -  g:/filmes/2012/Paris-Manhattan (2012)/imdb.json\n",
        "Apagou -  g:/filmes/2012/Passion (2012) Brian de Palma/imdb.json\n",
        "Apagou -  g:/filmes/2012/Paulette (2012) J\u00c3\u00a9r\u00c3\u00b4me Enrico/imdb.json\n",
        "Apagou -  g:/filmes/2012/Pelos Olhos de Maisie (2012) Scott McGehee e David Siegel/imdb.json\n",
        "Apagou -  g:/filmes/2012/Perder a Raz\u00c3\u00a3o (2012) Joachim Lafosse/imdb.json\n",
        "Apagou -  g:/filmes/2012/Piet\u00c3\u00a0 (2012) Kim Ki-duk/imdb.json\n",
        "Apagou -  g:/filmes/2012/Poder Paranormal (2012) Rodrigo Cort\u00c3\u00a9s/imdb.json\n",
        "Apagou -  g:/filmes/2012/Por que Parar Agora (2012) Phil Dorling e Ron Nyswaner/imdb.json\n",
        "Apagou -  g:/filmes/2012/Post Tenebras Lux (2012) Carlos Reygadas/imdb.json\n",
        "Apagou -  g:/filmes/2012/Preenchendo o Vazio (2012) Rama Burshtein/imdb.json\n",
        "Apagou -  g:/filmes/2012/Procurando Sugar Man (2012) Malik Bendjelloul/imdb.json\n",
        "Apagou -  g:/filmes/2012/Professor Peso Pesado (2012)/imdb.json\n",
        "Apagou -  g:/filmes/2012/Prometheus (2012) Ridley Scott/imdb.json\n",
        "Apagou -  g:/filmes/2012/Pura Adrenalina (2012) Fr\u00c3\u00a9d\u00c3\u00a9ric Jardin/imdb.json\n",
        "Apagou -  g:/filmes/2012/P\u00c3\u00a3o de Felicidade (2012) Yukiko Mishima (Jap\u00c3\u00a3o)/imdb.json\n",
        "Apagou -  g:/filmes/2012/Qual o Nome do Beb\u00c3\u00aa (2012) Alexandre de La Patelli\u00c3\u00a8re e Marttihiev Delaporte/imdb.json\n",
        "Apagou -  g:/filmes/2012/Quarto 237 (2012) Rodney Ascher/imdb.json\n",
        "Apagou -  g:/filmes/2012/Querido Companheiro (2012) Lawrence Kasdan/imdb.json\n",
        "Apagou -  g:/filmes/2012/Reality (2012) Matteo Garrone/imdb.json\n",
        "Apagou -  g:/filmes/2012/Renoir (2012) Giles Bourdos - Fran\u00c3\u00a7a/imdb.json\n",
        "Apagou -  g:/filmes/2012/Ressaca de Ver\u00c3\u00a3o (2012) Harmony Korine/imdb.json\n",
        "Apagou -  g:/filmes/2012/Robot and Frank (2012)/imdb.json\n",
        "Apagou -  g:/filmes/2012/Rock Brasilia - Era de Ouro (2012) Vladimir Carvalho/imdb.json\n",
        "Apagou -  g:/filmes/2012/Rom\u00c3\u00a2nticos An\u00c3\u00b4nimos (2012) Jean-Pierre Am\u00c3\u00a9ris/imdb.json\n",
        "Apagou -  g:/filmes/2012/Ruby Sparks; A Namorada Perfeita (2012) Jonathan Dayton e Valerie Faris/imdb.json\n",
        "Apagou -  g:/filmes/2012/Santos e Soldados - Miss\u00c3\u00a3o Berlim (2012) Ryan Little/imdb.json\n",
        "Apagou -  g:/filmes/2012/Sem Destino (2012) Mark Mann/imdb.json\n",
        "Apagou -  g:/filmes/2012/Sem Prote\u00c3\u00a7\u00c3\u00a3o (2012) Robert Redford/imdb.json\n",
        "Apagou -  g:/filmes/2012/Sem Seguran\u00c3\u00a7a Nenhuma (2012)/imdb.json\n",
        "Apagou - "
       ]
      },
      {
       "output_type": "stream",
       "stream": "stdout",
       "text": [
        " g:/filmes/2012/Senhores e Senhoras - Corte Final (2012) Gy\u00f6rgy P\u00e1lfi/imdb.json\n",
        "Apagou -  g:/filmes/2012/Shadow Dancer (2012) James Marsh/imdb.json\n",
        "Apagou -  g:/filmes/2012/Shell (2012) Scott Graham (Esc\u00c3\u00b3cia)/imdb.json\n",
        "Apagou -  g:/filmes/2012/Skytten (2012) Annette K. Olesen - Dinamarca/imdb.json\n",
        "Apagou -  g:/filmes/2012/Smashed (2012)/imdb.json\n",
        "Apagou -  g:/filmes/2012/Soldado Peacefull (2012) Pat O'Connor/imdb.json\n",
        "Apagou -  g:/filmes/2012/Sombras da Noite (2012) Tim Burton/imdb.json\n",
        "Apagou -  g:/filmes/2012/Sou Louco por Voc\u00c3\u00aa (2012) Fernando Gonz\u00c3\u00a1les Molina/imdb.json\n",
        "Apagou -  g:/filmes/2012/Starlet (2012) Sean Baker/imdb.json\n",
        "Apagou -  g:/filmes/2012/Stolen (2012) Simon West/imdb.json\n",
        "Apagou -  g:/filmes/2012/Struck by Lightning (2012) Brian Dannelly/imdb.json\n",
        "Apagou -  g:/filmes/2012/Tai Chi Hero (2012) Stephen Fung - China/imdb.json\n",
        "Apagou -  g:/filmes/2012/Tepenin Ardi (2012) Emir Alper -Turquia/imdb.json\n",
        "Apagou -  g:/filmes/2012/Terra Prometida (2012) Gus Van Sant/imdb.json\n",
        "Apagou -  g:/filmes/2012/The Child (2012) Zsolt B\u00c3\u00a1cs/imdb.json\n",
        "Apagou -  g:/filmes/2012/The Dark Knight Rises (2012) Christopher Nolan/imdb.json\n",
        "Apagou -  g:/filmes/2012/The Factory (2012) Morgan O'Neill/imdb.json\n",
        "Apagou -  g:/filmes/2012/The Lesser Blessed (2012) Anita Doron/imdb.json\n",
        "Apagou -  g:/filmes/2012/The Mooring (2012) Glen Withrow/imdb.json\n",
        "Apagou -  g:/filmes/2012/The Motel Life (2012) Alan Polsky e Gabe Polsky/imdb.json\n",
        "Apagou -  g:/filmes/2012/The Paperboy (2012) Lee Daniels/imdb.json\n",
        "Apagou -  g:/filmes/2012/The Third Half (2012) Darko Mitrevski/imdb.json\n",
        "Apagou -  g:/filmes/2012/Th\u00c3\u00a9r\u00c3\u00a8se D. (2012) Claude Miller/imdb.json\n",
        "Apagou -  g:/filmes/2012/Tiros Garotas e Trapa\u00e7as (2012) Michael Winnick/imdb.json\n",
        "Apagou -  g:/filmes/2012/To The Arctic (2012) Greg Macgillivray - Document\u00c3\u00a1rio/imdb.json\n",
        "Apagou -  g:/filmes/2012/Todos os Super-Her\u00c3\u00b3is Devem Morrer (2012)/imdb.json\n",
        "Apagou -  g:/filmes/2012/Todos Tenemos un Plan (2012) Ana Piterbag/imdb.json\n",
        "Apagou -  g:/filmes/2012/Tragam a Cabe\u00c3\u00a7a da Mulher Metralhadora (2012) Ernesto Diaz - Espanha/imdb.json\n",
        "Apagou -  g:/filmes/2012/Treto Poluvreme (2012) Darko Mitrevski/imdb.json\n",
        "Apagou -  g:/filmes/2012/Tudo por um Sonho (2012)/imdb.json\n",
        "Apagou -  g:/filmes/2012/Tudo que Importa \u00c3\u00a9 o Passado (2012) Sara Johsen/imdb.json\n",
        "Apagou -  g:/filmes/2012/Um Algu\u00c3\u00a9m Apaixonado (2012) Abbas Kiarostami/imdb.json\n",
        "Apagou -  g:/filmes/2012/Um Dia Especial (2012) Francesca Comencini/imdb.json\n",
        "Apagou -  g:/filmes/2012/Um Homem com Sorte (2012) Scott Hicks/imdb.json\n",
        "Apagou -  g:/filmes/2012/Um Homem de Fam\u00c3\u00adlia (2012) Ariel Vromen/imdb.json\n",
        "Apagou -  g:/filmes/2012/Um Jogo de Mestres (2012) Frank Harper/imdb.json\n",
        "Apagou -  g:/filmes/2012/Uma Boa A\u00c3\u00a7\u00c3\u00a3o (2012) Tyler Perry/imdb.json\n",
        "Apagou -  g:/filmes/2012/Uma Boa Dose de Sexo (2012) Stuart Blumberg/imdb.json\n",
        "Apagou -  g:/filmes/2012/Uma Dama em Paris (2012) Ilmar Raag/imdb.json\n",
        "Apagou -  g:/filmes/2012/Uma Primavera com Minha M\u00e3e (2012) St\u00e9phane Briz\u00e9/imdb.json\n",
        "Apagou -  g:/filmes/2012/Vares - Pimeyden Tango (2012) Lauri T\u00c3\u00b6rh\u00c3\u00b6nen - Finl\u00c3\u00a2ndia/imdb.json\n",
        "Apagou -  g:/filmes/2012/Venuto Al Mondo (2012) S\u00c3\u00a9rgio Castellitto/imdb.json\n",
        "Apagou -  g:/filmes/2012/Viagem de Finalistas (2012) Harmony Korine/imdb.json\n",
        "Apagou -  g:/filmes/2012/Voc\u00eas Ainda N\u00e3o Viram Nada! (2012) Alain Resnais/imdb.json\n",
        "Apagou -  g:/filmes/2012/Wasteland (2012) Rowan Athale/imdb.json\n",
        "Apagou -  g:/filmes/2012/Westerland (2012) Tim Staffel - Alemanha/imdb.json\n",
        "Apagou -  g:/filmes/2012/White Frog (2012) Quentin Lee/imdb.json\n",
        "Apagou -  g:/filmes/2012/Wrong (2012) Quentin Duprex/imdb.json\n",
        "Apagou -  g:/filmes/2012/Xingu (2012) Cao Hamburger/imdb.json\n",
        "Apagou -  g:/filmes/2012/Zambezia (2012) Wayne Thornley - Anima\u00c3\u00a7\u00c3\u00a3o/imdb.json\n",
        "Apagou -  g:/filmes/2012/Zarafa (2012) R\u00c3\u00a9mi Bezan\u00c3\u00a7on e Jean-Christophelie - Anima\u00c3\u00a7\u00c3\u00a3o/imdb.json\n",
        "Apagou -  g:/filmes/2013/10 Rules for Sleeping Around (2013) Leslie Greif/imdb.json\n",
        "Apagou -  g:/filmes/2013/12 Anos de Escravid\u00e3o (2013) Steve McQueen/imdb.json\n",
        "Apagou - "
       ]
      },
      {
       "output_type": "stream",
       "stream": "stdout",
       "text": [
        " g:/filmes/2013/15 Anos e Um Dia (2013) Gracia Querejeta - Espanha/imdb.json\n",
        "Apagou -  g:/filmes/2013/1\u00ba Marius (2013) Daniel Auteuil/imdb.json\n",
        "Apagou -  g:/filmes/2013/20 Anos mais Jovem (2013) David Moreau/imdb.json\n",
        "Apagou -  g:/filmes/2013/2\u00ba Fanny (2013) Daniel Auteuil/imdb.json\n",
        "Apagou -  g:/filmes/2013/30 Nights Of Paranormal Activity With The Devil Inside The Girl With The Dragon Tattoo (2013) Craig Moss/imdb.json\n",
        "Apagou -  g:/filmes/2013/3096 Dias (2013) Sherry Hormann - Alemanha/imdb.json\n",
        "Apagou -  g:/filmes/2013/42 (2013) Brian Helgeland/imdb.json\n",
        "Apagou -  g:/filmes/2013/47 Ronin (2013) Carl Rinsch/imdb.json\n",
        "Apagou -  g:/filmes/2013/A  Hospedeira (2013) Andrew Niccol/imdb.json\n",
        "Apagou -  g:/filmes/2013/A Arte de Amar (2013) Emmanuel Mouret/imdb.json\n",
        "Apagou -  g:/filmes/2013/A Arte do Roubo (2013) Jonathan Sobol/imdb.json\n",
        "Apagou -  g:/filmes/2013/A Ca\u00e7a (2013) Damian Lee/imdb.json\n",
        "Apagou -  g:/filmes/2013/A Col\u00f4nia (2013)  Jeff Renfroe/imdb.json\n",
        "Apagou -  g:/filmes/2013/A Espuma dos Dias (2013) Michel Gondry/imdb.json\n",
        "Apagou -  g:/filmes/2013/A Fam\u00edlia (2013) Luc Besson/imdb.json\n",
        "Apagou -  g:/filmes/2013/A Gaiola Dourada (2013) Ruben Alves/imdb.json\n",
        "Apagou -  g:/filmes/2013/A Garota (2013) Julian Jarrold/imdb.json\n",
        "Apagou -  g:/filmes/2013/A Garota das Nove Perucas (2013) Marc Rothemund/imdb.json\n",
        "Apagou -  g:/filmes/2013/A Grande Beleza (2013) Paolo Sorrentino - It\u00e1lia/imdb.json\n",
        "Apagou -  g:/filmes/2013/A Grande Fam\u00edlia Espanhola (2013) Daniel S\u00e1nchez Ar\u00e9valo - Espanha/imdb.json\n",
        "Apagou -  g:/filmes/2013/A Imagem que Falta (2013) Rathy Pan/imdb.json\n",
        "Apagou -  g:/filmes/2013/A Melhor Oferta (2013) Giuseppe Tornatore/imdb.json\n",
        "Apagou -  g:/filmes/2013/A Menina que Roubava Livros (2013) Brian Percival/imdb.json\n",
        "Apagou -  g:/filmes/2013/A Montanha Matterhorn (2013) Diederik Ebbinge/imdb.json\n",
        "Apagou -  g:/filmes/2013/A Pele de V\u00eanus (2013) Roman Polanski/imdb.json\n",
        "Apagou -  g:/filmes/2013/A Procura do Amor (2013) Nicole Holofcener/imdb.json\n",
        "Apagou -  g:/filmes/2013/A Recompensa (2013) Richard Shepard/imdb.json\n",
        "Apagou -  g:/filmes/2013/A Religiosa (2013) Guillaume Nicloux/imdb.json\n",
        "Apagou -  g:/filmes/2013/A Salva-Vidas (2013) Liz W. Garcia/imdb.json\n",
        "Apagou -  g:/filmes/2013/A Sele\u00e7\u00e3o (2013) Paul Weitz/imdb.json\n",
        "Apagou -  g:/filmes/2013/A Single Shot (2013) David M. Rosenthal/imdb.json\n",
        "Apagou -  g:/filmes/2013/A Thousand Times Good Night (2013) Erik Poppe/imdb.json\n",
        "Apagou -  g:/filmes/2013/A Vida Secreta de Walter Mitty (2013) Ben Stiller/imdb.json\n",
        "Apagou -  g:/filmes/2013/A Voz de Uma Gera\u00e7\u00e3o (2013) Lake Bell/imdb.json\n",
        "Apagou -  g:/filmes/2013/Aben\u00e7oa-me \u00daltima - A Curandeira (2013) Carl Franklin/imdb.json\n",
        "Apagou -  g:/filmes/2013/Ador\u00e1vel Professora (2013) Craig Zisk/imdb.json\n",
        "Apagou -  g:/filmes/2013/Agora Fico Bem (2013) Ol Parker/imdb.json\n",
        "Apagou -  g:/filmes/2013/Ain't Them Bodies Saints (2013)/imdb.json\n",
        "Apagou -  g:/filmes/2013/Ajuste de Contas (2013) Peter Segal/imdb.json\n",
        "Apagou -  g:/filmes/2013/Amor sem Pecado (2013) Anne Fontaine/imdb.json\n",
        "Apagou -  g:/filmes/2013/Angie (2013) M\u00e1rcio Garcia/imdb.json\n",
        "Apagou -  g:/filmes/2013/Anna (2013) Jorge Dorado/imdb.json\n",
        "Apagou -  g:/filmes/2013/Antes da Meia-Noite (2013) Richard Linklater/imdb.json\n",
        "Apagou -  g:/filmes/2013/Antes do Inverno (2013) Philippe Claudel - Fran\u00e7a/imdb.json\n",
        "Apagou -  g:/filmes/2013/Apagar Hist\u00f3rico (2013) Greg Mottola/imdb.json\n",
        "Apagou -  g:/filmes/2013/Apenas um Suspiro (2013) J\u00e9r\u00f4me Bonnell/imdb.json\n",
        "Apagou -  g:/filmes/2013/Aposta M\u00e1xima (2013) Brad Furman/imdb.json\n",
        "Apagou -  g:/filmes/2013/Armistice (2013) Luke Massey/imdb.json\n",
        "Apagou -  g:/filmes/2013/As Bem Armadas (2013) Paul Feig/imdb.json\n",
        "Apagou -  g:/filmes/2013/As Cool As I Am (2013) Max Mayer/imdb.json\n",
        "Apagou -  g:/filmes/2013/As Del\u00edcias da Tarde (2013) Jill Soloway/imdb.json\n",
        "Apagou -  g:/filmes/2013/Assalto \u00e0 Casa Branca (2013) Antoine Fuqua/imdb.json\n",
        "Apagou - "
       ]
      },
      {
       "output_type": "stream",
       "stream": "stdout",
       "text": [
        " g:/filmes/2013/Attila Marcel (2013) Sylvain Chomet/imdb.json\n",
        "Apagou -  g:/filmes/2013/August Osage County (2013)/imdb.json\n",
        "Apagou -  g:/filmes/2013/Austenland (2013) Jerusha Hess/imdb.json\n",
        "Apagou -  g:/filmes/2013/Bastardos (2013) Claire Denis/imdb.json\n",
        "Apagou -  g:/filmes/2013/Blaze You Out (2013) Mateo Frazier e Diego Joaquin Lopez/imdb.json\n",
        "Apagou -  g:/filmes/2013/Blue Jasmine (2013) Woody Allen/imdb.json\n",
        "Apagou -  g:/filmes/2013/Bons pra Cachorro (2013) Geoff Anderson/imdb.json\n",
        "Apagou -  g:/filmes/2013/Breathe In (2013) Drake Doremus/imdb.json\n",
        "Apagou -  g:/filmes/2013/Camille Claudel, 1915 (2013) Bruno Dumont/imdb.json\n",
        "Apagou -  g:/filmes/2013/Cavemen (2013) Herschel Faber/imdb.json\n",
        "Apagou -  g:/filmes/2013/CBGB (2013) Randall Miller/imdb.json\n",
        "Apagou -  g:/filmes/2013/Chamada de Emerg\u00eancia (2013) Brad Anderson/imdb.json\n",
        "Apagou -  g:/filmes/2013/Chevrolet Azul (2013) Alexandre Moors/imdb.json\n",
        "Apagou -  g:/filmes/2013/Child's Pose (2013) Calin Peter Netzer - Rom\u00eania/imdb.json\n",
        "Apagou -  g:/filmes/2013/Cidade Dividida (2013) Allen Hughes/imdb.json\n",
        "Apagou -  g:/filmes/2013/Circles (2013) Srdan Golubovic/imdb.json\n",
        "Apagou -  g:/filmes/2013/Clube de Compras Dallas (2013) Jean-Marc Vall\u00e9e/imdb.json\n",
        "Apagou -  g:/filmes/2013/Combust\u00e3o (2013) Daniel Calparsoro (Espanha)/imdb.json\n",
        "Apagou -  g:/filmes/2013/Como N\u00e3o Perder essa Mulher (2013) Joseph Gordon-Levitt/imdb.json\n",
        "Apagou -  g:/filmes/2013/Compulsion (2013) Eg\u00eddio Coccimiglio/imdb.json\n",
        "Apagou -  g:/filmes/2013/Com\u00e9dia InAPPr\u00f3priada (2013) Vince Offer/imdb.json\n",
        "Apagou -  g:/filmes/2013/Concussion (2013) Stacie Passon/imdb.json\n",
        "Apagou -  g:/filmes/2013/Contagem Regressiva (2013) Eric Heisserer/imdb.json\n",
        "Apagou -  g:/filmes/2013/Cora\u00e7\u00e3o de Le\u00e3o (2013) Stefano Milla/imdb.json\n",
        "Apagou -  g:/filmes/2013/Cutie and the Boxer (2013) Zachary Heinzerling/imdb.json\n",
        "Apagou - "
       ]
      },
      {
       "output_type": "stream",
       "stream": "stdout",
       "text": [
        " g:/filmes/2013/C\u00edrculo de Fogo (2013) Guillermo Del Toro/imdb.json\n",
        "Apagou -  g:/filmes/2013/C\u00f3digo da M\u00e1fia (2013) Kader Ayd/imdb.json\n",
        "Apagou -  g:/filmes/2013/C\u00f3digos de Defesa (2013) Kasper Barfoed/imdb.json\n",
        "Apagou -  g:/filmes/2013/Daglicht (2013) Diederik Van Rooijen - Holanda/imdb.json\n",
        "Apagou -  g:/filmes/2013/De Repente Pai (2013) Ken Scott/imdb.json\n",
        "Apagou -  g:/filmes/2013/Depois da Terra (2013) M. Night Shyamalan/imdb.json\n",
        "Apagou -  g:/filmes/2013/Dezesseis Luas (2013) Richard Lagravenese/imdb.json\n",
        "Apagou -  g:/filmes/2013/Diana (2013)/imdb.json\n",
        "Apagou -  g:/filmes/2013/Dose Dupla (2013) Baltasar Korm\u00e1kur/imdb.json\n",
        "Apagou -  g:/filmes/2013/Dragon Lore Curse of the Shadow (2013) John Lyde/imdb.json\n",
        "Apagou -  g:/filmes/2013/Drinking Buddies (2013) Joe Swanberg/imdb.json\n",
        "Apagou -  g:/filmes/2013/Duro de Matar 5 - Um Bom Dia para Morrer (2013) John Moore/imdb.json\n",
        "Apagou -  g:/filmes/2013/Educa\u00e7\u00e3o Siberiana (2013) Gabriele Salvatores/imdb.json\n",
        "Apagou -  g:/filmes/2013/Ego (2013) Lisa James-Larsson - Su\u00e9cia/imdb.json\n",
        "Apagou -  g:/filmes/2013/Ela - Uma Hist\u00f3ria de Amor (2013) Spike Jonze/imdb.json\n",
        "Apagou -  g:/filmes/2013/Elysium (2013) Neill Blomkamp/imdb.json\n",
        "Apagou -  g:/filmes/2013/Em Nome de ... (2013) Malgorzata Szumowska - Pol\u00f4nia/imdb.json\n",
        "Apagou -  g:/filmes/2013/Em Segredo (2013) Charlie Stratton/imdb.json\n",
        "Apagou -  g:/filmes/2013/Em Servi\u00e7o (2013) Erik Matti - Filipinas/imdb.json\n",
        "Apagou -  g:/filmes/2013/Empire State (2013) Dito Montiel/imdb.json\n",
        "Apagou -  g:/filmes/2013/Empire State (2013) Dito Montiez/imdb.json\n",
        "Apagou -  g:/filmes/2013/Encruzilhada (2013) David Marconi/imdb.json\n",
        "Apagou -  g:/filmes/2013/Europa Report (2013) Sebasti\u00e1n Cordero/imdb.json\n",
        "Apagou -  g:/filmes/2013/Expresso do Amanh\u00e3 (2013) Joon-ho Bong - Cor\u00e9ia do Sul/imdb.json\n",
        "Apagou -  g:/filmes/2013/Fam\u00edlia do Bagulho (2013) Rawson Marshall Thurber/imdb.json\n",
        "Apagou -  g:/filmes/2013/Faro (2013) Fredrik Edfeldt/imdb.json\n",
        "Apagou -  g:/filmes/2013/Filha de Ningu\u00e9m (2013) Hon Sang-soo (Cor\u00e9ia do Sul)/imdb.json\n",
        "Apagou -  g:/filmes/2013/Filho de Caim (2013) Jes\u00fas Monlla\u00f3 Plana - Espanha/imdb.json\n",
        "Apagou -  g:/filmes/2013/Filhos do Div\u00f3rcio (2013) Stu Zicherman/imdb.json\n",
        "Apagou -  g:/filmes/2013/Final de Semana em Fam\u00edlia (2013) Benjamin Epps/imdb.json\n",
        "Apagou -  g:/filmes/2013/Fj\u00e4llbackamorden; Strandridaren (2013) Richard Petrelius - Su\u00e9cia/imdb.json\n",
        "Apagou -  g:/filmes/2013/Flores Raras (2013) Bruno Barreto/imdb.json\n",
        "Apagou -  g:/filmes/2013/Forbidden Ground (2013) Johan Earl e Adrian Power/imdb.json\n",
        "Apagou -  g:/filmes/2013/Free Ride (2013) Shana Betz/imdb.json\n",
        "Apagou -  g:/filmes/2013/Fruitvale Station - A \u00daltima Parada (2013) Ryan Coogler/imdb.json\n",
        "Apagou -  g:/filmes/2013/Fuga (2013) Roar Uthaug - Noruega/imdb.json\n",
        "Apagou -  g:/filmes/2013/Fuga do Planeta Terra (2013) Carl Brunker - Anima\u00e7\u00e3o/imdb.json\n",
        "Apagou -  g:/filmes/2013/G.I. Joe Retaliation (2013)/imdb.json\n",
        "Apagou -  g:/filmes/2013/Gabrielle (2013) Louise Archambault/imdb.json\n",
        "Apagou -  g:/filmes/2013/Gaten Ragnarok (2013) Mikkel Braenne - Noruega/imdb.json\n",
        "Apagou -  g:/filmes/2013/Gente Grande 2 (2013) Dennis Dugan/imdb.json\n",
        "Apagou -  g:/filmes/2013/Gingerdead Man Vs. Evil Bong (2013) Charles Band/imdb.json\n",
        "Apagou -  g:/filmes/2013/Gloria (2013) Sebasti\u00e1n Lelio/imdb.json\n",
        "Apagou -  g:/filmes/2013/Grand Central (2013) Rebecca Zlotowski/imdb.json\n",
        "Apagou -  g:/filmes/2013/Gravidade (2013) Alfonso Cuar\u00f3n/imdb.json\n",
        "Apagou -  g:/filmes/2013/Guardi\u00f5es do C\u00e9u (2013) Christopher-Lee dos Santos - \u00c1frica do Sul/imdb.json\n",
        "Apagou -  g:/filmes/2013/Guerra Mundial Z (2013) Marc Forster/imdb.json\n",
        "Apagou -  g:/filmes/2013/Hawaii (2013) Marco Berger - Argentina/imdb.json\n",
        "Apagou -  g:/filmes/2013/Homem de Ferro 3 (2013) Shane Black/imdb.json\n",
        "Apagou -  g:/filmes/2013/How I Live Now (2013) Kevin MacDonald/imdb.json\n",
        "Apagou -  g:/filmes/2013/Ilo Ilo (2013) Anthony Chen/imdb.json\n",
        "Apagou -  g:/filmes/2013/Inatividade Paranormal (2013) Michael Tiddes/imdb.json\n",
        "Apagou -  g:/filmes/2013/Infiltrado (2013) Ric RomanWaugh/imdb.json\n",
        "Apagou -  g:/filmes/2013/Inimigos de Sangue (2013) Eran Creevy/imdb.json\n",
        "Apagou -  g:/filmes/2013/Inside Llewyn Davis - Balada de um Homem Comum (2013) Ethan e Joel Cohen/imdb.json\n",
        "Apagou -  g:/filmes/2013/Jack O Ca\u00e7ador de Gigantes (2013) BryanSinger/imdb.json\n",
        "Apagou -  g:/filmes/2013/Jag Etter Vind (2013) Rune Denstad Lanelo - Noruega/imdb.json\n",
        "Apagou -  g:/filmes/2013/JFK A Hist\u00f3ria N\u00e3o Contada (2013) Peter Landesman/imdb.json\n",
        "Apagou -  g:/filmes/2013/Jimmy P. (2013) Arnaud Desplechin/imdb.json\n",
        "Apagou -  g:/filmes/2013/Jobs (2013) Joshua Michael Stern/imdb.json\n",
        "Apagou -  g:/filmes/2013/Jovem e Bela (2013) Fran\u00e7ois Ozon/imdb.json\n",
        "Apagou -  g:/filmes/2013/Jo\u00e3o e Maria - Ca\u00e7adores de Bruxas (2013) Tommy Wirkola/imdb.json\n",
        "Apagou -  g:/filmes/2013/Kick-Ass 2 Balls To The Wall (2013) Jeff Wadlow/imdb.json\n",
        "Apagou -  g:/filmes/2013/Knights of Badassdom (2013) Joe Lynch/imdb.json\n",
        "Apagou - "
       ]
      },
      {
       "output_type": "stream",
       "stream": "stdout",
       "text": [
        " g:/filmes/2013/Kyss Meg For Faen I Helvete (2013) Stian Kristiansen - Noruega/imdb.json\n",
        "Apagou -  g:/filmes/2013/La Jaula de Oro (2013) Diego Quemada-Diez/imdb.json\n",
        "Apagou -  g:/filmes/2013/La\u00e7os de Sangue (2013) Guillaume Canet/imdb.json\n",
        "Apagou -  g:/filmes/2013/Life of a King (2013) Jake Goldberger/imdb.json\n",
        "Apagou -  g:/filmes/2013/Linha de Frente (2013) Gary Fleder/imdb.json\n",
        "Apagou -  g:/filmes/2013/Lootera (2013) Vikramaditya Motwane - \u00cdndia/imdb.json\n",
        "Apagou -  g:/filmes/2013/Lovelace (2013) Rob Epstein e Jeffrey Fridman/imdb.json\n",
        "Apagou -  g:/filmes/2013/Machete Mata (2013) Robert Rodriguez/imdb.json\n",
        "Apagou -  g:/filmes/2013/Man of Tai Chi (2013) Keanu Reeves/imdb.json\n",
        "Apagou -  g:/filmes/2013/Mandela - Longo Caminho para a Liberdade (2013) Justin Chadwick/imdb.json\n",
        "Apagou -  g:/filmes/2013/Martelo de Deus (2013) Farren Blackburn/imdb.json\n",
        "Apagou -  g:/filmes/2013/Mergulhando Fundo (2013) Bet Nott e Morgan O'Neill - Austr\u00e1lia/imdb.json\n",
        "Apagou -  g:/filmes/2013/Mergulho Profundo (2013) Erik Skjoldbjaerg - Noruega/imdb.json\n",
        "Apagou -  g:/filmes/2013/Metro Manila (2013) Sean Ellis/imdb.json\n",
        "Apagou -  g:/filmes/2013/Meu Malvado Favorito 2 (2013) Pierre Coffin e Chris Renaud - Anima\u00e7\u00e3o/imdb.json\n",
        "Apagou -  g:/filmes/2013/Meu Namorado \u00c9 um Zumbi (2013) Jonathan Levine/imdb.json\n",
        "Apagou -  g:/filmes/2013/Minha Desconhecida Fama (2013) Michael Urie/imdb.json\n",
        "Apagou -  g:/filmes/2013/Moebius (2013) Kim Ki-duk/imdb.json\n",
        "Apagou -  g:/filmes/2013/Muhammad Ali's Greatest Fight (2013) Stephen Frears/imdb.json\n",
        "Apagou -  g:/filmes/2013/M\u00f6bius - La\u00e7o Mortal (2013) Eric Rochant/imdb.json\n",
        "Apagou -  g:/filmes/2013/Ninfoman\u00edaca (2013) Volume I (2013) Lars Von Trier/imdb.json\n",
        "Apagou -  g:/filmes/2013/Ninfoman\u00edaca (2013) Volume II (2013) Lars Von Trier/imdb.json\n",
        "Apagou -  g:/filmes/2013/Noivos por Acaso (2013) John Burges/imdb.json\n",
        "Apagou -  g:/filmes/2013/Nordvest (2013) Michael Noer - Dinamarca/imdb.json\n",
        "Apagou -  g:/filmes/2013/N\u00f3s Somos os Melhores (2013) Lucas Moodysson/imdb.json\n",
        "Apagou -  g:/filmes/2013/O Assassino do Alasca (2013) Scott Walker/imdb.json\n",
        "Apagou -  g:/filmes/2013/O Ataque (2013) Roland Emmerich/imdb.json\n",
        "Apagou -  g:/filmes/2013/O Conselheiro do Crime (2013) Ridley Scott/imdb.json\n",
        "Apagou -  g:/filmes/2013/O Di\u00e1rio de Uma Virgem (2013) Maggie Carey/imdb.json\n",
        "Apagou -  g:/filmes/2013/O Enigma Chin\u00eas (2013) C\u00e9dric Klapisch/imdb.json\n",
        "Apagou -  g:/filmes/2013/O Fim do Mundo (2013) Edgar Wright/imdb.json\n",
        "Apagou -  g:/filmes/2013/O Futuro (2013) Alicia Scherson/imdb.json\n",
        "Apagou -  g:/filmes/2013/O Grande Gatsby (2013) Baz Luhrmann/imdb.json\n",
        "Apagou -  g:/filmes/2013/O Grande Her\u00f3i (2013) Peter Berg/imdb.json\n",
        "Apagou -  g:/filmes/2013/O Herdeiro do Diabo (2013) Bernard Rose/imdb.json\n",
        "Apagou -  g:/filmes/2013/O Hobbit - A Desola\u00e7\u00e3o de Smaug (2013) Peter Jackson/imdb.json\n",
        "Apagou -  g:/filmes/2013/O Homem de A\u00e7o (2013) Zack Snyder/imdb.json\n",
        "Apagou -  g:/filmes/2013/O Homem Duplicado (2013) Denis Villeneuve/imdb.json\n",
        "Apagou -  g:/filmes/2013/O Jogo Final (2013) Gavin Hood/imdb.json\n",
        "Apagou -  g:/filmes/2013/O Jogo Mortal (2013) George Isaac/imdb.json\n",
        "Apagou -  g:/filmes/2013/O Lobo de Wall Street (2013) Martin Scorsese/imdb.json\n",
        "Apagou -  g:/filmes/2013/O Mordomo da Casa Branca (2013) Lee Daniels/imdb.json\n",
        "Apagou -  g:/filmes/2013/O M\u00e9dico (2013) Philipp St\u00f6lzs - Alemanha/imdb.json\n",
        "Apagou -  g:/filmes/2013/O M\u00e9dico Alem\u00e3o (2013) Lucia Puenzo - Argentina/imdb.json\n",
        "Apagou -  g:/filmes/2013/O Nosso Segredo (2013) Ralph Fiennes/imdb.json\n",
        "Apagou -  g:/filmes/2013/O Passado (2013) Asghar Farhadi/imdb.json\n",
        "Apagou -  g:/filmes/2013/O Quinto Poder (2013) Bill Condon/imdb.json\n",
        "Apagou -  g:/filmes/2013/O Sistema (2013) Zal Batmanglij/imdb.json\n",
        "Apagou -  g:/filmes/2013/O \u00daltimo Amor de Mr. Morgan (2013) Sandra Nettelbech/imdb.json\n",
        "Apagou -  g:/filmes/2013/O \u00daltimo Desafio (2013) Jee-woon Kim/imdb.json\n",
        "Apagou -  g:/filmes/2013/Oblivion (2013) Joseph Kosinski/imdb.json\n",
        "Apagou -  g:/filmes/2013/Obsess\u00e3o Perigosa (2013) Josh C. Waller/imdb.json\n",
        "Apagou -  g:/filmes/2013/Odd Thomas (2013) Stephen Sommer/imdb.json\n",
        "Apagou -  g:/filmes/2013/Olhos Frios (2013) Ui-seok Jo e Byung-seo Kim - Cor\u00e9ia do Sul/imdb.json\n",
        "Apagou -  g:/filmes/2013/Open Grave (2013) Gonzalo L\u00f3pez-Gallego/imdb.json\n",
        "Apagou -  g:/filmes/2013/Os Amantes Passageiros (2013) Pedro Almod\u00f3var/imdb.json\n",
        "Apagou -  g:/filmes/2013/Os Estagi\u00e1rios (2013) Shawn Levy/imdb.json\n",
        "Apagou -  g:/filmes/2013/Os Feiticeiros Retornam Alex vs. Alex (2013) Victor Gonzalez/imdb.json\n",
        "Apagou -  g:/filmes/2013/Os Filhos do Padre (2013) Vinko Bresan - Cro\u00e1cia/imdb.json\n",
        "Apagou -  g:/filmes/2013/Os Instrumentos Mortais - Cidade dos Ossos (2013) Harald Zwart/imdb.json\n",
        "Apagou -  g:/filmes/2013/Os Lobos Maus (2013) Aharon Kesmales e Navot Papushado/imdb.json\n",
        "Apagou -  g:/filmes/2013/Os Suspeitos (2013) Denis Villeneuve/imdb.json\n",
        "Apagou -  g:/filmes/2013/Oszukane (2013) Marcin Solarz - Pol\u00f4nia/imdb.json\n",
        "Apagou -  g:/filmes/2013/Oz  O Grande e Poderoso (2013) Sam Raimi/imdb.json\n",
        "Apagou -  g:/filmes/2013/Para Maiores (2013) V\u00e1rios Diretores/imdb.json\n",
        "Apagou -  g:/filmes/2013/Parker (2013) Taylor Hackford/imdb.json\n",
        "Apagou -  g:/filmes/2013/Percy Jackson e o Mar de Monstros (2013) Thor Freudenthal/imdb.json\n",
        "Apagou -  g:/filmes/2013/Perigos da Mente (2013) Adam Neutzky-Wulff/imdb.json\n",
        "Apagou -  g:/filmes/2013/Pe\u00c3\u00a3o (2013) David A. Armstrong/imdb.json\n",
        "Apagou -  g:/filmes/2013/Phil Spector (2013) David Mamet/imdb.json\n",
        "Apagou -  g:/filmes/2013/Philomena (2013) Stephen Frears/imdb.json\n",
        "Apagou - "
       ]
      },
      {
       "output_type": "stream",
       "stream": "stdout",
       "text": [
        " g:/filmes/2013/Plush (2013) Catherine Hardwicke/imdb.json\n",
        "Apagou -  g:/filmes/2013/Quando eu era Sombrio (2013) Matthew Porterfield/imdb.json\n",
        "Apagou -  g:/filmes/2013/Queda Livre (2013) Stephan Lacant/imdb.json\n",
        "Apagou -  g:/filmes/2013/Quest\u00e3o de Tempo (2013) Richard Curtis/imdb.json\n",
        "Apagou -  g:/filmes/2013/R. I. P. D. - Agentes do Outro Mundo (2013) Robert Schwentke/imdb.json\n",
        "Apagou -  g:/filmes/2013/Red 2 - Aposentados e Ainda Mais Perigosos (2013) Dean Parisot/imdb.json\n",
        "Apagou -  g:/filmes/2013/Reden\u00c3\u00a7\u00c3\u00a3o (2013) Steven Knight/imdb.json\n",
        "Apagou -  g:/filmes/2013/Ref\u00e9m da Paix\u00e3o (2013) Jason Reitman/imdb.json\n",
        "Apagou -  g:/filmes/2013/Resgate em Alta Velocidade (2013) Courtney Solomon/imdb.json\n",
        "Apagou -  g:/filmes/2013/Riaru (2013) Kiyoshi Kurosawa - Jap\u00e3o/imdb.json\n",
        "Apagou -  g:/filmes/2013/Riddick 3 (2013) David Twohy/imdb.json\n",
        "Apagou -  g:/filmes/2013/Robosapien O Meu Melhor Amigo (2013) Sean McNamara/imdb.json\n",
        "Apagou -  g:/filmes/2013/Rock de Casbah (2013) Laila Marrakchi/imdb.json\n",
        "Apagou -  g:/filmes/2013/Run (2013) Simone Bartesaghi/imdb.json\n",
        "Apagou -  g:/filmes/2013/Run and Jump (2013) Steph Green/imdb.json\n",
        "Apagou -  g:/filmes/2013/Rush - No Limite da Emo\u00e7\u00e3o (2013) Ron Howard/imdb.json\n",
        "Apagou -  g:/filmes/2013/Samurai X (2013) Keishi Ohtomo/imdb.json\n",
        "Apagou -  g:/filmes/2013/Se Beber, N\u00c3\u00a3o Case Parte 3 (2013) Todd Phillips/imdb.json\n",
        "Apagou -  g:/filmes/2013/Segredos de Sangue (2013) Chan-wook Park/imdb.json\n",
        "Apagou -  g:/filmes/2013/Sem Dor, Sem Ganho (2013) Michael Bay/imdb.json\n",
        "Apagou -  g:/filmes/2013/Sexy Evil Genius (2013) Shawn Piller/imdb.json\n",
        "Apagou -  g:/filmes/2013/Shield of Straw (2013) Takashi Miike - Jap\u00e3o/imdb.json\n",
        "Apagou -  g:/filmes/2013/Short Term 12 (2013) Destin Cretton/imdb.json\n",
        "Apagou -  g:/filmes/2013/Simon Assassino (2013) Antonio Campos/imdb.json\n",
        "Apagou -  g:/filmes/2013/Some Girls (2013) Daisy von Scherler Mayer/imdb.json\n",
        "Apagou -  g:/filmes/2013/Stand Off (2013)/imdb.json\n",
        "Apagou -  g:/filmes/2013/Star Trek - Al\u00c3\u00a9m da Escurid\u00c3\u00a3o (2013) J. J. Abrams/imdb.json\n",
        "Apagou -  g:/filmes/2013/Summer in February (2013) Christopher Menaul/imdb.json\n",
        "Apagou -  g:/filmes/2013/Sunlight Jr. (2013) Laurie Collyer/imdb.json\n",
        "Apagou -  g:/filmes/2013/Sunshine on Leith (2013) Dexter Fletcher/imdb.json\n",
        "Apagou -  g:/filmes/2013/S\u00c3\u00b3 Deus Perdoa (2013) Nicolas Winding Refn/imdb.json\n",
        "Apagou -  g:/filmes/2013/S\u00e9ptimo (2013) Paxti Amezcua - Argentina/imdb.json\n",
        "Apagou -  g:/filmes/2013/Teia de Mentiras (2013) Karen Moncrieff/imdb.json\n",
        "Apagou -  g:/filmes/2013/Temporada de Ca\u00c3\u00a7a (2013) Mark Steven/imdb.json\n",
        "Apagou -  g:/filmes/2013/Tempor\u00e1rio 12 (2013) Destin Cretton/imdb.json\n",
        "Apagou -  g:/filmes/2013/Terapia de Risco (2013) Steven Soderbergh/imdb.json\n",
        "Apagou -  g:/filmes/2013/Tese Sobre um Homic\u00c3\u00addio (2013) Hernan Goldfrid ( Argentina)/imdb.json\n",
        "Apagou -  g:/filmes/2013/The Bling Ring - A Gangue de Hollywood (2013) Sofia Coppola/imdb.json\n",
        "Apagou -  g:/filmes/2013/The Broken Shore (2013) Rowan Woods/imdb.json\n",
        "Apagou -  g:/filmes/2013/The Canyons (2013) Paul Schrader/imdb.json\n",
        "Apagou -  g:/filmes/2013/The Croods (2013) Kirk de Micco  e Chris Sanders - Anima\u00c3\u00a7\u00c3\u00a3o/imdb.json\n",
        "Apagou -  g:/filmes/2013/The Devil You Know (2013) James Oakley/imdb.json\n",
        "Apagou -  g:/filmes/2013/The Incredible Burt Wonderstone (2013) Don Scardino/imdb.json\n",
        "Apagou -  g:/filmes/2013/The Lunchbox (2013) Ritesh Batra/imdb.json\n",
        "Apagou -  g:/filmes/2013/The Necessary Death Of Charlie Countryman (2013) Frederick Bond/imdb.json\n",
        "Apagou -  g:/filmes/2013/The Place Beyond the Pines (2013) Derek Cianfrance/imdb.json\n",
        "Apagou -  g:/filmes/2013/The Rambler (2013) Calvin Reeder/imdb.json\n",
        "Apagou -  g:/filmes/2013/The Right Kind of Wrong (2013) Jeremia S. Chechik - Canad\u00e1/imdb.json\n",
        "Apagou -  g:/filmes/2013/The Selfish Giant (2013) Clio Barnard/imdb.json\n",
        "Apagou -  g:/filmes/2013/The Spectacular Now (2013) James Ponsoldt/imdb.json\n",
        "Apagou -  g:/filmes/2013/The Thirteenth Tale (2013) James Kent/imdb.json\n",
        "Apagou -  g:/filmes/2013/The Wolverine - Imortal (2013) James Man[1080p]/imdb.json\n",
        "Apagou -  g:/filmes/2013/Thor - O Mundo Sombrio (2013) Alan Taylor/imdb.json\n",
        "Apagou -  g:/filmes/2013/Todo Mundo em P\u00c3\u00a2nico 5 (2013) Malcolm D. Lee, David Zucker/imdb.json\n",
        "Apagou -  g:/filmes/2013/Tom na Fazenda (2013) Xavier Dolan/imdb.json\n",
        "Apagou -  g:/filmes/2013/Toque de Mestre (2013) Eugenio Mira/imdb.json\n",
        "Apagou -  g:/filmes/2013/Touchy Feely (2013) Lynn Shelton/imdb.json\n",
        "Apagou -  g:/filmes/2013/Transe (2013) Danny Boyle/imdb.json\n",
        "Apagou -  g:/filmes/2013/Trap for Cinderella (2013) Lain Softley/imdb.json\n",
        "Apagou -  g:/filmes/2013/Trapa\u00e7a (2013) David O. Russell/imdb.json\n",
        "Apagou -  g:/filmes/2013/Trem Noturno para Lisboa (2013) Bille August/imdb.json\n",
        "Apagou -  g:/filmes/2013/Truque de Mestre (2013) Louis Leterrier/imdb.json\n",
        "Apagou -  g:/filmes/2013/Tr\u00c3\u00a1fico de Inocentes (2012) Christopher Bessette/imdb.json\n",
        "Apagou -  g:/filmes/2013/Tudo por Justi\u00e7a (2013) Scott Cooper/imdb.json\n",
        "Apagou -  g:/filmes/2013/Turbo (2013) David Soren - Anima\u00c3\u00a7\u00c3\u00a3o/imdb.json\n",
        "Apagou -  g:/filmes/2013/Tyskungen (2013) Per Hanefjord - Su\u00c3\u00a9cia/imdb.json\n",
        "Apagou - "
       ]
      },
      {
       "output_type": "stream",
       "stream": "stdout",
       "text": [
        " g:/filmes/2013/Um Castelo na It\u00e1lia (2013) Valeri Bruni Tedeschi/imdb.json\n",
        "Apagou -  g:/filmes/2013/Um Epis\u00f3dio na Vida de um Catador de Ferro-Velho (2013) Danis Tanoci - B\u00f3snia/imdb.json\n",
        "Apagou -  g:/filmes/2013/Um Estranho no Lago (2013) Alain Guiraudie/imdb.json\n",
        "Apagou -  g:/filmes/2013/Um Homem a Abater (2013) Niels Arden Oplev/imdb.json\n",
        "Apagou -  g:/filmes/2013/Um Homem Comum (2013) Chandra Rutnam/imdb.json\n",
        "Apagou -  g:/filmes/2013/Um Homem Contra Wall Street (2013) Uwel Boll/imdb.json\n",
        "Apagou -  g:/filmes/2013/Um Novo Amor (2013) Adam Rogers/imdb.json\n",
        "Apagou -  g:/filmes/2013/Um Ref\u00c3\u00bagio para a Vida (2013) Lasse Hallstr\u00c3\u00b6m/imdb.json\n",
        "Apagou -  g:/filmes/2013/Um Toque de Pecado (2013) Jia Zhang-Ke - China/imdb.json\n",
        "Apagou -  g:/filmes/2013/Um Ver\u00c3\u00a3o para N\u00c3\u00a3o Esquecer (2013) Nat Faxon e Jim Rash/imdb.json\n",
        "Apagou -  g:/filmes/2013/Um Week-End \u00e0 Paris (2013) Roger Michell/imdb.json\n",
        "Apagou -  g:/filmes/2013/Uma Fam\u00c3\u00adlia em Apuros (2013) Andy Fickman/imdb.json\n",
        "Apagou -  g:/filmes/2013/Uma Ju\u00edza Sem Ju\u00edzo (2013) Albert Dupontel/imdb.json\n",
        "Apagou -  g:/filmes/2013/Uma Longa Viagem (2013) Jonathan Teplitzky/imdb.json\n",
        "Apagou -  g:/filmes/2013/Uma Noite de Crime (2013) James DeMonaco/imdb.json\n",
        "Apagou -  g:/filmes/2013/Uma Viagem Extraordin\u00e1ria (2013) Jaen-Pierre Jeunet/imdb.json\n",
        "Apagou -  g:/filmes/2013/Uma Vida Comum (2013) Uberto Pasolini/imdb.json\n",
        "Apagou -  g:/filmes/2013/Universidade Monstro (2013) Dan Scalon - Anima\u00c3\u00a7\u00c3\u00a3o/imdb.json\n",
        "Apagou -  g:/filmes/2013/Upstream Color (2013) Shane Carruth/imdb.json\n",
        "Apagou -  g:/filmes/2013/Velozes e Furiosos 6 (2013) Justin Lin/imdb.json\n",
        "Apagou -  g:/filmes/2013/Versos de um Crime (2013) John Krokidas/imdb.json\n",
        "Apagou -  g:/filmes/2013/Vic + Flo Viram um Urso (2013) Denis C\u00f4t\u00e9 - Canad\u00e1/imdb.json\n",
        "Apagou -  g:/filmes/2013/Vida de Adulto (2013) Scott Coffey/imdb.json\n",
        "Apagou -  g:/filmes/2013/Vigarista \u00c3\u00a0 Vista (2013) Seth Gordon/imdb.json\n",
        "Apagou -  g:/filmes/2013/Vinganca em Paris (2013) Edgar Marie/imdb.json\n",
        "Apagou -  g:/filmes/2013/Viver \u00e9 F\u00e1cil com os Olhos Fechados (2013) David Trueba - Espanha/imdb.json\n",
        "Apagou -  g:/filmes/2013/W Imie... (2013) Malgorzata Szumowska - Pol\u00f4nia/imdb.json\n",
        "Apagou -  g:/filmes/2013/Walt nos Bastidores de Mary Poppins (2013) John Lee Hancock/imdb.json\n",
        "Apagou -  g:/filmes/2013/Zulu (2013) J\u00e9r\u00f4me Salle/imdb.json\n",
        "Apagou -  g:/filmes/2013/\u00c9 o Fim (2013) Evan Goldberg e Seth Rocen/imdb.json\n",
        "Apagou -  g:/filmes/2013/\u00daltima Viagem a Vegas (2013) Jon Turteltaub/imdb.json\n",
        "Apagou -  g:/filmes/2013/\u00daltimo Desejo (2013) James Franco/imdb.json\n"
       ]
      }
     ],
     "prompt_number": 7
    },
    {
     "cell_type": "code",
     "collapsed": false,
     "input": [],
     "language": "python",
     "metadata": {},
     "outputs": []
    }
   ],
   "metadata": {}
  }
 ]
}