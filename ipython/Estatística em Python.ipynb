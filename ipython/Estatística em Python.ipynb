{
 "metadata": {
  "name": "",
  "signature": "sha256:3e71820818bc6c15c5aec0a78bfa83181d9fd8c4078acb9193ef0502fd6581d6"
 },
 "nbformat": 3,
 "nbformat_minor": 0,
 "worksheets": [
  {
   "cells": [
    {
     "cell_type": "code",
     "collapsed": false,
     "input": [
      "import math\n",
      "import numpy as np\n",
      "import pandas as pd"
     ],
     "language": "python",
     "metadata": {},
     "outputs": [],
     "prompt_number": 94
    },
    {
     "cell_type": "code",
     "collapsed": false,
     "input": [
      "dados = [\n",
      "          {'altura': 1.95, 'peso': 93.1},\n",
      "          {'altura': 1.96, 'peso': 93.9},\n",
      "          {'altura': 1.95, 'peso': 89.9},\n",
      "          {'altura': 1.98, 'peso': 95.1},\n",
      "          {'altura': 2.10, 'peso': 100.2}\n",
      "          ]\n",
      "dados2 = [\n",
      "          {'x': 2.1, 'y': 8.},\n",
      "          {'x': 2.5, 'y': 12.},\n",
      "          {'x': 4.0, 'y': 14.},\n",
      "          {'x': 3.4, 'y':10.}\n",
      "]"
     ],
     "language": "python",
     "metadata": {},
     "outputs": [],
     "prompt_number": 112
    },
    {
     "cell_type": "code",
     "collapsed": false,
     "input": [
      "def media(l=[]):\n",
      "    \"\"\"\n",
      "        Calcula a m\u00e9dia de uma lista de valores\n",
      "    \"\"\"\n",
      "    return np.mean(l)"
     ],
     "language": "python",
     "metadata": {},
     "outputs": [],
     "prompt_number": 113
    },
    {
     "cell_type": "code",
     "collapsed": false,
     "input": [
      "def covariancia(dados=[],x='',y=''):\n",
      "    \"\"\"\n",
      "        Covari\u00e2ncia - http://pt.wikipedia.org/wiki/Covari%C3%A2ncia\n",
      "        \u00c9 uma medida do grau de interdepend\u00eancia (ou inter-rela\u00e7\u00e3o) num\u00e9rica entre duas vari\u00e1veis aleat\u00f3rias.\n",
      "        Assim, vari\u00e1veis independentes t\u00eam covari\u00e2ncia zero.\n",
      "    \"\"\"\n",
      "    print x\n",
      "    print y\n",
      "    amostra = dados\n",
      "    print amostra\n",
      "    media_x = np.mean([r[x] for r in amostra])\n",
      "    media_y = np.mean([r[y] for r in amostra])\n",
      "    print \"media de \" + x + \" = \", media_x\n",
      "    print \"media de \" + y + \" = \", media_y\n",
      "    \n",
      "    soma_produto_desvios = 0\n",
      "    for a in amostra:\n",
      "        # Desvio (valor menos m\u00e9dia da vari\u00e1vel)\n",
      "        desvio_x = a[x] - media_x\n",
      "        desvio_y   = a[y] - media_y\n",
      "        print \"desvio_x * desvio_y =\", desvio_x * desvio_y\n",
      "        soma_produto_desvios += desvio_x * desvio_y\n",
      "    print \"soma_produto_desvios=\",soma_produto_desvios\n",
      "  \n",
      "    cv = soma_produto_desvios / len(amostra)\n",
      "    print \"covariancia = \",cv\n",
      "    "
     ],
     "language": "python",
     "metadata": {},
     "outputs": [],
     "prompt_number": 114
    },
    {
     "cell_type": "code",
     "collapsed": false,
     "input": [
      "def naive_covariance(data1, data2):\n",
      "    n = len(data1)\n",
      "    sum12 = 0\n",
      "    sum1 = sum(data1)\n",
      "    sum2 = sum(data2)\n",
      " \n",
      "    for i in range(n):\n",
      "        sum12 += data1[i]*data2[i]\n",
      " \n",
      "    covariance = (sum12 - sum1*sum2 / n) / n\n",
      "    return covariance"
     ],
     "language": "python",
     "metadata": {},
     "outputs": [],
     "prompt_number": 115
    },
    {
     "cell_type": "code",
     "collapsed": false,
     "input": [
      "covariancia(dados2,'x','y')"
     ],
     "language": "python",
     "metadata": {},
     "outputs": [
      {
       "output_type": "stream",
       "stream": "stdout",
       "text": [
        "x\n",
        "y\n",
        "[{'y': 8.0, 'x': 2.1}, {'y': 12.0, 'x': 2.5}, {'y': 14.0, 'x': 4.0}, {'y': 10.0, 'x': 3.4}]\n",
        "media de x =  3.0\n",
        "media de y =  11.0\n",
        "desvio_x * desvio_y = 2.7\n",
        "desvio_x * desvio_y = -0.5\n",
        "desvio_x * desvio_y = 3.0\n",
        "desvio_x * desvio_y = -0.4\n",
        "soma_produto_desvios= 4.8\n",
        "covariancia =  1.2\n"
       ]
      }
     ],
     "prompt_number": 116
    },
    {
     "cell_type": "code",
     "collapsed": false,
     "input": [
      "adf = pd.DataFrame(dados2)\n",
      "\n",
      "print adf.cov()\n",
      "print adf"
     ],
     "language": "python",
     "metadata": {},
     "outputs": [
      {
       "output_type": "stream",
       "stream": "stdout",
       "text": [
        "      x         y\n",
        "x  0.74  1.600000\n",
        "y  1.60  6.666667\n",
        "     x   y\n",
        "0  2.1   8\n",
        "1  2.5  12\n",
        "2  4.0  14\n",
        "3  3.4  10\n"
       ]
      }
     ],
     "prompt_number": 117
    },
    {
     "cell_type": "code",
     "collapsed": false,
     "input": [
      "adf['y'].corr(adf['x'])"
     ],
     "language": "python",
     "metadata": {},
     "outputs": [
      {
       "metadata": {},
       "output_type": "pyout",
       "prompt_number": 118,
       "text": [
        "0.720360270225197"
       ]
      }
     ],
     "prompt_number": 118
    },
    {
     "cell_type": "code",
     "collapsed": false,
     "input": [
      "adf['x'].cov(adf['y'])"
     ],
     "language": "python",
     "metadata": {},
     "outputs": [
      {
       "metadata": {},
       "output_type": "pyout",
       "prompt_number": 119,
       "text": [
        "1.5999999999999999"
       ]
      }
     ],
     "prompt_number": 119
    },
    {
     "cell_type": "code",
     "collapsed": false,
     "input": [
      "l1 = [r['x'] for r in dados2]\n",
      "l2 = [r['y'] for r in dados2]\n",
      "naive_covariance(l1,l2)"
     ],
     "language": "python",
     "metadata": {},
     "outputs": [
      {
       "metadata": {},
       "output_type": "pyout",
       "prompt_number": 109,
       "text": [
        "1.2000000000000028"
       ]
      }
     ],
     "prompt_number": 109
    },
    {
     "cell_type": "code",
     "collapsed": false,
     "input": [],
     "language": "python",
     "metadata": {},
     "outputs": []
    }
   ],
   "metadata": {}
  }
 ]
}