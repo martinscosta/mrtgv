{
 "metadata": {
  "name": "",
  "signature": "sha256:68bd0d3ff7b625106ac595fa10e9c4b01fef6d58f7bc857b458b74499b3a1a05"
 },
 "nbformat": 3,
 "nbformat_minor": 0,
 "worksheets": [
  {
   "cells": [
    {
     "cell_type": "code",
     "collapsed": false,
     "input": [
      "import os\n",
      "import sys\n",
      "import json\n",
      "import urllib\n",
      "import urllib2\n",
      "import re\n",
      "import datetime\n",
      "\n",
      "#import tmdb3\n",
      "from imdb import IMDb"
     ],
     "language": "python",
     "metadata": {},
     "outputs": [],
     "prompt_number": 51
    },
    {
     "cell_type": "code",
     "collapsed": false,
     "input": [
      "rx = re.compile(r'^(?P<title>.*?)\\((?P<year>\\d+)\\)\\s(?P<director>.*)')\n",
      "rx2 = re.compile(r'^(?P<title>.*?)\\((?P<year>\\d+)\\)')\n",
      "\n",
      "def isLinux():\n",
      "    return os.name == 'posix'"
     ],
     "language": "python",
     "metadata": {},
     "outputs": [],
     "prompt_number": 52
    },
    {
     "cell_type": "code",
     "collapsed": false,
     "input": [
      "pastas = [u'1910-1930', u'1940', u'1950', u'1960', u'1970', u'1980', u'1990', u'2000', u'2010', u'2011', u'2012', u'2013', u'2014',u'Terror',u'Animacao']\n",
      "\n",
      "discos = {\n",
      "    'seagate': {\n",
      "        'top':  u'/mnt/seagate/filmes/',\n",
      "        \"disk_name\": \"Seagate Expansion Drive\",\n",
      "        \"disk_sn\": \"114502120\"\n",
      "    },\n",
      "    'toshiba': {\n",
      "        'top':  u'/mnt/toshiba/filmes/',\n",
      "        \"disk_name\": \"TOSHIBA EXT\",\n",
      "         \"disk_sn\": \"-528099881\"\n",
      "    }\n",
      "}"
     ],
     "language": "python",
     "metadata": {},
     "outputs": [],
     "prompt_number": 68
    },
    {
     "cell_type": "code",
     "collapsed": false,
     "input": [
      "def parse_nome_filme(filme,diretor):\n",
      "    print [filme]\n",
      "    m = rx.match(filme)\n",
      "    if m:\n",
      "        g = m.groupdict()\n",
      "    else:\n",
      "        m = rx2.match(filme)\n",
      "        g = m.groupdict()\n",
      "        g['director'] = diretor\n",
      " \n",
      "        \n",
      "    return {\n",
      "      'diretor': g['director'].encode('utf8').strip(),\n",
      "       'ano' : g['year'].strip(),\n",
      "        'titulo' : g['title'].encode('utf8').strip()\n",
      "    }"
     ],
     "language": "python",
     "metadata": {},
     "outputs": [],
     "prompt_number": 69
    },
    {
     "cell_type": "code",
     "collapsed": false,
     "input": [
      "def le_imdb(termo='Riddle (2013)',id=0):\n",
      "    ia = ''\n",
      "    item =''\n",
      "    \n",
      "    ia = IMDb()\n",
      "    \n",
      "    if id:\n",
      "        item = ia.get_movie(id)\n",
      "    else:\n",
      "        s_result = ia.search_movie(termo)\n",
      "        if s_result:\n",
      "            item = s_result[0]\n",
      "            print item['long imdb canonical title'], item.movieID\n",
      "        else:\n",
      "            s_result = ia.search_movie(termo.encode('latin1'))\n",
      "            if s_result:\n",
      "                item = s_result[0]\n",
      "                print \"#2 - \",item['long imdb canonical title'], item.movieID\n",
      "            else:\n",
      "                print \"XCCC\", termo\n",
      "\n",
      "    return item"
     ],
     "language": "python",
     "metadata": {},
     "outputs": [],
     "prompt_number": 70
    },
    {
     "cell_type": "code",
     "collapsed": false,
     "input": [
      "def imdb_json(disco,film_path,id):\n",
      "    id = \"%07d\" % int(id)\n",
      "    url = 'http://www.omdbapi.com/?i=tt' + id + '&plot=full&r=json&tomatoes=true'\n",
      "    info_file = film_path + '/imdb.json'\n",
      "    print info_file\n",
      "    \n",
      "    #if os.path.exists(info_file):\n",
      "    #    json_data = open(info_file)\n",
      "    #    dados = json.load(json_data) \n",
      "    #    json_data.close()\n",
      "    #    if 'disk_name' in dados:\n",
      "    #        return\n",
      "        \n",
      "    #disk_info = GetVolumeInformation( film_path[0])\n",
      "\n",
      "    try:\n",
      "        d = urllib2.urlopen(url,timeout=60).read()\n",
      "    except Exception,e:\n",
      "        print \"Erro \",e\n",
      "        print url\n",
      "        print \"Tentando novamente\"\n",
      "        try:\n",
      "            d = urllib2.urlopen(url,timeout=90).read()\n",
      "        except Exception,e:\n",
      "            print \"Erro (2) \",e \n",
      "            return\n",
      "        \n",
      "    info = json.loads(d)\n",
      "    if not info['Response']:\n",
      "        print \"OMDAPI ERRO id:\", id, \" - \", info['Error']\n",
      "        return\n",
      "    \n",
      "    F = open(info_file,'w')\n",
      "    dados = {\n",
      "        'disk_name': disco['disk_name'],\n",
      "        'disk_sn': disco['disk_sn'],\n",
      "        'disk_path': film_path.split(disco['top'])[1],\n",
      "        'nome': info_file.split('/')[-2],\n",
      "        'last_update': datetime.datetime.now().strftime(\"%Y-%m-%d %H:%M:%S\")\n",
      "    }\n",
      "    dados.update(info)\n",
      "    json.dump(dados,F,indent=4)\n",
      "    F.close()"
     ],
     "language": "python",
     "metadata": {},
     "outputs": [],
     "prompt_number": 71
    },
    {
     "cell_type": "code",
     "collapsed": false,
     "input": [
      "def le_disco(disco):\n",
      "    top = disco['top']\n",
      "    \n",
      "    limite_erros = 15\n",
      "    for pasta in pastas:\n",
      "        path = top + pasta\n",
      "        filmes = os.listdir( path)\n",
      "        i = 0\n",
      "        erros = 0\n",
      "        for filme in filmes:\n",
      "            i += 1\n",
      "            \n",
      "            if os.path.exists(path + '/' + filme + '/imdb.json'): continue\n",
      "\n",
      "            if os.path.exists(path + '/' + filme + '/imdb_id.txt'): \n",
      "                id = open(path + '/' + filme + '/imdb_id.txt').read().strip()\n",
      "                imdb_json(disco, path + '/' + filme,id)\n",
      "            else:\n",
      "                \n",
      "                # primeiro verifica se ha um jpg com o id do imdb no nome\n",
      "                ff = os.listdir(path + '/' + filme)\n",
      "                id = 0\n",
      "                try:\n",
      "                    for f in ff:\n",
      "                        if '.jpg' in f.lower():\n",
      "                            (nm,ext) = f.lower().split('.')\n",
      "                            if ext == 'jpg' and nm.isdigit():\n",
      "                                id = nm\n",
      "                                break\n",
      "                except:\n",
      "                    pass\n",
      "                if id:\n",
      "                    print \"#3 Usando o id do jpg\"\n",
      "                    imdb_json(disco, path + '/' + filme,id)\n",
      "                else:\n",
      "                    dados = parse_nome_filme(filme,diretor='')\n",
      "                    termo = filme.split(')')[0] + ')'\n",
      "                    item = le_imdb(termo=termo)\n",
      "                    if item:\n",
      "                        imdb_json(disco, path + '/' + filme,item.movieID)\n",
      "                    else:\n",
      "                        erros += 1\n",
      "                        print \"Erro em \", filme.encode('latin1')\n",
      "                        if erros > limite_erros:\n",
      "                            return\n",
      "            print \"-\"*15\n",
      "        print \"FIM - leu:%d da pasta %s\" % (i,pasta)"
     ],
     "language": "python",
     "metadata": {},
     "outputs": [],
     "prompt_number": 72
    },
    {
     "cell_type": "code",
     "collapsed": false,
     "input": [
      "le_disco(discos['seagate'])"
     ],
     "language": "python",
     "metadata": {},
     "outputs": [
      {
       "output_type": "stream",
       "stream": "stdout",
       "text": [
        "FIM - leu:25 da pasta 1910-1930\n",
        "FIM - leu:12 da pasta 1940\n",
        "FIM - leu:30 da pasta 1950\n",
        "FIM - leu:66 da pasta 1960\n",
        "FIM - leu:71 da pasta 1970\n",
        "FIM - leu:72 da pasta 1980"
       ]
      },
      {
       "output_type": "stream",
       "stream": "stdout",
       "text": [
        "\n",
        "FIM - leu:149 da pasta 1990\n",
        "FIM - leu:306 da pasta 2000"
       ]
      },
      {
       "output_type": "stream",
       "stream": "stdout",
       "text": [
        "\n",
        "FIM - leu:87 da pasta 2010\n",
        "FIM - leu:117 da pasta 2011"
       ]
      },
      {
       "output_type": "stream",
       "stream": "stdout",
       "text": [
        "\n",
        "FIM - leu:297 da pasta 2012"
       ]
      },
      {
       "output_type": "stream",
       "stream": "stdout",
       "text": [
        "\n",
        "FIM - leu:305 da pasta 2013"
       ]
      },
      {
       "output_type": "stream",
       "stream": "stdout",
       "text": [
        "\n",
        "FIM - leu:0 da pasta 2014\n",
        "FIM - leu:444 da pasta Terror"
       ]
      },
      {
       "output_type": "stream",
       "stream": "stdout",
       "text": [
        "\n",
        "FIM - leu:100 da pasta Animacao\n"
       ]
      }
     ],
     "prompt_number": 73
    },
    {
     "cell_type": "code",
     "collapsed": false,
     "input": [],
     "language": "python",
     "metadata": {},
     "outputs": []
    },
    {
     "cell_type": "code",
     "collapsed": false,
     "input": [],
     "language": "python",
     "metadata": {},
     "outputs": []
    }
   ],
   "metadata": {}
  }
 ]
}