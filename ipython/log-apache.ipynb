{
 "metadata": {
  "name": ""
 },
 "nbformat": 3,
 "nbformat_minor": 0,
 "worksheets": [
  {
   "cells": [
    {
     "cell_type": "code",
     "collapsed": false,
     "input": [
      "import os,sys, re, time,datetime, socket, urllib,hashlib, json\n",
      "import pysolr\n",
      "from ipwhois import IPWhois\n",
      "\n",
      "mapa_social_path = 'D:\\work\\mp\\mapa_social_acessos'\n",
      "sa = pysolr.Solr('http://localhost:8983/solr/acessos', timeout=10)\n",
      "sh = pysolr.Solr('http://localhost:8983/solr/hosts', timeout=10)\n",
      "\n"
     ],
     "language": "python",
     "metadata": {},
     "outputs": [],
     "prompt_number": 4
    },
    {
     "cell_type": "code",
     "collapsed": false,
     "input": [
      "#\n",
      "# Leitura do arquivo de LOG\n",
      "#\n",
      "\n",
      "class Timezone(datetime.tzinfo):\n",
      "\n",
      "    def __init__(self, name=\"+0000\"):\n",
      "        self.name = name\n",
      "        seconds = int(name[:-2])*3600+int(name[-2:])*60\n",
      "        self.offset = datetime.timedelta(seconds=seconds)\n",
      "\n",
      "    def utcoffset(self, dt):\n",
      "        return self.offset\n",
      "\n",
      "    def dst(self, dt):\n",
      "        return timedelta(0)\n",
      "\n",
      "    def tzname(self, dt):\n",
      "        return self.name\n",
      "def le_log():\n",
      "    parts = [\n",
      "             r'(?P<host>\\S+)',                   # host %h\n",
      "             r'\\S+',                             # indent %l (unused)\n",
      "             r'(?P<user>\\S+)',                   # user %u\n",
      "             r'\\[(?P<time>.+)\\]',                # time %t\n",
      "             r'\"(?P<request>.+)\"',               # request \"%r\"\n",
      "             r'(?P<status>[0-9]+)',              # status %>s\n",
      "             r'(?P<size>\\S+)',                   # size %b (careful, can be '-')\n",
      "             #r'\"(?P<referer>.*)\"',               # referer \"%{Referer}i\"\n",
      "             #r'\"(?P<agent>.*)\"',                 # user agent \"%{User-agent}i\"\n",
      "             ]\n",
      "    pattern = re.compile(r'\\s+'.join(parts)+r'\\s*\\Z')\n",
      "\n",
      "    lines_ok = []\n",
      "    for line in open(mapa_social_path + '/mapa_social.txt'):\n",
      "        m = pattern.match(line)\n",
      "        res = m.groupdict()\n",
      "        if 'SOC' not in res['request']: continue\n",
      "\n",
      "        dh = datetime.datetime.strptime(res[\"time\"][:-6], \"%d/%b/%Y:%H:%M:%S\")\n",
      "        reg = {'ip':res['host'],'dh':dh, 'request': res['request']}\n",
      "        pdf_id = reg['request'].split('SOC_')[1].split('.pdf')[0]\n",
      "        id = hashlib.sha256(reg['ip'] + '_' + res['time'] + pdf_id).hexdigest()  \n",
      "        reg['id'] = id            \n",
      "        lines_ok.append(reg)\n",
      "            \n",
      "            \n",
      "        #lines_ok.append(line)\n",
      "\n",
      "   \n",
      "    return lines_ok\n",
      "\n",
      "def get_geoip(ip):\n",
      "    url_geo = r\"http://freegeoip.net/json/\"\n",
      "    jsn = urllib.urlopen(url_geo + ip).read()\n",
      "    return json.loads(jsn)\n",
      "def get_host_ip(ip):\n",
      "    try:\n",
      "        host = socket.gethostbyaddr(ip)[0]\n",
      "    except:\n",
      "        host = ''\n",
      "    return host\n",
      "\n",
      "def get_ipwhois(ip):\n",
      "    # pip install dnspython\n",
      "    # pip install ipaddr\n",
      "    # pip install ipwhois\n",
      "    try:\n",
      "        obj = IPWhois(ip)\n",
      "        return obj.lookup()\n",
      "    except:\n",
      "        return ''\n",
      "\n",
      "def get_info_ip(ip):\n",
      "    response = sh.search('id:' + ip)\n",
      "    if response.hits == 0:\n",
      "        dados = get_geoip(ip)\n",
      "        host = get_host_ip(ip)\n",
      "        if not host:\n",
      "            #w =get_ipwhois(ip)\n",
      "            w = ''\n",
      "            if w:\n",
      "                net = w['nets'][0]\n",
      "                if  net['misc_emails']:\n",
      "                    host=  net['description'] + ' - ' + net['misc_emails']\n",
      "                else:\n",
      "                    host=  net['description']\n",
      "                    \n",
      "            else:\n",
      "                host = 'nao encontrado'\n",
      "        sh.add([{'id':ip, \n",
      "                'host': host,\n",
      "                'cidade': dados['city'],\n",
      "                'estado': dados['region_name'],\n",
      "                'pais': dados['country_name'],\n",
      "                'longitude': dados['longitude'],\n",
      "                'latitude': dados['latitude'],\n",
      "                }])\n",
      "        sh.commit()\n",
      "        response = sh.search('id:' + ip)\n",
      "    return response.docs[0]\n",
      "\n"
     ],
     "language": "python",
     "metadata": {},
     "outputs": [],
     "prompt_number": 15
    },
    {
     "cell_type": "code",
     "collapsed": false,
     "input": [
      "regs = le_log()\n",
      "#infos_ip ={}\n",
      "print \"Leu \",len(regs)\n",
      "limite = 10\n",
      "#ips_processados =[]\n",
      "#res = sh.search('*:*',**{'fl':'id','rows':'20000'})\n",
      "#for r in res:\n",
      "#    ips_processados.append(r['id'])\n",
      "#print \"IPs ja processados: \",len(ips_processados)\n",
      "                           \n",
      "\n",
      "i = 0\n",
      "adicionados_solr  = 0\n",
      "\n",
      "for r in regs:\n",
      "    reg = r\n",
      "    i += 1\n",
      "    ip = reg['ip']\n",
      "    if ip[:3]=='172': \n",
      "        reg['host'] = 'mprs'\n",
      "        reg['pais'] = 'Brazil'\n",
      "        reg['cidade'] = ''\n",
      "        reg['estado'] = 'Rio Grande do Sul'\n",
      "        reg['coordenadas'] = ''\n",
      "    else:\n",
      "        #if ip not in ips_processados:\n",
      "        info_ip = get_info_ip(ip)\n",
      "        reg['host'] = info_ip['host']\n",
      "        reg['pais'] = info_ip['pais']\n",
      "        if 'cidade' in info_ip:  reg['cidade'] = info_ip['cidade']\n",
      "        if 'estado' in info_ip:  reg['estado'] = info_ip['estado']\n",
      "        reg['coordenadas'] = info_ip['longitude'] + ',' + info_ip['latitude']\n",
      "        \n",
      "    # Agora vamos passar os registros pro SOLR\n",
      "    result = sa.search('id:' + reg['id'])\n",
      "    if result.hits == 0:\n",
      "        sa.add( [ reg ], commitWithin='10000')\n",
      "        adicionados_solr += 1\n",
      "        \n",
      "sa.commit()\n",
      "    \n",
      "\n",
      "print \"adicionados ao solr\", adicionados_solr\n",
      "print \"ok-FIM\"        \n",
      "\n",
      "        "
     ],
     "language": "python",
     "metadata": {},
     "outputs": [
      {
       "output_type": "stream",
       "stream": "stdout",
       "text": [
        "Leu  8203\n",
        "adicionados ao solr"
       ]
      },
      {
       "output_type": "stream",
       "stream": "stdout",
       "text": [
        " 6912\n",
        "ok-FIM\n"
       ]
      }
     ],
     "prompt_number": 18
    },
    {
     "cell_type": "code",
     "collapsed": false,
     "input": [
      "\n"
     ],
     "language": "python",
     "metadata": {},
     "outputs": []
    },
    {
     "cell_type": "code",
     "collapsed": false,
     "input": [],
     "language": "python",
     "metadata": {},
     "outputs": []
    },
    {
     "cell_type": "code",
     "collapsed": false,
     "input": [
      "lines_ok = []\n",
      "adicionados_solr = 0\n",
      "for line in lines:\n",
      "    m = pattern.match(line)\n",
      "    res = m.groupdict()\n",
      "    if 'SOC' not in res['request']: continue\n",
      "    dh = datetime.datetime.strptime(res[\"time\"][:-6], \"%d/%b/%Y:%H:%M:%S\")\n",
      "    reg = {'ip':res['host'],'dh':dh, 'request': res['request']}\n",
      "    lines_ok.append(reg)\n",
      "    pdf_id = reg['request'].split('SOC_')[1].split('.pdf')[0]\n",
      "    id = hashlib.sha256(reg['ip'] + '_' + res['time'] + pdf_id).hexdigest()  \n",
      "    reg['id'] = id\n",
      "    #print reg\n",
      "    result = si.search('id:' + id)\n",
      "    if result.hits == 0:\n",
      "        si.add( [ reg ], commitWithin='10000')\n",
      "        adicionados_solr += 1\n",
      "        \n",
      "si.commit()\n",
      "    \n",
      "print len(lines), len(lines_ok), adicionados_solr"
     ],
     "language": "python",
     "metadata": {},
     "outputs": [
      {
       "output_type": "stream",
       "stream": "stdout",
       "text": [
        "22083 8203 0\n"
       ]
      }
     ],
     "prompt_number": 186
    },
    {
     "cell_type": "code",
     "collapsed": false,
     "input": [
      "acessos_internos = si.search(\"ip:172.*\",**{'facet':'true', 'facet.field':'ip', 'facet.limit':'10000','facet.mincount':'1'})\n",
      "ips = acessos_internos.facets['facet_fields']['ip']\n",
      "ips_internos = zip(ips[0::2], ips[1::2])\n",
      "for ip,v in ips_internos[:5]:\n",
      "    print ip,v\n",
      "\n",
      "print '=================='\n",
      "acessos_externos = si.search(\"-ip:172.*\",**{'facet':'true', 'facet.field':'ip', 'facet.limit':'10000','facet.mincount':'1'})\n",
      "ips = acessos_externos.facets['facet_fields']['ip']\n",
      "ips_externos = zip(ips[0::2], ips[1::2])\n",
      "for ip,v in ips_externos[:5]:\n",
      "    print ip,v\n"
     ],
     "language": "python",
     "metadata": {},
     "outputs": [
      {
       "output_type": "stream",
       "stream": "stdout",
       "text": [
        "172.17.226.49 103\n",
        "172.17.227.160 56\n",
        "172.17.226.147 45\n",
        "172.17.140.102 23\n",
        "172.17.227.77 21\n",
        "==================\n",
        "189.76.144.183 83\n",
        "201.66.156.242 52\n",
        "201.35.72.63 41\n",
        "187.109.228.5 37\n",
        "200.180.136.252 34\n"
       ]
      }
     ],
     "prompt_number": 152
    },
    {
     "cell_type": "code",
     "collapsed": false,
     "input": [
      "hosts_json = open(mapa_social_path + '/hosts.csv',';')\n",
      "for ip,v in ips_externos[:15]:\n",
      "    try:\n",
      "        host = socket.gethostbyaddr(ip)\n",
      "    except:\n",
      "        host = 'not found'\n",
      "    print ip,v,host\n"
     ],
     "language": "python",
     "metadata": {},
     "outputs": [
      {
       "output_type": "stream",
       "stream": "stdout",
       "text": [
        "189.76.144.183 83 ('189-76-144-183.gruporbs.com.br', [], ['189.76.144.183'])\n",
        "201.66.156.242 52 ('201-66-156-242.smace701.dsl.brasiltelecom.net.br', [], ['201.66.156.242'])\n",
        "201.35.72.63 41 ('201-35-72-63.pltce701.dsl.brasiltelecom.net.br', [], ['201.35.72.63'])\n",
        "187.109.228.5 37 ('187-109-228-5-customer.assisnet.com.br', [], ['187.109.228.5'])\n",
        "200.180.136.252"
       ]
      },
      {
       "output_type": "stream",
       "stream": "stdout",
       "text": [
        " 34 not found\n",
        "189.10.128.108"
       ]
      },
      {
       "output_type": "stream",
       "stream": "stdout",
       "text": [
        " 33 ('189-10-128-108.paebv701.dsl.brasiltelecom.net.br', [], ['189.10.128.108'])\n",
        "179.172.110.221"
       ]
      },
      {
       "output_type": "stream",
       "stream": "stdout",
       "text": [
        " 32 ('179-172-110-221.user.vivozap.com.br', [], ['179.172.110.221'])\n",
        "177.18.159.111 29 ('177.18.159.111.static.host.gvt.net.br', [], ['177.18.159.111'])\n",
        "200.142.0.14"
       ]
      },
      {
       "output_type": "stream",
       "stream": "stdout",
       "text": [
        " 27 not found\n",
        "201.10.23.129"
       ]
      },
      {
       "output_type": "stream",
       "stream": "stdout",
       "text": [
        " 26 ('201-10-23-129.paemt704.dsl.brasiltelecom.net.br', [], ['201.10.23.129'])\n",
        "177.132.222.154"
       ]
      },
      {
       "output_type": "stream",
       "stream": "stdout",
       "text": [
        " 24 ('177.132.222.154.dynamic.adsl.gvt.net.br', [], ['177.132.222.154'])\n",
        "177.20.224.182"
       ]
      },
      {
       "output_type": "stream",
       "stream": "stdout",
       "text": [
        " 21 ('177.20.224.182.net11.com.br', [], ['177.20.224.182'])\n",
        "177.36.45.242"
       ]
      },
      {
       "output_type": "stream",
       "stream": "stdout",
       "text": [
        " 21 not found\n",
        "191.205.77.159"
       ]
      },
      {
       "output_type": "stream",
       "stream": "stdout",
       "text": [
        " 20 ('191-205-77-159.user.vivozap.com.br', [], ['191.205.77.159'])\n",
        "200.160.145.15 20 ('morpheus.gruposinos.com.br', [], ['200.160.145.15'])\n"
       ]
      }
     ],
     "prompt_number": 155
    },
    {
     "cell_type": "code",
     "collapsed": false,
     "input": [
      "   "
     ],
     "language": "python",
     "metadata": {},
     "outputs": [
      {
       "ename": "NameError",
       "evalue": "name 'urllib' is not defined",
       "output_type": "pyerr",
       "traceback": [
        "\u001b[1;31m---------------------------------------------------------------------------\u001b[0m\n\u001b[1;31mNameError\u001b[0m                                 Traceback (most recent call last)",
        "\u001b[1;32m<ipython-input-53-719074182abf>\u001b[0m in \u001b[0;36m<module>\u001b[1;34m()\u001b[0m\n\u001b[0;32m      1\u001b[0m \u001b[0murl_geo\u001b[0m \u001b[1;33m=\u001b[0m \u001b[1;34mr\"http://freegeoip.net/json/\"\u001b[0m\u001b[1;33m\u001b[0m\u001b[0m\n\u001b[1;32m----> 2\u001b[1;33m \u001b[0mjsn\u001b[0m \u001b[1;33m=\u001b[0m \u001b[0murllib\u001b[0m\u001b[1;33m.\u001b[0m\u001b[0murlopen\u001b[0m\u001b[1;33m(\u001b[0m\u001b[0murl_geo\u001b[0m \u001b[1;33m+\u001b[0m \u001b[0mip\u001b[0m\u001b[1;33m)\u001b[0m\u001b[1;33m.\u001b[0m\u001b[0mread\u001b[0m\u001b[1;33m(\u001b[0m\u001b[1;33m)\u001b[0m\u001b[1;33m\u001b[0m\u001b[0m\n\u001b[0m",
        "\u001b[1;31mNameError\u001b[0m: name 'urllib' is not defined"
       ]
      }
     ],
     "prompt_number": 53
    },
    {
     "cell_type": "code",
     "collapsed": false,
     "input": [],
     "language": "python",
     "metadata": {},
     "outputs": []
    }
   ],
   "metadata": {}
  }
 ]
}