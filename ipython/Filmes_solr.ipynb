{
 "metadata": {
  "name": "",
  "signature": "sha256:09e80e9cf4e4c13b4e926dc22fcd3d0e1b95aab09b698623ab72f652a74eeea9"
 },
 "nbformat": 3,
 "nbformat_minor": 0,
 "worksheets": [
  {
   "cells": [
    {
     "cell_type": "code",
     "collapsed": false,
     "input": [
      "import sys\n",
      "import os\n",
      "import hashlib\n",
      "import json\n",
      "import pysolr"
     ],
     "language": "python",
     "metadata": {},
     "outputs": [],
     "prompt_number": 60
    },
    {
     "cell_type": "code",
     "collapsed": false,
     "input": [
      "SOLR_URL = \"http://localhost:8983/solr/filmes\"\n",
      "\n",
      "pastas = [u'1910-1930', u'1940', u'1950', u'1960', u'1970', u'1980', u'1990', u'2000', u'2010', u'2011', u'2012', u'2013',\n",
      "          u'2014',u'Terror',u'Animacao']\n",
      "\n",
      "top = u'g:/filmes/'\n",
      "\n",
      "campos_int = [\"tomatoMeter\",\"tomatoFresh\",\"imdbVotes\",\"tomatoRotten\",\"tomatoUserReviews\"\n",
      "              \"tomatoUserMeter\",\"tomatoReviews\",\"Metascore\"]\n",
      "campos_flt = [\"imdbRating\",\"tomatoRating\",\"tomatoUserRating\"]\n",
      "campos_dt = [\"Released\",\"last_update\"]\n",
      "\n",
      "campos_mv = [\"Language\",\"Genre\",\"Country\", \"Writer\",\"Director\",\"Actors\"]\n",
      "\n",
      "campos_ndx = [\"Title\",\"Country\",\"Plot\", \"Writer\",\"Director\",\"Actors\"]\n",
      "\n",
      "campos_t = ['Plot',\"tomatoConsensus\"]\n",
      "\n",
      "#\"Released\": \"25 Dec 2013\"\n",
      "#\"last_update\": \"2015-01-11 19:13:47\","
     ],
     "language": "python",
     "metadata": {},
     "outputs": [],
     "prompt_number": 65
    },
    {
     "cell_type": "code",
     "collapsed": false,
     "input": [
      "solr = pysolr.Solr(SOLR_URL, timeout=10)"
     ],
     "language": "python",
     "metadata": {},
     "outputs": [],
     "prompt_number": 66
    },
    {
     "cell_type": "code",
     "collapsed": false,
     "input": [
      "def le_imdb_json():\n",
      "    for pasta in pastas:\n",
      "        path = top + pasta\n",
      "        filmes = os.listdir( path)\n",
      "        i = 0\n",
      "        erros = 0\n",
      "        for filme in filmes:\n",
      "            i += 1\n",
      "            info_file = path + '/' + filme + '/imdb.json'\n",
      "            \n",
      "            if os.path.exists(info_file ): \n",
      "                dados_solr = {}\n",
      "                json_data = open(info_file)\n",
      "                dados = json.load(json_data) \n",
      "                for k in dados:\n",
      "\n",
      "                    v = dados[k]\n",
      "                    if v == 'N/A':continue\n",
      "                    \n",
      "                    #print k,v \n",
      "                    #print\n",
      "                    \n",
      "                    if k in campos_int:\n",
      "                        ks = k + \"_i\"\n",
      "                        v = v.replace(',','')\n",
      "                    elif k in campos_flt:\n",
      "                        ks = k + \"_f\"\n",
      "                        \n",
      "                    elif k in campos_mv:\n",
      "                        ks = k + \"_ss\"\n",
      "                        v = [x.strip() for x in v.split(',')]\n",
      "                    elif k in campos_t:\n",
      "                        ks = k + \"_t\"   \n",
      "                    elif k in campos_dt:\n",
      "                        ks = k + \"_dt\"  \n",
      "                        if k == \"Released\":\n",
      "                            v = datetime.datetime.strptime(v,\"%d %b %Y\")\n",
      "                            \n",
      "                        elif k ==\"last_update\":\n",
      "                            v = datetime.datetime.strptime(v,\"%Y-%m-%d %H:%M:%S\")\n",
      "                        else:\n",
      "                            print \"Erro - campo data n\u00e3o tratado\"\n",
      "                            return\n",
      "                    else:\n",
      "                        ks = k + \"_s\"\n",
      "                    dados_solr[ks] = v\n",
      "                    dados_solr['id'] = hashlib.sha256(dados[\"disk_path\"]).hexdigest() \n",
      "                \n",
      "                #print dados_solr\n",
      "                print dados[\"disk_path\"]\n",
      "                solr.add([dados_solr],commitWithin=\"10000\")\n",
      "                \n",
      "                #return\n",
      "        \n",
      "                json_data.close()\n"
     ],
     "language": "python",
     "metadata": {},
     "outputs": [],
     "prompt_number": 67
    },
    {
     "cell_type": "code",
     "collapsed": false,
     "input": [
      "#solr.delete(q=\"*:*\")\n",
      "#solr.commit()\n",
      "le_imdb_json()\n"
     ],
     "language": "python",
     "metadata": {},
     "outputs": [
      {
       "output_type": "stream",
       "stream": "stdout",
       "text": [
        "g:/filmes/1910-1930/A Grande Ilus\u00e3o (1937) Jean Renoir\n",
        "g:/filmes/1910-1930/A Mulher Faz o Homem (1939) Franck Capra"
       ]
      },
      {
       "output_type": "stream",
       "stream": "stdout",
       "text": [
        "\n",
        "g:/filmes/1910-1930/A Porta da Loucura (1936) Louis J. Gasnier"
       ]
      },
      {
       "output_type": "stream",
       "stream": "stdout",
       "text": [
        "\n",
        "g:/filmes/1910-1930/A Prop\u00f3sito de Nice (1930) Jean Vigo - Mudo"
       ]
      },
      {
       "output_type": "stream",
       "stream": "stdout",
       "text": [
        "\n",
        "g:/filmes/1910-1930/A Regra do Jogo (1939) Jean Renoir"
       ]
      },
      {
       "output_type": "stream",
       "stream": "stdout",
       "text": [
        "\n",
        "g:/filmes/1910-1930/Aconteceu Naquela Noite (1934) Franck Capra"
       ]
      },
      {
       "output_type": "stream",
       "stream": "stdout",
       "text": [
        "\n",
        "g:/filmes/1910-1930/Aconteceu Naquela Noite (1934) Frank Capra"
       ]
      },
      {
       "output_type": "stream",
       "stream": "stdout",
       "text": [
        "\n",
        "g:/filmes/1910-1930/Chantagem e Confiss\u00e3o (1929) Alfred Hitchcock"
       ]
      },
      {
       "output_type": "stream",
       "stream": "stdout",
       "text": [
        "\n",
        "g:/filmes/1910-1930/Confins (1933) Boris Barnet"
       ]
      },
      {
       "output_type": "stream",
       "stream": "stdout",
       "text": [
        "\n",
        "g:/filmes/1910-1930/Do Mundo Nada Se Leva (1938) Frank Capra"
       ]
      },
      {
       "output_type": "stream",
       "stream": "stdout",
       "text": [
        "\n",
        "g:/filmes/1910-1930/E o Vento Levou (1939) Victor Fleming, George Cukor e Sam Wood"
       ]
      },
      {
       "output_type": "stream",
       "stream": "stdout",
       "text": [
        "\n",
        "g:/filmes/1910-1930/Em Busca do Ouro (1925) Charles Chaplin"
       ]
      },
      {
       "output_type": "stream",
       "stream": "stdout",
       "text": [
        "\n",
        "g:/filmes/1910-1930/Loura e Sedutora (1931) Frank Capra"
       ]
      },
      {
       "output_type": "stream",
       "stream": "stdout",
       "text": [
        "\n",
        "g:/filmes/1910-1930/M - O Vampiro de D\u00fcsseldorf (1931) Fritz Lang"
       ]
      },
      {
       "output_type": "stream",
       "stream": "stdout",
       "text": [
        "\n",
        "g:/filmes/1910-1930/Madame DuBarry (1919) Ernst Lubistsch"
       ]
      },
      {
       "output_type": "stream",
       "stream": "stdout",
       "text": [
        "\n",
        "g:/filmes/1910-1930/Metr\u00f3polis (1927) Firtz Lang"
       ]
      },
      {
       "output_type": "stream",
       "stream": "stdout",
       "text": [
        "\n",
        "g:/filmes/1910-1930/O Galante Mr. Deeds (1936) Frank Capra"
       ]
      },
      {
       "output_type": "stream",
       "stream": "stdout",
       "text": [
        "\n",
        "g:/filmes/1910-1930/O Inquilino (1927) Alfred Hitchcock"
       ]
      },
      {
       "output_type": "stream",
       "stream": "stdout",
       "text": [
        "\n",
        "g:/filmes/1910-1930/O Ladr\u00e3o de Bagd\u00e1 (1924) Raoul Walsh"
       ]
      },
      {
       "output_type": "stream",
       "stream": "stdout",
       "text": [
        "\n",
        "g:/filmes/1910-1930/O Milh\u00e3o (1931) Ren\u00e9 Clair"
       ]
      },
      {
       "output_type": "stream",
       "stream": "stdout",
       "text": [
        "\n",
        "g:/filmes/1910-1930/O M\u00e1gico de Oz (1939) Victor Fleming, George Cukor, Mervyn LeRoy, Norman Taurog e King Vidor"
       ]
      },
      {
       "output_type": "stream",
       "stream": "stdout",
       "text": [
        "\n",
        "g:/filmes/1910-1930/Outubro (1928) Sergei Eisenstein"
       ]
      },
      {
       "output_type": "stream",
       "stream": "stdout",
       "text": [
        "\n",
        "g:/filmes/1910-1930/Tempos Modernos (1936) Charles Chaplin"
       ]
      },
      {
       "output_type": "stream",
       "stream": "stdout",
       "text": [
        "\n",
        "g:/filmes/1910-1930/The General (1926) Buster Keaton e Clyde Bruckman"
       ]
      },
      {
       "output_type": "stream",
       "stream": "stdout",
       "text": [
        "\n",
        "g:/filmes/1910-1930/Within our Gates (1920)"
       ]
      },
      {
       "output_type": "stream",
       "stream": "stdout",
       "text": [
        "\n",
        "g:/filmes/1910-1930/\u00caxtase (1933) Gustav Machat\u00fd"
       ]
      },
      {
       "output_type": "stream",
       "stream": "stdout",
       "text": [
        "\n",
        "g:/filmes/1940/A Felicidade N\u00e3o Se Compra (1946) Frank Capra"
       ]
      },
      {
       "output_type": "stream",
       "stream": "stdout",
       "text": [
        "\n",
        "g:/filmes/1940/A Possu\u00edda (1947) Clarence Brown"
       ]
      },
      {
       "output_type": "stream",
       "stream": "stdout",
       "text": [
        "\n",
        "g:/filmes/1940/As Damas dos Bois de Boulogne (1945) Robert Besson"
       ]
      },
      {
       "output_type": "stream",
       "stream": "stdout",
       "text": [
        "\n",
        "g:/filmes/1940/As Oito V\u00edtimas (1949) Robert Hamer"
       ]
      },
      {
       "output_type": "stream",
       "stream": "stdout",
       "text": [
        "\n",
        "g:/filmes/1940/Contrastes Humanos (1941) Preston Sturges"
       ]
      },
      {
       "output_type": "stream",
       "stream": "stdout",
       "text": [
        "\n",
        "g:/filmes/1940/Festim Diab\u00c3\u00b3lico (1948) Alfred Hitchcock"
       ]
      },
      {
       "output_type": "stream",
       "stream": "stdout",
       "text": [
        "\n",
        "g:/filmes/1940/F\u00faria Sanguin\u00e1ria (1949) Raoul Walsh"
       ]
      },
      {
       "output_type": "stream",
       "stream": "stdout",
       "text": [
        "\n",
        "g:/filmes/1940/Ivan, o Terr\u00edvel (1945) Sergei Eisenstein"
       ]
      },
      {
       "output_type": "stream",
       "stream": "stdout",
       "text": [
        "\n",
        "g:/filmes/1940/O Terceiro Homem (1949) Carol Reed"
       ]
      },
      {
       "output_type": "stream",
       "stream": "stdout",
       "text": [
        "\n",
        "g:/filmes/1940/Sob o Signo de Capric\u00f3rnio (1949) Alfred Hitchcock"
       ]
      },
      {
       "output_type": "stream",
       "stream": "stdout",
       "text": [
        "\n",
        "g:/filmes/1940/Um Barco e Nove Destinos (1944) Alfred Hitchcock"
       ]
      },
      {
       "output_type": "stream",
       "stream": "stdout",
       "text": [
        "\n",
        "g:/filmes/1940/Vinhas da Ira (1940) John Ford"
       ]
      },
      {
       "output_type": "stream",
       "stream": "stdout",
       "text": [
        "\n",
        "g:/filmes/1950/A Gard\u00eania Azul (1953) Fritz Lang"
       ]
      },
      {
       "output_type": "stream",
       "stream": "stdout",
       "text": [
        "\n",
        "g:/filmes/1950/A Grande Guerra (1959) Mario Monicelli"
       ]
      },
      {
       "output_type": "stream",
       "stream": "stdout",
       "text": [
        "\n",
        "g:/filmes/1950/Amor na Tarde (1957) Billy Wilder"
       ]
      },
      {
       "output_type": "stream",
       "stream": "stdout",
       "text": [
        "\n",
        "g:/filmes/1950/As Diab\u00f3licas (1955) Henri-Georges Clouzot"
       ]
      },
      {
       "output_type": "stream",
       "stream": "stdout",
       "text": [
        "\n",
        "g:/filmes/1950/As F\u00e9rias do Sr. Hulot (1953) Jacques Tati"
       ]
      },
      {
       "output_type": "stream",
       "stream": "stdout",
       "text": [
        "\n",
        "g:/filmes/1950/Boneca de Carne (1956) Elia Kazan"
       ]
      },
      {
       "output_type": "stream",
       "stream": "stdout",
       "text": [
        "\n",
        "g:/filmes/1950/Brinquedo Proibido (1952) Ren\u00e9 Cl\u00e9ment"
       ]
      },
      {
       "output_type": "stream",
       "stream": "stdout",
       "text": [
        "\n",
        "g:/filmes/1950/Contos da Lua Vaga (1953) Kenji Mizoguchi"
       ]
      },
      {
       "output_type": "stream",
       "stream": "stdout",
       "text": [
        "\n",
        "g:/filmes/1950/Estranha Compuls\u00e3o (1959) Richard Fleischer"
       ]
      },
      {
       "output_type": "stream",
       "stream": "stdout",
       "text": [
        "\n",
        "g:/filmes/1950/Gata em Teto de Zinco Quente (1958) Richards Brooks"
       ]
      },
      {
       "output_type": "stream",
       "stream": "stdout",
       "text": [
        "\n",
        "g:/filmes/1950/Hiroshima Mon Amour (1959) Alain Resnais"
       ]
      },
      {
       "output_type": "stream",
       "stream": "stdout",
       "text": [
        "\n",
        "g:/filmes/1950/Ivan, o Terr\u00edvel - Parte II  (1958) Sergei Eisenstein"
       ]
      },
      {
       "output_type": "stream",
       "stream": "stdout",
       "text": [
        "\n",
        "g:/filmes/1950/Lola Montes (1955) Max Oph\u00fcls"
       ]
      },
      {
       "output_type": "stream",
       "stream": "stdout",
       "text": [
        "\n",
        "g:/filmes/1950/Luzes da Ribalta (1952) Charles Chaplin"
       ]
      },
      {
       "output_type": "stream",
       "stream": "stdout",
       "text": [
        "\n",
        "g:/filmes/1950/Medo e Desejo (1953) Stanley Kubrick"
       ]
      },
      {
       "output_type": "stream",
       "stream": "stdout",
       "text": [
        "\n",
        "g:/filmes/1950/Meu Tio (1958) Jacques Tati"
       ]
      },
      {
       "output_type": "stream",
       "stream": "stdout",
       "text": [
        "\n",
        "g:/filmes/1950/O Dia que a Terra Parou (1951) Robert Wise"
       ]
      },
      {
       "output_type": "stream",
       "stream": "stdout",
       "text": [
        "\n",
        "g:/filmes/1950/O Di\u00e1rio de Anne Frank (1959) George Stevens"
       ]
      },
      {
       "output_type": "stream",
       "stream": "stdout",
       "text": [
        "\n",
        "g:/filmes/1950/O Grande Golpe (1956) Stanley Kubrick"
       ]
      },
      {
       "output_type": "stream",
       "stream": "stdout",
       "text": [
        "\n",
        "g:/filmes/1950/O Homem que Sabia Demais (1956) Alfred Hitchcock"
       ]
      },
      {
       "output_type": "stream",
       "stream": "stdout",
       "text": [
        "\n",
        "g:/filmes/1950/O Incr\u00edvel Homem que Encolheu (1957) Jack Arnold"
       ]
      },
      {
       "output_type": "stream",
       "stream": "stdout",
       "text": [
        "\n",
        "g:/filmes/1950/O S\u00e9timo Selo (1957) Ingmar Bergman"
       ]
      },
      {
       "output_type": "stream",
       "stream": "stdout",
       "text": [
        "\n",
        "g:/filmes/1950/Ordet (1955) Carl Theodor Dreyer"
       ]
      },
      {
       "output_type": "stream",
       "stream": "stdout",
       "text": [
        "\n",
        "g:/filmes/1950/Os Eternos Desconhecidos (1958) Mario Monicelli"
       ]
      },
      {
       "output_type": "stream",
       "stream": "stdout",
       "text": [
        "\n",
        "g:/filmes/1950/Pacto Sinistro (1951) Alfred Hitchcock"
       ]
      },
      {
       "output_type": "stream",
       "stream": "stdout",
       "text": [
        "\n",
        "g:/filmes/1950/Plano 9 do Espa\u00e7o Sideral (1959) Ed Wood"
       ]
      },
      {
       "output_type": "stream",
       "stream": "stdout",
       "text": [
        "\n",
        "g:/filmes/1950/Um Rei em Nova York (1957) Charles Chaplin"
       ]
      },
      {
       "output_type": "stream",
       "stream": "stdout",
       "text": [
        "\n",
        "g:/filmes/1950/Uma Cruz \u00c3\u00a0 Beira do Abismo (1959) Fred Zinnemann"
       ]
      },
      {
       "output_type": "stream",
       "stream": "stdout",
       "text": [
        "\n",
        "g:/filmes/1950/Umberto D. (1952) Vittorio de Sica"
       ]
      },
      {
       "output_type": "stream",
       "stream": "stdout",
       "text": [
        "\n",
        "g:/filmes/1950/Viver (1952) Akira Kurosawa"
       ]
      },
      {
       "output_type": "stream",
       "stream": "stdout",
       "text": [
        "\n",
        "g:/filmes/1960/2001 A Space Odyssey (1968) Stanley Kubrick"
       ]
      },
      {
       "output_type": "stream",
       "stream": "stdout",
       "text": [
        "\n",
        "g:/filmes/1960/322 (1969) Dusan Han\u00e1k - Tchecoslov\u00e1quia"
       ]
      },
      {
       "output_type": "stream",
       "stream": "stdout",
       "text": [
        "\n",
        "g:/filmes/1960/7 Faces do Dr. Lao (1964) George Pal"
       ]
      },
      {
       "output_type": "stream",
       "stream": "stdout",
       "text": [
        "\n",
        "g:/filmes/1960/A Inf\u00e2ncia de Ivan (1962) Andrei Tarkovsky"
       ]
      },
      {
       "output_type": "stream",
       "stream": "stdout",
       "text": [
        "\n",
        "g:/filmes/1960/Amphibian Man (1962) Vladimir Chebotaryov e Gennadi Kazansky (URSS)"
       ]
      },
      {
       "output_type": "stream",
       "stream": "stdout",
       "text": [
        "\n",
        "g:/filmes/1960/Anna (1967) Pierre Koralnik"
       ]
      },
      {
       "output_type": "stream",
       "stream": "stdout",
       "text": [
        "\n",
        "g:/filmes/1960/Ano Passado em Marienbad (1961) Alain Resnais"
       ]
      },
      {
       "output_type": "stream",
       "stream": "stdout",
       "text": [
        "\n",
        "g:/filmes/1960/As Pequenas Margaridas (1966) Vera Chytilova - Tchecoslov\u00e1quia"
       ]
      },
      {
       "output_type": "stream",
       "stream": "stdout",
       "text": [
        "\n",
        "g:/filmes/1960/Bande a Part (1964) Jean Luc-Godard"
       ]
      },
      {
       "output_type": "stream",
       "stream": "stdout",
       "text": [
        "\n",
        "g:/filmes/1960/Beije-me, Idiota (1964) Billy Wilder"
       ]
      },
      {
       "output_type": "stream",
       "stream": "stdout",
       "text": [
        "\n",
        "g:/filmes/1960/Bonnie e  Clyde - Uma Rajada de Balas (1967) Arthur Penn"
       ]
      },
      {
       "output_type": "stream",
       "stream": "stdout",
       "text": [
        "\n",
        "g:/filmes/1960/Bullitt (1968) Peter Yates"
       ]
      },
      {
       "output_type": "stream",
       "stream": "stdout",
       "text": [
        "\n",
        "g:/filmes/1960/Cabo do Medo (1962) J. Lee Thompson"
       ]
      },
      {
       "output_type": "stream",
       "stream": "stdout",
       "text": [
        "\n",
        "g:/filmes/1960/Carnival of Souls (1962) Herk Harvey"
       ]
      },
      {
       "output_type": "stream",
       "stream": "stdout",
       "text": [
        "\n",
        "g:/filmes/1960/Cathy Come Home (1966) Ken Loach"
       ]
      },
      {
       "output_type": "stream",
       "stream": "stdout",
       "text": [
        "\n",
        "g:/filmes/1960/Chappaqua - Almas Entorpecidas (1966) Conrad Rooks"
       ]
      },
      {
       "output_type": "stream",
       "stream": "stdout",
       "text": [
        "\n",
        "g:/filmes/1960/Com a Maldade na Alma (1964) Robert Aldrich"
       ]
      },
      {
       "output_type": "stream",
       "stream": "stdout",
       "text": [
        "\n",
        "g:/filmes/1960/Cr\u00f4nica de Anna Magdalena Bach (1968) Dani\u00e8le Hvillet e Jean-Marie Straub"
       ]
      },
      {
       "output_type": "stream",
       "stream": "stdout",
       "text": [
        "\n",
        "g:/filmes/1960/Darling - A que Amou Demais (1965) John Schlesinger"
       ]
      },
      {
       "output_type": "stream",
       "stream": "stdout",
       "text": [
        "\n",
        "g:/filmes/1960/Dersu Uzala (1961) Agasi Babayan"
       ]
      },
      {
       "output_type": "stream",
       "stream": "stdout",
       "text": [
        "\n",
        "g:/filmes/1960/Desafio \u00e0 Corrup\u00e7\u00e3o (1961) Robert Rossen"
       ]
      },
      {
       "output_type": "stream",
       "stream": "stdout",
       "text": [
        "\n",
        "g:/filmes/1960/Div\u00f3rcio \u00e0 Italiana (1961) Pietro Germi"
       ]
      },
      {
       "output_type": "stream",
       "stream": "stdout",
       "text": [
        "\n",
        "g:/filmes/1960/Django (1966) Sergio Corbucci"
       ]
      },
      {
       "output_type": "stream",
       "stream": "stdout",
       "text": [
        "\n",
        "g:/filmes/1960/Domingo \u00e0s Seis Horas (1965) Lucian Pintille - Rom\u00eania"
       ]
      },
      {
       "output_type": "stream",
       "stream": "stdout",
       "text": [
        "\n",
        "g:/filmes/1960/Double Suicide (1969) Masahiro Shinoda"
       ]
      },
      {
       "output_type": "stream",
       "stream": "stdout",
       "text": [
        "\n",
        "g:/filmes/1960/Dr. Fant\u00e1stico (1964) Stanley Kubrick"
       ]
      },
      {
       "output_type": "stream",
       "stream": "stdout",
       "text": [
        "\n",
        "g:/filmes/1960/Eu te Amo, eu te Amo (1968) Alain Resnais"
       ]
      },
      {
       "output_type": "stream",
       "stream": "stdout",
       "text": [
        "\n",
        "g:/filmes/1960/Faces (1968) John Cassavetes"
       ]
      },
      {
       "output_type": "stream",
       "stream": "stdout",
       "text": [
        "\n",
        "g:/filmes/1960/Farsa Diab\u00f3lica (1964) Bryan Forbes"
       ]
      },
      {
       "output_type": "stream",
       "stream": "stdout",
       "text": [
        "\n",
        "g:/filmes/1960/Freud, Al\u00e9m da Alma (1962) John Huston"
       ]
      },
      {
       "output_type": "stream",
       "stream": "stdout",
       "text": [
        "\n",
        "g:/filmes/1960/Gavi\u00f5es e Passarinhos (1966) Pier Paolo Pasolini"
       ]
      },
      {
       "output_type": "stream",
       "stream": "stdout",
       "text": [
        "\n",
        "g:/filmes/1960/Homem Mau, Dorme Bem (1960) Akira Kurosawa"
       ]
      },
      {
       "output_type": "stream",
       "stream": "stdout",
       "text": [
        "\n",
        "g:/filmes/1960/Irma la Douce (1963) Billy Wilder"
       ]
      },
      {
       "output_type": "stream",
       "stream": "stdout",
       "text": [
        "\n",
        "g:/filmes/1960/Joen (1967) Yoshishige Yoshida - Jap\u00e3o"
       ]
      },
      {
       "output_type": "stream",
       "stream": "stdout",
       "text": [
        "\n",
        "g:/filmes/1960/Kes (1969) Ken Loach"
       ]
      },
      {
       "output_type": "stream",
       "stream": "stdout",
       "text": [
        "\n",
        "g:/filmes/1960/L'homme qui ment (1968) Alain Robbe-Grillet"
       ]
      },
      {
       "output_type": "stream",
       "stream": "stdout",
       "text": [
        "\n",
        "g:/filmes/1960/La madriguera (1969) Carlos Saura"
       ]
      },
      {
       "output_type": "stream",
       "stream": "stdout",
       "text": [
        "\n",
        "g:/filmes/1960/Nas Garras do \u00d3dio (1965) Seth Holt"
       ]
      },
      {
       "output_type": "stream",
       "stream": "stdout",
       "text": [
        "\n",
        "g:/filmes/1960/O Barba Ruiva (1965) Akira Kurosawa"
       ]
      },
      {
       "output_type": "stream",
       "stream": "stdout",
       "text": [
        "\n",
        "g:/filmes/1960/O Beijo Amargo (1964) Samuel Fuller"
       ]
      },
      {
       "output_type": "stream",
       "stream": "stdout",
       "text": [
        "\n",
        "g:/filmes/1960/O Ladr\u00e3o Aventureiro (1967) Louis Malle"
       ]
      },
      {
       "output_type": "stream",
       "stream": "stdout",
       "text": [
        "\n",
        "g:/filmes/1960/O Milagre de Anna Sullivan (1962) Arthur Penn"
       ]
      },
      {
       "output_type": "stream",
       "stream": "stdout",
       "text": [
        "\n",
        "g:/filmes/1960/O que Ter\u00e1 Acontecido a Baby Jane (1962) Robert Aldrich"
       ]
      },
      {
       "output_type": "stream",
       "stream": "stdout",
       "text": [
        "\n",
        "g:/filmes/1960/O Sol por Testemunha (1960) Ren\u00e9 Cl\u00e9ment"
       ]
      },
      {
       "output_type": "stream",
       "stream": "stdout",
       "text": [
        "\n",
        "g:/filmes/1960/Os Amores de uma Loira (1965) Milos Forman"
       ]
      },
      {
       "output_type": "stream",
       "stream": "stdout",
       "text": [
        "\n",
        "g:/filmes/1960/Os Assassinos (1964) Don Siegel"
       ]
      },
      {
       "output_type": "stream",
       "stream": "stdout",
       "text": [
        "\n",
        "g:/filmes/1960/Os P\u00e1ssaros (1963) Alfred Hitchcock"
       ]
      },
      {
       "output_type": "stream",
       "stream": "stdout",
       "text": [
        "\n",
        "g:/filmes/1960/Paix\u00c3\u00b5es que Alucinam (1963) Samuel Fuller"
       ]
      },
      {
       "output_type": "stream",
       "stream": "stdout",
       "text": [
        "\n",
        "g:/filmes/1960/Playtime - Tempo de Divers\u00c3\u00a3o (1967) Jacques Tati"
       ]
      },
      {
       "output_type": "stream",
       "stream": "stdout",
       "text": [
        "\n",
        "g:/filmes/1960/Psicose (1960) Alfred Hitchcock"
       ]
      },
      {
       "output_type": "stream",
       "stream": "stdout",
       "text": [
        "\n",
        "g:/filmes/1960/Quem Tem Medo de  Virginia Woolf (1966) Mike Nichols"
       ]
      },
      {
       "output_type": "stream",
       "stream": "stdout",
       "text": [
        "\n",
        "g:/filmes/1960/Rebeldia Indom\u00c3\u00a1vel (1967) Stuart Rosenberg"
       ]
      },
      {
       "output_type": "stream",
       "stream": "stdout",
       "text": [
        "\n",
        "g:/filmes/1960/Skupljaci perja (1967) Aleksandra Petrovica"
       ]
      },
      {
       "output_type": "stream",
       "stream": "stdout",
       "text": [
        "\n",
        "g:/filmes/1960/Tempestade Sobre Washington (1962) Otto Preminger"
       ]
      },
      {
       "output_type": "stream",
       "stream": "stdout",
       "text": [
        "\n",
        "g:/filmes/1960/Um Clar\u00c3\u00a3o nas Trevas (1967) Terence Young"
       ]
      },
      {
       "output_type": "stream",
       "stream": "stdout",
       "text": [
        "\n",
        "g:/filmes/1960/Um Dia, Um Gato (1963) Vojtech Jasny -  Tchecoslov\u00c3\u00a1quia"
       ]
      },
      {
       "output_type": "stream",
       "stream": "stdout",
       "text": [
        "\n",
        "g:/filmes/1960/Uma Mulher Delicada (1969) Robert Bresson"
       ]
      },
      {
       "output_type": "stream",
       "stream": "stdout",
       "text": [
        "\n",
        "g:/filmes/1960/Uma Sobre a Outra (1969) Lucio Fulci"
       ]
      },
      {
       "output_type": "stream",
       "stream": "stdout",
       "text": [
        "\n",
        "g:/filmes/1960/Un uomo a met\u00e0 (1966) Vittorio de Seta"
       ]
      },
      {
       "output_type": "stream",
       "stream": "stdout",
       "text": [
        "\n",
        "g:/filmes/1960/Via Margutta (1960) Mario Camerini - It\u00c3\u00a1lia"
       ]
      },
      {
       "output_type": "stream",
       "stream": "stdout",
       "text": [
        "\n",
        "g:/filmes/1960/Viagem ao Fim do Universo (1963) Jindrich Polak- Tchecoslov\u00e1quia"
       ]
      },
      {
       "output_type": "stream",
       "stream": "stdout",
       "text": [
        "\n",
        "g:/filmes/1960/Vidas em Fuga (1960) Sidney Lumet"
       ]
      },
      {
       "output_type": "stream",
       "stream": "stdout",
       "text": [
        "\n",
        "g:/filmes/1960/V\u00c3\u00adcio Maldito (1962) Blake Edwards"
       ]
      },
      {
       "output_type": "stream",
       "stream": "stdout",
       "text": [
        "\n",
        "g:/filmes/1960/Z (1969) Costa-Gavras"
       ]
      },
      {
       "output_type": "stream",
       "stream": "stdout",
       "text": [
        "\n",
        "g:/filmes/1960/Zazie no M\u00c3\u00aatro (1960) Louis Malle"
       ]
      },
      {
       "output_type": "stream",
       "stream": "stdout",
       "text": [
        "\n",
        "g:/filmes/1960/\u00c2nsia de Amar (1971) Mike Nichols"
       ]
      },
      {
       "output_type": "stream",
       "stream": "stdout",
       "text": [
        "\n",
        "g:/filmes/1970/A Classe Oper\u00e1ria Vai ao Para\u00edso (1971) Elio Petri"
       ]
      },
      {
       "output_type": "stream",
       "stream": "stdout",
       "text": [
        "\n",
        "g:/filmes/1970/A Estrat\u00e9gia da Aranha (1970) Bernardo Bertolucci"
       ]
      },
      {
       "output_type": "stream",
       "stream": "stdout",
       "text": [
        "\n",
        "g:/filmes/1970/A F\u00faria (1978) Brian de Palma"
       ]
      },
      {
       "output_type": "stream",
       "stream": "stdout",
       "text": [
        "\n",
        "g:/filmes/1970/A Garota (1975) Souleymane Ciss\u00e9 - Mali"
       ]
      },
      {
       "output_type": "stream",
       "stream": "stdout",
       "text": [
        "\n",
        "g:/filmes/1970/A Garota do Adeus (1977) Herbert Ross"
       ]
      },
      {
       "output_type": "stream",
       "stream": "stdout",
       "text": [
        "\n",
        "g:/filmes/1970/A Montanha Sagrada (1973) Alejandro Jodorowski"
       ]
      },
      {
       "output_type": "stream",
       "stream": "stdout",
       "text": [
        "\n",
        "g:/filmes/1970/A Morte de Um Bookmaker Chin\u00eas (1976) John Cassavetes"
       ]
      },
      {
       "output_type": "stream",
       "stream": "stdout",
       "text": [
        "\n",
        "g:/filmes/1970/Amargo Pesadelo (1972) John Boorman"
       ]
      },
      {
       "output_type": "stream",
       "stream": "stdout",
       "text": [
        "\n",
        "g:/filmes/1970/Amor e Anarquia (1973) Lina Wertm\u00fcller - It\u00e1lia"
       ]
      },
      {
       "output_type": "stream",
       "stream": "stdout",
       "text": [
        "\n",
        "g:/filmes/1970/Amor \u00e0 Tarde (1972) Eric Rohmer - Fran\u00e7a"
       ]
      },
      {
       "output_type": "stream",
       "stream": "stdout",
       "text": [
        "\n",
        "g:/filmes/1970/Ana e os Lobos (1972) Carlos Saura"
       ]
      },
      {
       "output_type": "stream",
       "stream": "stdout",
       "text": [
        "\n",
        "g:/filmes/1970/Ao Anoitecer (1971) Claude Chabrol"
       ]
      },
      {
       "output_type": "stream",
       "stream": "stdout",
       "text": [
        "\n",
        "g:/filmes/1970/As Esposas de Stepford (1975) Bryan Forbes"
       ]
      },
      {
       "output_type": "stream",
       "stream": "stdout",
       "text": [
        "\n",
        "g:/filmes/1970/As L\u00e1grimas Amargas de Petra von Kant (1972) Rainer Werner Fassbinder"
       ]
      },
      {
       "output_type": "stream",
       "stream": "stdout",
       "text": [
        "\n",
        "g:/filmes/1970/Assalto \u00e0 13\u00aa DP (1976) John Carpenter"
       ]
      },
      {
       "output_type": "stream",
       "stream": "stdout",
       "text": [
        "\n",
        "g:/filmes/1970/Assassinato por Morte (1976) Robert Moore"
       ]
      },
      {
       "output_type": "stream",
       "stream": "stdout",
       "text": [
        "\n",
        "g:/filmes/1970/Assim Fala o Amor (1971) John Cassavetes"
       ]
      },
      {
       "output_type": "stream",
       "stream": "stdout",
       "text": [
        "\n",
        "g:/filmes/1970/Banz\u00e9 no Oeste (1974) Mel Brooks"
       ]
      },
      {
       "output_type": "stream",
       "stream": "stdout",
       "text": [
        "\n",
        "g:/filmes/1970/Cabaret (1972) Bob Fosse"
       ]
      },
      {
       "output_type": "stream",
       "stream": "stdout",
       "text": [
        "\n",
        "g:/filmes/1970/Calafrios (1975) David Cronenberg - Terror"
       ]
      },
      {
       "output_type": "stream",
       "stream": "stdout",
       "text": [
        "\n",
        "g:/filmes/1970/Canoa (1976) Felipe Cazals"
       ]
      },
      {
       "output_type": "stream",
       "stream": "stdout",
       "text": [
        "\n",
        "g:/filmes/1970/Coffy (1973) Jack Hill"
       ]
      },
      {
       "output_type": "stream",
       "stream": "stdout",
       "text": [
        "\n",
        "g:/filmes/1970/Corrida sem Fim (1971) Monte Haellman"
       ]
      },
      {
       "output_type": "stream",
       "stream": "stdout",
       "text": [
        "\n",
        "g:/filmes/1970/Cria Cuervos (1976) Carlos Saura"
       ]
      },
      {
       "output_type": "stream",
       "stream": "stdout",
       "text": [
        "\n",
        "g:/filmes/1970/Cruz de Ferro (1977) Sam Peckinpah"
       ]
      },
      {
       "output_type": "stream",
       "stream": "stdout",
       "text": [
        "\n",
        "g:/filmes/1970/Deslizamentos Progressivos do Prazer (1974) Alain Robbe-Griliet"
       ]
      },
      {
       "output_type": "stream",
       "stream": "stdout",
       "text": [
        "\n",
        "g:/filmes/1970/Enraivecida na F\u00c3\u00baria do Sexo (1977) David Cronenberg"
       ]
      },
      {
       "output_type": "stream",
       "stream": "stdout",
       "text": [
        "\n",
        "g:/filmes/1970/Enraivecida na F\u00faria do Sexo (1977) David Cronenberg"
       ]
      },
      {
       "output_type": "stream",
       "stream": "stdout",
       "text": [
        "\n",
        "g:/filmes/1970/Equus (1977) Sidney Lumet"
       ]
      },
      {
       "output_type": "stream",
       "stream": "stdout",
       "text": [
        "\n",
        "g:/filmes/1970/Fedora (1978) Billy Wilder"
       ]
      },
      {
       "output_type": "stream",
       "stream": "stdout",
       "text": [
        "\n",
        "g:/filmes/1970/Fern\u00e3o Capelo Gaivota (1973) Hall Bartlett"
       ]
      },
      {
       "output_type": "stream",
       "stream": "stdout",
       "text": [
        "\n",
        "g:/filmes/1970/Grease; Nos Tempos da Brilhantina (1978) Randal Kleiser"
       ]
      },
      {
       "output_type": "stream",
       "stream": "stdout",
       "text": [
        "\n",
        "g:/filmes/1970/Irm\u00e3s Diab\u00f3licas (1973)  Brian De Palma"
       ]
      },
      {
       "output_type": "stream",
       "stream": "stdout",
       "text": [
        "\n",
        "g:/filmes/1970/Jesus Cristo Superstar (1973) Norman Jewison"
       ]
      },
      {
       "output_type": "stream",
       "stream": "stdout",
       "text": [
        "\n",
        "g:/filmes/1970/Jogo Mortal (1972) Joseph L.Mankiewicz"
       ]
      },
      {
       "output_type": "stream",
       "stream": "stdout",
       "text": [
        "\n",
        "g:/filmes/1970/Johnny Vai \u00e0 Guerra (1971) Dalton Trumbo"
       ]
      },
      {
       "output_type": "stream",
       "stream": "stdout",
       "text": [
        "\n",
        "g:/filmes/1970/La Luna (1979) Bernardo Bertolucci"
       ]
      },
      {
       "output_type": "stream",
       "stream": "stdout",
       "text": [
        "\n",
        "g:/filmes/1970/Laranja Mec\u00c3\u00a2nica (1971) Stanley Kubrick"
       ]
      },
      {
       "output_type": "stream",
       "stream": "stdout",
       "text": [
        "\n",
        "g:/filmes/1970/Le camion (1977) Marguerite Duras"
       ]
      },
      {
       "output_type": "stream",
       "stream": "stdout",
       "text": [
        "\n",
        "g:/filmes/1970/Louca Paix\u00e3o (1973) Paul Verhoeven"
       ]
      },
      {
       "output_type": "stream",
       "stream": "stdout",
       "text": [
        "\n",
        "g:/filmes/1970/Mahler (1974) Ken Russel"
       ]
      },
      {
       "output_type": "stream",
       "stream": "stdout",
       "text": [
        "\n",
        "g:/filmes/1970/Mam\u00c3\u00a3e faz 100 Anos (1979) Carlos Saura"
       ]
      },
      {
       "output_type": "stream",
       "stream": "stdout",
       "text": [
        "\n",
        "g:/filmes/1970/Moi, Pierre Rivi\u00e8re, ayant \u00e9gorg\u00e9 ma m\u00e8re, ma soeur et mon fr\u00e8re... (1976) Ren\u00e9 Allio"
       ]
      },
      {
       "output_type": "stream",
       "stream": "stdout",
       "text": [
        "\n",
        "g:/filmes/1970/Muito Al\u00e9m do Jardim (1979) Hal Ashey"
       ]
      },
      {
       "output_type": "stream",
       "stream": "stdout",
       "text": [
        "\n",
        "g:/filmes/1970/N\u00f3s N\u00e3o Envelheceremos Juntos (1972) Maurice Pialat - Fran\u00e7a"
       ]
      },
      {
       "output_type": "stream",
       "stream": "stdout",
       "text": [
        "\n",
        "g:/filmes/1970/O Assalariado (1973) Alan Bridges"
       ]
      },
      {
       "output_type": "stream",
       "stream": "stdout",
       "text": [
        "\n",
        "g:/filmes/1970/O Casamento de Maria Braun (1979) Rainer Werner Fassbinder"
       ]
      },
      {
       "output_type": "stream",
       "stream": "stdout",
       "text": [
        "\n",
        "g:/filmes/1970/O Expresso para Chicago (1976) Arthur Miller"
       ]
      },
      {
       "output_type": "stream",
       "stream": "stdout",
       "text": [
        "\n",
        "g:/filmes/1970/O Homem de M\u00e1rmore (1977) Andrzej Wajda"
       ]
      },
      {
       "output_type": "stream",
       "stream": "stdout",
       "text": [
        "\n",
        "g:/filmes/1970/O Jovem Frankenstein (1974) Mel Brooks"
       ]
      },
      {
       "output_type": "stream",
       "stream": "stdout",
       "text": [
        "\n",
        "g:/filmes/1970/O Porteiro da Noite (1974) Liliana Cavani"
       ]
      },
      {
       "output_type": "stream",
       "stream": "stdout",
       "text": [
        "\n",
        "g:/filmes/1970/Os Filhos do Medo (1979) David Cronenberg"
       ]
      },
      {
       "output_type": "stream",
       "stream": "stdout",
       "text": [
        "\n",
        "g:/filmes/1970/Os Maridos (1970) John Cassavetes"
       ]
      },
      {
       "output_type": "stream",
       "stream": "stdout",
       "text": [
        "\n",
        "g:/filmes/1970/Pelos Caminhos do Inferno (1971) Ted Kotcheff"
       ]
      },
      {
       "output_type": "stream",
       "stream": "stdout",
       "text": [
        "\n",
        "g:/filmes/1970/Planeta Fant\u00c3\u00a1stico (1973) Ren\u00c3\u00a9 Laloux"
       ]
      },
      {
       "output_type": "stream",
       "stream": "stdout",
       "text": [
        "\n",
        "g:/filmes/1970/Problemas Femininos (1974) John Waters"
       ]
      },
      {
       "output_type": "stream",
       "stream": "stdout",
       "text": [
        "\n",
        "g:/filmes/1970/Profiss\u00c3\u00a3o Rep\u00c3\u00b3rter (1975) Michelangelo Antonioni"
       ]
      },
      {
       "output_type": "stream",
       "stream": "stdout",
       "text": [
        "\n",
        "g:/filmes/1970/Quadrophenia (1979) Franc Roddam"
       ]
      },
      {
       "output_type": "stream",
       "stream": "stdout",
       "text": [
        "\n",
        "g:/filmes/1970/Rockers (1978) Ted Bafaloukos"
       ]
      },
      {
       "output_type": "stream",
       "stream": "stdout",
       "text": [
        "\n",
        "g:/filmes/1970/Sanat\u00f3rio da Clepsidra (1973) Wojciech Has - Pol\u00f4nia"
       ]
      },
      {
       "output_type": "stream",
       "stream": "stdout",
       "text": [
        "\n",
        "g:/filmes/1970/Sem Anestesia (1978) Andrej Wajda"
       ]
      },
      {
       "output_type": "stream",
       "stream": "stdout",
       "text": [
        "\n",
        "g:/filmes/1970/Serpico (1973) Sidney Lumet"
       ]
      },
      {
       "output_type": "stream",
       "stream": "stdout",
       "text": [
        "\n",
        "g:/filmes/1970/Sweet Movie (1974) Dusan Makavejev"
       ]
      },
      {
       "output_type": "stream",
       "stream": "stdout",
       "text": [
        "\n",
        "g:/filmes/1970/Tokyo senso sengo hiwa (1970) Nagisa Oshima"
       ]
      },
      {
       "output_type": "stream",
       "stream": "stdout",
       "text": [
        "\n",
        "g:/filmes/1970/Touki Bouki (1973) Djibril Diop Mambety - Senegal"
       ]
      },
      {
       "output_type": "stream",
       "stream": "stdout",
       "text": [
        "\n",
        "g:/filmes/1970/Tropoy beskorystoy lyubvi (1972) Agasi Babayan"
       ]
      },
      {
       "output_type": "stream",
       "stream": "stdout",
       "text": [
        "\n",
        "g:/filmes/1970/Tr\u00c3\u00aas Dias do Condor (1975) Sydney Pollack"
       ]
      },
      {
       "output_type": "stream",
       "stream": "stdout",
       "text": [
        "\n",
        "g:/filmes/1970/Um Dia Muito Especial (1977) Ettore Scola"
       ]
      },
      {
       "output_type": "stream",
       "stream": "stdout",
       "text": [
        "\n",
        "g:/filmes/1970/Un homme qui dort (1974) Bernard Queysanne"
       ]
      },
      {
       "output_type": "stream",
       "stream": "stdout",
       "text": [
        "\n",
        "g:/filmes/1970/Valerie e sua Semana de Deslumbramento (1970) Jaromil Jireas - Tchecoslov\u00e1quia"
       ]
      },
      {
       "output_type": "stream",
       "stream": "stdout",
       "text": [
        "\n",
        "g:/filmes/1970/Vida em Fam\u00edlia (1971) Ken Loach"
       ]
      },
      {
       "output_type": "stream",
       "stream": "stdout",
       "text": [
        "\n",
        "g:/filmes/1970/W.R. - Mysteries of the Organism (1971) Dusan Makavejev"
       ]
      },
      {
       "output_type": "stream",
       "stream": "stdout",
       "text": [
        "\n",
        "g:/filmes/1980/A Hist\u00f3ria Oficial (1985) Luis Puenzo"
       ]
      },
      {
       "output_type": "stream",
       "stream": "stdout",
       "text": [
        "\n",
        "g:/filmes/1980/A Hora da Zona Morta (1983) David Cronenberg"
       ]
      },
      {
       "output_type": "stream",
       "stream": "stdout",
       "text": [
        "\n",
        "g:/filmes/1980/A Mosca (1986) David Cronenberg"
       ]
      },
      {
       "output_type": "stream",
       "stream": "stdout",
       "text": [
        "\n",
        "g:/filmes/1980/A Sociedade dos Poetas Mortos (1989) Peter Weir"
       ]
      },
      {
       "output_type": "stream",
       "stream": "stdout",
       "text": [
        "\n",
        "g:/filmes/1980/A Vingan\u00e7a de Manon (1986) Claude Berri"
       ]
      },
      {
       "output_type": "stream",
       "stream": "stdout",
       "text": [
        "\n",
        "g:/filmes/1980/Amantes (1984) John Cassavetes"
       ]
      },
      {
       "output_type": "stream",
       "stream": "stdout",
       "text": [
        "\n",
        "g:/filmes/1980/Atrai\u00e7oados (1988) Constantin Costa-Gavras"
       ]
      },
      {
       "output_type": "stream",
       "stream": "stdout",
       "text": [
        "\n",
        "g:/filmes/1980/Atra\u00e7\u00e3o Mortal (1988) Michael Lehmann"
       ]
      },
      {
       "output_type": "stream",
       "stream": "stdout",
       "text": [
        "\n",
        "g:/filmes/1980/Bad Timing (1980) Nicolas Roeg"
       ]
      },
      {
       "output_type": "stream",
       "stream": "stdout",
       "text": [
        "\n",
        "g:/filmes/1980/Black Rain (1989) Shohei Imamura - Jap\u00e3o"
       ]
      },
      {
       "output_type": "stream",
       "stream": "stdout",
       "text": [
        "\n",
        "g:/filmes/1980/Bodas de Sangue (1980) Carlos Saura"
       ]
      },
      {
       "output_type": "stream",
       "stream": "stdout",
       "text": [
        "\n",
        "g:/filmes/1980/Bom Dia Vietn\u00e3 (1987) Barry Levison"
       ]
      },
      {
       "output_type": "stream",
       "stream": "stdout",
       "text": [
        "\n",
        "g:/filmes/1980/Boy Meets Girl (1984) Leos Carax"
       ]
      },
      {
       "output_type": "stream",
       "stream": "stdout",
       "text": [
        "\n",
        "g:/filmes/1980/Busca Fren\u00e9tica (1988) Roman Polanski"
       ]
      },
      {
       "output_type": "stream",
       "stream": "stdout",
       "text": [
        "\n",
        "g:/filmes/1980/Casanova e a Revolu\u00c3\u00a7\u00c3\u00a3o (1982) Ettore Scola"
       ]
      },
      {
       "output_type": "stream",
       "stream": "stdout",
       "text": [
        "\n",
        "g:/filmes/1980/Classe Oper\u00e1ria (1982) Jerzy Skolimowski"
       ]
      },
      {
       "output_type": "stream",
       "stream": "stdout",
       "text": [
        "\n",
        "g:/filmes/1980/Corretores de Amor (1982) Ron Howard"
       ]
      },
      {
       "output_type": "stream",
       "stream": "stdout",
       "text": [
        "\n",
        "g:/filmes/1980/Cowboys de Lenigrado V\u00e3o Para a Am\u00e9rica (1989) Aki Kaurismaki"
       ]
      },
      {
       "output_type": "stream",
       "stream": "stdout",
       "text": [
        "\n",
        "g:/filmes/1980/Danton - O Processo da Revolu\u00c3\u00a7\u00c3\u00a3o (1983) Andrzej Wajda"
       ]
      },
      {
       "output_type": "stream",
       "stream": "stdout",
       "text": [
        "\n",
        "g:/filmes/1980/Digam o Que Quiserem (1989) Cameron Crowe"
       ]
      },
      {
       "output_type": "stream",
       "stream": "stdout",
       "text": [
        "\n",
        "g:/filmes/1980/Down by Law (1986) Jim Jamursch"
       ]
      },
      {
       "output_type": "stream",
       "stream": "stdout",
       "text": [
        "\n",
        "g:/filmes/1980/Drugstore Cowboy (1989) Gus Van Sant"
       ]
      },
      {
       "output_type": "stream",
       "stream": "stdout",
       "text": [
        "\n",
        "g:/filmes/1980/Fome de Viver (1983) Tony Scott"
       ]
      },
      {
       "output_type": "stream",
       "stream": "stdout",
       "text": [
        "\n",
        "g:/filmes/1980/Francesco (1989) Liliana Cavani"
       ]
      },
      {
       "output_type": "stream",
       "stream": "stdout",
       "text": [
        "\n",
        "g:/filmes/1980/Gl\u00f3ria (1980) John Cassavetes"
       ]
      },
      {
       "output_type": "stream",
       "stream": "stdout",
       "text": [
        "\n",
        "g:/filmes/1980/Gosto de Sangue (1984) Irm\u00e3os Joel e Ethan Coel"
       ]
      },
      {
       "output_type": "stream",
       "stream": "stdout",
       "text": [
        "\n",
        "g:/filmes/1980/Gremlins (1984) Joe Dante"
       ]
      },
      {
       "output_type": "stream",
       "stream": "stdout",
       "text": [
        "\n",
        "g:/filmes/1980/G\u00c3\u00aameos - M\u00c3\u00b3rbida Semelhan\u00c3\u00a7a (1988) David Cronenberg"
       ]
      },
      {
       "output_type": "stream",
       "stream": "stdout",
       "text": [
        "\n",
        "g:/filmes/1980/K\u00e1rhozat (1988) B\u00e9la Tarr - Hungria"
       ]
      },
      {
       "output_type": "stream",
       "stream": "stdout",
       "text": [
        "\n",
        "g:/filmes/1980/Liberte, la Nuit (1983) Philippe Garrel"
       ]
      },
      {
       "output_type": "stream",
       "stream": "stdout",
       "text": [
        "\n",
        "g:/filmes/1980/Loulou (1980) Maurice Pialat - Fran\u00e7a"
       ]
      },
      {
       "output_type": "stream",
       "stream": "stdout",
       "text": [
        "\n",
        "g:/filmes/1980/Manhunter (1986) Michael Mann"
       ]
      },
      {
       "output_type": "stream",
       "stream": "stdout",
       "text": [
        "\n",
        "g:/filmes/1980/Maus H\u00e1bitos (1983) Pedro Almod\u00f3var"
       ]
      },
      {
       "output_type": "stream",
       "stream": "stdout",
       "text": [
        "\n",
        "g:/filmes/1980/Meu P\u00e9 Esquerdo (1989) Jim Sheridan"
       ]
      },
      {
       "output_type": "stream",
       "stream": "stdout",
       "text": [
        "\n",
        "g:/filmes/1980/Missing (1982) Costa Gavras"
       ]
      },
      {
       "output_type": "stream",
       "stream": "stdout",
       "text": [
        "\n",
        "g:/filmes/1980/Muito Mais que Um Crime (1989) Constantin Costa-Gavras"
       ]
      },
      {
       "output_type": "stream",
       "stream": "stdout",
       "text": [
        "\n",
        "g:/filmes/1980/Nascido para Matar (1987) Stanley Kubrick"
       ]
      },
      {
       "output_type": "stream",
       "stream": "stdout",
       "text": [
        "\n",
        "g:/filmes/1980/Nosso S\u00e9culo (1983) Artavazd Peleshian - URSS"
       ]
      },
      {
       "output_type": "stream",
       "stream": "stdout",
       "text": [
        "\n",
        "g:/filmes/1980/Noturno Indiano (1989) Alain Corneau"
       ]
      },
      {
       "output_type": "stream",
       "stream": "stdout",
       "text": [
        "\n",
        "g:/filmes/1980/O Apicultor (1986) Theodoros Angelopoulos"
       ]
      },
      {
       "output_type": "stream",
       "stream": "stdout",
       "text": [
        "\n",
        "g:/filmes/1980/O Baile (1983) Ettore Scola"
       ]
      },
      {
       "output_type": "stream",
       "stream": "stdout",
       "text": [
        "\n",
        "g:/filmes/1980/O Cuko na Floresta Negra (1986) Anton\u00edn Moskalyk"
       ]
      },
      {
       "output_type": "stream",
       "stream": "stdout",
       "text": [
        "\n",
        "g:/filmes/1980/O Desespero de Veronika Voss (1982) Rainer Werner Fassbinder"
       ]
      },
      {
       "output_type": "stream",
       "stream": "stdout",
       "text": [
        "\n",
        "g:/filmes/1980/O Dia Seguinte (1983) Nicholas Meyer"
       ]
      },
      {
       "output_type": "stream",
       "stream": "stdout",
       "text": [
        "\n",
        "g:/filmes/1980/O Homem de Ferro (1981) Andrzej Wajda"
       ]
      },
      {
       "output_type": "stream",
       "stream": "stdout",
       "text": [
        "\n",
        "g:/filmes/1980/O Homem Elefante (1980) David Lynch"
       ]
      },
      {
       "output_type": "stream",
       "stream": "stdout",
       "text": [
        "\n",
        "g:/filmes/1980/O Portal do Para\u00edso (1980) Michael Cimino"
       ]
      },
      {
       "output_type": "stream",
       "stream": "stdout",
       "text": [
        "\n",
        "g:/filmes/1980/O Segredo do Abismo (1989) James Cameron"
       ]
      },
      {
       "output_type": "stream",
       "stream": "stdout",
       "text": [
        "\n",
        "g:/filmes/1980/O Traidor (1984) Stephen Frears"
       ]
      },
      {
       "output_type": "stream",
       "stream": "stdout",
       "text": [
        "\n",
        "g:/filmes/1980/O \u00daltimo Americano Virgem (1982) Boaz Davidson"
       ]
      },
      {
       "output_type": "stream",
       "stream": "stdout",
       "text": [
        "\n",
        "g:/filmes/1980/Os Aventureiros do Bairro Proibido (1986) John Carpenter"
       ]
      },
      {
       "output_type": "stream",
       "stream": "stdout",
       "text": [
        "\n",
        "g:/filmes/1980/Os Desajustados (1987) Bruce Robinson - Inglaterra"
       ]
      },
      {
       "output_type": "stream",
       "stream": "stdout",
       "text": [
        "\n",
        "g:/filmes/1980/Os Possessos (1988) Andrzej Wajda"
       ]
      },
      {
       "output_type": "stream",
       "stream": "stdout",
       "text": [
        "\n",
        "g:/filmes/1980/Pink Floyd - The Wall (1982) Alan Parker"
       ]
      },
      {
       "output_type": "stream",
       "stream": "stdout",
       "text": [
        "\n",
        "g:/filmes/1980/Quarto 666 (1982) Wim Wenders"
       ]
      },
      {
       "output_type": "stream",
       "stream": "stdout",
       "text": [
        "\n",
        "g:/filmes/1980/Reds (1981) Warren Beatty"
       ]
      },
      {
       "output_type": "stream",
       "stream": "stdout",
       "text": [
        "\n",
        "g:/filmes/1980/Repo Man - A Onda Punk (1984) Alex Cox"
       ]
      },
      {
       "output_type": "stream",
       "stream": "stdout",
       "text": [
        "\n",
        "g:/filmes/1980/Rys Follows the Path (1983) Agasi Babayan"
       ]
      },
      {
       "output_type": "stream",
       "stream": "stdout",
       "text": [
        "\n",
        "g:/filmes/1980/Sem Aviso (1980) Greydon Clark - Terror"
       ]
      },
      {
       "output_type": "stream",
       "stream": "stdout",
       "text": [
        "\n",
        "g:/filmes/1980/Sob Fogo Cerrado (1983) Roger Spottiswoode"
       ]
      },
      {
       "output_type": "stream",
       "stream": "stdout",
       "text": [
        "\n",
        "g:/filmes/1980/Sombras no Para\u00edso (1986) Aki Kaurismaki - Finl\u00e2ndia"
       ]
      },
      {
       "output_type": "stream",
       "stream": "stdout",
       "text": [
        "\n",
        "g:/filmes/1980/Sorte Cega (1987) Krzystof Kieslowski"
       ]
      },
      {
       "output_type": "stream",
       "stream": "stdout",
       "text": [
        "\n",
        "g:/filmes/1980/The Coca-Cola Kid (1985) Dusan Makavejev"
       ]
      },
      {
       "output_type": "stream",
       "stream": "stdout",
       "text": [
        "\n",
        "g:/filmes/1980/Tras el cristal (1986) Agusti Villaronga"
       ]
      },
      {
       "output_type": "stream",
       "stream": "stdout",
       "text": [
        "\n",
        "g:/filmes/1980/Triunfo do Esp\u00edrito (1989) Robert M. Young"
       ]
      },
      {
       "output_type": "stream",
       "stream": "stdout",
       "text": [
        "\n",
        "g:/filmes/1980/Twist and Shout (1984) Bille August"
       ]
      },
      {
       "output_type": "stream",
       "stream": "stdout",
       "text": [
        "\n",
        "g:/filmes/1980/Um Estranho Vampiro (1988) Robert Bierman"
       ]
      },
      {
       "output_type": "stream",
       "stream": "stdout",
       "text": [
        "\n",
        "g:/filmes/1980/Um Peixe Chamado Wanda (1988) Charles Crichton"
       ]
      },
      {
       "output_type": "stream",
       "stream": "stdout",
       "text": [
        "\n",
        "g:/filmes/1980/Um Salto para a Felicidade (1987) Garry Marshall"
       ]
      },
      {
       "output_type": "stream",
       "stream": "stdout",
       "text": [
        "\n",
        "g:/filmes/1980/Videodrome (1983) David Cronenberg"
       ]
      },
      {
       "output_type": "stream",
       "stream": "stdout",
       "text": [
        "\n",
        "g:/filmes/1980/Willow - Na Terra da Magia (1988) Ron Howard"
       ]
      },
      {
       "output_type": "stream",
       "stream": "stdout",
       "text": [
        "\n",
        "g:/filmes/1980/Xanadu (1980) Robert Greenwald"
       ]
      },
      {
       "output_type": "stream",
       "stream": "stdout",
       "text": [
        "\n",
        "g:/filmes/1990/71 Fragmente Einer Chronologie des Zufalls (1994) Michael Haneke"
       ]
      },
      {
       "output_type": "stream",
       "stream": "stdout",
       "text": [
        "\n",
        "g:/filmes/1990/A Bela Intrigante (1991) Jacques Rivette"
       ]
      },
      {
       "output_type": "stream",
       "stream": "stdout",
       "text": [
        "\n",
        "g:/filmes/1990/A Casa do \u00c1cido (1998) Paul McGuigan"
       ]
      },
      {
       "output_type": "stream",
       "stream": "stdout",
       "text": [
        "\n",
        "g:/filmes/1990/A Cor do Para\u00edso (1999) Majid Majidi"
       ]
      },
      {
       "output_type": "stream",
       "stream": "stdout",
       "text": [
        "\n",
        "g:/filmes/1990/A Cura (1995) Peter Horton"
       ]
      },
      {
       "output_type": "stream",
       "stream": "stdout",
       "text": [
        "\n",
        "g:/filmes/1990/A L\u00c3\u00adngua das Mariposas (1999) Jos\u00c3\u00a9 Luis Cuerda"
       ]
      },
      {
       "output_type": "stream",
       "stream": "stdout",
       "text": [
        "\n",
        "g:/filmes/1990/A Mocinha da F\u00e1brica de F\u00f3sforos (1990) Aki Kaurism\u00e4ki"
       ]
      },
      {
       "output_type": "stream",
       "stream": "stdout",
       "text": [
        "\n",
        "g:/filmes/1990/A M\u00fasica e o Sil\u00eancio (1996) Caroline Linck"
       ]
      },
      {
       "output_type": "stream",
       "stream": "stdout",
       "text": [
        "\n",
        "g:/filmes/1990/A Promessa (1996) Luc e Jean-Pierre Dardenne"
       ]
      },
      {
       "output_type": "stream",
       "stream": "stdout",
       "text": [
        "\n",
        "g:/filmes/1990/Adrenalina M\u00e1xima (1993) Takeshi Kitano"
       ]
      },
      {
       "output_type": "stream",
       "stream": "stdout",
       "text": [
        "\n",
        "g:/filmes/1990/Alucina\u00e7\u00f5es do Passado (1990) Adrian Lyne"
       ]
      },
      {
       "output_type": "stream",
       "stream": "stdout",
       "text": [
        "\n",
        "g:/filmes/1990/Amigas de Col\u00e9gio (1998) Lukas Moodysson"
       ]
      },
      {
       "output_type": "stream",
       "stream": "stdout",
       "text": [
        "\n",
        "g:/filmes/1990/Amor Al\u00e9m da Vida (1998) Vicent Ward"
       ]
      },
      {
       "output_type": "stream",
       "stream": "stdout",
       "text": [
        "\n",
        "g:/filmes/1990/Amor \u00e0 Queima-Roupa (1993) Tony Scott"
       ]
      },
      {
       "output_type": "stream",
       "stream": "stdout",
       "text": [
        "\n",
        "g:/filmes/1990/Amores Expressos (1994) Wong Kar-Wai"
       ]
      },
      {
       "output_type": "stream",
       "stream": "stdout",
       "text": [
        "\n",
        "g:/filmes/1990/Angel Baby (1995) Michael Rymer"
       ]
      },
      {
       "output_type": "stream",
       "stream": "stdout",
       "text": [
        "\n",
        "g:/filmes/1990/Anjos Ca\u00eddos (1995) Wong Kar-Wai"
       ]
      },
      {
       "output_type": "stream",
       "stream": "stdout",
       "text": [
        "\n",
        "g:/filmes/1990/Anna dos 6 aos 18 (1994) Nikita Mikhalkov"
       ]
      },
      {
       "output_type": "stream",
       "stream": "stdout",
       "text": [
        "\n",
        "g:/filmes/1990/Antes do Amanhecer (1995) Richard Linklater"
       ]
      },
      {
       "output_type": "stream",
       "stream": "stdout",
       "text": [
        "\n",
        "g:/filmes/1990/As Idades de Lulu (1990) Bigas Luna"
       ]
      },
      {
       "output_type": "stream",
       "stream": "stdout",
       "text": [
        "\n",
        "g:/filmes/1990/As Tartarugas Ninjas (1990) Steven Barron"
       ]
      },
      {
       "output_type": "stream",
       "stream": "stdout",
       "text": [
        "\n",
        "g:/filmes/1990/As Tartarugas Ninjas 2 - O Segredo de Ooze (1991) Michael Pressman"
       ]
      },
      {
       "output_type": "stream",
       "stream": "stdout",
       "text": [
        "\n",
        "g:/filmes/1990/As Tartarugas Ninjas 3 (1993) Stuart Gillard"
       ]
      },
      {
       "output_type": "stream",
       "stream": "stdout",
       "text": [
        "\n",
        "g:/filmes/1990/Ay Carmela (1990) Carlos Saura"
       ]
      },
      {
       "output_type": "stream",
       "stream": "stdout",
       "text": [
        "\n",
        "g:/filmes/1990/Boogie Nights - Prazer sem Limites (1997) Paul Thomas Anderson"
       ]
      },
      {
       "output_type": "stream",
       "stream": "stdout",
       "text": [
        "\n",
        "g:/filmes/1990/Caballos salvajes (1995) Marcelo Pi\u00f1eyro"
       ]
      },
      {
       "output_type": "stream",
       "stream": "stdout",
       "text": [
        "\n",
        "g:/filmes/1990/Car\u00e1ter (1997) Mike Van Diem"
       ]
      },
      {
       "output_type": "stream",
       "stream": "stdout",
       "text": [
        "\n",
        "g:/filmes/1990/Casa de Lava (1994) Pedro Costa - Portugal"
       ]
      },
      {
       "output_type": "stream",
       "stream": "stdout",
       "text": [
        "\n",
        "g:/filmes/1990/Cidade das Sombras (1998) Alex Proyas"
       ]
      },
      {
       "output_type": "stream",
       "stream": "stdout",
       "text": [
        "\n",
        "g:/filmes/1990/Clube da Luta (1999) David Fincher"
       ]
      },
      {
       "output_type": "stream",
       "stream": "stdout",
       "text": [
        "\n",
        "g:/filmes/1990/Como \u00c1gua para Chocolate (1992) Alfonso Arau - M\u00e9xico"
       ]
      },
      {
       "output_type": "stream",
       "stream": "stdout",
       "text": [
        "\n",
        "g:/filmes/1990/Contato (1997) Robert Zemeckis"
       ]
      },
      {
       "output_type": "stream",
       "stream": "stdout",
       "text": [
        "\n",
        "g:/filmes/1990/Corvos (1994) Dorota Kedzierzawska"
       ]
      },
      {
       "output_type": "stream",
       "stream": "stdout",
       "text": [
        "\n",
        "g:/filmes/1990/Crash - Estranhos Prazeres (1996) David Cronenberg"
       ]
      },
      {
       "output_type": "stream",
       "stream": "stdout",
       "text": [
        "\n",
        "g:/filmes/1990/Cremaster 1 (1995) Mattew Barney"
       ]
      },
      {
       "output_type": "stream",
       "stream": "stdout",
       "text": [
        "\n",
        "g:/filmes/1990/Cremaster 2 (1999) Matthew Barney"
       ]
      },
      {
       "output_type": "stream",
       "stream": "stdout",
       "text": [
        "\n",
        "g:/filmes/1990/Cremaster 4 (1994) Matthew Barney"
       ]
      },
      {
       "output_type": "stream",
       "stream": "stdout",
       "text": [
        "\n",
        "g:/filmes/1990/Cry Baby (1990) John Waters"
       ]
      },
      {
       "output_type": "stream",
       "stream": "stdout",
       "text": [
        "\n",
        "g:/filmes/1990/Da Magia \u00e0 Sedu\u00e7\u00e3o (1998) Griffin Dunne"
       ]
      },
      {
       "output_type": "stream",
       "stream": "stdout",
       "text": [
        "\n",
        "g:/filmes/1990/De Olhos Bem Fechados (1999) Stanley Kubrick"
       ]
      },
      {
       "output_type": "stream",
       "stream": "stdout",
       "text": [
        "\n",
        "g:/filmes/1990/Defying Gravity (1997) John Keitel"
       ]
      },
      {
       "output_type": "stream",
       "stream": "stdout",
       "text": [
        "\n",
        "g:/filmes/1990/Deus S\u00f3 Atende aos Domingos (1996) Didier Le P\u00eacheur"
       ]
      },
      {
       "output_type": "stream",
       "stream": "stdout",
       "text": [
        "\n",
        "g:/filmes/1990/Deuses e Monstros (1998) Bill Condon"
       ]
      },
      {
       "output_type": "stream",
       "stream": "stdout",
       "text": [
        "\n",
        "g:/filmes/1990/Dr\u00e1cula de Bram Stoker (1992) Francis Ford Coppola"
       ]
      },
      {
       "output_type": "stream",
       "stream": "stdout",
       "text": [
        "\n",
        "g:/filmes/1990/Eclipse de uma Paix\u00c3\u00a3o (1995) Agnieszka Holland"
       ]
      },
      {
       "output_type": "stream",
       "stream": "stdout",
       "text": [
        "\n",
        "g:/filmes/1990/Eclipse Total (1995) Taylor Hackford"
       ]
      },
      {
       "output_type": "stream",
       "stream": "stdout",
       "text": [
        "\n",
        "g:/filmes/1990/Emboscada (1999) Olli Saarela"
       ]
      },
      {
       "output_type": "stream",
       "stream": "stdout",
       "text": [
        "\n",
        "g:/filmes/1990/Emma (1996) Douglas McGrath"
       ]
      },
      {
       "output_type": "stream",
       "stream": "stdout",
       "text": [
        "\n",
        "g:/filmes/1990/Estrada para Lugar Nenhum (1997) Gregg Araki"
       ]
      },
      {
       "output_type": "stream",
       "stream": "stdout",
       "text": [
        "\n",
        "g:/filmes/1990/Estranhos Prazeres (1995) Kathryn Bigelow"
       ]
      },
      {
       "output_type": "stream",
       "stream": "stdout",
       "text": [
        "\n",
        "g:/filmes/1990/Evita (1996) Alan Parker"
       ]
      },
      {
       "output_type": "stream",
       "stream": "stdout",
       "text": [
        "\n",
        "g:/filmes/1990/eXistenZ (1999) David Cronenberg"
       ]
      },
      {
       "output_type": "stream",
       "stream": "stdout",
       "text": [
        "\n",
        "g:/filmes/1990/Face a Face com o Inimigo (1992) Carl Schenkel"
       ]
      },
      {
       "output_type": "stream",
       "stream": "stdout",
       "text": [
        "\n",
        "g:/filmes/1990/Festa de Fam\u00edlia (1998) Thomas Vinterberg - Dinamarca"
       ]
      },
      {
       "output_type": "stream",
       "stream": "stdout",
       "text": [
        "\n",
        "g:/filmes/1990/Filhos do Para\u00edso (1997) Majuid Majida"
       ]
      },
      {
       "output_type": "stream",
       "stream": "stdout",
       "text": [
        "\n",
        "g:/filmes/1990/Funny Games (1997) Michael Haneke"
       ]
      },
      {
       "output_type": "stream",
       "stream": "stdout",
       "text": [
        "\n",
        "g:/filmes/1990/Gente da Sic\u00edlia (1999) Dani\u00e8le Huillet e Jean-Marie Straub"
       ]
      },
      {
       "output_type": "stream",
       "stream": "stdout",
       "text": [
        "\n",
        "g:/filmes/1990/Germinal (1993) Claude Berri"
       ]
      },
      {
       "output_type": "stream",
       "stream": "stdout",
       "text": [
        "\n",
        "g:/filmes/1990/Gilbert Grape - Aprendiz de Sonhador (1993) Lasse Hallstr\u00f6m"
       ]
      },
      {
       "output_type": "stream",
       "stream": "stdout",
       "text": [
        "\n",
        "g:/filmes/1990/Grandes Esperan\u00e7as (1998) Alfonso Cuar\u00f3n"
       ]
      },
      {
       "output_type": "stream",
       "stream": "stdout",
       "text": [
        "\n",
        "g:/filmes/1990/Gremlins 2 - A Nova Gera\u00e7\u00e3o (1990) Joe Dante"
       ]
      },
      {
       "output_type": "stream",
       "stream": "stdout",
       "text": [
        "\n",
        "g:/filmes/1990/Gummo (1997) Harmony Korine"
       ]
      },
      {
       "output_type": "stream",
       "stream": "stdout",
       "text": [
        "\n",
        "g:/filmes/1990/Irma Vep (1996) Olivier Assayas"
       ]
      },
      {
       "output_type": "stream",
       "stream": "stdout",
       "text": [
        "\n",
        "g:/filmes/1990/Julien Donkey Boy (1999) Harmony Korine"
       ]
      },
      {
       "output_type": "stream",
       "stream": "stdout",
       "text": [
        "\n",
        "g:/filmes/1990/Kadosh - La\u00e7os Sagrados (1999) Amos Gitai"
       ]
      },
      {
       "output_type": "stream",
       "stream": "stdout",
       "text": [
        "\n",
        "g:/filmes/1990/Korczak (1990) Andrzej Wajda"
       ]
      },
      {
       "output_type": "stream",
       "stream": "stdout",
       "text": [
        "\n",
        "g:/filmes/1990/Krug vtoroy (1990) Aleksandr Sokurov"
       ]
      },
      {
       "output_type": "stream",
       "stream": "stdout",
       "text": [
        "\n",
        "g:/filmes/1990/La Naissance de L amour (1993) Philippe Garrel"
       ]
      },
      {
       "output_type": "stream",
       "stream": "stdout",
       "text": [
        "\n",
        "g:/filmes/1990/Land and Freedom (1995) Ken Loach"
       ]
      },
      {
       "output_type": "stream",
       "stream": "stdout",
       "text": [
        "\n",
        "g:/filmes/1990/Lendas da Paix\u00e3o (1994) Edward Zwick"
       ]
      },
      {
       "output_type": "stream",
       "stream": "stdout",
       "text": [
        "\n",
        "g:/filmes/1990/Leningrad Cowboys Meet Moses (1994) Aki Kaurismaki"
       ]
      },
      {
       "output_type": "stream",
       "stream": "stdout",
       "text": [
        "\n",
        "g:/filmes/1990/Les enfants du marais (1999) Jean Becker"
       ]
      },
      {
       "output_type": "stream",
       "stream": "stdout",
       "text": [
        "\n",
        "g:/filmes/1990/Libert\u00e1rias (1996) Vicente Aranda"
       ]
      },
      {
       "output_type": "stream",
       "stream": "stdout",
       "text": [
        "\n",
        "g:/filmes/1990/Louca Obsess\u00e3o (1990) Rob Reiner"
       ]
      },
      {
       "output_type": "stream",
       "stream": "stdout",
       "text": [
        "\n",
        "g:/filmes/1990/Lugar Santo (1990) Djordje Kadijevic"
       ]
      },
      {
       "output_type": "stream",
       "stream": "stdout",
       "text": [
        "\n",
        "g:/filmes/1990/M. Butterfly (1993) David Cronenberg"
       ]
      },
      {
       "output_type": "stream",
       "stream": "stdout",
       "text": [
        "\n",
        "g:/filmes/1990/Matilda (1996) Danny De Vito"
       ]
      },
      {
       "output_type": "stream",
       "stream": "stdout",
       "text": [
        "\n",
        "g:/filmes/1990/Meu Querido Intruso (1991) Lasse Hallstr\u00f6m"
       ]
      },
      {
       "output_type": "stream",
       "stream": "stdout",
       "text": [
        "\n",
        "g:/filmes/1990/Monella (1998) Tinto Brass"
       ]
      },
      {
       "output_type": "stream",
       "stream": "stdout",
       "text": [
        "\n",
        "g:/filmes/1990/Morango e Chocolate (1993) Tom\u00e1s Guti\u00e9rrez Alea e Juan Carlos Tab\u00edo"
       ]
      },
      {
       "output_type": "stream",
       "stream": "stdout",
       "text": [
        "\n",
        "g:/filmes/1990/Morto ao Chegar (D.O.A.) (1998) Annabel Jankel e Rocky Morton"
       ]
      },
      {
       "output_type": "stream",
       "stream": "stdout",
       "text": [
        "\n",
        "g:/filmes/1990/Mundo Gr\u00faa (1999) Pablo Trapero"
       ]
      },
      {
       "output_type": "stream",
       "stream": "stdout",
       "text": [
        "\n",
        "g:/filmes/1990/M\u00c3\u00a3e e Filho (1997) Aleksandr Sokurov"
       ]
      },
      {
       "output_type": "stream",
       "stream": "stdout",
       "text": [
        "\n",
        "g:/filmes/1990/Naked (1993) Mike Leigh"
       ]
      },
      {
       "output_type": "stream",
       "stream": "stdout",
       "text": [
        "\n",
        "g:/filmes/1990/Nu (1993) Mike Leigh"
       ]
      },
      {
       "output_type": "stream",
       "stream": "stdout",
       "text": [
        "\n",
        "g:/filmes/1990/O Advogado do Diabo (1997) Taylor Hackford"
       ]
      },
      {
       "output_type": "stream",
       "stream": "stdout",
       "text": [
        "\n",
        "g:/filmes/1990/O Aprendiz (1998) Bryan Singer"
       ]
      },
      {
       "output_type": "stream",
       "stream": "stdout",
       "text": [
        "\n",
        "g:/filmes/1990/O Avarento (1990) Tonino Cervi"
       ]
      },
      {
       "output_type": "stream",
       "stream": "stdout",
       "text": [
        "\n",
        "g:/filmes/1990/O Bal\u00e3o Branco (1995) Jafar Panahi"
       ]
      },
      {
       "output_type": "stream",
       "stream": "stdout",
       "text": [
        "\n",
        "g:/filmes/1990/O Buraco (1998) Tsai Ming-Liang"
       ]
      },
      {
       "output_type": "stream",
       "stream": "stdout",
       "text": [
        "\n",
        "g:/filmes/1990/O Cheiro do Papaia Verde (1993) Anh Hung Tran"
       ]
      },
      {
       "output_type": "stream",
       "stream": "stdout",
       "text": [
        "\n",
        "g:/filmes/1990/O Ci\u00fame - O Inferno do Amor Possessivo (1994) Claude Chabrol"
       ]
      },
      {
       "output_type": "stream",
       "stream": "stdout",
       "text": [
        "\n",
        "g:/filmes/1990/O Cora\u00e7\u00e3o Fantasma (1996) Philippe Garrel"
       ]
      },
      {
       "output_type": "stream",
       "stream": "stdout",
       "text": [
        "\n",
        "g:/filmes/1990/O Dia que o Porco Caiu no Po\u00e7o (1996) Hon Sang-soo - Cor\u00e9ia do Sul"
       ]
      },
      {
       "output_type": "stream",
       "stream": "stdout",
       "text": [
        "\n",
        "g:/filmes/1990/O Homem Que Sabia de Menos (1997) Jon Amiel"
       ]
      },
      {
       "output_type": "stream",
       "stream": "stdout",
       "text": [
        "\n",
        "g:/filmes/1990/O Livro de Cabeceira (1996) Peter Greenaway"
       ]
      },
      {
       "output_type": "stream",
       "stream": "stdout",
       "text": [
        "\n",
        "g:/filmes/1990/O Mesmo Amor a Mesma Chuva (1999) Juan Jos\u00e9 Campanella - Argentina"
       ]
      },
      {
       "output_type": "stream",
       "stream": "stdout",
       "text": [
        "\n",
        "g:/filmes/1990/O Mesmo Amor, a Mesma Chuva (1999) Juan Jos\u00e9 Campanella"
       ]
      },
      {
       "output_type": "stream",
       "stream": "stdout",
       "text": [
        "\n",
        "g:/filmes/1990/O Nascimento do Amor (1993) Philippe Garrel"
       ]
      },
      {
       "output_type": "stream",
       "stream": "stdout",
       "text": [
        "\n",
        "g:/filmes/1990/O Quarto Poder (1997) Costa Gavras"
       ]
      },
      {
       "output_type": "stream",
       "stream": "stdout",
       "text": [
        "\n",
        "g:/filmes/1990/O Rio (1997) Tsai Ming-Liang"
       ]
      },
      {
       "output_type": "stream",
       "stream": "stdout",
       "text": [
        "\n",
        "g:/filmes/1990/O Sexto Sentido (1999) M. Night Shyamalan - Terror"
       ]
      },
      {
       "output_type": "stream",
       "stream": "stdout",
       "text": [
        "\n",
        "g:/filmes/1990/O Silencio (1998) Mohsen Makhmalbaf"
       ]
      },
      {
       "output_type": "stream",
       "stream": "stdout",
       "text": [
        "\n",
        "g:/filmes/1990/O Sil\u00eancio dos Inocentes (1991) Jonathan Demme"
       ]
      },
      {
       "output_type": "stream",
       "stream": "stdout",
       "text": [
        "\n",
        "g:/filmes/1990/O Trem da Vida (1998) Radu Mihaileanu"
       ]
      },
      {
       "output_type": "stream",
       "stream": "stdout",
       "text": [
        "\n",
        "g:/filmes/1990/O T\u00c3\u00a9dio (1998) C\u00c3\u00a9dric Kahn"
       ]
      },
      {
       "output_type": "stream",
       "stream": "stdout",
       "text": [
        "\n",
        "g:/filmes/1990/O T\u00e9dio (1998) C\u00e9dric Kahn"
       ]
      },
      {
       "output_type": "stream",
       "stream": "stdout",
       "text": [
        "\n",
        "g:/filmes/1990/O Vento da Noite (1999) Philippe Garrel"
       ]
      },
      {
       "output_type": "stream",
       "stream": "stdout",
       "text": [
        "\n",
        "g:/filmes/1990/O V\u00c3\u00addeo de Benny (1992) Michael Haneke"
       ]
      },
      {
       "output_type": "stream",
       "stream": "stdout",
       "text": [
        "\n",
        "g:/filmes/1990/O \u00d3dio (1995) Mathieu Kassovitz"
       ]
      },
      {
       "output_type": "stream",
       "stream": "stdout",
       "text": [
        "\n",
        "g:/filmes/1990/Oito Mil\u00edmetros (1999) Joel Schumacher"
       ]
      },
      {
       "output_type": "stream",
       "stream": "stdout",
       "text": [
        "\n",
        "g:/filmes/1990/Os 12 Macacos (1995) Terry Gilliam"
       ]
      },
      {
       "output_type": "stream",
       "stream": "stdout",
       "text": [
        "\n",
        "g:/filmes/1990/Os Amantes de Pont Neuf (1991) Leos Carax"
       ]
      },
      {
       "output_type": "stream",
       "stream": "stdout",
       "text": [
        "\n",
        "g:/filmes/1990/Os Viciosos (1995) Abel Ferrara"
       ]
      },
      {
       "output_type": "stream",
       "stream": "stdout",
       "text": [
        "\n",
        "g:/filmes/1990/Ossos (1997) Pedro Costa - Portugal"
       ]
      },
      {
       "output_type": "stream",
       "stream": "stdout",
       "text": [
        "\n",
        "g:/filmes/1990/Paprika (1991) Tinto Brass - It\u00c3\u00a1lia"
       ]
      },
      {
       "output_type": "stream",
       "stream": "stdout",
       "text": [
        "\n",
        "g:/filmes/1990/Paris is Burning (1990) Jennie Livingston"
       ]
      },
      {
       "output_type": "stream",
       "stream": "stdout",
       "text": [
        "\n",
        "g:/filmes/1990/Patch Adams - O Amor \u00e9 Contagioso (1998) Tom Shadyac"
       ]
      },
      {
       "output_type": "stream",
       "stream": "stdout",
       "text": [
        "\n",
        "g:/filmes/1990/Pel\u00edsky (1999) Jan Hrebejk"
       ]
      },
      {
       "output_type": "stream",
       "stream": "stdout",
       "text": [
        "\n",
        "g:/filmes/1990/Pola X (1999) Leos Carax"
       ]
      },
      {
       "output_type": "stream",
       "stream": "stdout",
       "text": [
        "\n",
        "g:/filmes/1990/Polytechnique (1999) Denis Villeneuve"
       ]
      },
      {
       "output_type": "stream",
       "stream": "stdout",
       "text": [
        "\n",
        "g:/filmes/1990/Possu\u00c3\u00addos (1998) Gregory Hoblit"
       ]
      },
      {
       "output_type": "stream",
       "stream": "stdout",
       "text": [
        "\n",
        "g:/filmes/1990/Prova Final (1998) Robert Rodriguez"
       ]
      },
      {
       "output_type": "stream",
       "stream": "stdout",
       "text": [
        "\n",
        "g:/filmes/1990/Pulp Fiction - Tempos de Viol\u00eancia (1994) Quentin Tarantino"
       ]
      },
      {
       "output_type": "stream",
       "stream": "stdout",
       "text": [
        "\n",
        "g:/filmes/1990/P\u00c3\u00a1ginas Ocultas (1994) Aleksandr Sokurov"
       ]
      },
      {
       "output_type": "stream",
       "stream": "stdout",
       "text": [
        "\n",
        "g:/filmes/1990/Rebeldes (1996) Annethe Haywood-Carter"
       ]
      },
      {
       "output_type": "stream",
       "stream": "stdout",
       "text": [
        "\n",
        "g:/filmes/1990/Regarde la Mer (1997) Fan\u00c3\u00a7ois Ozon"
       ]
      },
      {
       "output_type": "stream",
       "stream": "stdout",
       "text": [
        "\n",
        "g:/filmes/1990/Reviravolta (1997) Oliver Stone"
       ]
      },
      {
       "output_type": "stream",
       "stream": "stdout",
       "text": [
        "\n",
        "g:/filmes/1990/Ricardo III (1995) Richard Loncraine"
       ]
      },
      {
       "output_type": "stream",
       "stream": "stdout",
       "text": [
        "\n",
        "g:/filmes/1990/Rosetta (1999) Irm\u00c3\u00a3os Jean-Pierre e Luc Dardenne"
       ]
      },
      {
       "output_type": "stream",
       "stream": "stdout",
       "text": [
        "\n",
        "g:/filmes/1990/Rush - Uma Viagem ao Inferno (1991) Lili Fini Zanuck"
       ]
      },
      {
       "output_type": "stream",
       "stream": "stdout",
       "text": [
        "\n",
        "g:/filmes/1990/R\u00e1pida e Mortal (1995) Sam Raimi"
       ]
      },
      {
       "output_type": "stream",
       "stream": "stdout",
       "text": [
        "\n",
        "g:/filmes/1990/Simples Desejo (1992) Hal Hartley"
       ]
      },
      {
       "output_type": "stream",
       "stream": "stdout",
       "text": [
        "\n",
        "g:/filmes/1990/Sunshine - O Despertar de um S\u00c3\u00a9culo (1999) Istv\u00c3\u00a1n Szab\u00c3\u00b3"
       ]
      },
      {
       "output_type": "stream",
       "stream": "stdout",
       "text": [
        "\n",
        "g:/filmes/1990/Tango Argentino (1992) Gorana Paskaljevica"
       ]
      },
      {
       "output_type": "stream",
       "stream": "stdout",
       "text": [
        "\n",
        "g:/filmes/1990/The Doors (1991) Oliver Stone"
       ]
      },
      {
       "output_type": "stream",
       "stream": "stdout",
       "text": [
        "\n",
        "g:/filmes/1990/The evil cult (1993) Jin Wong e Sammo Hung Kam-Bo"
       ]
      },
      {
       "output_type": "stream",
       "stream": "stdout",
       "text": [
        "\n",
        "g:/filmes/1990/The Juniper Tree (1990) Nietzchka Keene"
       ]
      },
      {
       "output_type": "stream",
       "stream": "stdout",
       "text": [
        "\n",
        "g:/filmes/1990/The Temptations (1998) Allan Arkush"
       ]
      },
      {
       "output_type": "stream",
       "stream": "stdout",
       "text": [
        "\n",
        "g:/filmes/1990/Tio Vanya em Nova York (1994) Louis Malle"
       ]
      },
      {
       "output_type": "stream",
       "stream": "stdout",
       "text": [
        "\n",
        "g:/filmes/1990/Titanic (1997) James Cameron"
       ]
      },
      {
       "output_type": "stream",
       "stream": "stdout",
       "text": [
        "\n",
        "g:/filmes/1990/Tra\u00c3\u00addos pelo Desejo (1992) Neil Jordan"
       ]
      },
      {
       "output_type": "stream",
       "stream": "stdout",
       "text": [
        "\n",
        "g:/filmes/1990/Um Adolescente em Apuros (1997) George Huang"
       ]
      },
      {
       "output_type": "stream",
       "stream": "stdout",
       "text": [
        "\n",
        "g:/filmes/1990/Um Drink  no Inferno (1996) Robert Rodriguez"
       ]
      },
      {
       "output_type": "stream",
       "stream": "stdout",
       "text": [
        "\n",
        "g:/filmes/1990/Uma Can\u00c3\u00a7\u00c3\u00a3o Para Carla (1996) Ken Loach"
       ]
      },
      {
       "output_type": "stream",
       "stream": "stdout",
       "text": [
        "\n",
        "g:/filmes/1990/Uma Noite Sobre a Terra (1991) Jim Jarmusch"
       ]
      },
      {
       "output_type": "stream",
       "stream": "stdout",
       "text": [
        "\n",
        "g:/filmes/1990/Uma Rela\u00e7\u00e3o Pornogr\u00e1fica (1999) Fr\u00e9d\u00e8ric Fonteyne - Fran\u00e7a"
       ]
      },
      {
       "output_type": "stream",
       "stream": "stdout",
       "text": [
        "\n",
        "g:/filmes/1990/Velvet Goldmine (1998) Todd Haynes"
       ]
      },
      {
       "output_type": "stream",
       "stream": "stdout",
       "text": [
        "\n",
        "g:/filmes/1990/Vida de Solteiro (1992) Cameron Crowe"
       ]
      },
      {
       "output_type": "stream",
       "stream": "stdout",
       "text": [
        "\n",
        "g:/filmes/1990/Vidas em Jogo (1997) David Fincher"
       ]
      },
      {
       "output_type": "stream",
       "stream": "stdout",
       "text": [
        "\n",
        "g:/filmes/1990/Voltar a Morrer (1991) Kenneth Branagh"
       ]
      },
      {
       "output_type": "stream",
       "stream": "stdout",
       "text": [
        "\n",
        "g:/filmes/1990/Z\u00e1hrada (1995) Martin Sulik"
       ]
      },
      {
       "output_type": "stream",
       "stream": "stdout",
       "text": [
        "\n",
        "g:/filmes/2000/12 Anos e Pouca Ilus\u00e3o (2005) Michael Cuesta"
       ]
      },
      {
       "output_type": "stream",
       "stream": "stdout",
       "text": [
        "\n",
        "g:/filmes/2000/13 Desafios (2006) Chookiat Sakveerakul - Tail\u00c3\u00a2ndia"
       ]
      },
      {
       "output_type": "stream",
       "stream": "stdout",
       "text": [
        "\n",
        "g:/filmes/2000/15 Anos e Meio (2008) Fran\u00c3\u00a7ois Desagnat e Thomas Sorriaux"
       ]
      },
      {
       "output_type": "stream",
       "stream": "stdout",
       "text": [
        "\n",
        "g:/filmes/2000/15 Anos e Meio (2008) Fran\u00e7ois Desagnat e Thomas Sorriaux"
       ]
      },
      {
       "output_type": "stream",
       "stream": "stdout",
       "text": [
        "\n",
        "g:/filmes/2000/3 Idiotas (2009) Rajkumar Hirani"
       ]
      },
      {
       "output_type": "stream",
       "stream": "stdout",
       "text": [
        "\n",
        "g:/filmes/2000/44 Minutos (2003) Yves Simoneau"
       ]
      },
      {
       "output_type": "stream",
       "stream": "stdout",
       "text": [
        "\n",
        "g:/filmes/2000/9 Can\u00e7\u00f5es (2004) Michael Winterbottom"
       ]
      },
      {
       "output_type": "stream",
       "stream": "stdout",
       "text": [
        "\n",
        "g:/filmes/2000/A Antena (2007) Esteban Sapir"
       ]
      },
      {
       "output_type": "stream",
       "stream": "stdout",
       "text": [
        "\n",
        "g:/filmes/2000/A Armadilha do Caranguejo (2009) Oscar Ruiz Navia"
       ]
      },
      {
       "output_type": "stream",
       "stream": "stdout",
       "text": [
        "\n",
        "g:/filmes/2000/A Aura (2005) Fabi\u00e1n Bielinsky - Argentino"
       ]
      },
      {
       "output_type": "stream",
       "stream": "stdout",
       "text": [
        "\n",
        "g:/filmes/2000/A Bomba (2001) Colin Nutley (Su\u00e9cia)"
       ]
      },
      {
       "output_type": "stream",
       "stream": "stdout",
       "text": [
        "\n",
        "g:/filmes/2000/A Can\u00e7\u00e3o dos Pardais (2008) Majid Majidi"
       ]
      },
      {
       "output_type": "stream",
       "stream": "stdout",
       "text": [
        "\n",
        "g:/filmes/2000/A Comunidade (2000) \u00c1lex de La Iglesia"
       ]
      },
      {
       "output_type": "stream",
       "stream": "stdout",
       "text": [
        "\n",
        "g:/filmes/2000/A Confus\u00e3o de G\u00eaneros (2000) Ilan Duran Cohen"
       ]
      },
      {
       "output_type": "stream",
       "stream": "stdout",
       "text": [
        "\n",
        "g:/filmes/2000/A Culpa \u00c3\u00a9 do Fidel (2006) Julie Gavras"
       ]
      },
      {
       "output_type": "stream",
       "stream": "stdout",
       "text": [
        "\n",
        "g:/filmes/2000/A Culpa \u00e9 do Fidel (2006) Julie Gavras"
       ]
      },
      {
       "output_type": "stream",
       "stream": "stdout",
       "text": [
        "\n",
        "g:/filmes/2000/A Dan\u00e7arina e o Ladr\u00e3o (2009) Fernando Trueba"
       ]
      },
      {
       "output_type": "stream",
       "stream": "stdout",
       "text": [
        "\n",
        "g:/filmes/2000/A Educa\u00c3\u00a7\u00c3\u00a3o das Fadas (2006) Jos\u00c3\u00a9 Luis Cuerda"
       ]
      },
      {
       "output_type": "stream",
       "stream": "stdout",
       "text": [
        "\n",
        "g:/filmes/2000/A Experi\u00eancia (2001) Oliver Hirschbieger"
       ]
      },
      {
       "output_type": "stream",
       "stream": "stdout",
       "text": [
        "\n",
        "g:/filmes/2000/A Fuga (2001) Eduardo Mignogna"
       ]
      },
      {
       "output_type": "stream",
       "stream": "stdout",
       "text": [
        "\n",
        "g:/filmes/2000/A Hist\u00f3ria de Marie e Julien (2003) Jaques Rivette"
       ]
      },
      {
       "output_type": "stream",
       "stream": "stdout",
       "text": [
        "\n",
        "g:/filmes/2000/A Janela da Frente (2003) Ferzan \u00d6zpetek"
       ]
      },
      {
       "output_type": "stream",
       "stream": "stdout",
       "text": [
        "\n",
        "g:/filmes/2000/A Massai Branca (2005)  Hermine Huntgeburth"
       ]
      },
      {
       "output_type": "stream",
       "stream": "stdout",
       "text": [
        "\n",
        "g:/filmes/2000/A Menina no Pa\u00eds das Maravilhas (2008) Daniel Barnz"
       ]
      },
      {
       "output_type": "stream",
       "stream": "stdout",
       "text": [
        "\n",
        "g:/filmes/2000/A Menina Santa (2004) Lucrecia Martel"
       ]
      },
      {
       "output_type": "stream",
       "stream": "stdout",
       "text": [
        "\n",
        "g:/filmes/2000/A Morte do Sr. Lazarescu (2005) Cristi Puiu - Rom\u00eania"
       ]
      },
      {
       "output_type": "stream",
       "stream": "stdout",
       "text": [
        "\n",
        "g:/filmes/2000/A Mulher de Meu Irm\u00e3o (2005) Ricardo de Montreuil (Argentina)"
       ]
      },
      {
       "output_type": "stream",
       "stream": "stdout",
       "text": [
        "\n",
        "g:/filmes/2000/A Mulher de Meu Irm\u00c3\u00a3o (2005) Ricardo de Montreuil (Argentina)"
       ]
      },
      {
       "output_type": "stream",
       "stream": "stdout",
       "text": [
        "\n",
        "g:/filmes/2000/A Mulher Sem Cabe\u00e7a (2008) Lucr\u00e9cia Martel - Argentina"
       ]
      },
      {
       "output_type": "stream",
       "stream": "stdout",
       "text": [
        "\n",
        "g:/filmes/2000/A Papisa Joana (2009) S\u00f6nke Wortmann"
       ]
      },
      {
       "output_type": "stream",
       "stream": "stdout",
       "text": [
        "\n",
        "g:/filmes/2000/A Passagem (2005) Marc Forster"
       ]
      },
      {
       "output_type": "stream",
       "stream": "stdout",
       "text": [
        "\n",
        "g:/filmes/2000/A Procura de Eric (2009) Ken Loach"
       ]
      },
      {
       "output_type": "stream",
       "stream": "stdout",
       "text": [
        "\n",
        "g:/filmes/2000/A Queda! As \u00daltimas Horas de Hitler (2004) Oliver Hirschbiegel"
       ]
      },
      {
       "output_type": "stream",
       "stream": "stdout",
       "text": [
        "\n",
        "g:/filmes/2000/A Vida Durante a Guerra (2009) Todd Solondz"
       ]
      },
      {
       "output_type": "stream",
       "stream": "stdout",
       "text": [
        "\n",
        "g:/filmes/2000/A Vida Marinha com Steve Zissou (2004) Wes Anderson"
       ]
      },
      {
       "output_type": "stream",
       "stream": "stdout",
       "text": [
        "\n",
        "g:/filmes/2000/A Vi\u00fava de Saint Pierre (2000) Patrice Leconte"
       ]
      },
      {
       "output_type": "stream",
       "stream": "stdout",
       "text": [
        "\n",
        "g:/filmes/2000/A V\u00edtima Perfeita (2009) Simone North"
       ]
      },
      {
       "output_type": "stream",
       "stream": "stdout",
       "text": [
        "\n",
        "g:/filmes/2000/Acusado (2005) Jacob Thuesen - Dinamarca"
       ]
      },
      {
       "output_type": "stream",
       "stream": "stdout",
       "text": [
        "\n",
        "g:/filmes/2000/Agora ou Nunca (2002) Mike Leigh"
       ]
      },
      {
       "output_type": "stream",
       "stream": "stdout",
       "text": [
        "\n",
        "g:/filmes/2000/Alexandra (2007) Aleksandr Sokurov"
       ]
      },
      {
       "output_type": "stream",
       "stream": "stdout",
       "text": [
        "\n",
        "g:/filmes/2000/Alice e o Novo Pa\u00eds das Maravilhas (2009) Nick Willing"
       ]
      },
      {
       "output_type": "stream",
       "stream": "stdout",
       "text": [
        "\n",
        "g:/filmes/2000/Alles is liefde (2007) Joram L\u00fcrsen - Holanda"
       ]
      },
      {
       "output_type": "stream",
       "stream": "stdout",
       "text": [
        "\n",
        "g:/filmes/2000/Am\u00c3\u00a9n (2002) Costa Gavras"
       ]
      },
      {
       "output_type": "stream",
       "stream": "stdout",
       "text": [
        "\n",
        "g:/filmes/2000/Angel (2007) Fran\u00e7ois Ozon"
       ]
      },
      {
       "output_type": "stream",
       "stream": "stdout",
       "text": [
        "\n",
        "g:/filmes/2000/Antes do Anoitecer (2000) Julian Schnabel"
       ]
      },
      {
       "output_type": "stream",
       "stream": "stdout",
       "text": [
        "\n",
        "g:/filmes/2000/Antes do P\u00f4r-do-Sol (2004) Rchard Linklater"
       ]
      },
      {
       "output_type": "stream",
       "stream": "stdout",
       "text": [
        "\n",
        "g:/filmes/2000/Aquiles e a Tartaruga (2008) Takeshi Kitano"
       ]
      },
      {
       "output_type": "stream",
       "stream": "stdout",
       "text": [
        "\n",
        "g:/filmes/2000/Arca Russa (2002) Aleksandr Sokurov"
       ]
      },
      {
       "output_type": "stream",
       "stream": "stdout",
       "text": [
        "\n",
        "g:/filmes/2000/As Confiss\u00f5es de Schmidt (2002) Alexander Payne"
       ]
      },
      {
       "output_type": "stream",
       "stream": "stdout",
       "text": [
        "\n",
        "g:/filmes/2000/As Luzes de Um Ver\u00e3o (2000) Ahn Hung Tran"
       ]
      },
      {
       "output_type": "stream",
       "stream": "stdout",
       "text": [
        "\n",
        "g:/filmes/2000/As Praias de Agn\u00e9s (2008) Agn\u00e9s Varda"
       ]
      },
      {
       "output_type": "stream",
       "stream": "stdout",
       "text": [
        "\n",
        "g:/filmes/2000/At\u00e9 o Fim (2001) Scott McGehee e David Siegel"
       ]
      },
      {
       "output_type": "stream",
       "stream": "stdout",
       "text": [
        "\n",
        "g:/filmes/2000/Basquiat - Tra\u00e7os de Uma Vida (1996) Julian Schnabel"
       ]
      },
      {
       "output_type": "stream",
       "stream": "stdout",
       "text": [
        "\n",
        "g:/filmes/2000/Batismo de Sangue (2006) Helv\u00e9cio Ratton"
       ]
      },
      {
       "output_type": "stream",
       "stream": "stdout",
       "text": [
        "\n",
        "g:/filmes/2000/Beatrice  e o Monstro (2001) Hal Hartley"
       ]
      },
      {
       "output_type": "stream",
       "stream": "stdout",
       "text": [
        "\n",
        "g:/filmes/2000/Beaufort (2007) Joseph Cedar"
       ]
      },
      {
       "output_type": "stream",
       "stream": "stdout",
       "text": [
        "\n",
        "g:/filmes/2000/Bem-Vindo (2009) Phillippe Lioret"
       ]
      },
      {
       "output_type": "stream",
       "stream": "stdout",
       "text": [
        "\n",
        "g:/filmes/2000/Big Nothing (2006) Jean-Baptiste Andrea"
       ]
      },
      {
       "output_type": "stream",
       "stream": "stdout",
       "text": [
        "\n",
        "g:/filmes/2000/Bill (2007) Bernie Goldmann e Melisa Wallack"
       ]
      },
      {
       "output_type": "stream",
       "stream": "stdout",
       "text": [
        "\n",
        "g:/filmes/2000/Breaking Upwards (2009) Daryl Wein"
       ]
      },
      {
       "output_type": "stream",
       "stream": "stdout",
       "text": [
        "\n",
        "g:/filmes/2000/Buda as sharm foru rikht (2007) Hana Makhmalbaf"
       ]
      },
      {
       "output_type": "stream",
       "stream": "stdout",
       "text": [
        "\n",
        "g:/filmes/2000/Cach\u00c3\u00a9 (2005) Michael Haneke"
       ]
      },
      {
       "output_type": "stream",
       "stream": "stdout",
       "text": [
        "\n",
        "g:/filmes/2000/Cadillac Records (2008) Darnell Martin"
       ]
      },
      {
       "output_type": "stream",
       "stream": "stdout",
       "text": [
        "\n",
        "g:/filmes/2000/Captain Abu Raed (2008) Amin Matalga"
       ]
      },
      {
       "output_type": "stream",
       "stream": "stdout",
       "text": [
        "\n",
        "g:/filmes/2000/Carne Fresca, Procura-se (2003) Anders Thomas Jensen - Dinamarca"
       ]
      },
      {
       "output_type": "stream",
       "stream": "stdout",
       "text": [
        "\n",
        "g:/filmes/2000/Cashback (2006) Sean Ellis"
       ]
      },
      {
       "output_type": "stream",
       "stream": "stdout",
       "text": [
        "\n",
        "g:/filmes/2000/Castaway on the moon (2009) Hey-jun Lee"
       ]
      },
      {
       "output_type": "stream",
       "stream": "stdout",
       "text": [
        "\n",
        "g:/filmes/2000/Cativa (2005) Gast\u00f3n Biraben"
       ]
      },
      {
       "output_type": "stream",
       "stream": "stdout",
       "text": [
        "\n",
        "g:/filmes/2000/Chumbo Grosso (2007) Edgar Wright"
       ]
      },
      {
       "output_type": "stream",
       "stream": "stdout",
       "text": [
        "\n",
        "g:/filmes/2000/Cle\u00f3patra (2003) Eduardo Mignona - Argentina"
       ]
      },
      {
       "output_type": "stream",
       "stream": "stdout",
       "text": [
        "\n",
        "g:/filmes/2000/Climas (2006) Nuri Blige Ceylan"
       ]
      },
      {
       "output_type": "stream",
       "stream": "stdout",
       "text": [
        "\n",
        "g:/filmes/2000/Clube da Lua (2004) Juan Jos\u00e9 Campanella"
       ]
      },
      {
       "output_type": "stream",
       "stream": "stdout",
       "text": [
        "\n",
        "g:/filmes/2000/Coach Carter - Treino para a Vida (2005) Thomas Carter"
       ]
      },
      {
       "output_type": "stream",
       "stream": "stdout",
       "text": [
        "\n",
        "g:/filmes/2000/Comandante (2003) Oliver Stone - Document\u00c3\u00a1rio"
       ]
      },
      {
       "output_type": "stream",
       "stream": "stdout",
       "text": [
        "\n",
        "g:/filmes/2000/Comendo pelas Beiradas (2009) Kevin Heffernan"
       ]
      },
      {
       "output_type": "stream",
       "stream": "stdout",
       "text": [
        "\n",
        "g:/filmes/2000/Concorr\u00c3\u00aancia Desleal (2001) Ettore Scola"
       ]
      },
      {
       "output_type": "stream",
       "stream": "stdout",
       "text": [
        "\n",
        "g:/filmes/2000/Confus\u00f5es em Fam\u00edlia (2009) Raymond de Felitta"
       ]
      },
      {
       "output_type": "stream",
       "stream": "stdout",
       "text": [
        "\n",
        "g:/filmes/2000/Consequ\u00eancias (2007) Talia Lugacy"
       ]
      },
      {
       "output_type": "stream",
       "stream": "stdout",
       "text": [
        "\n",
        "g:/filmes/2000/Contra a Parede (2004) Fatih Akin"
       ]
      },
      {
       "output_type": "stream",
       "stream": "stdout",
       "text": [
        "\n",
        "g:/filmes/2000/Crime Ferpeito (2004) \u00c1lex de la Iglesia"
       ]
      },
      {
       "output_type": "stream",
       "stream": "stdout",
       "text": [
        "\n",
        "g:/filmes/2000/Dans ma peau (2002) Marina de Van"
       ]
      },
      {
       "output_type": "stream",
       "stream": "stdout",
       "text": [
        "\n",
        "g:/filmes/2000/Dante 01 - Pris\u00e3o Espacial (2008) Marc Caro"
       ]
      },
      {
       "output_type": "stream",
       "stream": "stdout",
       "text": [
        "\n",
        "g:/filmes/2000/Delta (2008) Korn\u00e9l Mundrucz\u00f3"
       ]
      },
      {
       "output_type": "stream",
       "stream": "stdout",
       "text": [
        "\n",
        "g:/filmes/2000/Desierto adentro (2008) Rodrigo Pl\u00e1 - M\u00e9xico"
       ]
      },
      {
       "output_type": "stream",
       "stream": "stdout",
       "text": [
        "\n",
        "g:/filmes/2000/Distrito 9 (2009) Neill Blomkamp"
       ]
      },
      {
       "output_type": "stream",
       "stream": "stdout",
       "text": [
        "\n",
        "g:/filmes/2000/Doce Perfume (2009) Andrzej Wajda"
       ]
      },
      {
       "output_type": "stream",
       "stream": "stdout",
       "text": [
        "\n",
        "g:/filmes/2000/Double Suicide Elegy (2005) Toru Kamei"
       ]
      },
      {
       "output_type": "stream",
       "stream": "stdout",
       "text": [
        "\n",
        "g:/filmes/2000/Dramas Adolescentes (2009) Adam Salky"
       ]
      },
      {
       "output_type": "stream",
       "stream": "stdout",
       "text": [
        "\n",
        "g:/filmes/2000/Eastern Plays (2009) Kamen Kalev"
       ]
      },
      {
       "output_type": "stream",
       "stream": "stdout",
       "text": [
        "\n",
        "g:/filmes/2000/Eight Miles High (2007) Achim Bornhak"
       ]
      },
      {
       "output_type": "stream",
       "stream": "stdout",
       "text": [
        "\n",
        "g:/filmes/2000/El Cantante (2007) Leon Ichaco"
       ]
      },
      {
       "output_type": "stream",
       "stream": "stdout",
       "text": [
        "\n",
        "g:/filmes/2000/El ni\u00f1o pez (2009) Luc\u00eda Puenzo - Argentina"
       ]
      },
      {
       "output_type": "stream",
       "stream": "stdout",
       "text": [
        "\n",
        "g:/filmes/2000/Em Minha Mem\u00f3ria (2007) Saverio Costanzo"
       ]
      },
      {
       "output_type": "stream",
       "stream": "stdout",
       "text": [
        "\n",
        "g:/filmes/2000/Em Segredo (2006) Jasmila \u017dbani\u0107"
       ]
      },
      {
       "output_type": "stream",
       "stream": "stdout",
       "text": [
        "\n",
        "g:/filmes/2000/Embriagado de Amor (2002) Paul Thomas Anderson"
       ]
      },
      {
       "output_type": "stream",
       "stream": "stdout",
       "text": [
        "\n",
        "g:/filmes/2000/Encantadora de Baleias (2002) Niki Caro"
       ]
      },
      {
       "output_type": "stream",
       "stream": "stdout",
       "text": [
        "\n",
        "g:/filmes/2000/Enquanto o Sol N\u00e3o Vem (2008) Agn\u00e8s Jaoui"
       ]
      },
      {
       "output_type": "stream",
       "stream": "stdout",
       "text": [
        "\n",
        "g:/filmes/2000/Entre o C\u00c3\u00a9u e o Inferno (2007) Craig Brewer"
       ]
      },
      {
       "output_type": "stream",
       "stream": "stdout",
       "text": [
        "\n",
        "g:/filmes/2000/Entre o C\u00e9u e o Inferno (2007) Craig Brewer"
       ]
      },
      {
       "output_type": "stream",
       "stream": "stdout",
       "text": [
        "\n",
        "g:/filmes/2000/Entre os Muros da Escola (2008) Laurent Cantet"
       ]
      },
      {
       "output_type": "stream",
       "stream": "stdout",
       "text": [
        "\n",
        "g:/filmes/2000/Entre os Muros da Pris\u00e3o (2008) Christian Faure"
       ]
      },
      {
       "output_type": "stream",
       "stream": "stdout",
       "text": [
        "\n",
        "g:/filmes/2000/Entre os Muros da Pris\u00c3\u00a3o (2008) Christian Faure"
       ]
      },
      {
       "output_type": "stream",
       "stream": "stdout",
       "text": [
        "\n",
        "g:/filmes/2000/Escritores da Liberdade (2007) Rchard LaGravenese"
       ]
      },
      {
       "output_type": "stream",
       "stream": "stdout",
       "text": [
        "\n",
        "g:/filmes/2000/Esperando o Messias (2000) Daniel Burman - Argentina"
       ]
      },
      {
       "output_type": "stream",
       "stream": "stdout",
       "text": [
        "\n",
        "g:/filmes/2000/Eu N\u00e3o Tenho Medo (2003) Gabriele Salvatores"
       ]
      },
      {
       "output_type": "stream",
       "stream": "stdout",
       "text": [
        "\n",
        "g:/filmes/2000/Evelyn (2002) Bruce Beresford"
       ]
      },
      {
       "output_type": "stream",
       "stream": "stdout",
       "text": [
        "\n",
        "g:/filmes/2000/Evid\u00eancia de um Crime (2007) Renny Harlin"
       ]
      },
      {
       "output_type": "stream",
       "stream": "stdout",
       "text": [
        "\n",
        "g:/filmes/2000/Face (2009) Tsai Ming-Liang"
       ]
      },
      {
       "output_type": "stream",
       "stream": "stdout",
       "text": [
        "\n",
        "g:/filmes/2000/Familia Rodante (2004) Pablo Trapero"
       ]
      },
      {
       "output_type": "stream",
       "stream": "stdout",
       "text": [
        "\n",
        "g:/filmes/2000/Fatal (2008) Isabel Coixet"
       ]
      },
      {
       "output_type": "stream",
       "stream": "stdout",
       "text": [
        "\n",
        "g:/filmes/2000/Fish Story (2009) Yoshihiro Nakamura"
       ]
      },
      {
       "output_type": "stream",
       "stream": "stdout",
       "text": [
        "\n",
        "g:/filmes/2000/Fome (2008) Steve McQueen"
       ]
      },
      {
       "output_type": "stream",
       "stream": "stdout",
       "text": [
        "\n",
        "g:/filmes/2000/Gigante (2009) Adri\u00e1n Biniez"
       ]
      },
      {
       "output_type": "stream",
       "stream": "stdout",
       "text": [
        "\n",
        "g:/filmes/2000/Good time Max (2007) James Franco"
       ]
      },
      {
       "output_type": "stream",
       "stream": "stdout",
       "text": [
        "\n",
        "g:/filmes/2000/Gouttes d'eau sur pierres br\u00fblantes (2000) Fran\u00e7ois Ozon"
       ]
      },
      {
       "output_type": "stream",
       "stream": "stdout",
       "text": [
        "\n",
        "g:/filmes/2000/Grimm Love (2006) Martin Weisz"
       ]
      },
      {
       "output_type": "stream",
       "stream": "stdout",
       "text": [
        "\n",
        "g:/filmes/2000/Habana Blues (2005) Benito Zambrano"
       ]
      },
      {
       "output_type": "stream",
       "stream": "stdout",
       "text": [
        "\n",
        "g:/filmes/2000/Hamaca Paraguaya (2006) Paz Encina"
       ]
      },
      {
       "output_type": "stream",
       "stream": "stdout",
       "text": [
        "\n",
        "g:/filmes/2000/Hanyo (2010) Im Sang-soo - Cor\u00e9ia do Sul"
       ]
      },
      {
       "output_type": "stream",
       "stream": "stdout",
       "text": [
        "\n",
        "g:/filmes/2000/Hist\u00c3\u00b3rias Proibidas (2001) Todd Solondz"
       ]
      },
      {
       "output_type": "stream",
       "stream": "stdout",
       "text": [
        "\n",
        "g:/filmes/2000/Hist\u00f3rias de Cozinha (2003) Bent Hamer"
       ]
      },
      {
       "output_type": "stream",
       "stream": "stdout",
       "text": [
        "\n",
        "g:/filmes/2000/Hist\u00f3rias M\u00ednimas (2002) Carlos Sorin (Argentina)"
       ]
      },
      {
       "output_type": "stream",
       "stream": "stdout",
       "text": [
        "\n",
        "g:/filmes/2000/Horas de Ver\u00e3o (2008) Olivier Assayas"
       ]
      },
      {
       "output_type": "stream",
       "stream": "stdout",
       "text": [
        "\n",
        "g:/filmes/2000/Hotel Ruanda (2004) Terry George"
       ]
      },
      {
       "output_type": "stream",
       "stream": "stdout",
       "text": [
        "\n",
        "g:/filmes/2000/I skuggan av v\u00e4rmen (2009) Beata G\u00e4rdeler"
       ]
      },
      {
       "output_type": "stream",
       "stream": "stdout",
       "text": [
        "\n",
        "g:/filmes/2000/Ink (2009) Jamin Winans"
       ]
      },
      {
       "output_type": "stream",
       "stream": "stdout",
       "text": [
        "\n",
        "g:/filmes/2000/Italiano Para Principiantes (2000) Lone Scherfig"
       ]
      },
      {
       "output_type": "stream",
       "stream": "stdout",
       "text": [
        "\n",
        "g:/filmes/2000/Jap\u00e3o (2002) Carlos Reygadas"
       ]
      },
      {
       "output_type": "stream",
       "stream": "stdout",
       "text": [
        "\n",
        "g:/filmes/2000/Jestem (2005) Dorota Kedzierzawska"
       ]
      },
      {
       "output_type": "stream",
       "stream": "stdout",
       "text": [
        "\n",
        "g:/filmes/2000/Kinetta (2005) Giorgos Lanthimos"
       ]
      },
      {
       "output_type": "stream",
       "stream": "stdout",
       "text": [
        "\n",
        "g:/filmes/2000/Kisses (2008) Lance Daly"
       ]
      },
      {
       "output_type": "stream",
       "stream": "stdout",
       "text": [
        "\n",
        "g:/filmes/2000/Knerten (2009) Asleik Engmark"
       ]
      },
      {
       "output_type": "stream",
       "stream": "stdout",
       "text": [
        "\n",
        "g:/filmes/2000/Kung-Fus\u00e3o (2004) Stephen Chow"
       ]
      },
      {
       "output_type": "stream",
       "stream": "stdout",
       "text": [
        "\n",
        "g:/filmes/2000/K\u00e4sky (2008) Aku Louhimies"
       ]
      },
      {
       "output_type": "stream",
       "stream": "stdout",
       "text": [
        "\n",
        "g:/filmes/2000/L'enfant (2005) Jean Pierre et Luc Dardenne"
       ]
      },
      {
       "output_type": "stream",
       "stream": "stdout",
       "text": [
        "\n",
        "g:/filmes/2000/La captive (2000) Chantal Akerman"
       ]
      },
      {
       "output_type": "stream",
       "stream": "stdout",
       "text": [
        "\n",
        "g:/filmes/2000/La masseria delle allodole (2007) Paolo e Vittorio Taviani"
       ]
      },
      {
       "output_type": "stream",
       "stream": "stdout",
       "text": [
        "\n",
        "g:/filmes/2000/La nuit de la v\u00e9rit\u00e9 (2004) Fanta R\u00e9gina Nacro"
       ]
      },
      {
       "output_type": "stream",
       "stream": "stdout",
       "text": [
        "\n",
        "g:/filmes/2000/La Pianiste (2001) Michael Haneke"
       ]
      },
      {
       "output_type": "stream",
       "stream": "stdout",
       "text": [
        "\n",
        "g:/filmes/2000/La stella che non c'\u00e8 (2006) Gianni Amelio"
       ]
      },
      {
       "output_type": "stream",
       "stream": "stdout",
       "text": [
        "\n",
        "g:/filmes/2000/La Terre Abandonn\u00e9e (2005) Vimukthi Jayasundara"
       ]
      },
      {
       "output_type": "stream",
       "stream": "stdout",
       "text": [
        "\n",
        "g:/filmes/2000/Leonera (2008) Pablo Trapero"
       ]
      },
      {
       "output_type": "stream",
       "stream": "stdout",
       "text": [
        "\n",
        "g:/filmes/2000/Leslie, My Name Is Evil (2009) Reginald Harkema"
       ]
      },
      {
       "output_type": "stream",
       "stream": "stdout",
       "text": [
        "\n",
        "g:/filmes/2000/Ligeiramente Gr\u00e1vidos (2007)  Judd Apatow"
       ]
      },
      {
       "output_type": "stream",
       "stream": "stdout",
       "text": [
        "\n",
        "g:/filmes/2000/Liverpool (2008) Lisandro Alonso - Argentina"
       ]
      },
      {
       "output_type": "stream",
       "stream": "stdout",
       "text": [
        "\n",
        "g:/filmes/2000/Loft (2008) Erik Van Looy"
       ]
      },
      {
       "output_type": "stream",
       "stream": "stdout",
       "text": [
        "\n",
        "g:/filmes/2000/Lola (2009) Brillante Mendoza"
       ]
      },
      {
       "output_type": "stream",
       "stream": "stdout",
       "text": [
        "\n",
        "g:/filmes/2000/Loucuras de Um G\u00eanio (2005) Jeff Fauerzeig"
       ]
      },
      {
       "output_type": "stream",
       "stream": "stdout",
       "text": [
        "\n",
        "g:/filmes/2000/Lugar Nenhum na \u00c1frica (2001) Caroline Link"
       ]
      },
      {
       "output_type": "stream",
       "stream": "stdout",
       "text": [
        "\n",
        "g:/filmes/2000/Lunar (2009) Duncan Jones"
       ]
      },
      {
       "output_type": "stream",
       "stream": "stdout",
       "text": [
        "\n",
        "g:/filmes/2000/Luz Silenciosa (2007) Carlos Reygadas"
       ]
      },
      {
       "output_type": "stream",
       "stream": "stdout",
       "text": [
        "\n",
        "g:/filmes/2000/Machuca (2004) Andr\u00e9s Wood"
       ]
      },
      {
       "output_type": "stream",
       "stream": "stdout",
       "text": [
        "\n",
        "g:/filmes/2000/Mah Nakorn (2004) Wisit Sasanatieng - Tailandes"
       ]
      },
      {
       "output_type": "stream",
       "stream": "stdout",
       "text": [
        "\n",
        "g:/filmes/2000/Mais Estranho que a Fic\u00c3\u00a7\u00c3\u00a3o (2006) Marc Forster"
       ]
      },
      {
       "output_type": "stream",
       "stream": "stdout",
       "text": [
        "\n",
        "g:/filmes/2000/Mais Estranho que a Fic\u00e7\u00e3o (2006) Marc Forster"
       ]
      },
      {
       "output_type": "stream",
       "stream": "stdout",
       "text": [
        "\n",
        "g:/filmes/2000/Maldita Sorte (2007) Mark Helfrich"
       ]
      },
      {
       "output_type": "stream",
       "stream": "stdout",
       "text": [
        "\n",
        "g:/filmes/2000/Marcas da Viol\u00c3\u00aancia (2005) David Cronenberg"
       ]
      },
      {
       "output_type": "stream",
       "stream": "stdout",
       "text": [
        "\n",
        "g:/filmes/2000/Maria (2005) Abel Ferrara"
       ]
      },
      {
       "output_type": "stream",
       "stream": "stdout",
       "text": [
        "\n",
        "g:/filmes/2000/Mata-me de Prazer (2002) Kaige Chen"
       ]
      },
      {
       "output_type": "stream",
       "stream": "stdout",
       "text": [
        "\n",
        "g:/filmes/2000/Mayak (2006) Mariya Saakyan"
       ]
      },
      {
       "output_type": "stream",
       "stream": "stdout",
       "text": [
        "\n",
        "g:/filmes/2000/Mickybo and Me (2004) Terry Loane"
       ]
      },
      {
       "output_type": "stream",
       "stream": "stdout",
       "text": [
        "\n",
        "g:/filmes/2000/MicMacs - Um Plano Complicado (2009) Jean-Pierre Jeunet"
       ]
      },
      {
       "output_type": "stream",
       "stream": "stdout",
       "text": [
        "\n",
        "g:/filmes/2000/Mon fils \u00e0 moi (2006) Martial Fougeron"
       ]
      },
      {
       "output_type": "stream",
       "stream": "stdout",
       "text": [
        "\n",
        "g:/filmes/2000/Morrer Como Um Homem (2009) Jo\u00e3o Pedro Rodriguez"
       ]
      },
      {
       "output_type": "stream",
       "stream": "stdout",
       "text": [
        "\n",
        "g:/filmes/2000/Morro do C\u00e9u (2009) Gustavo Spolidoro"
       ]
      },
      {
       "output_type": "stream",
       "stream": "stdout",
       "text": [
        "\n",
        "g:/filmes/2000/Mum and Dad (2008) Steven Sheil"
       ]
      },
      {
       "output_type": "stream",
       "stream": "stdout",
       "text": [
        "\n",
        "g:/filmes/2000/Mundo Livre (2007) Ken Loach"
       ]
      },
      {
       "output_type": "stream",
       "stream": "stdout",
       "text": [
        "\n",
        "g:/filmes/2000/Musta j\u00e4\u00e4 (2007) Petri Kotwica - Finl\u00e2ndia"
       ]
      },
      {
       "output_type": "stream",
       "stream": "stdout",
       "text": [
        "\n",
        "g:/filmes/2000/M\u00e1ncora (2008) Ricardo de Montreuli"
       ]
      },
      {
       "output_type": "stream",
       "stream": "stdout",
       "text": [
        "\n",
        "g:/filmes/2000/Na Cama (2005) Mat\u00edas Bize"
       ]
      },
      {
       "output_type": "stream",
       "stream": "stdout",
       "text": [
        "\n",
        "g:/filmes/2000/Na Cidade de Sylvia (2007) Jos\u00e9 Luis Guerin"
       ]
      },
      {
       "output_type": "stream",
       "stream": "stdout",
       "text": [
        "\n",
        "g:/filmes/2000/Na Escurid\u00e3o (2009) \u00c7agan Irmak"
       ]
      },
      {
       "output_type": "stream",
       "stream": "stdout",
       "text": [
        "\n",
        "g:/filmes/2000/Nachmittag (2007) Angela Schanelec"
       ]
      },
      {
       "output_type": "stream",
       "stream": "stdout",
       "text": [
        "\n",
        "g:/filmes/2000/Nacido y Criado (2006) Pablo Trapero"
       ]
      },
      {
       "output_type": "stream",
       "stream": "stdout",
       "text": [
        "\n",
        "g:/filmes/2000/Napoli, Napoli. Napoli (2009) Abel Ferrara"
       ]
      },
      {
       "output_type": "stream",
       "stream": "stdout",
       "text": [
        "\n",
        "g:/filmes/2000/Ninho Vazio (2008) Daniel Burman - Argentina"
       ]
      },
      {
       "output_type": "stream",
       "stream": "stdout",
       "text": [
        "\n",
        "g:/filmes/2000/No Princ\u00edpio (2009) Xavier Giannoli"
       ]
      },
      {
       "output_type": "stream",
       "stream": "stdout",
       "text": [
        "\n",
        "g:/filmes/2000/Nordeste (2005) Juan Diego Solanas"
       ]
      },
      {
       "output_type": "stream",
       "stream": "stdout",
       "text": [
        "\n",
        "g:/filmes/2000/Nossa Senhora dos Assassinos (2000) Barbel Schroeder"
       ]
      },
      {
       "output_type": "stream",
       "stream": "stdout",
       "text": [
        "\n",
        "g:/filmes/2000/Notre Musique (2004) Jean-Luc Godard"
       ]
      },
      {
       "output_type": "stream",
       "stream": "stdout",
       "text": [
        "\n",
        "g:/filmes/2000/Nove Rainhas (2000) Fabi\u00e1n Bielinsky"
       ]
      },
      {
       "output_type": "stream",
       "stream": "stdout",
       "text": [
        "\n",
        "g:/filmes/2000/Novo no Peda\u00e7o (2002) Ed Decter"
       ]
      },
      {
       "output_type": "stream",
       "stream": "stdout",
       "text": [
        "\n",
        "g:/filmes/2000/N\u00e3o Conte a Ningu\u00e9m (2006) Guillaume Canet"
       ]
      },
      {
       "output_type": "stream",
       "stream": "stdout",
       "text": [
        "\n",
        "g:/filmes/2000/N\u00e3o se Preocupe, Estou Bem (2006) Philippe Lioret"
       ]
      },
      {
       "output_type": "stream",
       "stream": "stdout",
       "text": [
        "\n",
        "g:/filmes/2000/N\u00e9s en 68 (2008) Oliver Ducastel e Jacques Martineau"
       ]
      },
      {
       "output_type": "stream",
       "stream": "stdout",
       "text": [
        "\n",
        "g:/filmes/2000/O Banheiro do Papa (2007) C\u00e9sar Charlone e Enrique Fern\u00e1ndez"
       ]
      },
      {
       "output_type": "stream",
       "stream": "stdout",
       "text": [
        "\n",
        "g:/filmes/2000/O Buda (2005) Diego Rafecas"
       ]
      },
      {
       "output_type": "stream",
       "stream": "stdout",
       "text": [
        "\n",
        "g:/filmes/2000/O B\u00fafalo da Noite (2007) Jorge Hern\u00e1ndez Aldana"
       ]
      },
      {
       "output_type": "stream",
       "stream": "stdout",
       "text": [
        "\n",
        "g:/filmes/2000/O Cachorro (2004) Carlos Sorin (Argentina)"
       ]
      },
      {
       "output_type": "stream",
       "stream": "stdout",
       "text": [
        "\n",
        "g:/filmes/2000/O Caminho das Nuvens (2003) Vicente Amorin"
       ]
      },
      {
       "output_type": "stream",
       "stream": "stdout",
       "text": [
        "\n",
        "g:/filmes/2000/O Caso Farewell (2009) Christian Carion"
       ]
      },
      {
       "output_type": "stream",
       "stream": "stdout",
       "text": [
        "\n",
        "g:/filmes/2000/O Divo (2008) Paolo Sorrentino"
       ]
      },
      {
       "output_type": "stream",
       "stream": "stdout",
       "text": [
        "\n",
        "g:/filmes/2000/O Filho (2002) Jean-Pierre e Luc Dardenne"
       ]
      },
      {
       "output_type": "stream",
       "stream": "stdout",
       "text": [
        "\n",
        "g:/filmes/2000/O Fim do Mundo (2006) Richard Kelly"
       ]
      },
      {
       "output_type": "stream",
       "stream": "stdout",
       "text": [
        "\n",
        "g:/filmes/2000/O Grande Truque (2006) Christopher Nolan"
       ]
      },
      {
       "output_type": "stream",
       "stream": "stdout",
       "text": [
        "\n",
        "g:/filmes/2000/O Grupo Baader Meinhof (2008) Uli Edel"
       ]
      },
      {
       "output_type": "stream",
       "stream": "stdout",
       "text": [
        "\n",
        "g:/filmes/2000/O Homem do Lado (2009) Gast\u00f3n Duprat e Mariano Cohn"
       ]
      },
      {
       "output_type": "stream",
       "stream": "stdout",
       "text": [
        "\n",
        "g:/filmes/2000/O Homem Mais Perigoso da Am\u00e9rica (2009) Judith Ehrlich e Rick Goldsmith"
       ]
      },
      {
       "output_type": "stream",
       "stream": "stdout",
       "text": [
        "\n",
        "g:/filmes/2000/O Homem que Era o Super-Homem (2008) Yoon-Chul Jeong - Cor\u00e9ia do Sul"
       ]
      },
      {
       "output_type": "stream",
       "stream": "stdout",
       "text": [
        "\n",
        "g:/filmes/2000/O Homem Que Incomoda (2006) Jens Lien"
       ]
      },
      {
       "output_type": "stream",
       "stream": "stdout",
       "text": [
        "\n",
        "g:/filmes/2000/O Homem que Vir\u00e1 (2009) Giorgio Diritti"
       ]
      },
      {
       "output_type": "stream",
       "stream": "stdout",
       "text": [
        "\n",
        "g:/filmes/2000/O Homem que Vir\u00c3\u00a1 (2009) Giorgio Diritti"
       ]
      },
      {
       "output_type": "stream",
       "stream": "stdout",
       "text": [
        "\n",
        "g:/filmes/2000/O Homem sem Passado (2002) Aki Kaurism\u00c3\u00a4ki"
       ]
      },
      {
       "output_type": "stream",
       "stream": "stdout",
       "text": [
        "\n",
        "g:/filmes/2000/O Mundo Imagin\u00e1rio do Dr. Parnassus (2009) Terry Gilliam"
       ]
      },
      {
       "output_type": "stream",
       "stream": "stdout",
       "text": [
        "\n",
        "g:/filmes/2000/O Novo Pa\u00c3\u00ads (2000) Geir Hansteen J\u00c3\u00b6rgensen - Su\u00c3\u00a9cia"
       ]
      },
      {
       "output_type": "stream",
       "stream": "stdout",
       "text": [
        "\n",
        "g:/filmes/2000/O N\u00facleo -  Miss\u00e3o Terra (2003) Jon Amiel"
       ]
      },
      {
       "output_type": "stream",
       "stream": "stdout",
       "text": [
        "\n",
        "g:/filmes/2000/O Pai de Giovanna (2008) Pupi Avati"
       ]
      },
      {
       "output_type": "stream",
       "stream": "stdout",
       "text": [
        "\n",
        "g:/filmes/2000/O Pequeno Nicolau (2009) Laurent Tirard"
       ]
      },
      {
       "output_type": "stream",
       "stream": "stdout",
       "text": [
        "\n",
        "g:/filmes/2000/O Pianista (2002) Roman Polanski"
       ]
      },
      {
       "output_type": "stream",
       "stream": "stdout",
       "text": [
        "\n",
        "g:/filmes/2000/O Porco Espinho (2009) Mona Achache"
       ]
      },
      {
       "output_type": "stream",
       "stream": "stdout",
       "text": [
        "\n",
        "g:/filmes/2000/O Profeta (2009) Jacques Audiard"
       ]
      },
      {
       "output_type": "stream",
       "stream": "stdout",
       "text": [
        "\n",
        "g:/filmes/2000/O P\u00e1ssaro de Argila (2002) Tareque Masud"
       ]
      },
      {
       "output_type": "stream",
       "stream": "stdout",
       "text": [
        "\n",
        "g:/filmes/2000/O Quarto de Fermat (2007) Luis Piedrahita e Rodrigo Sope\u00f1a - Espanha"
       ]
      },
      {
       "output_type": "stream",
       "stream": "stdout",
       "text": [
        "\n",
        "g:/filmes/2000/O Romance de Morvern Callar (2002) Lynne Ramsay"
       ]
      },
      {
       "output_type": "stream",
       "stream": "stdout",
       "text": [
        "\n",
        "g:/filmes/2000/O Sabor da Melancia (2005) Tsai Ming-Liang - Taiwan"
       ]
      },
      {
       "output_type": "stream",
       "stream": "stdout",
       "text": [
        "\n",
        "g:/filmes/2000/O Segredo de Vera Drake (2004) Mike Leigh"
       ]
      },
      {
       "output_type": "stream",
       "stream": "stdout",
       "text": [
        "\n",
        "g:/filmes/2000/O Segredo dos Seus Olhos (2009) Juan Jos\u00e9 Campanella"
       ]
      },
      {
       "output_type": "stream",
       "stream": "stdout",
       "text": [
        "\n",
        "g:/filmes/2000/O Sil\u00c3\u00aancio de Lorna (2008) Jean-Pierre e Luc Dardenne"
       ]
      },
      {
       "output_type": "stream",
       "stream": "stdout",
       "text": [
        "\n",
        "g:/filmes/2000/O Sol (2005) Alexsandr Sokurov"
       ]
      },
      {
       "output_type": "stream",
       "stream": "stdout",
       "text": [
        "\n",
        "g:/filmes/2000/O Som do Mar (2001) Bigas Luna"
       ]
      },
      {
       "output_type": "stream",
       "stream": "stdout",
       "text": [
        "\n",
        "g:/filmes/2000/O Tempo do Lobo (2003) Michael Haneke"
       ]
      },
      {
       "output_type": "stream",
       "stream": "stdout",
       "text": [
        "\n",
        "g:/filmes/2000/O Tempo que Resta (2005) Fran\u00e7ois Ozon"
       ]
      },
      {
       "output_type": "stream",
       "stream": "stdout",
       "text": [
        "\n",
        "g:/filmes/2000/O Terno (2002) Alberto Rodr\u00c3\u00adguez"
       ]
      },
      {
       "output_type": "stream",
       "stream": "stdout",
       "text": [
        "\n",
        "g:/filmes/2000/O Terno (2002) Alberto Rodr\u00edguez"
       ]
      },
      {
       "output_type": "stream",
       "stream": "stdout",
       "text": [
        "\n",
        "g:/filmes/2000/O Vento (2005) Eduardo Mignogna - Argentina"
       ]
      },
      {
       "output_type": "stream",
       "stream": "stdout",
       "text": [
        "\n",
        "g:/filmes/2000/Odete (2005) Joao Pedro Rodrigues - Portugal"
       ]
      },
      {
       "output_type": "stream",
       "stream": "stdout",
       "text": [
        "\n",
        "g:/filmes/2000/Ondas Invis\u00edveis (2006) Pen-Ek Ratanaruang - Tail\u00e2ndia"
       ]
      },
      {
       "output_type": "stream",
       "stream": "stdout",
       "text": [
        "\n",
        "g:/filmes/2000/Os Donos da Noite (2007) James Gray"
       ]
      },
      {
       "output_type": "stream",
       "stream": "stdout",
       "text": [
        "\n",
        "g:/filmes/2000/Os Fals\u00c3\u00a1rios (2007) Stefan Ruzowitzky"
       ]
      },
      {
       "output_type": "stream",
       "stream": "stdout",
       "text": [
        "\n",
        "g:/filmes/2000/Os Girass\u00c3\u00b3is Cegos (2008) Jos\u00c3\u00a9 Luis Cuerda - Espanha"
       ]
      },
      {
       "output_type": "stream",
       "stream": "stdout",
       "text": [
        "\n",
        "g:/filmes/2000/Os Limites do Controle (2009) Jim Jarmusch"
       ]
      },
      {
       "output_type": "stream",
       "stream": "stdout",
       "text": [
        "\n",
        "g:/filmes/2000/Os Melhores Dias de Nossas Vidas (2004) Damien O'Donnell"
       ]
      },
      {
       "output_type": "stream",
       "stream": "stdout",
       "text": [
        "\n",
        "g:/filmes/2000/Owl and the Sparrow (2007) Stephane Gauger - Vietnamita"
       ]
      },
      {
       "output_type": "stream",
       "stream": "stdout",
       "text": [
        "\n",
        "g:/filmes/2000/Pai e Filho (2003) Aleksandr Sokurov"
       ]
      },
      {
       "output_type": "stream",
       "stream": "stdout",
       "text": [
        "\n",
        "g:/filmes/2000/Pal\u00c3\u00adndromos (2004) Todd Solondz"
       ]
      },
      {
       "output_type": "stream",
       "stream": "stdout",
       "text": [
        "\n",
        "g:/filmes/2000/Paradise Now (2005) Hany Abu-Assad"
       ]
      },
      {
       "output_type": "stream",
       "stream": "stdout",
       "text": [
        "\n",
        "g:/filmes/2000/Paris (2008) C\u00c3\u00a9dric Klapisch"
       ]
      },
      {
       "output_type": "stream",
       "stream": "stdout",
       "text": [
        "\n",
        "g:/filmes/2000/Party Monster (2003) Fenton Bailey e Randy Barbato"
       ]
      },
      {
       "output_type": "stream",
       "stream": "stdout",
       "text": [
        "\n",
        "g:/filmes/2000/Patrik 1.5 (2008) Ella Lemhagen - Su\u00c3\u00a9cia"
       ]
      },
      {
       "output_type": "stream",
       "stream": "stdout",
       "text": [
        "\n",
        "g:/filmes/2000/Pelos Meus Olhos (2003) Ic\u00edar Bolla\u00edn - Espanha"
       ]
      },
      {
       "output_type": "stream",
       "stream": "stdout",
       "text": [
        "\n",
        "g:/filmes/2000/Pequena Miss Sunshine (2006) Jonathan Dayton e Valerie Faris"
       ]
      },
      {
       "output_type": "stream",
       "stream": "stdout",
       "text": [
        "\n",
        "g:/filmes/2000/Play (2005) Alicia Scherson"
       ]
      },
      {
       "output_type": "stream",
       "stream": "stdout",
       "text": [
        "\n",
        "g:/filmes/2000/Pol\u00edcia Adjetivo (2009) Cornelius Porumboiu"
       ]
      },
      {
       "output_type": "stream",
       "stream": "stdout",
       "text": [
        "\n",
        "g:/filmes/2000/Pora umierac (2007) Dorota Kedzierzawska"
       ]
      },
      {
       "output_type": "stream",
       "stream": "stdout",
       "text": [
        "\n",
        "g:/filmes/2000/Pornografia (2003) Jan Jakub Kolski - Pol\u00c3\u00b4nia"
       ]
      },
      {
       "output_type": "stream",
       "stream": "stdout",
       "text": [
        "\n",
        "g:/filmes/2000/Preciosa (2009) Lee Daniels"
       ]
      },
      {
       "output_type": "stream",
       "stream": "stdout",
       "text": [
        "\n",
        "g:/filmes/2000/P\u00c3\u00a1lpebras Azuis (2007) Ernesto Contreras"
       ]
      },
      {
       "output_type": "stream",
       "stream": "stdout",
       "text": [
        "\n",
        "g:/filmes/2000/P\u00c3\u00a3o e Rosas (2000) Ken Loach"
       ]
      },
      {
       "output_type": "stream",
       "stream": "stdout",
       "text": [
        "\n",
        "g:/filmes/2000/Que Horas S\u00c3\u00a3o A\u00c3\u00ad (2001) Tsai Ming-Liang"
       ]
      },
      {
       "output_type": "stream",
       "stream": "stdout",
       "text": [
        "\n",
        "g:/filmes/2000/Querida Wendy (2004) Thomas Vinterberg"
       ]
      },
      {
       "output_type": "stream",
       "stream": "stdout",
       "text": [
        "\n",
        "g:/filmes/2000/Recontagem (2008) Jay Roach"
       ]
      },
      {
       "output_type": "stream",
       "stream": "stdout",
       "text": [
        "\n",
        "g:/filmes/2000/Redemoinho (2000) Denis Villeneuve"
       ]
      },
      {
       "output_type": "stream",
       "stream": "stdout",
       "text": [
        "\n",
        "g:/filmes/2000/Rent; Os Bo\u00c3\u00aamios (2005) Chris Columbus"
       ]
      },
      {
       "output_type": "stream",
       "stream": "stdout",
       "text": [
        "\n",
        "g:/filmes/2000/Rua das Tenta\u00c3\u00a7\u00c3\u00b5es (2002) Lisa Cholodenko"
       ]
      },
      {
       "output_type": "stream",
       "stream": "stdout",
       "text": [
        "\n",
        "g:/filmes/2000/Sagrado Cora\u00c3\u00a7\u00c3\u00a3o (2005) Ferzan Ozpetek"
       ]
      },
      {
       "output_type": "stream",
       "stream": "stdout",
       "text": [
        "\n",
        "g:/filmes/2000/Sem Nome (2009) Cary Joji Fukunaga"
       ]
      },
      {
       "output_type": "stream",
       "stream": "stdout",
       "text": [
        "\n",
        "g:/filmes/2000/Sem Sa\u00c3\u00adda (2008) James Watkins - Reino Unido"
       ]
      },
      {
       "output_type": "stream",
       "stream": "stdout",
       "text": [
        "\n",
        "g:/filmes/2000/Senhores do Crime (2007) David Cronenberg"
       ]
      },
      {
       "output_type": "stream",
       "stream": "stdout",
       "text": [
        "\n",
        "g:/filmes/2000/Sennen joy\u00fb (2001) Satoshi Kon - Jap\u00e3o - Anima\u00e7\u00e3o"
       ]
      },
      {
       "output_type": "stream",
       "stream": "stdout",
       "text": [
        "\n",
        "g:/filmes/2000/Sete Vidas (2008) Gabriel Muccino"
       ]
      },
      {
       "output_type": "stream",
       "stream": "stdout",
       "text": [
        "\n",
        "g:/filmes/2000/Shade - Nos Bastidores do Jogo (2003) Damian Nieman"
       ]
      },
      {
       "output_type": "stream",
       "stream": "stdout",
       "text": [
        "\n",
        "g:/filmes/2000/Shotgun Stories (2007) Jeff Nichols"
       ]
      },
      {
       "output_type": "stream",
       "stream": "stdout",
       "text": [
        "\n",
        "g:/filmes/2000/Show de Vizinha (2004) Luke Greenfield"
       ]
      },
      {
       "output_type": "stream",
       "stream": "stdout",
       "text": [
        "\n",
        "g:/filmes/2000/Simplesmente Complicado (2009) Nancy Meyers"
       ]
      },
      {
       "output_type": "stream",
       "stream": "stdout",
       "text": [
        "\n",
        "g:/filmes/2000/Simplesmente Martha (2001) Sandra Nettelbeck"
       ]
      },
      {
       "output_type": "stream",
       "stream": "stdout",
       "text": [
        "\n",
        "g:/filmes/2000/Slovenka (2009) Damjan Kozole"
       ]
      },
      {
       "output_type": "stream",
       "stream": "stdout",
       "text": [
        "\n",
        "g:/filmes/2000/Sobre Caf\u00c3\u00a9 e Cigarros (2004) Jim Jarmusch"
       ]
      },
      {
       "output_type": "stream",
       "stream": "stdout",
       "text": [
        "\n",
        "g:/filmes/2000/Sobre os Meus L\u00c3\u00a1bios (2001) Jacques Audiard"
       ]
      },
      {
       "output_type": "stream",
       "stream": "stdout",
       "text": [
        "\n",
        "g:/filmes/2000/Solino (2002) Fatih Akin"
       ]
      },
      {
       "output_type": "stream",
       "stream": "stdout",
       "text": [
        "\n",
        "g:/filmes/2000/Sonhando Acordado (2006) Michel Gondry"
       ]
      },
      {
       "output_type": "stream",
       "stream": "stdout",
       "text": [
        "\n",
        "g:/filmes/2000/Sonhos Vazios (2009) Nitara Lee Osbourne"
       ]
      },
      {
       "output_type": "stream",
       "stream": "stdout",
       "text": [
        "\n",
        "g:/filmes/2000/Sou um Cyborg, E Da\u00ed, Eu (2006) Chan-wook Park - Cor\u00e9ia do Sul"
       ]
      },
      {
       "output_type": "stream",
       "stream": "stdout",
       "text": [
        "\n",
        "g:/filmes/2000/Sr. Ningu\u00c3\u00a9m (2009) Jaco Van Dormael"
       ]
      },
      {
       "output_type": "stream",
       "stream": "stdout",
       "text": [
        "\n",
        "g:/filmes/2000/Strella (2009) Panos H. Koutras"
       ]
      },
      {
       "output_type": "stream",
       "stream": "stdout",
       "text": [
        "\n",
        "g:/filmes/2000/S\u00c3\u00a3o Jo\u00c3\u00a3o de Las Vegas (2009) Hue Rhodes"
       ]
      },
      {
       "output_type": "stream",
       "stream": "stdout",
       "text": [
        "\n",
        "g:/filmes/2000/Taurus (2001) Aleksandr Sokurov"
       ]
      },
      {
       "output_type": "stream",
       "stream": "stdout",
       "text": [
        "\n",
        "g:/filmes/2000/Taxidermia (2006) Gy\u00c3\u00b6rgy P\u00c3\u00a1lfi - Hungria"
       ]
      },
      {
       "output_type": "stream",
       "stream": "stdout",
       "text": [
        "\n",
        "g:/filmes/2000/Tempestade de Ver\u00c3\u00a3o (2004) Marco Kreuzpainter - Alemanha"
       ]
      },
      {
       "output_type": "stream",
       "stream": "stdout",
       "text": [
        "\n",
        "g:/filmes/2000/Tempos de Tormenta (2009) Taddheus O'Sulliva"
       ]
      },
      {
       "output_type": "stream",
       "stream": "stdout",
       "text": [
        "\n",
        "g:/filmes/2000/Terra Son\u00c3\u00a2mbula (2007) Teresa Prata"
       ]
      },
      {
       "output_type": "stream",
       "stream": "stdout",
       "text": [
        "\n",
        "g:/filmes/2000/The Edukators (2004) Hans Weingartner"
       ]
      },
      {
       "output_type": "stream",
       "stream": "stdout",
       "text": [
        "\n",
        "g:/filmes/2000/The Gathering Storm (2002) Richard Loncraine"
       ]
      },
      {
       "output_type": "stream",
       "stream": "stdout",
       "text": [
        "\n",
        "g:/filmes/2000/The Man From Earth (2007) Richard Schenkman"
       ]
      },
      {
       "output_type": "stream",
       "stream": "stdout",
       "text": [
        "\n",
        "g:/filmes/2000/The World is Big and Salvation Lurks Around the Corner (2008) Stephan Komandarev - Bulg\u00c3\u00a1ria"
       ]
      },
      {
       "output_type": "stream",
       "stream": "stdout",
       "text": [
        "\n",
        "g:/filmes/2000/Tobruk (2008) V\u00c3\u00a1clav Marhoul"
       ]
      },
      {
       "output_type": "stream",
       "stream": "stdout",
       "text": [
        "\n",
        "g:/filmes/2000/Todos os Outros (2009) Maren Ade"
       ]
      },
      {
       "output_type": "stream",
       "stream": "stdout",
       "text": [
        "\n",
        "g:/filmes/2000/Tokyo! (2008) Michel Gondry, Leos Carax e Bong Joon-ho"
       ]
      },
      {
       "output_type": "stream",
       "stream": "stdout",
       "text": [
        "\n",
        "g:/filmes/2000/Trair \u00c3\u00a9 uma Arte (2009) Duncan Ward"
       ]
      },
      {
       "output_type": "stream",
       "stream": "stdout",
       "text": [
        "\n",
        "g:/filmes/2000/Trotsky A Revolu\u00c3\u00a7\u00c3\u00a3o; Come\u00c3\u00a7a na Escola (2009) Jacob Tierney"
       ]
      },
      {
       "output_type": "stream",
       "stream": "stdout",
       "text": [
        "\n",
        "g:/filmes/2000/Tulpan (2008) Sergey Dvortsevoy"
       ]
      },
      {
       "output_type": "stream",
       "stream": "stdout",
       "text": [
        "\n",
        "g:/filmes/2000/Um Amigo Meu (2006) Sebastian Schipper"
       ]
      },
      {
       "output_type": "stream",
       "stream": "stdout",
       "text": [
        "\n",
        "g:/filmes/2000/Um Duende em Nova York (2003) Jon Favreau"
       ]
      },
      {
       "output_type": "stream",
       "stream": "stdout",
       "text": [
        "\n",
        "g:/filmes/2000/Um Sonho Poss\u00edvel (2009) John Lee Hancock"
       ]
      },
      {
       "output_type": "stream",
       "stream": "stdout",
       "text": [
        "\n",
        "g:/filmes/2000/Um Urso Vermelho (2002) Israel Adrian Caetano"
       ]
      },
      {
       "output_type": "stream",
       "stream": "stdout",
       "text": [
        "\n",
        "g:/filmes/2000/Uma Amizade sem Fronteiras (2003) Fran\u00c3\u00a7ois Dupeyron"
       ]
      },
      {
       "output_type": "stream",
       "stream": "stdout",
       "text": [
        "\n",
        "g:/filmes/2000/Uma Can\u00c3\u00a7\u00c3\u00a3o de Amor (2008) Karin Albou"
       ]
      },
      {
       "output_type": "stream",
       "stream": "stdout",
       "text": [
        "\n",
        "g:/filmes/2000/Uma Garota Encantada (2004) Tommy O'Harver"
       ]
      },
      {
       "output_type": "stream",
       "stream": "stdout",
       "text": [
        "\n",
        "g:/filmes/2000/Uma Visita ao Louvre (2004) Dani\u00c3\u00a8le Hullet e Jean-Marie Straub"
       ]
      },
      {
       "output_type": "stream",
       "stream": "stdout",
       "text": [
        "\n",
        "g:/filmes/2000/Valent\u00c3\u00adn (2002) Alejandro Agresti"
       ]
      },
      {
       "output_type": "stream",
       "stream": "stdout",
       "text": [
        "\n",
        "g:/filmes/2000/Vencer (2009) Marco Bellocchio"
       ]
      },
      {
       "output_type": "stream",
       "stream": "stdout",
       "text": [
        "\n",
        "g:/filmes/2000/Ventos da Liberdade (2006) Ken Loach"
       ]
      },
      {
       "output_type": "stream",
       "stream": "stdout",
       "text": [
        "\n",
        "g:/filmes/2000/Vermelho como o C\u00c3\u00a9u (2006) Cristiano Bortone"
       ]
      },
      {
       "output_type": "stream",
       "stream": "stdout",
       "text": [
        "\n",
        "g:/filmes/2000/Vil Romance (2008) Jos\u00e9 Campusano"
       ]
      },
      {
       "output_type": "stream",
       "stream": "stdout",
       "text": [
        "\n",
        "g:/filmes/2000/Vinicius (2005) Miguel Faria Jr. - Brasil - Document\u00e1rio"
       ]
      },
      {
       "output_type": "stream",
       "stream": "stdout",
       "text": [
        "\n",
        "g:/filmes/2000/Wendy e Lucy (2008) Kelly Reichardt"
       ]
      },
      {
       "output_type": "stream",
       "stream": "stdout",
       "text": [
        "\n",
        "g:/filmes/2000/Wolke 9 (2008) Andreas Dresen"
       ]
      },
      {
       "output_type": "stream",
       "stream": "stdout",
       "text": [
        "\n",
        "g:/filmes/2000/Wonderful Town (2007) Aditya Assarat"
       ]
      },
      {
       "output_type": "stream",
       "stream": "stdout",
       "text": [
        "\n",
        "g:/filmes/2000/XXY (2007) Luc\u00eda Puenzo"
       ]
      },
      {
       "output_type": "stream",
       "stream": "stdout",
       "text": [
        "\n",
        "g:/filmes/2000/Yella (2007) Christian Petzold"
       ]
      },
      {
       "output_type": "stream",
       "stream": "stdout",
       "text": [
        "\n",
        "g:/filmes/2000/Zeitgeist Addendum (2008) Peter Joseph"
       ]
      },
      {
       "output_type": "stream",
       "stream": "stdout",
       "text": [
        "\n",
        "g:/filmes/2000/Zona do Crime (2008) Rodrigo Pl\u00c3\u00a1"
       ]
      },
      {
       "output_type": "stream",
       "stream": "stdout",
       "text": [
        "\n",
        "g:/filmes/2000/Zozo (2005) Josef Fares"
       ]
      },
      {
       "output_type": "stream",
       "stream": "stdout",
       "text": [
        "\n",
        "g:/filmes/2000/\u00c0 Prova de Morte (2007) Quentin Tarantino"
       ]
      },
      {
       "output_type": "stream",
       "stream": "stdout",
       "text": [
        "\n",
        "g:/filmes/2000/\u00c0s Cinco da Tarde (2003) Samira Makhmalbaf"
       ]
      },
      {
       "output_type": "stream",
       "stream": "stdout",
       "text": [
        "\n",
        "g:/filmes/2000/\u00c1guas Turvas (2008) Erik Poppe"
       ]
      },
      {
       "output_type": "stream",
       "stream": "stdout",
       "text": [
        "\n",
        "g:/filmes/2000/\u00c9l\u00e8ve libre (2008) Joachim Lafosse"
       ]
      },
      {
       "output_type": "stream",
       "stream": "stdout",
       "text": [
        "\n",
        "g:/filmes/2010/20 Sigarette (2010) Aureliano Amadei"
       ]
      },
      {
       "output_type": "stream",
       "stream": "stdout",
       "text": [
        "\n",
        "g:/filmes/2010/A Bela Adormecida (2010) Catherine Breillat"
       ]
      },
      {
       "output_type": "stream",
       "stream": "stdout",
       "text": [
        "\n",
        "g:/filmes/2010/A Chave de Sarah (2010) Gilles Paquet-Brenner"
       ]
      },
      {
       "output_type": "stream",
       "stream": "stdout",
       "text": [
        "\n",
        "g:/filmes/2010/A Horrible Way to Die (2010) Adam Wingard"
       ]
      },
      {
       "output_type": "stream",
       "stream": "stdout",
       "text": [
        "\n",
        "g:/filmes/2010/A Marine Story (2010) Ned Farr"
       ]
      },
      {
       "output_type": "stream",
       "stream": "stdout",
       "text": [
        "\n",
        "g:/filmes/2010/A Mosquiteira (2010) Agust\u00ed Vila"
       ]
      },
      {
       "output_type": "stream",
       "stream": "stdout",
       "text": [
        "\n",
        "g:/filmes/2010/A Princesa de Montpensier (2010) Bertrand Tavernier"
       ]
      },
      {
       "output_type": "stream",
       "stream": "stdout",
       "text": [
        "\n",
        "g:/filmes/2010/A Queima Roupa (2010) Fred Cavay\u00e9"
       ]
      },
      {
       "output_type": "stream",
       "stream": "stdout",
       "text": [
        "\n",
        "g:/filmes/2010/Abutres (2010) Pablo Trapero"
       ]
      },
      {
       "output_type": "stream",
       "stream": "stdout",
       "text": [
        "\n",
        "g:/filmes/2010/Amor e Outras Drogas (2010) Edward Zwick"
       ]
      },
      {
       "output_type": "stream",
       "stream": "stdout",
       "text": [
        "\n",
        "g:/filmes/2010/Amor Obsessivo (A Woman) (2010) Giada Colagrande"
       ]
      },
      {
       "output_type": "stream",
       "stream": "stdout",
       "text": [
        "\n",
        "g:/filmes/2010/As Quatro Voltas (2010) Michelangelo Frammartino"
       ]
      },
      {
       "output_type": "stream",
       "stream": "stdout",
       "text": [
        "\n",
        "g:/filmes/2010/At\u00e9 a Chuva (2010) Iciar Bollain"
       ]
      },
      {
       "output_type": "stream",
       "stream": "stdout",
       "text": [
        "\n",
        "g:/filmes/2010/Aurora (2010) Cristi Puiu"
       ]
      },
      {
       "output_type": "stream",
       "stream": "stdout",
       "text": [
        "\n",
        "g:/filmes/2010/Boy (2010) Taika Waititi"
       ]
      },
      {
       "output_type": "stream",
       "stream": "stdout",
       "text": [
        "\n",
        "g:/filmes/2010/Branco como a Neve (2010) Selim G\u00fcnes"
       ]
      },
      {
       "output_type": "stream",
       "stream": "stdout",
       "text": [
        "\n",
        "g:/filmes/2010/Cairo 678 (2010) Moham\u00e9d Diab"
       ]
      },
      {
       "output_type": "stream",
       "stream": "stdout",
       "text": [
        "\n",
        "g:/filmes/2010/Chantrapas (2010) Otar Iosseliani"
       ]
      },
      {
       "output_type": "stream",
       "stream": "stdout",
       "text": [
        "\n",
        "g:/filmes/2010/Curling (2010) Denis C\u00f4t\u00e9"
       ]
      },
      {
       "output_type": "stream",
       "stream": "stdout",
       "text": [
        "\n",
        "g:/filmes/2010/Elvis e Madona (2010) Marcelo Laffitte"
       ]
      },
      {
       "output_type": "stream",
       "stream": "stdout",
       "text": [
        "\n",
        "g:/filmes/2010/Em Um Mundo Melhor (2010) Susanne Bier"
       ]
      },
      {
       "output_type": "stream",
       "stream": "stdout",
       "text": [
        "\n",
        "g:/filmes/2010/Enlouquecendo com a Liberdade (2010) Tim Allen"
       ]
      },
      {
       "output_type": "stream",
       "stream": "stdout",
       "text": [
        "\n",
        "g:/filmes/2010/Esperar Para Sempre (2010) James Keach"
       ]
      },
      {
       "output_type": "stream",
       "stream": "stdout",
       "text": [
        "\n",
        "g:/filmes/2010/Eu Vi o Diabo (2010) Ji-woon Kim - Cor\u00c3\u00a9ia do Sul"
       ]
      },
      {
       "output_type": "stream",
       "stream": "stdout",
       "text": [
        "\n",
        "g:/filmes/2010/Eu Vi o Diabo (2010) Ji-woon Kim - Cor\u00e9ia do Sul"
       ]
      },
      {
       "output_type": "stream",
       "stream": "stdout",
       "text": [
        "\n",
        "g:/filmes/2010/Expresso da Morte (2010) Aleksey Uchitel - R\u00fassia"
       ]
      },
      {
       "output_type": "stream",
       "stream": "stdout",
       "text": [
        "\n",
        "g:/filmes/2010/Face Oculta (2010) Michael Lander"
       ]
      },
      {
       "output_type": "stream",
       "stream": "stdout",
       "text": [
        "\n",
        "g:/filmes/2010/Filme Socialismo (2010) Jean-luc Godard"
       ]
      },
      {
       "output_type": "stream",
       "stream": "stdout",
       "text": [
        "\n",
        "g:/filmes/2010/For Colored Girls (2010) Tyler Perry"
       ]
      },
      {
       "output_type": "stream",
       "stream": "stdout",
       "text": [
        "\n",
        "g:/filmes/2010/Gatos Velhos (2010) Pedro Peirano e Sebasti\u00e1n Silva"
       ]
      },
      {
       "output_type": "stream",
       "stream": "stdout",
       "text": [
        "\n",
        "g:/filmes/2010/Goethe (2010) Philipp St\u00f6lzl"
       ]
      },
      {
       "output_type": "stream",
       "stream": "stdout",
       "text": [
        "\n",
        "g:/filmes/2010/Guzaarish (2010) Sanjay Leela Bhansalt"
       ]
      },
      {
       "output_type": "stream",
       "stream": "stdout",
       "text": [
        "\n",
        "g:/filmes/2010/Hahaha (2010) Hong Sang-soo - Cor\u00e9ia do Sul"
       ]
      },
      {
       "output_type": "stream",
       "stream": "stdout",
       "text": [
        "\n",
        "g:/filmes/2010/Ilegal (2010) Olivier Masset- Depasse"
       ]
      },
      {
       "output_type": "stream",
       "stream": "stdout",
       "text": [
        "\n",
        "g:/filmes/2010/Inc\u00c3\u00aandios (2010) Denis Villeneuve"
       ]
      },
      {
       "output_type": "stream",
       "stream": "stdout",
       "text": [
        "\n",
        "g:/filmes/2010/Insanamente Feliz (2010) Anne Sewitsky"
       ]
      },
      {
       "output_type": "stream",
       "stream": "stdout",
       "text": [
        "\n",
        "g:/filmes/2010/Iron Doors (2010) Stephen Manuel"
       ]
      },
      {
       "output_type": "stream",
       "stream": "stdout",
       "text": [
        "\n",
        "g:/filmes/2010/Janie Jones (2010) David M Rosenthal"
       ]
      },
      {
       "output_type": "stream",
       "stream": "stdout",
       "text": [
        "\n",
        "g:/filmes/2010/Kosmos (2010) Reha Erdem"
       ]
      },
      {
       "output_type": "stream",
       "stream": "stdout",
       "text": [
        "\n",
        "g:/filmes/2010/La Prima Cosa Bella (2010) Paolo Virz\u00ec"
       ]
      },
      {
       "output_type": "stream",
       "stream": "stdout",
       "text": [
        "\n",
        "g:/filmes/2010/Ladr\u00f5es (2010) John Luessenhop"
       ]
      },
      {
       "output_type": "stream",
       "stream": "stdout",
       "text": [
        "\n",
        "g:/filmes/2010/Last Night (2010)"
       ]
      },
      {
       "output_type": "stream",
       "stream": "stdout",
       "text": [
        "\n",
        "g:/filmes/2010/Machete (2010) Robert Rodriguez e Ethan Maniquis"
       ]
      },
      {
       "output_type": "stream",
       "stream": "stdout",
       "text": [
        "\n",
        "g:/filmes/2010/Mahler no Div\u00e3 (2010) Percy Adlon e Felix Adlon"
       ]
      },
      {
       "output_type": "stream",
       "stream": "stdout",
       "text": [
        "\n",
        "g:/filmes/2010/Minha Felicidade (2010) Sergei Loznitsa"
       ]
      },
      {
       "output_type": "stream",
       "stream": "stdout",
       "text": [
        "\n",
        "g:/filmes/2010/Moby Dick (2010) Trey Stokes"
       ]
      },
      {
       "output_type": "stream",
       "stream": "stdout",
       "text": [
        "\n",
        "g:/filmes/2010/Namorados para Sempre (2010) Derek Cianfrance"
       ]
      },
      {
       "output_type": "stream",
       "stream": "stdout",
       "text": [
        "\n",
        "g:/filmes/2010/Neds (2010) Peter Mullan"
       ]
      },
      {
       "output_type": "stream",
       "stream": "stdout",
       "text": [
        "\n",
        "g:/filmes/2010/Norwegian Wood (2010) Tran Anh Hung"
       ]
      },
      {
       "output_type": "stream",
       "stream": "stdout",
       "text": [
        "\n",
        "g:/filmes/2010/O Assaltante (2010) Benjamin Heisenberg - Alemanha"
       ]
      },
      {
       "output_type": "stream",
       "stream": "stdout",
       "text": [
        "\n",
        "g:/filmes/2010/O Atalho (2010) Kelly Reichardt"
       ]
      },
      {
       "output_type": "stream",
       "stream": "stdout",
       "text": [
        "\n",
        "g:/filmes/2010/O Campe\u00e3o de Hitler (2010) Uwe Boll"
       ]
      },
      {
       "output_type": "stream",
       "stream": "stdout",
       "text": [
        "\n",
        "g:/filmes/2010/O Dia em que Eu N\u00e3o Nasci (2010) Florian Micoud Cossen"
       ]
      },
      {
       "output_type": "stream",
       "stream": "stdout",
       "text": [
        "\n",
        "g:/filmes/2010/O Enviado (2010) Mark Ruffalo"
       ]
      },
      {
       "output_type": "stream",
       "stream": "stdout",
       "text": [
        "\n",
        "g:/filmes/2010/O Filho de Jo (2010) Philippe Guillard"
       ]
      },
      {
       "output_type": "stream",
       "stream": "stdout",
       "text": [
        "\n",
        "g:/filmes/2010/O Homem que Queria Viver a Sua Vida (2010) Eric Lartigau"
       ]
      },
      {
       "output_type": "stream",
       "stream": "stdout",
       "text": [
        "\n",
        "g:/filmes/2010/O Olhar Invis\u00edvel  (2010) Diego Lerma e Mar\u00eda Meira"
       ]
      },
      {
       "output_type": "stream",
       "stream": "stdout",
       "text": [
        "\n",
        "g:/filmes/2010/O Tio Booonmee, Que Se Lembra das Suas Vidas Passadas (2010) Apichatpong Weerasethakul"
       ]
      },
      {
       "output_type": "stream",
       "stream": "stdout",
       "text": [
        "\n",
        "g:/filmes/2010/Os Acompanhantes (2010) Shari Springer Berman e Robert Pulcini"
       ]
      },
      {
       "output_type": "stream",
       "stream": "stdout",
       "text": [
        "\n",
        "g:/filmes/2010/Os Coletores (2010) Miguel Sarochnik"
       ]
      },
      {
       "output_type": "stream",
       "stream": "stdout",
       "text": [
        "\n",
        "g:/filmes/2010/Os Nomes do Amor (2010) Michel Leclerc"
       ]
      },
      {
       "output_type": "stream",
       "stream": "stdout",
       "text": [
        "\n",
        "g:/filmes/2010/Os Olhos de J\u00falia (2010) Guilhem Moraes - Espanha"
       ]
      },
      {
       "output_type": "stream",
       "stream": "stdout",
       "text": [
        "\n",
        "g:/filmes/2010/Os Perdedores (2010) Sylvain White"
       ]
      },
      {
       "output_type": "stream",
       "stream": "stdout",
       "text": [
        "\n",
        "g:/filmes/2010/Parked (2010) Darragh Byrne - Irlanda"
       ]
      },
      {
       "output_type": "stream",
       "stream": "stdout",
       "text": [
        "\n",
        "g:/filmes/2010/Pelot\u00e3o de Elite (2010) Jeremy Sims - Austr\u00e1lia"
       ]
      },
      {
       "output_type": "stream",
       "stream": "stdout",
       "text": [
        "\n",
        "g:/filmes/2010/Poesia (2010) Lee Chang-Dong - Cor\u00e9ia do Sul"
       ]
      },
      {
       "output_type": "stream",
       "stream": "stdout",
       "text": [
        "\n",
        "g:/filmes/2010/Post Mortem (2010) Pablo Larra\u00edn"
       ]
      },
      {
       "output_type": "stream",
       "stream": "stdout",
       "text": [
        "\n",
        "g:/filmes/2010/Pr\u00edncipe de Ferro (2010) Dmitriy Korobkin - R\u00fassia"
       ]
      },
      {
       "output_type": "stream",
       "stream": "stdout",
       "text": [
        "\n",
        "g:/filmes/2010/P\u00c3\u00a3o Negro (2010) Agust\u00c3\u00ad Villaronga"
       ]
      },
      {
       "output_type": "stream",
       "stream": "stdout",
       "text": [
        "\n",
        "g:/filmes/2010/Red - Aposentados e Perigosos (2010) Robert Schwentke"
       ]
      },
      {
       "output_type": "stream",
       "stream": "stdout",
       "text": [
        "\n",
        "g:/filmes/2010/Rota Irlandesa (2010) Ken Loach"
       ]
      },
      {
       "output_type": "stream",
       "stream": "stdout",
       "text": [
        "\n",
        "g:/filmes/2010/Sacrif\u00edcio (2010) Kaige Chen - China"
       ]
      },
      {
       "output_type": "stream",
       "stream": "stdout",
       "text": [
        "\n",
        "g:/filmes/2010/Se eu Quiser Assobiar, eu Assobio (2010) Florin Serban"
       ]
      },
      {
       "output_type": "stream",
       "stream": "stdout",
       "text": [
        "\n",
        "g:/filmes/2010/Senna - O Brasileiro, O Her\u00f3i, O Campe\u00e3o (2010) Asif Kapadia - Document\u00e1rio"
       ]
      },
      {
       "output_type": "stream",
       "stream": "stdout",
       "text": [
        "\n",
        "g:/filmes/2010/Shank (2010) Mo Ali"
       ]
      },
      {
       "output_type": "stream",
       "stream": "stdout",
       "text": [
        "\n",
        "g:/filmes/2010/Sonhos de  Duas Passagens (2010) Alistair Banks Griffin"
       ]
      },
      {
       "output_type": "stream",
       "stream": "stdout",
       "text": [
        "\n",
        "g:/filmes/2010/Temporada de Ca\u00e7a (2010) Yavuz Turgul - Turquia"
       ]
      },
      {
       "output_type": "stream",
       "stream": "stdout",
       "text": [
        "\n",
        "g:/filmes/2010/Ter\u00c3\u00a7a Feira Depois do Natal (2010) Radu Muntean"
       ]
      },
      {
       "output_type": "stream",
       "stream": "stdout",
       "text": [
        "\n",
        "g:/filmes/2010/Tokio Blues (2010) Tran Anh Hung"
       ]
      },
      {
       "output_type": "stream",
       "stream": "stdout",
       "text": [
        "\n",
        "g:/filmes/2010/Transfer (2010) Damir Lukacevic - Alemanha"
       ]
      },
      {
       "output_type": "stream",
       "stream": "stdout",
       "text": [
        "\n",
        "g:/filmes/2010/Tr\u00e1fico de \u00d3rg\u00e3os (2010) Baltasar Korm\u00e1kur"
       ]
      },
      {
       "output_type": "stream",
       "stream": "stdout",
       "text": [
        "\n",
        "g:/filmes/2010/Tudo Acontece em Nova York (2010) Josh Radnor"
       ]
      },
      {
       "output_type": "stream",
       "stream": "stdout",
       "text": [
        "\n",
        "g:/filmes/2010/Tudo Que Quiseres (2010) Achero Ma\u00c3\u00b1as"
       ]
      },
      {
       "output_type": "stream",
       "stream": "stdout",
       "text": [
        "\n",
        "g:/filmes/2010/Uivo (2010) Rob Epstein e Jeffrey Friedman"
       ]
      },
      {
       "output_type": "stream",
       "stream": "stdout",
       "text": [
        "\n",
        "g:/filmes/2010/Ultraje (2010) Takeshi Kitano - Jap\u00c3\u00a3o"
       ]
      },
      {
       "output_type": "stream",
       "stream": "stdout",
       "text": [
        "\n",
        "g:/filmes/2010/Um Homem um Tanto Gentil (2010) Hans Petter Moland"
       ]
      },
      {
       "output_type": "stream",
       "stream": "stdout",
       "text": [
        "\n",
        "g:/filmes/2010/Um Lugar Qualquer (2010) Sofia Coppola"
       ]
      },
      {
       "output_type": "stream",
       "stream": "stdout",
       "text": [
        "\n",
        "g:/filmes/2010/Vejo Voc\u00c3\u00aa no Pr\u00c3\u00b3ximo Ver\u00c3\u00a3o (2010) Philip Seymour Hoffman"
       ]
      },
      {
       "output_type": "stream",
       "stream": "stdout",
       "text": [
        "\n",
        "g:/filmes/2011/10 Anos (2011) Jamie Linden"
       ]
      },
      {
       "output_type": "stream",
       "stream": "stdout",
       "text": [
        "\n",
        "g:/filmes/2011/360 (2011) Fernando Meirelles"
       ]
      },
      {
       "output_type": "stream",
       "stream": "stdout",
       "text": [
        "\n",
        "g:/filmes/2011/5 C\u00e2meras Quebradas (2011) Emad Burnat e Guy Davidi"
       ]
      },
      {
       "output_type": "stream",
       "stream": "stdout",
       "text": [
        "\n",
        "g:/filmes/2011/A Doen\u00e7a do Sono (2011) Ulrich K\u00f6hler"
       ]
      },
      {
       "output_type": "stream",
       "stream": "stdout",
       "text": [
        "\n",
        "g:/filmes/2011/A Filha do Meu Melhor Amigo (2011) Julian Farino"
       ]
      },
      {
       "output_type": "stream",
       "stream": "stdout",
       "text": [
        "\n",
        "g:/filmes/2011/A Guerra Est\u00e1 Declarada (2011) Val\u00e9rie Donzelli"
       ]
      },
      {
       "output_type": "stream",
       "stream": "stdout",
       "text": [
        "\n",
        "g:/filmes/2011/A Guerreira (2011) David Wnendt"
       ]
      },
      {
       "output_type": "stream",
       "stream": "stdout",
       "text": [
        "\n",
        "g:/filmes/2011/A Guerreira (2011) David Wnendt - Alemanha"
       ]
      },
      {
       "output_type": "stream",
       "stream": "stdout",
       "text": [
        "\n",
        "g:/filmes/2011/A Heran\u00e7a (2011) Robert O'Hara"
       ]
      },
      {
       "output_type": "stream",
       "stream": "stdout",
       "text": [
        "\n",
        "g:/filmes/2011/A Inven\u00c3\u00a7\u00c3\u00a3o de Hugo Cabret (2011) Martin Scorcese"
       ]
      },
      {
       "output_type": "stream",
       "stream": "stdout",
       "text": [
        "\n",
        "g:/filmes/2011/A Separa\u00c3\u00a7\u00c3\u00a3o (2011) Asghar Farhadi"
       ]
      },
      {
       "output_type": "stream",
       "stream": "stdout",
       "text": [
        "\n",
        "g:/filmes/2011/A Separa\u00e7\u00e3o (2011) Asghar Farhadi"
       ]
      },
      {
       "output_type": "stream",
       "stream": "stdout",
       "text": [
        "\n",
        "g:/filmes/2011/A Tenta\u00e7\u00e3o (2011) Matthew Chapman"
       ]
      },
      {
       "output_type": "stream",
       "stream": "stdout",
       "text": [
        "\n",
        "g:/filmes/2011/A Vida Vai Melhorar (2011) C\u00e9dric Kahn"
       ]
      },
      {
       "output_type": "stream",
       "stream": "stdout",
       "text": [
        "\n",
        "g:/filmes/2011/Adeus, Primeiro Amor (2011) Mia Hansen-Love"
       ]
      },
      {
       "output_type": "stream",
       "stream": "stdout",
       "text": [
        "\n",
        "g:/filmes/2011/Alpes (2011) Giorgos Lanthimos"
       ]
      },
      {
       "output_type": "stream",
       "stream": "stdout",
       "text": [
        "\n",
        "g:/filmes/2011/Amor \u00e9 Tudo que Precisa (2011) Suzanne Bier"
       ]
      },
      {
       "output_type": "stream",
       "stream": "stdout",
       "text": [
        "\n",
        "g:/filmes/2011/Amors Baller (2011) Kristoffer Metcalfe"
       ]
      },
      {
       "output_type": "stream",
       "stream": "stdout",
       "text": [
        "\n",
        "g:/filmes/2011/Apflickorna aka She Monkeys (2011) Lisa Aschan"
       ]
      },
      {
       "output_type": "stream",
       "stream": "stdout",
       "text": [
        "\n",
        "g:/filmes/2011/Arirang (2011) Kim Ki-duk"
       ]
      },
      {
       "output_type": "stream",
       "stream": "stdout",
       "text": [
        "\n",
        "g:/filmes/2011/Beast (2011) Christoffer Boe"
       ]
      },
      {
       "output_type": "stream",
       "stream": "stdout",
       "text": [
        "\n",
        "g:/filmes/2011/Beleza (2011) Oliver Hermanus"
       ]
      },
      {
       "output_type": "stream",
       "stream": "stdout",
       "text": [
        "\n",
        "g:/filmes/2011/Bernie (2011) Richard Linklater"
       ]
      },
      {
       "output_type": "stream",
       "stream": "stdout",
       "text": [
        "\n",
        "g:/filmes/2011/Bullhead (2011) Michael R. Roskam"
       ]
      },
      {
       "output_type": "stream",
       "stream": "stdout",
       "text": [
        "\n",
        "g:/filmes/2011/Can (2011) Rasit Celikeser - Turquia"
       ]
      },
      {
       "output_type": "stream",
       "stream": "stdout",
       "text": [
        "\n",
        "g:/filmes/2011/Cartas para Inglile (2011) Sulev Keedu"
       ]
      },
      {
       "output_type": "stream",
       "stream": "stdout",
       "text": [
        "\n",
        "g:/filmes/2011/Celda (2011) Daniel Monz\u00f3n"
       ]
      },
      {
       "output_type": "stream",
       "stream": "stdout",
       "text": [
        "\n",
        "g:/filmes/2011/Circumstance (2011) Maryam Keshavarz"
       ]
      },
      {
       "output_type": "stream",
       "stream": "stdout",
       "text": [
        "\n",
        "g:/filmes/2011/Code Blue (2011) Urszula Antoniak - Holanda"
       ]
      },
      {
       "output_type": "stream",
       "stream": "stdout",
       "text": [
        "\n",
        "g:/filmes/2011/Cold Fusion (2011) Ivan Mitov"
       ]
      },
      {
       "output_type": "stream",
       "stream": "stdout",
       "text": [
        "\n",
        "g:/filmes/2011/Crian\u00e7as... (2011) Kyoo-man Lee"
       ]
      },
      {
       "output_type": "stream",
       "stream": "stdout",
       "text": [
        "\n",
        "g:/filmes/2011/Dark Horse (2011) Todd Solondz"
       ]
      },
      {
       "output_type": "stream",
       "stream": "stdout",
       "text": [
        "\n",
        "g:/filmes/2011/Donovans Echo (2011) Jim Cliffe"
       ]
      },
      {
       "output_type": "stream",
       "stream": "stdout",
       "text": [
        "\n",
        "g:/filmes/2011/E que Deus nos Ajude (2011) George Ratliff"
       ]
      },
      {
       "output_type": "stream",
       "stream": "stdout",
       "text": [
        "\n",
        "g:/filmes/2011/E Se Vivessemos Todos Juntos (2011) St\u00e9phane Robelin"
       ]
      },
      {
       "output_type": "stream",
       "stream": "stdout",
       "text": [
        "\n",
        "g:/filmes/2011/Elles (2011) Malgoska Szumowska"
       ]
      },
      {
       "output_type": "stream",
       "stream": "stdout",
       "text": [
        "\n",
        "g:/filmes/2011/Elling (2001) Peter Naess - Noruega"
       ]
      },
      {
       "output_type": "stream",
       "stream": "stdout",
       "text": [
        "\n",
        "g:/filmes/2011/Estocolmo Leste (2011) Simon Kaijser"
       ]
      },
      {
       "output_type": "stream",
       "stream": "stdout",
       "text": [
        "\n",
        "g:/filmes/2011/Eu Receberia as Piores Not\u00c3\u00adcias dos Seus Lindos L\u00c3\u00a1bios (2011)"
       ]
      },
      {
       "output_type": "stream",
       "stream": "stdout",
       "text": [
        "\n",
        "g:/filmes/2011/Fausto (2011) Aleksandr Sokurov"
       ]
      },
      {
       "output_type": "stream",
       "stream": "stdout",
       "text": [
        "\n",
        "g:/filmes/2011/Guerreiro (2011) Gavin O'Connor"
       ]
      },
      {
       "output_type": "stream",
       "stream": "stdout",
       "text": [
        "\n",
        "g:/filmes/2011/Hahithalfut (2011) Eran Kolirin"
       ]
      },
      {
       "output_type": "stream",
       "stream": "stdout",
       "text": [
        "\n",
        "g:/filmes/2011/Ice - Um Dia Depois do Amanh\u00e3 (2011) Nick Copus"
       ]
      },
      {
       "output_type": "stream",
       "stream": "stdout",
       "text": [
        "\n",
        "g:/filmes/2011/Inf\u00e2ncia Clandestina (2011) Benjamin \u00c1vila -  Argentina"
       ]
      },
      {
       "output_type": "stream",
       "stream": "stdout",
       "text": [
        "\n",
        "g:/filmes/2011/Intouchables (2011) Oliver Nakache e Eric Toledano"
       ]
      },
      {
       "output_type": "stream",
       "stream": "stdout",
       "text": [
        "\n",
        "g:/filmes/2011/Irm\u00e3s e Irm\u00e3os (2011) Carl Bessai"
       ]
      },
      {
       "output_type": "stream",
       "stream": "stdout",
       "text": [
        "\n",
        "g:/filmes/2011/Just Henry - A Verdade de Uma Vida (2011) David Moore"
       ]
      },
      {
       "output_type": "stream",
       "stream": "stdout",
       "text": [
        "\n",
        "g:/filmes/2011/L'Apollonide - Os Amores da Casa de Toler\u00e2ncia (2011) Bertrand Bonello"
       ]
      },
      {
       "output_type": "stream",
       "stream": "stdout",
       "text": [
        "\n",
        "g:/filmes/2011/Las Acacias (2011) Pablo Giorgelli"
       ]
      },
      {
       "output_type": "stream",
       "stream": "stdout",
       "text": [
        "\n",
        "g:/filmes/2011/Love Likes Coincidences (2011) \u00d6mer Faruk Sorak"
       ]
      },
      {
       "output_type": "stream",
       "stream": "stdout",
       "text": [
        "\n",
        "g:/filmes/2011/Malu de Bicicleta (2011) Fl\u00c3\u00a1vio Tambellim"
       ]
      },
      {
       "output_type": "stream",
       "stream": "stdout",
       "text": [
        "\n",
        "g:/filmes/2011/Margaret (2011) Kenneth Lonergan"
       ]
      },
      {
       "output_type": "stream",
       "stream": "stdout",
       "text": [
        "\n",
        "g:/filmes/2011/Mar\u00e9cages (2011) Guy \u00c9doin"
       ]
      },
      {
       "output_type": "stream",
       "stream": "stdout",
       "text": [
        "\n",
        "g:/filmes/2011/Me Excita, Droga! (2011) Jannicke Systad Jacobsen"
       ]
      },
      {
       "output_type": "stream",
       "stream": "stdout",
       "text": [
        "\n",
        "g:/filmes/2011/Medianeras (2011) Gustavo Taretto"
       ]
      },
      {
       "output_type": "stream",
       "stream": "stdout",
       "text": [
        "\n",
        "g:/filmes/2011/Megan is Missing (2011) Michael Goi"
       ]
      },
      {
       "output_type": "stream",
       "stream": "stdout",
       "text": [
        "\n",
        "g:/filmes/2011/Mem\u00f3ria de Minhas Putas Tristes (2011) Henning Carlsen"
       ]
      },
      {
       "output_type": "stream",
       "stream": "stdout",
       "text": [
        "\n",
        "g:/filmes/2011/Michael (2011) Markus Schleinzer"
       ]
      },
      {
       "output_type": "stream",
       "stream": "stdout",
       "text": [
        "\n",
        "g:/filmes/2011/Miral (2011) Julian Schnabel"
       ]
      },
      {
       "output_type": "stream",
       "stream": "stdout",
       "text": [
        "\n",
        "g:/filmes/2011/Miss Bala (2011)"
       ]
      },
      {
       "output_type": "stream",
       "stream": "stdout",
       "text": [
        "\n",
        "g:/filmes/2011/Mundo Injusto (2011) Filippos Tsitos"
       ]
      },
      {
       "output_type": "stream",
       "stream": "stdout",
       "text": [
        "\n",
        "g:/filmes/2011/Na Escurid\u00c3\u00a3o (2011) Agnieszka Holland"
       ]
      },
      {
       "output_type": "stream",
       "stream": "stdout",
       "text": [
        "\n",
        "g:/filmes/2011/N\u00e3o Tenha Medo (2011) Montxo Armend\u00e1riz - Espanha"
       ]
      },
      {
       "output_type": "stream",
       "stream": "stdout",
       "text": [
        "\n",
        "g:/filmes/2011/N\u00c3\u00a3o Tenha Medo (2011) Montxo Armend\u00c3\u00a1riz - Espanha"
       ]
      },
      {
       "output_type": "stream",
       "stream": "stdout",
       "text": [
        "\n",
        "g:/filmes/2011/O Amor N\u00e3o Tem Fim (2011) Julie Gavras"
       ]
      },
      {
       "output_type": "stream",
       "stream": "stdout",
       "text": [
        "\n",
        "g:/filmes/2011/O Artista (2011) Michel Hazanavicius"
       ]
      },
      {
       "output_type": "stream",
       "stream": "stdout",
       "text": [
        "\n",
        "g:/filmes/2011/O Assassino da Internet (2011) Stephen Kay"
       ]
      },
      {
       "output_type": "stream",
       "stream": "stdout",
       "text": [
        "\n",
        "g:/filmes/2011/O Ca\u00e7ador (2011) Ian Sharp"
       ]
      },
      {
       "output_type": "stream",
       "stream": "stdout",
       "text": [
        "\n",
        "g:/filmes/2011/O Exerc\u00edcio do Poder (2011) Pierre Schoeller"
       ]
      },
      {
       "output_type": "stream",
       "stream": "stdout",
       "text": [
        "\n",
        "g:/filmes/2011/O Futuro (2011) Miranda July"
       ]
      },
      {
       "output_type": "stream",
       "stream": "stdout",
       "text": [
        "\n",
        "g:/filmes/2011/O Garoto da Bicicleta (2011) Jean-Pierre e Luc Dardenne"
       ]
      },
      {
       "output_type": "stream",
       "stream": "stdout",
       "text": [
        "\n",
        "g:/filmes/2011/O Invasor (2011) Nicolas Provost"
       ]
      },
      {
       "output_type": "stream",
       "stream": "stdout",
       "text": [
        "\n",
        "g:/filmes/2011/O Moinho e a Cruz (2011) Lech Majewski - Pol\u00c3\u00b4nia"
       ]
      },
      {
       "output_type": "stream",
       "stream": "stdout",
       "text": [
        "\n",
        "g:/filmes/2011/O Morro dos Ventos Uivantes (2011) Andrea Arnold"
       ]
      },
      {
       "output_type": "stream",
       "stream": "stdout",
       "text": [
        "\n",
        "g:/filmes/2011/O Perd\u00e3o de Sangue (2011) Joshua Marston"
       ]
      },
      {
       "output_type": "stream",
       "stream": "stdout",
       "text": [
        "\n",
        "g:/filmes/2011/O Porto (2011) Aki Kaurism\u00e4ki"
       ]
      },
      {
       "output_type": "stream",
       "stream": "stdout",
       "text": [
        "\n",
        "g:/filmes/2011/O Primeiro Homem (2011) Gianni Amelio"
       ]
      },
      {
       "output_type": "stream",
       "stream": "stdout",
       "text": [
        "\n",
        "g:/filmes/2011/O que eu Mais Desejo (2011) Hirokazu Koreeda"
       ]
      },
      {
       "output_type": "stream",
       "stream": "stdout",
       "text": [
        "\n",
        "g:/filmes/2011/O Senhor dos Mares (2011) Reinout Derlemans"
       ]
      },
      {
       "output_type": "stream",
       "stream": "stdout",
       "text": [
        "\n",
        "g:/filmes/2011/O Teatro Bizarro (2011) Douglas Buck,Buddy Giovinazzo,David Gregory,Karim Hussain,Jeremy Kasten,Tom Savini,Richard Stanley"
       ]
      },
      {
       "output_type": "stream",
       "stream": "stdout",
       "text": [
        "\n",
        "g:/filmes/2011/O Ver\u00e3o do Skylab (2011) Julie Delpy"
       ]
      },
      {
       "output_type": "stream",
       "stream": "stdout",
       "text": [
        "\n",
        "g:/filmes/2011/Opera\u00e7\u00e3o Invas\u00e3o (2011) Gareth Huw Evans"
       ]
      },
      {
       "output_type": "stream",
       "stream": "stdout",
       "text": [
        "\n",
        "g:/filmes/2011/Os Finkels em A\u00e7\u00e3o (2011) Jonathan Newman"
       ]
      },
      {
       "output_type": "stream",
       "stream": "stdout",
       "text": [
        "\n",
        "g:/filmes/2011/Pacto de Sangue (2011) Olivier Marchal"
       ]
      },
      {
       "output_type": "stream",
       "stream": "stdout",
       "text": [
        "\n",
        "g:/filmes/2011/Papagaio no Ar (2011) Margaret Whitton"
       ]
      },
      {
       "output_type": "stream",
       "stream": "stdout",
       "text": [
        "\n",
        "g:/filmes/2011/Parada em Pleno Curso (2011) Andreas Dresen"
       ]
      },
      {
       "output_type": "stream",
       "stream": "stdout",
       "text": [
        "\n",
        "g:/filmes/2011/Pausa para Uma Assassinato (2011) J\u00c3\u00a9r\u00c3\u00b4me Le Gris"
       ]
      },
      {
       "output_type": "stream",
       "stream": "stdout",
       "text": [
        "\n",
        "g:/filmes/2011/Paz, Amor e Muito Mais (2011) Bruce Beresford"
       ]
      },
      {
       "output_type": "stream",
       "stream": "stdout",
       "text": [
        "\n",
        "g:/filmes/2011/Perd\u00e3o de Sangue (2011) Joshua Marston"
       ]
      },
      {
       "output_type": "stream",
       "stream": "stdout",
       "text": [
        "\n",
        "g:/filmes/2011/Planeta Solit\u00e1rio (2011) Julia Loktev"
       ]
      },
      {
       "output_type": "stream",
       "stream": "stdout",
       "text": [
        "\n",
        "g:/filmes/2011/Pol\u00edssia (2011) Maiwenn Le Besco"
       ]
      },
      {
       "output_type": "stream",
       "stream": "stdout",
       "text": [
        "\n",
        "g:/filmes/2011/P\u00e2ntanos (2011) Guy \u00c9doin"
       ]
      },
      {
       "output_type": "stream",
       "stream": "stdout",
       "text": [
        "\n",
        "g:/filmes/2011/Q. Sexual Desire (2011) Laurent Bouhnik"
       ]
      },
      {
       "output_type": "stream",
       "stream": "stdout",
       "text": [
        "\n",
        "g:/filmes/2011/Quando as Coisas Acontecem (2011) Nancy Savoca"
       ]
      },
      {
       "output_type": "stream",
       "stream": "stdout",
       "text": [
        "\n",
        "g:/filmes/2011/Rela\u00e7\u00e3o Mortal (2011) Mary Harron"
       ]
      },
      {
       "output_type": "stream",
       "stream": "stdout",
       "text": [
        "\n",
        "g:/filmes/2011/Respirar (2011) Karl Markovies"
       ]
      },
      {
       "output_type": "stream",
       "stream": "stdout",
       "text": [
        "\n",
        "g:/filmes/2011/Revolucion el Cruce de los Andes (2011) Leandro Ipi\u00f1a"
       ]
      },
      {
       "output_type": "stream",
       "stream": "stdout",
       "text": [
        "\n",
        "g:/filmes/2011/Segredos Mortais (2011) Harold Guskin"
       ]
      },
      {
       "output_type": "stream",
       "stream": "stdout",
       "text": [
        "\n",
        "g:/filmes/2011/Sem Prada nem Nada (2011) Angel Garcia"
       ]
      },
      {
       "output_type": "stream",
       "stream": "stdout",
       "text": [
        "\n",
        "g:/filmes/2011/Snowtown (2011) Justin Kurzel"
       ]
      },
      {
       "output_type": "stream",
       "stream": "stdout",
       "text": [
        "\n",
        "g:/filmes/2011/The Giants (2011) Bouli Lanners - B\u00e9lgica"
       ]
      },
      {
       "output_type": "stream",
       "stream": "stdout",
       "text": [
        "\n",
        "g:/filmes/2011/The Phantom Father (2011) Lucian Georgescu - Rom\u00eania"
       ]
      },
      {
       "output_type": "stream",
       "stream": "stdout",
       "text": [
        "\n",
        "g:/filmes/2011/The Squad - El P\u00e1ramo (2011) Jaime Osorio Marquez"
       ]
      },
      {
       "output_type": "stream",
       "stream": "stdout",
       "text": [
        "\n",
        "g:/filmes/2011/The Sunset Limited (2011) Tommy Lee Jones"
       ]
      },
      {
       "output_type": "stream",
       "stream": "stdout",
       "text": [
        "\n",
        "g:/filmes/2011/The Trouble With Bliss (2011) Michael Knowles"
       ]
      },
      {
       "output_type": "stream",
       "stream": "stdout",
       "text": [
        "\n",
        "g:/filmes/2011/Tudo o que Desejamos (2011) Phillipe Lioret"
       ]
      },
      {
       "output_type": "stream",
       "stream": "stdout",
       "text": [
        "\n",
        "g:/filmes/2011/Um Conto Chin\u00eas (2011) Sebasti\u00e1n Borensztein - Argentina"
       ]
      },
      {
       "output_type": "stream",
       "stream": "stdout",
       "text": [
        "\n",
        "g:/filmes/2011/Um Dia (2011) Lone Scherfig"
       ]
      },
      {
       "output_type": "stream",
       "stream": "stdout",
       "text": [
        "\n",
        "g:/filmes/2011/Um Dia Essa Dor Ser\u00e1 \u00datil (2011) Roberto Faenza"
       ]
      },
      {
       "output_type": "stream",
       "stream": "stdout",
       "text": [
        "\n",
        "g:/filmes/2011/Um Met\u00c3\u00b3do Perigoso (2011) David Cronenberg"
       ]
      },
      {
       "output_type": "stream",
       "stream": "stdout",
       "text": [
        "\n",
        "g:/filmes/2011/Um Porco em Gaza (2011) Sylvain Estibal"
       ]
      },
      {
       "output_type": "stream",
       "stream": "stdout",
       "text": [
        "\n",
        "g:/filmes/2011/Uma Boa e Velha Orgia (2011) Alex Gregory e Peter Huyck"
       ]
      },
      {
       "output_type": "stream",
       "stream": "stdout",
       "text": [
        "\n",
        "g:/filmes/2011/Uma Carona para o Amor (2011) Sam Jaeger"
       ]
      },
      {
       "output_type": "stream",
       "stream": "stdout",
       "text": [
        "\n",
        "g:/filmes/2011/Violeta e Margarida (2011) Geoffrey Fletcher"
       ]
      },
      {
       "output_type": "stream",
       "stream": "stdout",
       "text": [
        "\n",
        "g:/filmes/2011/Violeta Foi para o C\u00e9u (2011) Andr\u00e9s Wood"
       ]
      },
      {
       "output_type": "stream",
       "stream": "stdout",
       "text": [
        "\n",
        "g:/filmes/2011/Vulc\u00e3o (2011) - Isl\u00e2ndia"
       ]
      },
      {
       "output_type": "stream",
       "stream": "stdout",
       "text": [
        "\n",
        "g:/filmes/2011/You May not Kiss the Bride (2011) Rob Hedden"
       ]
      },
      {
       "output_type": "stream",
       "stream": "stdout",
       "text": [
        "\n",
        "g:/filmes/2011/Zeitgeist Moving Forward (2011) Peter Joseph"
       ]
      },
      {
       "output_type": "stream",
       "stream": "stdout",
       "text": [
        "\n",
        "g:/filmes/2011/\u00c1rea Q (2011) Gerson Sanginitto"
       ]
      },
      {
       "output_type": "stream",
       "stream": "stdout",
       "text": [
        "\n",
        "g:/filmes/2011/\u00c3\u0081rea Q (2011) Gerson Sanginitto"
       ]
      },
      {
       "output_type": "stream",
       "stream": "stdout",
       "text": [
        "\n",
        "g:/filmes/2012/2 Dias em Nova York (2012) Julie Delpy"
       ]
      },
      {
       "output_type": "stream",
       "stream": "stdout",
       "text": [
        "\n",
        "g:/filmes/2012/3 Days of Normal (2012) Ishai Setton"
       ]
      },
      {
       "output_type": "stream",
       "stream": "stdout",
       "text": [
        "\n",
        "g:/filmes/2012/38 Testemunhas (2012) Lucas Belvaux"
       ]
      },
      {
       "output_type": "stream",
       "stream": "stdout",
       "text": [
        "\n",
        "g:/filmes/2012/7 Caixas (2012) Juan Carlos Maneglia e Tana Schembori - Paraguay"
       ]
      },
      {
       "output_type": "stream",
       "stream": "stdout",
       "text": [
        "\n",
        "g:/filmes/2012/7 Dias em Havana (2012) Laurent Cantet, Ben\u00edcio del Toro, Julio Medem, Gaspar No\u00e9, Elia Suleiman, Juan Carlos Trapero e Juan Carlos Tabio"
       ]
      },
      {
       "output_type": "stream",
       "stream": "stdout",
       "text": [
        "\n",
        "g:/filmes/2012/A Bela que Dorme (2012) Marco Bellochio"
       ]
      },
      {
       "output_type": "stream",
       "stream": "stdout",
       "text": [
        "\n",
        "g:/filmes/2012/A Bicicleta do meu Pai (2012) Pior Trzaskalski"
       ]
      },
      {
       "output_type": "stream",
       "stream": "stdout",
       "text": [
        "\n",
        "g:/filmes/2012/A Ca\u00e7a (2012) Thomas Vinterberg"
       ]
      },
      {
       "output_type": "stream",
       "stream": "stdout",
       "text": [
        "\n",
        "g:/filmes/2012/A Datil\u00f3grafa (2012) R\u00e9gis Roinsard"
       ]
      },
      {
       "output_type": "stream",
       "stream": "stdout",
       "text": [
        "\n",
        "g:/filmes/2012/A Demora (2012) Rodrigo Pl\u00e1"
       ]
      },
      {
       "output_type": "stream",
       "stream": "stdout",
       "text": [
        "\n",
        "g:/filmes/2012/A Escolha Perfeita (2012) Jason Moore"
       ]
      },
      {
       "output_type": "stream",
       "stream": "stdout",
       "text": [
        "\n",
        "g:/filmes/2012/A Esta\u00e7\u00e3o do Rinoceronte (2012) Bahman Ghobadi"
       ]
      },
      {
       "output_type": "stream",
       "stream": "stdout",
       "text": [
        "\n",
        "g:/filmes/2012/A Estranha Vida de Timothy Green (2012) Peter Hedges"
       ]
      },
      {
       "output_type": "stream",
       "stream": "stdout",
       "text": [
        "\n",
        "g:/filmes/2012/A Feiticeira da Guerra (2012) Kim Nguyen"
       ]
      },
      {
       "output_type": "stream",
       "stream": "stdout",
       "text": [
        "\n",
        "g:/filmes/2012/A Felicidade (2012) Doris D\u00f6rrie"
       ]
      },
      {
       "output_type": "stream",
       "stream": "stdout",
       "text": [
        "\n",
        "g:/filmes/2012/A Fria Luz do Dia (2012) Mabrouk El Mechri"
       ]
      },
      {
       "output_type": "stream",
       "stream": "stdout",
       "text": [
        "\n",
        "g:/filmes/2012/A Fronteira (2012) Gabriela Tagliavini"
       ]
      },
      {
       "output_type": "stream",
       "stream": "stdout",
       "text": [
        "\n",
        "g:/filmes/2012/A Fuga (2012) Stefan Ruzowitzky"
       ]
      },
      {
       "output_type": "stream",
       "stream": "stdout",
       "text": [
        "\n",
        "g:/filmes/2012/A Garota de Lugar Nenhum (2012) Jean-Luc Brisseau"
       ]
      },
      {
       "output_type": "stream",
       "stream": "stdout",
       "text": [
        "\n",
        "g:/filmes/2012/A Idade do Rock (2012) Adam Shankman"
       ]
      },
      {
       "output_type": "stream",
       "stream": "stdout",
       "text": [
        "\n",
        "g:/filmes/2012/A Ilha do Tesouro (2012) Steve Barron"
       ]
      },
      {
       "output_type": "stream",
       "stream": "stdout",
       "text": [
        "\n",
        "g:/filmes/2012/A l'aveugle (2012) Xavier Palud"
       ]
      },
      {
       "output_type": "stream",
       "stream": "stdout",
       "text": [
        "\n",
        "g:/filmes/2012/A Late Quartet (2012) Yaron Zilberman"
       ]
      },
      {
       "output_type": "stream",
       "stream": "stdout",
       "text": [
        "\n",
        "g:/filmes/2012/A Loja de Suic\u00eddios (2012) Patrice Leconte"
       ]
      },
      {
       "output_type": "stream",
       "stream": "stdout",
       "text": [
        "\n",
        "g:/filmes/2012/A Morte de Mr.Wright (2012) Stephen Kay"
       ]
      },
      {
       "output_type": "stream",
       "stream": "stdout",
       "text": [
        "\n",
        "g:/filmes/2012/A Morte de Um Homem nos Balc\u00e3s (2012) Miroslav Momcilovic - S\u00e9rvia"
       ]
      },
      {
       "output_type": "stream",
       "stream": "stdout",
       "text": [
        "\n",
        "g:/filmes/2012/A Negocia\u00e7\u00e3o (2012) Nicholas Jarecki"
       ]
      },
      {
       "output_type": "stream",
       "stream": "stdout",
       "text": [
        "\n",
        "g:/filmes/2012/A Parede (2012) Julian Romam P\u00f6lsler"
       ]
      },
      {
       "output_type": "stream",
       "stream": "stdout",
       "text": [
        "\n",
        "g:/filmes/2012/A Parte dos Anjos (2012) Ken Loach"
       ]
      },
      {
       "output_type": "stream",
       "stream": "stdout",
       "text": [
        "\n",
        "g:/filmes/2012/A Pedra de Paci\u00eancia (2012) Atiq Rahimi"
       ]
      },
      {
       "output_type": "stream",
       "stream": "stdout",
       "text": [
        "\n",
        "g:/filmes/2012/A Segunda Esposa (2012) Umut Dag"
       ]
      },
      {
       "output_type": "stream",
       "stream": "stdout",
       "text": [
        "\n",
        "g:/filmes/2012/A Sobrevivente (2012) Gi Luna"
       ]
      },
      {
       "output_type": "stream",
       "stream": "stdout",
       "text": [
        "\n",
        "g:/filmes/2012/A Super Agente (2012) Tom Vaughan"
       ]
      },
      {
       "output_type": "stream",
       "stream": "stdout",
       "text": [
        "\n",
        "g:/filmes/2012/A Viagem (2012) Tom Tykwer, Andy Wachowski e Lana Wachowski"
       ]
      },
      {
       "output_type": "stream",
       "stream": "stdout",
       "text": [
        "\n",
        "g:/filmes/2012/A Vida de Outra Mulher (2012) Sylvie Testud"
       ]
      },
      {
       "output_type": "stream",
       "stream": "stdout",
       "text": [
        "\n",
        "g:/filmes/2012/A Vida de Pi (2012) Ang Lee"
       ]
      },
      {
       "output_type": "stream",
       "stream": "stdout",
       "text": [
        "\n",
        "g:/filmes/2012/A Vingan\u00e7a por Jolly (2012) Chadd Harbold"
       ]
      },
      {
       "output_type": "stream",
       "stream": "stdout",
       "text": [
        "\n",
        "g:/filmes/2012/A Visitante Francesa (2012) Hong Sang-soo - Cor\u00e9ia do Sul"
       ]
      },
      {
       "output_type": "stream",
       "stream": "stdout",
       "text": [
        "\n",
        "g:/filmes/2012/Adeus Minha Rainha (2012) Beno\u00eet Jacquot"
       ]
      },
      {
       "output_type": "stream",
       "stream": "stdout",
       "text": [
        "\n",
        "g:/filmes/2012/Aglaja (2012) Krisztina De\u00e1k"
       ]
      },
      {
       "output_type": "stream",
       "stream": "stdout",
       "text": [
        "\n",
        "g:/filmes/2012/Alabama Monroe (2012) Felix Van Groeningen"
       ]
      },
      {
       "output_type": "stream",
       "stream": "stdout",
       "text": [
        "\n",
        "g:/filmes/2012/Al\u00e9m das Montanhas (2012) Cristian Mungiu"
       ]
      },
      {
       "output_type": "stream",
       "stream": "stdout",
       "text": [
        "\n",
        "g:/filmes/2012/Amanhecer (2012) Dan Bradley"
       ]
      },
      {
       "output_type": "stream",
       "stream": "stdout",
       "text": [
        "\n",
        "g:/filmes/2012/Amanhecer Parte 2 (2012) Bil Condon"
       ]
      },
      {
       "output_type": "stream",
       "stream": "stdout",
       "text": [
        "\n",
        "g:/filmes/2012/Amigos Insepar\u00e1veis (2012) Fisher Stevens"
       ]
      },
      {
       "output_type": "stream",
       "stream": "stdout",
       "text": [
        "\n",
        "g:/filmes/2012/Amor (2012) Michael Haneke"
       ]
      },
      {
       "output_type": "stream",
       "stream": "stdout",
       "text": [
        "\n",
        "g:/filmes/2012/Amor Bandido (2012) Jeff Nichols"
       ]
      },
      {
       "output_type": "stream",
       "stream": "stdout",
       "text": [
        "\n",
        "g:/filmes/2012/Amor Pleno (2012) Terrence Malick"
       ]
      },
      {
       "output_type": "stream",
       "stream": "stdout",
       "text": [
        "\n",
        "g:/filmes/2012/Anjo da Guarda (2012) Til Schweiger"
       ]
      },
      {
       "output_type": "stream",
       "stream": "stdout",
       "text": [
        "\n",
        "g:/filmes/2012/Anna Karenina (2012) Joe Wright"
       ]
      },
      {
       "output_type": "stream",
       "stream": "stdout",
       "text": [
        "\n",
        "g:/filmes/2012/Any Day Now (2012) Travis Fine"
       ]
      },
      {
       "output_type": "stream",
       "stream": "stdout",
       "text": [
        "\n",
        "g:/filmes/2012/Apenas o Vento (2012) Benedek Fliegavf"
       ]
      },
      {
       "output_type": "stream",
       "stream": "stdout",
       "text": [
        "\n",
        "g:/filmes/2012/Argo (2012) Ben Affleck"
       ]
      },
      {
       "output_type": "stream",
       "stream": "stdout",
       "text": [
        "\n",
        "g:/filmes/2012/Arthur Newman (2012) Dante Ariola"
       ]
      },
      {
       "output_type": "stream",
       "stream": "stdout",
       "text": [
        "\n",
        "g:/filmes/2012/As Aventuras de uma Ninfoman\u00edaca (2012) Marialy Rivas"
       ]
      },
      {
       "output_type": "stream",
       "stream": "stdout",
       "text": [
        "\n",
        "g:/filmes/2012/As Idades do Amor (2012) Giovanni Veronesi"
       ]
      },
      {
       "output_type": "stream",
       "stream": "stdout",
       "text": [
        "\n",
        "g:/filmes/2012/As Loucuras de Charlie (2012) Roman Coppola"
       ]
      },
      {
       "output_type": "stream",
       "stream": "stdout",
       "text": [
        "\n",
        "g:/filmes/2012/As Sess\u00f5es (2012) Ben Lewin"
       ]
      },
      {
       "output_type": "stream",
       "stream": "stdout",
       "text": [
        "\n",
        "g:/filmes/2012/Assassinos de Aluguel (2012) Jessy Terrero"
       ]
      },
      {
       "output_type": "stream",
       "stream": "stdout",
       "text": [
        "\n",
        "g:/filmes/2012/Ast\u00e9rix e Ob\u00e9lix A Servi\u00e7o de sua Majestade (2012) Laurent Tirard"
       ]
      },
      {
       "output_type": "stream",
       "stream": "stdout",
       "text": [
        "\n",
        "g:/filmes/2012/At Any Price (2012) Ramin Bahrani"
       ]
      },
      {
       "output_type": "stream",
       "stream": "stdout",
       "text": [
        "\n",
        "g:/filmes/2012/Atr\u00e1s da Porta (2012) Istv\u00e1n Szab\u00f3"
       ]
      },
      {
       "output_type": "stream",
       "stream": "stdout",
       "text": [
        "\n",
        "g:/filmes/2012/At\u00e9 que a Sorte nos Separe (2012) Roberto Santucci"
       ]
      },
      {
       "output_type": "stream",
       "stream": "stdout",
       "text": [
        "\n",
        "g:/filmes/2012/Augustine (2012) Alice Winocour"
       ]
      },
      {
       "output_type": "stream",
       "stream": "stdout",
       "text": [
        "\n",
        "g:/filmes/2012/Aurora (2012) Kristina Buozyte"
       ]
      },
      {
       "output_type": "stream",
       "stream": "stdout",
       "text": [
        "\n",
        "g:/filmes/2012/Bachelorette (2012) Leslye Headland"
       ]
      },
      {
       "output_type": "stream",
       "stream": "stdout",
       "text": [
        "\n",
        "g:/filmes/2012/Battleship - Batalha dos Mares (2012) Peter Berg"
       ]
      },
      {
       "output_type": "stream",
       "stream": "stdout",
       "text": [
        "\n",
        "g:/filmes/2012/Bekas (2012) Karzan Kader"
       ]
      },
      {
       "output_type": "stream",
       "stream": "stdout",
       "text": [
        "\n",
        "g:/filmes/2012/Bem-Vindo aos 40 (2012) Judd Apaton"
       ]
      },
      {
       "output_type": "stream",
       "stream": "stdout",
       "text": [
        "\n",
        "g:/filmes/2012/Berberian Sound Studio (2012) Peter Strickland"
       ]
      },
      {
       "output_type": "stream",
       "stream": "stdout",
       "text": [
        "\n",
        "g:/filmes/2012/Big Love (2012) Barbara Bialowas"
       ]
      },
      {
       "output_type": "stream",
       "stream": "stdout",
       "text": [
        "\n",
        "g:/filmes/2012/Billi Pig (2012) Jos\u00c3\u00a9 Eduardo Belmonte"
       ]
      },
      {
       "output_type": "stream",
       "stream": "stdout",
       "text": [
        "\n",
        "g:/filmes/2012/Branca de Neve (2012) Pablo Berger"
       ]
      },
      {
       "output_type": "stream",
       "stream": "stdout",
       "text": [
        "\n",
        "g:/filmes/2012/Branded (2012) James Bradshaw e Aleksandr Dulerayn"
       ]
      },
      {
       "output_type": "stream",
       "stream": "stdout",
       "text": [
        "\n",
        "g:/filmes/2012/Broken (2012) Rufus Norris"
       ]
      },
      {
       "output_type": "stream",
       "stream": "stdout",
       "text": [
        "\n",
        "g:/filmes/2012/Byzantium (2012) Neil Jordan"
       ]
      },
      {
       "output_type": "stream",
       "stream": "stdout",
       "text": [
        "\n",
        "g:/filmes/2012/B\u00e1rbara (2012) Christian Petzold"
       ]
      },
      {
       "output_type": "stream",
       "stream": "stdout",
       "text": [
        "\n",
        "g:/filmes/2012/B\u00c3\u00a1rbara (2012) Christian Petzold"
       ]
      },
      {
       "output_type": "stream",
       "stream": "stdout",
       "text": [
        "\n",
        "g:/filmes/2012/Camille Outra Vez (2012) No\u00e9mie Lvovsky"
       ]
      },
      {
       "output_type": "stream",
       "stream": "stdout",
       "text": [
        "\n",
        "g:/filmes/2012/Canibal Vegetariano (2012) Branko Schmidt"
       ]
      },
      {
       "output_type": "stream",
       "stream": "stdout",
       "text": [
        "\n",
        "g:/filmes/2012/Can\u00e7\u00e3o para Marion (2012) Paul Andrew Williams"
       ]
      },
      {
       "output_type": "stream",
       "stream": "stdout",
       "text": [
        "\n",
        "g:/filmes/2012/Cavaleiros e Drag\u00f5es (2012) Mark Atkins"
       ]
      },
      {
       "output_type": "stream",
       "stream": "stdout",
       "text": [
        "\n",
        "g:/filmes/2012/Ca\u00e7ada Humana (2012) Marcin Krzysztalowicz"
       ]
      },
      {
       "output_type": "stream",
       "stream": "stdout",
       "text": [
        "\n",
        "g:/filmes/2012/Ca\u00e7ador de Almas (2012) Andrew Goth"
       ]
      },
      {
       "output_type": "stream",
       "stream": "stdout",
       "text": [
        "\n",
        "g:/filmes/2012/Celeste e Jesse para Sempre (2012) Lee Toland Krieger"
       ]
      },
      {
       "output_type": "stream",
       "stream": "stdout",
       "text": [
        "\n",
        "g:/filmes/2012/Cirque du Soleil Worlds Away (2012) Andrew Adamson"
       ]
      },
      {
       "output_type": "stream",
       "stream": "stdout",
       "text": [
        "\n",
        "g:/filmes/2012/Clip (2012) Maja Milos"
       ]
      },
      {
       "output_type": "stream",
       "stream": "stdout",
       "text": [
        "\n",
        "g:/filmes/2012/Como Agarrar Meu Ex-Namorado  (2012) Julie Anne Robinson"
       ]
      },
      {
       "output_type": "stream",
       "stream": "stdout",
       "text": [
        "\n",
        "g:/filmes/2012/Como um Chef (2012) Daniel Cohen"
       ]
      },
      {
       "output_type": "stream",
       "stream": "stdout",
       "text": [
        "\n",
        "g:/filmes/2012/Como um Trov\u00e3o (2012) Derek Cianfrance"
       ]
      },
      {
       "output_type": "stream",
       "stream": "stdout",
       "text": [
        "\n",
        "g:/filmes/2012/Conex\u00f5es (2012) Shervin Yunssefian"
       ]
      },
      {
       "output_type": "stream",
       "stream": "stdout",
       "text": [
        "\n",
        "g:/filmes/2012/Cosm\u00c3\u00b3polis (2012) David Cronenberg"
       ]
      },
      {
       "output_type": "stream",
       "stream": "stdout",
       "text": [
        "\n",
        "g:/filmes/2012/Crian\u00e7as de Sarajevo (2012) Aida Begic"
       ]
      },
      {
       "output_type": "stream",
       "stream": "stdout",
       "text": [
        "\n",
        "g:/filmes/2012/Dan\u00e7a de Pardais (2012) Noah Buschel"
       ]
      },
      {
       "output_type": "stream",
       "stream": "stdout",
       "text": [
        "\n",
        "g:/filmes/2012/Dark Tourist (2012) Suri Krishnamma"
       ]
      },
      {
       "output_type": "stream",
       "stream": "stdout",
       "text": [
        "\n",
        "g:/filmes/2012/De Cabe\u00e7a para Baixo (2012) Juan Diego Solanas"
       ]
      },
      {
       "output_type": "stream",
       "stream": "stdout",
       "text": [
        "\n",
        "g:/filmes/2012/De Cora\u00e7\u00e3o Aberto (2012) Marion Laine"
       ]
      },
      {
       "output_type": "stream",
       "stream": "stdout",
       "text": [
        "\n",
        "g:/filmes/2012/De Volta para Casa (2012) Fr\u00e9d\u00e8ric Videau - Fran\u00e7a"
       ]
      },
      {
       "output_type": "stream",
       "stream": "stdout",
       "text": [
        "\n",
        "g:/filmes/2012/Deixe a Luz Acesa (2012) Ira Sachs"
       ]
      },
      {
       "output_type": "stream",
       "stream": "stdout",
       "text": [
        "\n",
        "g:/filmes/2012/Dentro de Casa (2012) Fran\u00e7ois Ozon"
       ]
      },
      {
       "output_type": "stream",
       "stream": "stdout",
       "text": [
        "\n",
        "g:/filmes/2012/Depois de L\u00facia (2012) Michel Franco"
       ]
      },
      {
       "output_type": "stream",
       "stream": "stdout",
       "text": [
        "\n",
        "g:/filmes/2012/Depois de Maio (2012) Olivier Assayas"
       ]
      },
      {
       "output_type": "stream",
       "stream": "stdout",
       "text": [
        "\n",
        "g:/filmes/2012/Detona Ralph (2012) Rick Moore"
       ]
      },
      {
       "output_type": "stream",
       "stream": "stdout",
       "text": [
        "\n",
        "g:/filmes/2012/Diaz - Pol\u00edtica e Viol\u00eancia (2012) Daniele Vicari"
       ]
      },
      {
       "output_type": "stream",
       "stream": "stdout",
       "text": [
        "\n",
        "g:/filmes/2012/Django Livre (2012) Quentin Tarantino"
       ]
      },
      {
       "output_type": "stream",
       "stream": "stdout",
       "text": [
        "\n",
        "g:/filmes/2012/Doce Tenta\u00e7\u00e3o (2012) Stephen Eliott"
       ]
      },
      {
       "output_type": "stream",
       "stream": "stdout",
       "text": [
        "\n",
        "g:/filmes/2012/Doomsday Book (2012)  Pil-Sung Yim e Kim Jee-Woon - Cor\u00e9ia do Sul"
       ]
      },
      {
       "output_type": "stream",
       "stream": "stdout",
       "text": [
        "\n",
        "g:/filmes/2012/Duas Vidas (2012) Georg Maas e Judith Kaufmann"
       ]
      },
      {
       "output_type": "stream",
       "stream": "stdout",
       "text": [
        "\n",
        "g:/filmes/2012/Elefante Branco (2012) Pablo Trapero"
       ]
      },
      {
       "output_type": "stream",
       "stream": "stdout",
       "text": [
        "\n",
        "g:/filmes/2012/Em Busca do Amor (2012) James Ivory"
       ]
      },
      {
       "output_type": "stream",
       "stream": "stdout",
       "text": [
        "\n",
        "g:/filmes/2012/Em Nome de Deus (2012) Brillante Mendoza"
       ]
      },
      {
       "output_type": "stream",
       "stream": "stdout",
       "text": [
        "\n",
        "g:/filmes/2012/English Vinglish (2012) Gauri Shinde"
       ]
      },
      {
       "output_type": "stream",
       "stream": "stdout",
       "text": [
        "\n",
        "g:/filmes/2012/Entre Inimigos (2012) Petter Naess"
       ]
      },
      {
       "output_type": "stream",
       "stream": "stdout",
       "text": [
        "\n",
        "g:/filmes/2012/Entre o Amor e a Paix\u00e3o (2012) Sarah Polley"
       ]
      },
      {
       "output_type": "stream",
       "stream": "stdout",
       "text": [
        "\n",
        "g:/filmes/2012/Ernest e Celestine (2012) Benjamin Renner, St\u00e9phane Aubiere e Vincent Patar - Anima\u00e7\u00e3o"
       ]
      },
      {
       "output_type": "stream",
       "stream": "stdout",
       "text": [
        "\n",
        "g:/filmes/2012/Errors of the Human Body (2012) Eron Sheean"
       ]
      },
      {
       "output_type": "stream",
       "stream": "stdout",
       "text": [
        "\n",
        "g:/filmes/2012/Esim\u00e9sac (2012) Luc Picard (Canad\u00e1)"
       ]
      },
      {
       "output_type": "stream",
       "stream": "stdout",
       "text": [
        "\n",
        "g:/filmes/2012/Espera a\u00c3\u00ad que j\u00c3\u00a1 Casamos (2012) Nicholas Stoller"
       ]
      },
      {
       "output_type": "stream",
       "stream": "stdout",
       "text": [
        "\n",
        "g:/filmes/2012/Espera a\u00ed que j\u00e1 Casamos (2012) Nicholas Stoller"
       ]
      },
      {
       "output_type": "stream",
       "stream": "stdout",
       "text": [
        "\n",
        "g:/filmes/2012/Esquentando a Rela\u00e7\u00e3o (2012) Jean Garrity"
       ]
      },
      {
       "output_type": "stream",
       "stream": "stdout",
       "text": [
        "\n",
        "g:/filmes/2012/Eu Anna (2012) Barnaby Southcombe"
       ]
      },
      {
       "output_type": "stream",
       "stream": "stdout",
       "text": [
        "\n",
        "g:/filmes/2012/Eu e Voc\u00ea (2012) Bernardo Bertolucci"
       ]
      },
      {
       "output_type": "stream",
       "stream": "stdout",
       "text": [
        "\n",
        "g:/filmes/2012/Excision (2012) Richard Bates Jr"
       ]
      },
      {
       "output_type": "stream",
       "stream": "stdout",
       "text": [
        "\n",
        "g:/filmes/2012/Expurgo (2012) Antti Jokinen"
       ]
      },
      {
       "output_type": "stream",
       "stream": "stdout",
       "text": [
        "\n",
        "g:/filmes/2012/Ferrugem e Osso (2012) Jacques Audiard"
       ]
      },
      {
       "output_type": "stream",
       "stream": "stdout",
       "text": [
        "\n",
        "g:/filmes/2012/Fetih (Conquest) 1453 (2012) Faruk Aksoy"
       ]
      },
      {
       "output_type": "stream",
       "stream": "stdout",
       "text": [
        "\n",
        "g:/filmes/2012/Fim de Semana em Casa (2012) Hans-Christian Schmid"
       ]
      },
      {
       "output_type": "stream",
       "stream": "stdout",
       "text": [
        "\n",
        "g:/filmes/2012/Fintar o Amor (2012) Gabriele Muccino"
       ]
      },
      {
       "output_type": "stream",
       "stream": "stdout",
       "text": [
        "\n",
        "g:/filmes/2012/Fj\u00e4lbackamorden; I Betraktarens \u00d6ga (2012) J\u00f6rgem Bergmark - Su\u00e9cia"
       ]
      },
      {
       "output_type": "stream",
       "stream": "stdout",
       "text": [
        "\n",
        "g:/filmes/2012/Fogo (2012) Yulene Olaizola"
       ]
      },
      {
       "output_type": "stream",
       "stream": "stdout",
       "text": [
        "\n",
        "g:/filmes/2012/Formatura Fantasma (2012) Javier Ruiz Caldera"
       ]
      },
      {
       "output_type": "stream",
       "stream": "stdout",
       "text": [
        "\n",
        "g:/filmes/2012/Foxfire - Confiss\u00f5es de Uma Gangue de Garotas (2012) Laurent Cantet"
       ]
      },
      {
       "output_type": "stream",
       "stream": "stdout",
       "text": [
        "\n",
        "g:/filmes/2012/Frances Ha (2012) Noah Baum Bach"
       ]
      },
      {
       "output_type": "stream",
       "stream": "stdout",
       "text": [
        "\n",
        "g:/filmes/2012/Frauensee (2012) Zoltan Paul - Alemanha"
       ]
      },
      {
       "output_type": "stream",
       "stream": "stdout",
       "text": [
        "\n",
        "g:/filmes/2012/Fuga do Tibet (2012) Maria Blumencron"
       ]
      },
      {
       "output_type": "stream",
       "stream": "stdout",
       "text": [
        "\n",
        "g:/filmes/2012/Fun Size (2012)"
       ]
      },
      {
       "output_type": "stream",
       "stream": "stdout",
       "text": [
        "\n",
        "g:/filmes/2012/Funeral Kings (2012) Kevin McManus e Matthew McManus"
       ]
      },
      {
       "output_type": "stream",
       "stream": "stdout",
       "text": [
        "\n",
        "g:/filmes/2012/Ginger e Rosa (2012) Sally Potter"
       ]
      },
      {
       "output_type": "stream",
       "stream": "stdout",
       "text": [
        "\n",
        "g:/filmes/2012/Girl in Progress (2012) Patricia Riggen"
       ]
      },
      {
       "output_type": "stream",
       "stream": "stdout",
       "text": [
        "\n",
        "g:/filmes/2012/Gnade (2012) Matthias Glasner"
       ]
      },
      {
       "output_type": "stream",
       "stream": "stdout",
       "text": [
        "\n",
        "g:/filmes/2012/Grandes Experan\u00e7as (2012) Mike Newell"
       ]
      },
      {
       "output_type": "stream",
       "stream": "stdout",
       "text": [
        "\n",
        "g:/filmes/2012/Hannah Arendt (2012) Margarethe Von Trotta"
       ]
      },
      {
       "output_type": "stream",
       "stream": "stdout",
       "text": [
        "\n",
        "g:/filmes/2012/Havana 57 (2012) Heidi Jim Purdy"
       ]
      },
      {
       "output_type": "stream",
       "stream": "stdout",
       "text": [
        "\n",
        "g:/filmes/2012/Hemingway and Gellhorn (2012) Philip Kaufman"
       ]
      },
      {
       "output_type": "stream",
       "stream": "stdout",
       "text": [
        "\n",
        "g:/filmes/2012/Hirokin o \u00daltimo Samurai (2012) Alejo Mo-Sun"
       ]
      },
      {
       "output_type": "stream",
       "stream": "stdout",
       "text": [
        "\n",
        "g:/filmes/2012/Hitchcock (2012) Sacha Gervasi"
       ]
      },
      {
       "output_type": "stream",
       "stream": "stdout",
       "text": [
        "\n",
        "g:/filmes/2012/IDA Identidade An\u00f4nima (2012) Christian E. Christiansen"
       ]
      },
      {
       "output_type": "stream",
       "stream": "stdout",
       "text": [
        "\n",
        "g:/filmes/2012/Imaginaerum (2012) Stobe Harju"
       ]
      },
      {
       "output_type": "stream",
       "stream": "stdout",
       "text": [
        "\n",
        "g:/filmes/2012/Imperador (2012) Peter Webber"
       ]
      },
      {
       "output_type": "stream",
       "stream": "stdout",
       "text": [
        "\n",
        "g:/filmes/2012/Inch'Allah (2012) Anais Barbeau-Lavalette"
       ]
      },
      {
       "output_type": "stream",
       "stream": "stdout",
       "text": [
        "\n",
        "g:/filmes/2012/Incompat\u00edveis e N\u00e3o S\u00f3... (2012) David Charhon"
       ]
      },
      {
       "output_type": "stream",
       "stream": "stdout",
       "text": [
        "\n",
        "g:/filmes/2012/Indom\u00e1vel Sonhadora (2012) Behn Zeitlin"
       ]
      },
      {
       "output_type": "stream",
       "stream": "stdout",
       "text": [
        "\n",
        "g:/filmes/2012/Inescapable (2012)"
       ]
      },
      {
       "output_type": "stream",
       "stream": "stdout",
       "text": [
        "\n",
        "g:/filmes/2012/Inquilino Desajeitado (2012) Jonas \u00c5kerlund"
       ]
      },
      {
       "output_type": "stream",
       "stream": "stdout",
       "text": [
        "\n",
        "g:/filmes/2012/Invasor (2012) Daniel Calparsoro - Espanha"
       ]
      },
      {
       "output_type": "stream",
       "stream": "stdout",
       "text": [
        "\n",
        "g:/filmes/2012/Izmena (2012) Kirell Serebrennokov"
       ]
      },
      {
       "output_type": "stream",
       "stream": "stdout",
       "text": [
        "\n",
        "g:/filmes/2012/Jack e Diane (2012) Bradley Rust Gray"
       ]
      },
      {
       "output_type": "stream",
       "stream": "stdout",
       "text": [
        "\n",
        "g:/filmes/2012/Jackie (2012) Antoinette Beumer - Holanda"
       ]
      },
      {
       "output_type": "stream",
       "stream": "stdout",
       "text": [
        "\n",
        "g:/filmes/2012/Jogos de Interesses (2012) Bill Guttentag"
       ]
      },
      {
       "output_type": "stream",
       "stream": "stdout",
       "text": [
        "\n",
        "g:/filmes/2012/Jogos Vorazes (2012) Gary Ross"
       ]
      },
      {
       "output_type": "stream",
       "stream": "stdout",
       "text": [
        "\n",
        "g:/filmes/2012/Kon Tiki (2012) Joachim Ronning e Espen Sandeberg"
       ]
      },
      {
       "output_type": "stream",
       "stream": "stdout",
       "text": [
        "\n",
        "g:/filmes/2012/La Playa (2012) Juan Andr\u00e9s Arango Garcia"
       ]
      },
      {
       "output_type": "stream",
       "stream": "stdout",
       "text": [
        "\n",
        "g:/filmes/2012/Ladr\u00f5es com Estilo (2012) Michael Hoffman"
       ]
      },
      {
       "output_type": "stream",
       "stream": "stdout",
       "text": [
        "\n",
        "g:/filmes/2012/Laurence Anyways (2012) Xavier Dolan"
       ]
      },
      {
       "output_type": "stream",
       "stream": "stdout",
       "text": [
        "\n",
        "g:/filmes/2012/Lay the Favorite (2012) Stephen Frears"
       ]
      },
      {
       "output_type": "stream",
       "stream": "stdout",
       "text": [
        "\n",
        "g:/filmes/2012/Liberal Arts (2012) Josh Radner"
       ]
      },
      {
       "output_type": "stream",
       "stream": "stdout",
       "text": [
        "\n",
        "g:/filmes/2012/Ligados pelo Amor (2012) Josh Boone"
       ]
      },
      {
       "output_type": "stream",
       "stream": "stdout",
       "text": [
        "\n",
        "g:/filmes/2012/Liga\u00e7\u00f5es Perigosas (2012) Jin-Ho Hur"
       ]
      },
      {
       "output_type": "stream",
       "stream": "stdout",
       "text": [
        "\n",
        "g:/filmes/2012/Lincoln (2012) Steven Spielberg"
       ]
      },
      {
       "output_type": "stream",
       "stream": "stdout",
       "text": [
        "\n",
        "g:/filmes/2012/Liv & Ingmar (2012),Dheeraj Akolkar"
       ]
      },
      {
       "output_type": "stream",
       "stream": "stdout",
       "text": [
        "\n",
        "g:/filmes/2012/Lore (2012) Cate Shortland"
       ]
      },
      {
       "output_type": "stream",
       "stream": "stdout",
       "text": [
        "\n",
        "g:/filmes/2012/Louco de Pedra (2012) Charles Matthau"
       ]
      },
      {
       "output_type": "stream",
       "stream": "stdout",
       "text": [
        "\n",
        "g:/filmes/2012/Loucos por Dinheiro (2012) Ramaa Mosley"
       ]
      },
      {
       "output_type": "stream",
       "stream": "stdout",
       "text": [
        "\n",
        "g:/filmes/2012/Loucura (2012) Jeong-woo Park - Cor\u00e9ia do Sul"
       ]
      },
      {
       "output_type": "stream",
       "stream": "stdout",
       "text": [
        "\n",
        "g:/filmes/2012/Mar\u00e9 Negra (2012) John Stockwell"
       ]
      },
      {
       "output_type": "stream",
       "stream": "stdout",
       "text": [
        "\n",
        "g:/filmes/2012/Mate-me (2012) Emily Atef"
       ]
      },
      {
       "output_type": "stream",
       "stream": "stdout",
       "text": [
        "\n",
        "g:/filmes/2012/Mel de Laranjas (2012) Imanol Uribe"
       ]
      },
      {
       "output_type": "stream",
       "stream": "stdout",
       "text": [
        "\n",
        "g:/filmes/2012/Menos que Nada (2012) Carlos Gerbase - Brasil"
       ]
      },
      {
       "output_type": "stream",
       "stream": "stdout",
       "text": [
        "\n",
        "g:/filmes/2012/Mental (2012) P. J. Hogan"
       ]
      },
      {
       "output_type": "stream",
       "stream": "stdout",
       "text": [
        "\n",
        "g:/filmes/2012/Meteora (2012) Spiros Stathoulopoulos - Gr\u00e9cia"
       ]
      },
      {
       "output_type": "stream",
       "stream": "stdout",
       "text": [
        "\n",
        "g:/filmes/2012/Meu Amigo Alem\u00e3o (2012) Jeanine Meerappel"
       ]
      },
      {
       "output_type": "stream",
       "stream": "stdout",
       "text": [
        "\n",
        "g:/filmes/2012/MIB Homens de Petro III (2012) Barry Sonnenfeld"
       ]
      },
      {
       "output_type": "stream",
       "stream": "stdout",
       "text": [
        "\n",
        "g:/filmes/2012/MIB Homens de Preto III (2012) Barry Sonnenfeld"
       ]
      },
      {
       "output_type": "stream",
       "stream": "stdout",
       "text": [
        "\n",
        "g:/filmes/2012/Mince Alors! (2012) Charlotte de Turckheim"
       ]
      },
      {
       "output_type": "stream",
       "stream": "stdout",
       "text": [
        "\n",
        "g:/filmes/2012/Minha Irm\u00e3 (2012) Ursula Meier"
       ]
      },
      {
       "output_type": "stream",
       "stream": "stdout",
       "text": [
        "\n",
        "g:/filmes/2012/Minha Vida Dava Um Filme (2012) Shari Springer Berman e Robert Pulcini"
       ]
      },
      {
       "output_type": "stream",
       "stream": "stdout",
       "text": [
        "\n",
        "g:/filmes/2012/Modus Anomali (2012) Joko Anwar - Terror"
       ]
      },
      {
       "output_type": "stream",
       "stream": "stdout",
       "text": [
        "\n",
        "g:/filmes/2012/Moonrise Kingdom (2012) Wes Anderson"
       ]
      },
      {
       "output_type": "stream",
       "stream": "stdout",
       "text": [
        "\n",
        "g:/filmes/2012/Na Neblina (2012) Sergei Loznitsa"
       ]
      },
      {
       "output_type": "stream",
       "stream": "stdout",
       "text": [
        "\n",
        "g:/filmes/2012/Na Sombra (2012)"
       ]
      },
      {
       "output_type": "stream",
       "stream": "stdout",
       "text": [
        "\n",
        "g:/filmes/2012/Na Trilha da Vinganca (2012) David Jacobson"
       ]
      },
      {
       "output_type": "stream",
       "stream": "stdout",
       "text": [
        "\n",
        "g:/filmes/2012/Naked Harbour (2012) Aku Louhimies - Finl\u00e2ndia"
       ]
      },
      {
       "output_type": "stream",
       "stream": "stdout",
       "text": [
        "\n",
        "g:/filmes/2012/No (2012) Pablo Larra\u00edn"
       ]
      },
      {
       "output_type": "stream",
       "stream": "stdout",
       "text": [
        "\n",
        "g:/filmes/2012/Nobody Walks (2012)"
       ]
      },
      {
       "output_type": "stream",
       "stream": "stdout",
       "text": [
        "\n",
        "g:/filmes/2012/O Artista e a Modelo (2012) Fernando Trueba"
       ]
      },
      {
       "output_type": "stream",
       "stream": "stdout",
       "text": [
        "\n",
        "g:/filmes/2012/O Atentado (2012) Ziad Doueiri"
       ]
      },
      {
       "output_type": "stream",
       "stream": "stdout",
       "text": [
        "\n",
        "g:/filmes/2012/O Capital (2012) Costa-Gavras"
       ]
      },
      {
       "output_type": "stream",
       "stream": "stdout",
       "text": [
        "\n",
        "g:/filmes/2012/O Ditador (2012) Larry Charles"
       ]
      },
      {
       "output_type": "stream",
       "stream": "stdout",
       "text": [
        "\n",
        "g:/filmes/2012/O Filho do Outro (2012) Lorraine Levy"
       ]
      },
      {
       "output_type": "stream",
       "stream": "stdout",
       "text": [
        "\n",
        "g:/filmes/2012/O Fim do Amor (2012) Mark webber"
       ]
      },
      {
       "output_type": "stream",
       "stream": "stdout",
       "text": [
        "\n",
        "g:/filmes/2012/O Fundamentalista Relutante (2012) Mira Nair"
       ]
      },
      {
       "output_type": "stream",
       "stream": "stdout",
       "text": [
        "\n",
        "g:/filmes/2012/O Gosto do Dinheiro (2012) Sang-soo Im - Cor\u00e9ia do Sul"
       ]
      },
      {
       "output_type": "stream",
       "stream": "stdout",
       "text": [
        "\n",
        "g:/filmes/2012/O Hipnotista (2012) Lasse Hallstr\u00f6m - Su\u00e9cia"
       ]
      },
      {
       "output_type": "stream",
       "stream": "stdout",
       "text": [
        "\n",
        "g:/filmes/2012/O Hobbit (2012) Peter Jackson"
       ]
      },
      {
       "output_type": "stream",
       "stream": "stdout",
       "text": [
        "\n",
        "g:/filmes/2012/O Homem de Gelo (2012) Ariel Vromen"
       ]
      },
      {
       "output_type": "stream",
       "stream": "stdout",
       "text": [
        "\n",
        "g:/filmes/2012/O Homem que Ri (2012) Jean-Pierre Am\u00e9ris"
       ]
      },
      {
       "output_type": "stream",
       "stream": "stdout",
       "text": [
        "\n",
        "g:/filmes/2012/O Imposs\u00edvel (2012) Juan Antonio Bayona"
       ]
      },
      {
       "output_type": "stream",
       "stream": "stdout",
       "text": [
        "\n",
        "g:/filmes/2012/O Intoc\u00e1vel (2012) Boaz Yakin"
       ]
      },
      {
       "output_type": "stream",
       "stream": "stdout",
       "text": [
        "\n",
        "g:/filmes/2012/O Lado Bom da Vida (2012) David O. Russel"
       ]
      },
      {
       "output_type": "stream",
       "stream": "stdout",
       "text": [
        "\n",
        "g:/filmes/2012/O Legado Bourne (2012) Tony Gilroy"
       ]
      },
      {
       "output_type": "stream",
       "stream": "stdout",
       "text": [
        "\n",
        "g:/filmes/2012/O Mestre (2012) Paul Thomas Anderson"
       ]
      },
      {
       "output_type": "stream",
       "stream": "stdout",
       "text": [
        "\n",
        "g:/filmes/2012/O Quarteto (2012) Dustin Hoffman"
       ]
      },
      {
       "output_type": "stream",
       "stream": "stdout",
       "text": [
        "\n",
        "g:/filmes/2012/O que Richard Fez (2012) Lenny Abrahamson - Irlanda"
       ]
      },
      {
       "output_type": "stream",
       "stream": "stdout",
       "text": [
        "\n",
        "g:/filmes/2012/O Relutante Fundamentalista (2012) Mira Nair"
       ]
      },
      {
       "output_type": "stream",
       "stream": "stdout",
       "text": [
        "\n",
        "g:/filmes/2012/O \u00daltimo Elvis (2012) Armando Bo - Argentina"
       ]
      },
      {
       "output_type": "stream",
       "stream": "stdout",
       "text": [
        "\n",
        "g:/filmes/2012/Oh Boy (2012) Jan Ole Gerster - Alemanha"
       ]
      },
      {
       "output_type": "stream",
       "stream": "stdout",
       "text": [
        "\n",
        "g:/filmes/2012/Olhos de Todos (2012) C\u00e9dric Jimenez"
       ]
      },
      {
       "output_type": "stream",
       "stream": "stdout",
       "text": [
        "\n",
        "g:/filmes/2012/Opera\u00e7\u00e3o Sofia (2012) Isaac Florentine"
       ]
      },
      {
       "output_type": "stream",
       "stream": "stdout",
       "text": [
        "\n",
        "g:/filmes/2012/Os Infratores (2012) John Hilcoat"
       ]
      },
      {
       "output_type": "stream",
       "stream": "stdout",
       "text": [
        "\n",
        "g:/filmes/2012/Os Miser\u00c3\u00a1veis (2012) Tom Hooper"
       ]
      },
      {
       "output_type": "stream",
       "stream": "stdout",
       "text": [
        "\n",
        "g:/filmes/2012/Os Reis do Ver\u00c3\u00a3o (2012) Henry Alex Rubin"
       ]
      },
      {
       "output_type": "stream",
       "stream": "stdout",
       "text": [
        "\n",
        "g:/filmes/2012/Os Sabores do Pal\u00c3\u00a1cio (2012) Christian Vincent - Fran\u00c3\u00a7a"
       ]
      },
      {
       "output_type": "stream",
       "stream": "stdout",
       "text": [
        "\n",
        "g:/filmes/2012/Os Vingadores (2012) Joss Whedon"
       ]
      },
      {
       "output_type": "stream",
       "stream": "stdout",
       "text": [
        "\n",
        "g:/filmes/2012/Ovelha Negra (2012) Christopher Neil"
       ]
      },
      {
       "output_type": "stream",
       "stream": "stdout",
       "text": [
        "\n",
        "g:/filmes/2012/Para\u00c3\u00adso; F\u00c3\u00a9 (2012) Ulrich Seidl"
       ]
      },
      {
       "output_type": "stream",
       "stream": "stdout",
       "text": [
        "\n",
        "g:/filmes/2012/Para\u00c3\u00adsos Artificiais (2012)"
       ]
      },
      {
       "output_type": "stream",
       "stream": "stdout",
       "text": [
        "\n",
        "g:/filmes/2012/Paris-Manhattan (2012)"
       ]
      },
      {
       "output_type": "stream",
       "stream": "stdout",
       "text": [
        "\n",
        "g:/filmes/2012/Passion (2012) Brian de Palma"
       ]
      },
      {
       "output_type": "stream",
       "stream": "stdout",
       "text": [
        "\n",
        "g:/filmes/2012/Paulette (2012) J\u00c3\u00a9r\u00c3\u00b4me Enrico"
       ]
      },
      {
       "output_type": "stream",
       "stream": "stdout",
       "text": [
        "\n",
        "g:/filmes/2012/Pelos Olhos de Maisie (2012) Scott McGehee e David Siegel"
       ]
      },
      {
       "output_type": "stream",
       "stream": "stdout",
       "text": [
        "\n",
        "g:/filmes/2012/Perder a Raz\u00c3\u00a3o (2012) Joachim Lafosse"
       ]
      },
      {
       "output_type": "stream",
       "stream": "stdout",
       "text": [
        "\n",
        "g:/filmes/2012/Piet\u00c3\u00a0 (2012) Kim Ki-duk"
       ]
      },
      {
       "output_type": "stream",
       "stream": "stdout",
       "text": [
        "\n",
        "g:/filmes/2012/Poder Paranormal (2012) Rodrigo Cort\u00c3\u00a9s"
       ]
      },
      {
       "output_type": "stream",
       "stream": "stdout",
       "text": [
        "\n",
        "g:/filmes/2012/Por que Parar Agora (2012) Phil Dorling e Ron Nyswaner"
       ]
      },
      {
       "output_type": "stream",
       "stream": "stdout",
       "text": [
        "\n",
        "g:/filmes/2012/Post Tenebras Lux (2012) Carlos Reygadas"
       ]
      },
      {
       "output_type": "stream",
       "stream": "stdout",
       "text": [
        "\n",
        "g:/filmes/2012/Preenchendo o Vazio (2012) Rama Burshtein"
       ]
      },
      {
       "output_type": "stream",
       "stream": "stdout",
       "text": [
        "\n",
        "g:/filmes/2012/Procurando Sugar Man (2012) Malik Bendjelloul"
       ]
      },
      {
       "output_type": "stream",
       "stream": "stdout",
       "text": [
        "\n",
        "g:/filmes/2012/Professor Peso Pesado (2012)"
       ]
      },
      {
       "output_type": "stream",
       "stream": "stdout",
       "text": [
        "\n",
        "g:/filmes/2012/Prometheus (2012) Ridley Scott"
       ]
      },
      {
       "output_type": "stream",
       "stream": "stdout",
       "text": [
        "\n",
        "g:/filmes/2012/Pura Adrenalina (2012) Fr\u00c3\u00a9d\u00c3\u00a9ric Jardin"
       ]
      },
      {
       "output_type": "stream",
       "stream": "stdout",
       "text": [
        "\n",
        "g:/filmes/2012/P\u00c3\u00a3o de Felicidade (2012) Yukiko Mishima (Jap\u00c3\u00a3o)"
       ]
      },
      {
       "output_type": "stream",
       "stream": "stdout",
       "text": [
        "\n",
        "g:/filmes/2012/Qual o Nome do Beb\u00c3\u00aa (2012) Alexandre de La Patelli\u00c3\u00a8re e Marttihiev Delaporte"
       ]
      },
      {
       "output_type": "stream",
       "stream": "stdout",
       "text": [
        "\n",
        "g:/filmes/2012/Quarto 237 (2012) Rodney Ascher"
       ]
      },
      {
       "output_type": "stream",
       "stream": "stdout",
       "text": [
        "\n",
        "g:/filmes/2012/Querido Companheiro (2012) Lawrence Kasdan"
       ]
      },
      {
       "output_type": "stream",
       "stream": "stdout",
       "text": [
        "\n",
        "g:/filmes/2012/Reality (2012) Matteo Garrone"
       ]
      },
      {
       "output_type": "stream",
       "stream": "stdout",
       "text": [
        "\n",
        "g:/filmes/2012/Renoir (2012) Giles Bourdos - Fran\u00c3\u00a7a"
       ]
      },
      {
       "output_type": "stream",
       "stream": "stdout",
       "text": [
        "\n",
        "g:/filmes/2012/Ressaca de Ver\u00c3\u00a3o (2012) Harmony Korine"
       ]
      },
      {
       "output_type": "stream",
       "stream": "stdout",
       "text": [
        "\n",
        "g:/filmes/2012/Robot and Frank (2012)"
       ]
      },
      {
       "output_type": "stream",
       "stream": "stdout",
       "text": [
        "\n",
        "g:/filmes/2012/Rock Brasilia - Era de Ouro (2012) Vladimir Carvalho"
       ]
      },
      {
       "output_type": "stream",
       "stream": "stdout",
       "text": [
        "\n",
        "g:/filmes/2012/Rom\u00c3\u00a2nticos An\u00c3\u00b4nimos (2012) Jean-Pierre Am\u00c3\u00a9ris"
       ]
      },
      {
       "output_type": "stream",
       "stream": "stdout",
       "text": [
        "\n",
        "g:/filmes/2012/Ruby Sparks; A Namorada Perfeita (2012) Jonathan Dayton e Valerie Faris"
       ]
      },
      {
       "output_type": "stream",
       "stream": "stdout",
       "text": [
        "\n",
        "g:/filmes/2012/Santos e Soldados - Miss\u00c3\u00a3o Berlim (2012) Ryan Little"
       ]
      },
      {
       "output_type": "stream",
       "stream": "stdout",
       "text": [
        "\n",
        "g:/filmes/2012/Sem Destino (2012) Mark Mann"
       ]
      },
      {
       "output_type": "stream",
       "stream": "stdout",
       "text": [
        "\n",
        "g:/filmes/2012/Sem Prote\u00c3\u00a7\u00c3\u00a3o (2012) Robert Redford"
       ]
      },
      {
       "output_type": "stream",
       "stream": "stdout",
       "text": [
        "\n",
        "g:/filmes/2012/Sem Seguran\u00c3\u00a7a Nenhuma (2012)"
       ]
      },
      {
       "output_type": "stream",
       "stream": "stdout",
       "text": [
        "\n",
        "g:/filmes/2012/Senhores e Senhoras - Corte Final (2012) Gy\u00f6rgy P\u00e1lfi"
       ]
      },
      {
       "output_type": "stream",
       "stream": "stdout",
       "text": [
        "\n",
        "g:/filmes/2012/Shadow Dancer (2012) James Marsh"
       ]
      },
      {
       "output_type": "stream",
       "stream": "stdout",
       "text": [
        "\n",
        "g:/filmes/2012/Shell (2012) Scott Graham (Esc\u00c3\u00b3cia)"
       ]
      },
      {
       "output_type": "stream",
       "stream": "stdout",
       "text": [
        "\n",
        "g:/filmes/2012/Skytten (2012) Annette K. Olesen - Dinamarca"
       ]
      },
      {
       "output_type": "stream",
       "stream": "stdout",
       "text": [
        "\n",
        "g:/filmes/2012/Smashed (2012)"
       ]
      },
      {
       "output_type": "stream",
       "stream": "stdout",
       "text": [
        "\n",
        "g:/filmes/2012/Soldado Peacefull (2012) Pat O'Connor"
       ]
      },
      {
       "output_type": "stream",
       "stream": "stdout",
       "text": [
        "\n",
        "g:/filmes/2012/Sombras da Noite (2012) Tim Burton"
       ]
      },
      {
       "output_type": "stream",
       "stream": "stdout",
       "text": [
        "\n",
        "g:/filmes/2012/Sou Louco por Voc\u00c3\u00aa (2012) Fernando Gonz\u00c3\u00a1les Molina"
       ]
      },
      {
       "output_type": "stream",
       "stream": "stdout",
       "text": [
        "\n",
        "g:/filmes/2012/Starlet (2012) Sean Baker"
       ]
      },
      {
       "output_type": "stream",
       "stream": "stdout",
       "text": [
        "\n",
        "g:/filmes/2012/Stolen (2012) Simon West"
       ]
      },
      {
       "output_type": "stream",
       "stream": "stdout",
       "text": [
        "\n",
        "g:/filmes/2012/Struck by Lightning (2012) Brian Dannelly"
       ]
      },
      {
       "output_type": "stream",
       "stream": "stdout",
       "text": [
        "\n",
        "g:/filmes/2012/Tai Chi Hero (2012) Stephen Fung - China"
       ]
      },
      {
       "output_type": "stream",
       "stream": "stdout",
       "text": [
        "\n",
        "g:/filmes/2012/Tepenin Ardi (2012) Emir Alper -Turquia"
       ]
      },
      {
       "output_type": "stream",
       "stream": "stdout",
       "text": [
        "\n",
        "g:/filmes/2012/Terra Prometida (2012) Gus Van Sant"
       ]
      },
      {
       "output_type": "stream",
       "stream": "stdout",
       "text": [
        "\n",
        "g:/filmes/2012/The Child (2012) Zsolt B\u00c3\u00a1cs"
       ]
      },
      {
       "output_type": "stream",
       "stream": "stdout",
       "text": [
        "\n",
        "g:/filmes/2012/The Dark Knight Rises (2012) Christopher Nolan"
       ]
      },
      {
       "output_type": "stream",
       "stream": "stdout",
       "text": [
        "\n",
        "g:/filmes/2012/The Factory (2012) Morgan O'Neill"
       ]
      },
      {
       "output_type": "stream",
       "stream": "stdout",
       "text": [
        "\n",
        "g:/filmes/2012/The Lesser Blessed (2012) Anita Doron"
       ]
      },
      {
       "output_type": "stream",
       "stream": "stdout",
       "text": [
        "\n",
        "g:/filmes/2012/The Mooring (2012) Glen Withrow"
       ]
      },
      {
       "output_type": "stream",
       "stream": "stdout",
       "text": [
        "\n",
        "g:/filmes/2012/The Motel Life (2012) Alan Polsky e Gabe Polsky"
       ]
      },
      {
       "output_type": "stream",
       "stream": "stdout",
       "text": [
        "\n",
        "g:/filmes/2012/The Paperboy (2012) Lee Daniels"
       ]
      },
      {
       "output_type": "stream",
       "stream": "stdout",
       "text": [
        "\n",
        "g:/filmes/2012/The Third Half (2012) Darko Mitrevski"
       ]
      },
      {
       "output_type": "stream",
       "stream": "stdout",
       "text": [
        "\n",
        "g:/filmes/2012/Th\u00c3\u00a9r\u00c3\u00a8se D. (2012) Claude Miller"
       ]
      },
      {
       "output_type": "stream",
       "stream": "stdout",
       "text": [
        "\n",
        "g:/filmes/2012/Tiros Garotas e Trapa\u00e7as (2012) Michael Winnick"
       ]
      },
      {
       "output_type": "stream",
       "stream": "stdout",
       "text": [
        "\n",
        "g:/filmes/2012/To The Arctic (2012) Greg Macgillivray - Document\u00c3\u00a1rio"
       ]
      },
      {
       "output_type": "stream",
       "stream": "stdout",
       "text": [
        "\n",
        "g:/filmes/2012/Todos os Super-Her\u00c3\u00b3is Devem Morrer (2012)"
       ]
      },
      {
       "output_type": "stream",
       "stream": "stdout",
       "text": [
        "\n",
        "g:/filmes/2012/Todos Tenemos un Plan (2012) Ana Piterbag"
       ]
      },
      {
       "output_type": "stream",
       "stream": "stdout",
       "text": [
        "\n",
        "g:/filmes/2012/Tragam a Cabe\u00c3\u00a7a da Mulher Metralhadora (2012) Ernesto Diaz - Espanha"
       ]
      },
      {
       "output_type": "stream",
       "stream": "stdout",
       "text": [
        "\n",
        "g:/filmes/2012/Treto Poluvreme (2012) Darko Mitrevski"
       ]
      },
      {
       "output_type": "stream",
       "stream": "stdout",
       "text": [
        "\n",
        "g:/filmes/2012/Tudo por um Sonho (2012)"
       ]
      },
      {
       "output_type": "stream",
       "stream": "stdout",
       "text": [
        "\n",
        "g:/filmes/2012/Tudo que Importa \u00c3\u00a9 o Passado (2012) Sara Johsen"
       ]
      },
      {
       "output_type": "stream",
       "stream": "stdout",
       "text": [
        "\n",
        "g:/filmes/2012/Um Algu\u00c3\u00a9m Apaixonado (2012) Abbas Kiarostami"
       ]
      },
      {
       "output_type": "stream",
       "stream": "stdout",
       "text": [
        "\n",
        "g:/filmes/2012/Um Dia Especial (2012) Francesca Comencini"
       ]
      },
      {
       "output_type": "stream",
       "stream": "stdout",
       "text": [
        "\n",
        "g:/filmes/2012/Um Homem com Sorte (2012) Scott Hicks"
       ]
      },
      {
       "output_type": "stream",
       "stream": "stdout",
       "text": [
        "\n",
        "g:/filmes/2012/Um Homem de Fam\u00c3\u00adlia (2012) Ariel Vromen"
       ]
      },
      {
       "output_type": "stream",
       "stream": "stdout",
       "text": [
        "\n",
        "g:/filmes/2012/Um Jogo de Mestres (2012) Frank Harper"
       ]
      },
      {
       "output_type": "stream",
       "stream": "stdout",
       "text": [
        "\n",
        "g:/filmes/2012/Uma Boa A\u00c3\u00a7\u00c3\u00a3o (2012) Tyler Perry"
       ]
      },
      {
       "output_type": "stream",
       "stream": "stdout",
       "text": [
        "\n",
        "g:/filmes/2012/Uma Boa Dose de Sexo (2012) Stuart Blumberg"
       ]
      },
      {
       "output_type": "stream",
       "stream": "stdout",
       "text": [
        "\n",
        "g:/filmes/2012/Uma Dama em Paris (2012) Ilmar Raag"
       ]
      },
      {
       "output_type": "stream",
       "stream": "stdout",
       "text": [
        "\n",
        "g:/filmes/2012/Uma Primavera com Minha M\u00e3e (2012) St\u00e9phane Briz\u00e9"
       ]
      },
      {
       "output_type": "stream",
       "stream": "stdout",
       "text": [
        "\n",
        "g:/filmes/2012/Vares - Pimeyden Tango (2012) Lauri T\u00c3\u00b6rh\u00c3\u00b6nen - Finl\u00c3\u00a2ndia"
       ]
      },
      {
       "output_type": "stream",
       "stream": "stdout",
       "text": [
        "\n",
        "g:/filmes/2012/Venuto Al Mondo (2012) S\u00c3\u00a9rgio Castellitto"
       ]
      },
      {
       "output_type": "stream",
       "stream": "stdout",
       "text": [
        "\n",
        "g:/filmes/2012/Viagem de Finalistas (2012) Harmony Korine"
       ]
      },
      {
       "output_type": "stream",
       "stream": "stdout",
       "text": [
        "\n",
        "g:/filmes/2012/Voc\u00eas Ainda N\u00e3o Viram Nada! (2012) Alain Resnais"
       ]
      },
      {
       "output_type": "stream",
       "stream": "stdout",
       "text": [
        "\n",
        "g:/filmes/2012/Wasteland (2012) Rowan Athale"
       ]
      },
      {
       "output_type": "stream",
       "stream": "stdout",
       "text": [
        "\n",
        "g:/filmes/2012/Westerland (2012) Tim Staffel - Alemanha"
       ]
      },
      {
       "output_type": "stream",
       "stream": "stdout",
       "text": [
        "\n",
        "g:/filmes/2012/White Frog (2012) Quentin Lee"
       ]
      },
      {
       "output_type": "stream",
       "stream": "stdout",
       "text": [
        "\n",
        "g:/filmes/2012/Wrong (2012) Quentin Duprex"
       ]
      },
      {
       "output_type": "stream",
       "stream": "stdout",
       "text": [
        "\n",
        "g:/filmes/2012/Xingu (2012) Cao Hamburger"
       ]
      },
      {
       "output_type": "stream",
       "stream": "stdout",
       "text": [
        "\n",
        "g:/filmes/2012/Zambezia (2012) Wayne Thornley - Anima\u00c3\u00a7\u00c3\u00a3o"
       ]
      },
      {
       "output_type": "stream",
       "stream": "stdout",
       "text": [
        "\n",
        "g:/filmes/2012/Zarafa (2012) R\u00c3\u00a9mi Bezan\u00c3\u00a7on e Jean-Christophelie - Anima\u00c3\u00a7\u00c3\u00a3o"
       ]
      },
      {
       "output_type": "stream",
       "stream": "stdout",
       "text": [
        "\n",
        "g:/filmes/2013/10 Rules for Sleeping Around (2013) Leslie Greif"
       ]
      },
      {
       "output_type": "stream",
       "stream": "stdout",
       "text": [
        "\n",
        "g:/filmes/2013/12 Anos de Escravid\u00e3o (2013) Steve McQueen"
       ]
      },
      {
       "output_type": "stream",
       "stream": "stdout",
       "text": [
        "\n",
        "g:/filmes/2013/15 Anos e Um Dia (2013) Gracia Querejeta - Espanha"
       ]
      },
      {
       "output_type": "stream",
       "stream": "stdout",
       "text": [
        "\n",
        "g:/filmes/2013/1\u00ba Marius (2013) Daniel Auteuil"
       ]
      },
      {
       "output_type": "stream",
       "stream": "stdout",
       "text": [
        "\n",
        "g:/filmes/2013/20 Anos mais Jovem (2013) David Moreau"
       ]
      },
      {
       "output_type": "stream",
       "stream": "stdout",
       "text": [
        "\n",
        "g:/filmes/2013/2\u00ba Fanny (2013) Daniel Auteuil"
       ]
      },
      {
       "output_type": "stream",
       "stream": "stdout",
       "text": [
        "\n",
        "g:/filmes/2013/30 Nights Of Paranormal Activity With The Devil Inside The Girl With The Dragon Tattoo (2013) Craig Moss"
       ]
      },
      {
       "output_type": "stream",
       "stream": "stdout",
       "text": [
        "\n",
        "g:/filmes/2013/3096 Dias (2013) Sherry Hormann - Alemanha"
       ]
      },
      {
       "output_type": "stream",
       "stream": "stdout",
       "text": [
        "\n",
        "g:/filmes/2013/42 (2013) Brian Helgeland"
       ]
      },
      {
       "output_type": "stream",
       "stream": "stdout",
       "text": [
        "\n",
        "g:/filmes/2013/47 Ronin (2013) Carl Rinsch"
       ]
      },
      {
       "output_type": "stream",
       "stream": "stdout",
       "text": [
        "\n",
        "g:/filmes/2013/A  Hospedeira (2013) Andrew Niccol"
       ]
      },
      {
       "output_type": "stream",
       "stream": "stdout",
       "text": [
        "\n",
        "g:/filmes/2013/A Arte de Amar (2013) Emmanuel Mouret"
       ]
      },
      {
       "output_type": "stream",
       "stream": "stdout",
       "text": [
        "\n",
        "g:/filmes/2013/A Arte do Roubo (2013) Jonathan Sobol"
       ]
      },
      {
       "output_type": "stream",
       "stream": "stdout",
       "text": [
        "\n",
        "g:/filmes/2013/A Ca\u00e7a (2013) Damian Lee"
       ]
      },
      {
       "output_type": "stream",
       "stream": "stdout",
       "text": [
        "\n",
        "g:/filmes/2013/A Col\u00f4nia (2013)  Jeff Renfroe"
       ]
      },
      {
       "output_type": "stream",
       "stream": "stdout",
       "text": [
        "\n",
        "g:/filmes/2013/A Espuma dos Dias (2013) Michel Gondry"
       ]
      },
      {
       "output_type": "stream",
       "stream": "stdout",
       "text": [
        "\n",
        "g:/filmes/2013/A Fam\u00edlia (2013) Luc Besson"
       ]
      },
      {
       "output_type": "stream",
       "stream": "stdout",
       "text": [
        "\n",
        "g:/filmes/2013/A Gaiola Dourada (2013) Ruben Alves"
       ]
      },
      {
       "output_type": "stream",
       "stream": "stdout",
       "text": [
        "\n",
        "g:/filmes/2013/A Garota (2013) Julian Jarrold"
       ]
      },
      {
       "output_type": "stream",
       "stream": "stdout",
       "text": [
        "\n",
        "g:/filmes/2013/A Garota das Nove Perucas (2013) Marc Rothemund"
       ]
      },
      {
       "output_type": "stream",
       "stream": "stdout",
       "text": [
        "\n",
        "g:/filmes/2013/A Grande Beleza (2013) Paolo Sorrentino - It\u00e1lia"
       ]
      },
      {
       "output_type": "stream",
       "stream": "stdout",
       "text": [
        "\n",
        "g:/filmes/2013/A Grande Fam\u00edlia Espanhola (2013) Daniel S\u00e1nchez Ar\u00e9valo - Espanha"
       ]
      },
      {
       "output_type": "stream",
       "stream": "stdout",
       "text": [
        "\n",
        "g:/filmes/2013/A Imagem que Falta (2013) Rathy Pan"
       ]
      },
      {
       "output_type": "stream",
       "stream": "stdout",
       "text": [
        "\n",
        "g:/filmes/2013/A Melhor Oferta (2013) Giuseppe Tornatore"
       ]
      },
      {
       "output_type": "stream",
       "stream": "stdout",
       "text": [
        "\n",
        "g:/filmes/2013/A Menina que Roubava Livros (2013) Brian Percival"
       ]
      },
      {
       "output_type": "stream",
       "stream": "stdout",
       "text": [
        "\n",
        "g:/filmes/2013/A Montanha Matterhorn (2013) Diederik Ebbinge"
       ]
      },
      {
       "output_type": "stream",
       "stream": "stdout",
       "text": [
        "\n",
        "g:/filmes/2013/A Pele de V\u00eanus (2013) Roman Polanski"
       ]
      },
      {
       "output_type": "stream",
       "stream": "stdout",
       "text": [
        "\n",
        "g:/filmes/2013/A Procura do Amor (2013) Nicole Holofcener"
       ]
      },
      {
       "output_type": "stream",
       "stream": "stdout",
       "text": [
        "\n",
        "g:/filmes/2013/A Recompensa (2013) Richard Shepard"
       ]
      },
      {
       "output_type": "stream",
       "stream": "stdout",
       "text": [
        "\n",
        "g:/filmes/2013/A Religiosa (2013) Guillaume Nicloux"
       ]
      },
      {
       "output_type": "stream",
       "stream": "stdout",
       "text": [
        "\n",
        "g:/filmes/2013/A Salva-Vidas (2013) Liz W. Garcia"
       ]
      },
      {
       "output_type": "stream",
       "stream": "stdout",
       "text": [
        "\n",
        "g:/filmes/2013/A Sele\u00e7\u00e3o (2013) Paul Weitz"
       ]
      },
      {
       "output_type": "stream",
       "stream": "stdout",
       "text": [
        "\n",
        "g:/filmes/2013/A Single Shot (2013) David M. Rosenthal"
       ]
      },
      {
       "output_type": "stream",
       "stream": "stdout",
       "text": [
        "\n",
        "g:/filmes/2013/A Thousand Times Good Night (2013) Erik Poppe"
       ]
      },
      {
       "output_type": "stream",
       "stream": "stdout",
       "text": [
        "\n",
        "g:/filmes/2013/A Vida Secreta de Walter Mitty (2013) Ben Stiller"
       ]
      },
      {
       "output_type": "stream",
       "stream": "stdout",
       "text": [
        "\n",
        "g:/filmes/2013/A Voz de Uma Gera\u00e7\u00e3o (2013) Lake Bell"
       ]
      },
      {
       "output_type": "stream",
       "stream": "stdout",
       "text": [
        "\n",
        "g:/filmes/2013/Aben\u00e7oa-me \u00daltima - A Curandeira (2013) Carl Franklin"
       ]
      },
      {
       "output_type": "stream",
       "stream": "stdout",
       "text": [
        "\n",
        "g:/filmes/2013/Ador\u00e1vel Professora (2013) Craig Zisk"
       ]
      },
      {
       "output_type": "stream",
       "stream": "stdout",
       "text": [
        "\n",
        "g:/filmes/2013/Agora Fico Bem (2013) Ol Parker"
       ]
      },
      {
       "output_type": "stream",
       "stream": "stdout",
       "text": [
        "\n",
        "g:/filmes/2013/Ain't Them Bodies Saints (2013)"
       ]
      },
      {
       "output_type": "stream",
       "stream": "stdout",
       "text": [
        "\n",
        "g:/filmes/2013/Ajuste de Contas (2013) Peter Segal"
       ]
      },
      {
       "output_type": "stream",
       "stream": "stdout",
       "text": [
        "\n",
        "g:/filmes/2013/Amor sem Pecado (2013) Anne Fontaine"
       ]
      },
      {
       "output_type": "stream",
       "stream": "stdout",
       "text": [
        "\n",
        "g:/filmes/2013/Angie (2013) M\u00e1rcio Garcia"
       ]
      },
      {
       "output_type": "stream",
       "stream": "stdout",
       "text": [
        "\n",
        "g:/filmes/2013/Anna (2013) Jorge Dorado"
       ]
      },
      {
       "output_type": "stream",
       "stream": "stdout",
       "text": [
        "\n",
        "g:/filmes/2013/Antes da Meia-Noite (2013) Richard Linklater"
       ]
      },
      {
       "output_type": "stream",
       "stream": "stdout",
       "text": [
        "\n",
        "g:/filmes/2013/Antes do Inverno (2013) Philippe Claudel - Fran\u00e7a"
       ]
      },
      {
       "output_type": "stream",
       "stream": "stdout",
       "text": [
        "\n",
        "g:/filmes/2013/Apagar Hist\u00f3rico (2013) Greg Mottola"
       ]
      },
      {
       "output_type": "stream",
       "stream": "stdout",
       "text": [
        "\n",
        "g:/filmes/2013/Apenas um Suspiro (2013) J\u00e9r\u00f4me Bonnell"
       ]
      },
      {
       "output_type": "stream",
       "stream": "stdout",
       "text": [
        "\n",
        "g:/filmes/2013/Aposta M\u00e1xima (2013) Brad Furman"
       ]
      },
      {
       "output_type": "stream",
       "stream": "stdout",
       "text": [
        "\n",
        "g:/filmes/2013/Armistice (2013) Luke Massey"
       ]
      },
      {
       "output_type": "stream",
       "stream": "stdout",
       "text": [
        "\n",
        "g:/filmes/2013/As Bem Armadas (2013) Paul Feig"
       ]
      },
      {
       "output_type": "stream",
       "stream": "stdout",
       "text": [
        "\n",
        "g:/filmes/2013/As Cool As I Am (2013) Max Mayer"
       ]
      },
      {
       "output_type": "stream",
       "stream": "stdout",
       "text": [
        "\n",
        "g:/filmes/2013/As Del\u00edcias da Tarde (2013) Jill Soloway"
       ]
      },
      {
       "output_type": "stream",
       "stream": "stdout",
       "text": [
        "\n",
        "g:/filmes/2013/Assalto \u00e0 Casa Branca (2013) Antoine Fuqua"
       ]
      },
      {
       "output_type": "stream",
       "stream": "stdout",
       "text": [
        "\n",
        "g:/filmes/2013/Attila Marcel (2013) Sylvain Chomet"
       ]
      },
      {
       "output_type": "stream",
       "stream": "stdout",
       "text": [
        "\n",
        "g:/filmes/2013/August Osage County (2013)"
       ]
      },
      {
       "output_type": "stream",
       "stream": "stdout",
       "text": [
        "\n",
        "g:/filmes/2013/Austenland (2013) Jerusha Hess"
       ]
      },
      {
       "output_type": "stream",
       "stream": "stdout",
       "text": [
        "\n",
        "g:/filmes/2013/Bastardos (2013) Claire Denis"
       ]
      },
      {
       "output_type": "stream",
       "stream": "stdout",
       "text": [
        "\n",
        "g:/filmes/2013/Blaze You Out (2013) Mateo Frazier e Diego Joaquin Lopez"
       ]
      },
      {
       "output_type": "stream",
       "stream": "stdout",
       "text": [
        "\n",
        "g:/filmes/2013/Blue Jasmine (2013) Woody Allen"
       ]
      },
      {
       "output_type": "stream",
       "stream": "stdout",
       "text": [
        "\n",
        "g:/filmes/2013/Bons pra Cachorro (2013) Geoff Anderson"
       ]
      },
      {
       "output_type": "stream",
       "stream": "stdout",
       "text": [
        "\n",
        "g:/filmes/2013/Breathe In (2013) Drake Doremus"
       ]
      },
      {
       "output_type": "stream",
       "stream": "stdout",
       "text": [
        "\n",
        "g:/filmes/2013/Camille Claudel, 1915 (2013) Bruno Dumont"
       ]
      },
      {
       "output_type": "stream",
       "stream": "stdout",
       "text": [
        "\n",
        "g:/filmes/2013/Cavemen (2013) Herschel Faber"
       ]
      },
      {
       "output_type": "stream",
       "stream": "stdout",
       "text": [
        "\n",
        "g:/filmes/2013/CBGB (2013) Randall Miller"
       ]
      },
      {
       "output_type": "stream",
       "stream": "stdout",
       "text": [
        "\n",
        "g:/filmes/2013/Chamada de Emerg\u00eancia (2013) Brad Anderson"
       ]
      },
      {
       "output_type": "stream",
       "stream": "stdout",
       "text": [
        "\n",
        "g:/filmes/2013/Chevrolet Azul (2013) Alexandre Moors"
       ]
      },
      {
       "output_type": "stream",
       "stream": "stdout",
       "text": [
        "\n",
        "g:/filmes/2013/Child's Pose (2013) Calin Peter Netzer - Rom\u00eania"
       ]
      },
      {
       "output_type": "stream",
       "stream": "stdout",
       "text": [
        "\n",
        "g:/filmes/2013/Cidade Dividida (2013) Allen Hughes"
       ]
      },
      {
       "output_type": "stream",
       "stream": "stdout",
       "text": [
        "\n",
        "g:/filmes/2013/Circles (2013) Srdan Golubovic"
       ]
      },
      {
       "output_type": "stream",
       "stream": "stdout",
       "text": [
        "\n",
        "g:/filmes/2013/Clube de Compras Dallas (2013) Jean-Marc Vall\u00e9e"
       ]
      },
      {
       "output_type": "stream",
       "stream": "stdout",
       "text": [
        "\n",
        "g:/filmes/2013/Combust\u00e3o (2013) Daniel Calparsoro (Espanha)"
       ]
      },
      {
       "output_type": "stream",
       "stream": "stdout",
       "text": [
        "\n",
        "g:/filmes/2013/Como N\u00e3o Perder essa Mulher (2013) Joseph Gordon-Levitt"
       ]
      },
      {
       "output_type": "stream",
       "stream": "stdout",
       "text": [
        "\n",
        "g:/filmes/2013/Compulsion (2013) Eg\u00eddio Coccimiglio"
       ]
      },
      {
       "output_type": "stream",
       "stream": "stdout",
       "text": [
        "\n",
        "g:/filmes/2013/Com\u00e9dia InAPPr\u00f3priada (2013) Vince Offer"
       ]
      },
      {
       "output_type": "stream",
       "stream": "stdout",
       "text": [
        "\n",
        "g:/filmes/2013/Concussion (2013) Stacie Passon"
       ]
      },
      {
       "output_type": "stream",
       "stream": "stdout",
       "text": [
        "\n",
        "g:/filmes/2013/Contagem Regressiva (2013) Eric Heisserer"
       ]
      },
      {
       "output_type": "stream",
       "stream": "stdout",
       "text": [
        "\n",
        "g:/filmes/2013/Cora\u00e7\u00e3o de Le\u00e3o (2013) Stefano Milla"
       ]
      },
      {
       "output_type": "stream",
       "stream": "stdout",
       "text": [
        "\n",
        "g:/filmes/2013/Cutie and the Boxer (2013) Zachary Heinzerling"
       ]
      },
      {
       "output_type": "stream",
       "stream": "stdout",
       "text": [
        "\n",
        "g:/filmes/2013/C\u00edrculo de Fogo (2013) Guillermo Del Toro"
       ]
      },
      {
       "output_type": "stream",
       "stream": "stdout",
       "text": [
        "\n",
        "g:/filmes/2013/C\u00f3digo da M\u00e1fia (2013) Kader Ayd"
       ]
      },
      {
       "output_type": "stream",
       "stream": "stdout",
       "text": [
        "\n",
        "g:/filmes/2013/C\u00f3digos de Defesa (2013) Kasper Barfoed"
       ]
      },
      {
       "output_type": "stream",
       "stream": "stdout",
       "text": [
        "\n",
        "g:/filmes/2013/Daglicht (2013) Diederik Van Rooijen - Holanda"
       ]
      },
      {
       "output_type": "stream",
       "stream": "stdout",
       "text": [
        "\n",
        "g:/filmes/2013/De Repente Pai (2013) Ken Scott"
       ]
      },
      {
       "output_type": "stream",
       "stream": "stdout",
       "text": [
        "\n",
        "g:/filmes/2013/Depois da Terra (2013) M. Night Shyamalan"
       ]
      },
      {
       "output_type": "stream",
       "stream": "stdout",
       "text": [
        "\n",
        "g:/filmes/2013/Dezesseis Luas (2013) Richard Lagravenese"
       ]
      },
      {
       "output_type": "stream",
       "stream": "stdout",
       "text": [
        "\n",
        "g:/filmes/2013/Diana (2013)"
       ]
      },
      {
       "output_type": "stream",
       "stream": "stdout",
       "text": [
        "\n",
        "g:/filmes/2013/Dose Dupla (2013) Baltasar Korm\u00e1kur"
       ]
      },
      {
       "output_type": "stream",
       "stream": "stdout",
       "text": [
        "\n",
        "g:/filmes/2013/Dragon Lore Curse of the Shadow (2013) John Lyde"
       ]
      },
      {
       "output_type": "stream",
       "stream": "stdout",
       "text": [
        "\n",
        "g:/filmes/2013/Drinking Buddies (2013) Joe Swanberg"
       ]
      },
      {
       "output_type": "stream",
       "stream": "stdout",
       "text": [
        "\n",
        "g:/filmes/2013/Duro de Matar 5 - Um Bom Dia para Morrer (2013) John Moore"
       ]
      },
      {
       "output_type": "stream",
       "stream": "stdout",
       "text": [
        "\n",
        "g:/filmes/2013/Educa\u00e7\u00e3o Siberiana (2013) Gabriele Salvatores"
       ]
      },
      {
       "output_type": "stream",
       "stream": "stdout",
       "text": [
        "\n",
        "g:/filmes/2013/Ego (2013) Lisa James-Larsson - Su\u00e9cia"
       ]
      },
      {
       "output_type": "stream",
       "stream": "stdout",
       "text": [
        "\n",
        "g:/filmes/2013/Ela - Uma Hist\u00f3ria de Amor (2013) Spike Jonze"
       ]
      },
      {
       "output_type": "stream",
       "stream": "stdout",
       "text": [
        "\n",
        "g:/filmes/2013/Elysium (2013) Neill Blomkamp"
       ]
      },
      {
       "output_type": "stream",
       "stream": "stdout",
       "text": [
        "\n",
        "g:/filmes/2013/Em Nome de ... (2013) Malgorzata Szumowska - Pol\u00f4nia"
       ]
      },
      {
       "output_type": "stream",
       "stream": "stdout",
       "text": [
        "\n",
        "g:/filmes/2013/Em Segredo (2013) Charlie Stratton"
       ]
      },
      {
       "output_type": "stream",
       "stream": "stdout",
       "text": [
        "\n",
        "g:/filmes/2013/Em Servi\u00e7o (2013) Erik Matti - Filipinas"
       ]
      },
      {
       "output_type": "stream",
       "stream": "stdout",
       "text": [
        "\n",
        "g:/filmes/2013/Empire State (2013) Dito Montiel"
       ]
      },
      {
       "output_type": "stream",
       "stream": "stdout",
       "text": [
        "\n",
        "g:/filmes/2013/Empire State (2013) Dito Montiez"
       ]
      },
      {
       "output_type": "stream",
       "stream": "stdout",
       "text": [
        "\n",
        "g:/filmes/2013/Encruzilhada (2013) David Marconi"
       ]
      },
      {
       "output_type": "stream",
       "stream": "stdout",
       "text": [
        "\n",
        "g:/filmes/2013/Europa Report (2013) Sebasti\u00e1n Cordero"
       ]
      },
      {
       "output_type": "stream",
       "stream": "stdout",
       "text": [
        "\n",
        "g:/filmes/2013/Expresso do Amanh\u00e3 (2013) Joon-ho Bong - Cor\u00e9ia do Sul"
       ]
      },
      {
       "output_type": "stream",
       "stream": "stdout",
       "text": [
        "\n",
        "g:/filmes/2013/Fam\u00edlia do Bagulho (2013) Rawson Marshall Thurber"
       ]
      },
      {
       "output_type": "stream",
       "stream": "stdout",
       "text": [
        "\n",
        "g:/filmes/2013/Faro (2013) Fredrik Edfeldt"
       ]
      },
      {
       "output_type": "stream",
       "stream": "stdout",
       "text": [
        "\n",
        "g:/filmes/2013/Filha de Ningu\u00e9m (2013) Hon Sang-soo (Cor\u00e9ia do Sul)"
       ]
      },
      {
       "output_type": "stream",
       "stream": "stdout",
       "text": [
        "\n",
        "g:/filmes/2013/Filho de Caim (2013) Jes\u00fas Monlla\u00f3 Plana - Espanha"
       ]
      },
      {
       "output_type": "stream",
       "stream": "stdout",
       "text": [
        "\n",
        "g:/filmes/2013/Filhos do Div\u00f3rcio (2013) Stu Zicherman"
       ]
      },
      {
       "output_type": "stream",
       "stream": "stdout",
       "text": [
        "\n",
        "g:/filmes/2013/Final de Semana em Fam\u00edlia (2013) Benjamin Epps"
       ]
      },
      {
       "output_type": "stream",
       "stream": "stdout",
       "text": [
        "\n",
        "g:/filmes/2013/Fj\u00e4llbackamorden; Strandridaren (2013) Richard Petrelius - Su\u00e9cia"
       ]
      },
      {
       "output_type": "stream",
       "stream": "stdout",
       "text": [
        "\n",
        "g:/filmes/2013/Flores Raras (2013) Bruno Barreto"
       ]
      },
      {
       "output_type": "stream",
       "stream": "stdout",
       "text": [
        "\n",
        "g:/filmes/2013/Forbidden Ground (2013) Johan Earl e Adrian Power"
       ]
      },
      {
       "output_type": "stream",
       "stream": "stdout",
       "text": [
        "\n",
        "g:/filmes/2013/Free Ride (2013) Shana Betz"
       ]
      },
      {
       "output_type": "stream",
       "stream": "stdout",
       "text": [
        "\n",
        "g:/filmes/2013/Fruitvale Station - A \u00daltima Parada (2013) Ryan Coogler"
       ]
      },
      {
       "output_type": "stream",
       "stream": "stdout",
       "text": [
        "\n",
        "g:/filmes/2013/Fuga (2013) Roar Uthaug - Noruega"
       ]
      },
      {
       "output_type": "stream",
       "stream": "stdout",
       "text": [
        "\n",
        "g:/filmes/2013/Fuga do Planeta Terra (2013) Carl Brunker - Anima\u00e7\u00e3o"
       ]
      },
      {
       "output_type": "stream",
       "stream": "stdout",
       "text": [
        "\n",
        "g:/filmes/2013/G.I. Joe Retaliation (2013)"
       ]
      },
      {
       "output_type": "stream",
       "stream": "stdout",
       "text": [
        "\n",
        "g:/filmes/2013/Gabrielle (2013) Louise Archambault"
       ]
      },
      {
       "output_type": "stream",
       "stream": "stdout",
       "text": [
        "\n",
        "g:/filmes/2013/Gaten Ragnarok (2013) Mikkel Braenne - Noruega"
       ]
      },
      {
       "output_type": "stream",
       "stream": "stdout",
       "text": [
        "\n",
        "g:/filmes/2013/Gente Grande 2 (2013) Dennis Dugan"
       ]
      },
      {
       "output_type": "stream",
       "stream": "stdout",
       "text": [
        "\n",
        "g:/filmes/2013/Gingerdead Man Vs. Evil Bong (2013) Charles Band"
       ]
      },
      {
       "output_type": "stream",
       "stream": "stdout",
       "text": [
        "\n",
        "g:/filmes/2013/Gloria (2013) Sebasti\u00e1n Lelio"
       ]
      },
      {
       "output_type": "stream",
       "stream": "stdout",
       "text": [
        "\n",
        "g:/filmes/2013/Grand Central (2013) Rebecca Zlotowski"
       ]
      },
      {
       "output_type": "stream",
       "stream": "stdout",
       "text": [
        "\n",
        "g:/filmes/2013/Gravidade (2013) Alfonso Cuar\u00f3n"
       ]
      },
      {
       "output_type": "stream",
       "stream": "stdout",
       "text": [
        "\n",
        "g:/filmes/2013/Guardi\u00f5es do C\u00e9u (2013) Christopher-Lee dos Santos - \u00c1frica do Sul"
       ]
      },
      {
       "output_type": "stream",
       "stream": "stdout",
       "text": [
        "\n",
        "g:/filmes/2013/Guerra Mundial Z (2013) Marc Forster"
       ]
      },
      {
       "output_type": "stream",
       "stream": "stdout",
       "text": [
        "\n",
        "g:/filmes/2013/Hawaii (2013) Marco Berger - Argentina"
       ]
      },
      {
       "output_type": "stream",
       "stream": "stdout",
       "text": [
        "\n",
        "g:/filmes/2013/Homem de Ferro 3 (2013) Shane Black"
       ]
      },
      {
       "output_type": "stream",
       "stream": "stdout",
       "text": [
        "\n",
        "g:/filmes/2013/How I Live Now (2013) Kevin MacDonald"
       ]
      },
      {
       "output_type": "stream",
       "stream": "stdout",
       "text": [
        "\n",
        "g:/filmes/2013/Ilo Ilo (2013) Anthony Chen"
       ]
      },
      {
       "output_type": "stream",
       "stream": "stdout",
       "text": [
        "\n",
        "g:/filmes/2013/Inatividade Paranormal (2013) Michael Tiddes"
       ]
      },
      {
       "output_type": "stream",
       "stream": "stdout",
       "text": [
        "\n",
        "g:/filmes/2013/Infiltrado (2013) Ric RomanWaugh"
       ]
      },
      {
       "output_type": "stream",
       "stream": "stdout",
       "text": [
        "\n",
        "g:/filmes/2013/Inimigos de Sangue (2013) Eran Creevy"
       ]
      },
      {
       "output_type": "stream",
       "stream": "stdout",
       "text": [
        "\n",
        "g:/filmes/2013/Inside Llewyn Davis - Balada de um Homem Comum (2013) Ethan e Joel Cohen"
       ]
      },
      {
       "output_type": "stream",
       "stream": "stdout",
       "text": [
        "\n",
        "g:/filmes/2013/Jack O Ca\u00e7ador de Gigantes (2013) BryanSinger"
       ]
      },
      {
       "output_type": "stream",
       "stream": "stdout",
       "text": [
        "\n",
        "g:/filmes/2013/Jag Etter Vind (2013) Rune Denstad Lanelo - Noruega"
       ]
      },
      {
       "output_type": "stream",
       "stream": "stdout",
       "text": [
        "\n",
        "g:/filmes/2013/JFK A Hist\u00f3ria N\u00e3o Contada (2013) Peter Landesman"
       ]
      },
      {
       "output_type": "stream",
       "stream": "stdout",
       "text": [
        "\n",
        "g:/filmes/2013/Jimmy P. (2013) Arnaud Desplechin"
       ]
      },
      {
       "output_type": "stream",
       "stream": "stdout",
       "text": [
        "\n",
        "g:/filmes/2013/Jobs (2013) Joshua Michael Stern"
       ]
      },
      {
       "output_type": "stream",
       "stream": "stdout",
       "text": [
        "\n",
        "g:/filmes/2013/Jovem e Bela (2013) Fran\u00e7ois Ozon"
       ]
      },
      {
       "output_type": "stream",
       "stream": "stdout",
       "text": [
        "\n",
        "g:/filmes/2013/Jo\u00e3o e Maria - Ca\u00e7adores de Bruxas (2013) Tommy Wirkola"
       ]
      },
      {
       "output_type": "stream",
       "stream": "stdout",
       "text": [
        "\n",
        "g:/filmes/2013/Kick-Ass 2 Balls To The Wall (2013) Jeff Wadlow"
       ]
      },
      {
       "output_type": "stream",
       "stream": "stdout",
       "text": [
        "\n",
        "g:/filmes/2013/Knights of Badassdom (2013) Joe Lynch"
       ]
      },
      {
       "output_type": "stream",
       "stream": "stdout",
       "text": [
        "\n",
        "g:/filmes/2013/Kyss Meg For Faen I Helvete (2013) Stian Kristiansen - Noruega"
       ]
      },
      {
       "output_type": "stream",
       "stream": "stdout",
       "text": [
        "\n",
        "g:/filmes/2013/La Jaula de Oro (2013) Diego Quemada-Diez"
       ]
      },
      {
       "output_type": "stream",
       "stream": "stdout",
       "text": [
        "\n",
        "g:/filmes/2013/La\u00e7os de Sangue (2013) Guillaume Canet"
       ]
      },
      {
       "output_type": "stream",
       "stream": "stdout",
       "text": [
        "\n",
        "g:/filmes/2013/Life of a King (2013) Jake Goldberger"
       ]
      },
      {
       "output_type": "stream",
       "stream": "stdout",
       "text": [
        "\n",
        "g:/filmes/2013/Linha de Frente (2013) Gary Fleder"
       ]
      },
      {
       "output_type": "stream",
       "stream": "stdout",
       "text": [
        "\n",
        "g:/filmes/2013/Lootera (2013) Vikramaditya Motwane - \u00cdndia"
       ]
      },
      {
       "output_type": "stream",
       "stream": "stdout",
       "text": [
        "\n",
        "g:/filmes/2013/Lovelace (2013) Rob Epstein e Jeffrey Fridman"
       ]
      },
      {
       "output_type": "stream",
       "stream": "stdout",
       "text": [
        "\n",
        "g:/filmes/2013/Machete Mata (2013) Robert Rodriguez"
       ]
      },
      {
       "output_type": "stream",
       "stream": "stdout",
       "text": [
        "\n",
        "g:/filmes/2013/Man of Tai Chi (2013) Keanu Reeves"
       ]
      },
      {
       "output_type": "stream",
       "stream": "stdout",
       "text": [
        "\n",
        "g:/filmes/2013/Mandela - Longo Caminho para a Liberdade (2013) Justin Chadwick"
       ]
      },
      {
       "output_type": "stream",
       "stream": "stdout",
       "text": [
        "\n",
        "g:/filmes/2013/Martelo de Deus (2013) Farren Blackburn"
       ]
      },
      {
       "output_type": "stream",
       "stream": "stdout",
       "text": [
        "\n",
        "g:/filmes/2013/Mergulhando Fundo (2013) Bet Nott e Morgan O'Neill - Austr\u00e1lia"
       ]
      },
      {
       "output_type": "stream",
       "stream": "stdout",
       "text": [
        "\n",
        "g:/filmes/2013/Mergulho Profundo (2013) Erik Skjoldbjaerg - Noruega"
       ]
      },
      {
       "output_type": "stream",
       "stream": "stdout",
       "text": [
        "\n",
        "g:/filmes/2013/Metro Manila (2013) Sean Ellis"
       ]
      },
      {
       "output_type": "stream",
       "stream": "stdout",
       "text": [
        "\n",
        "g:/filmes/2013/Meu Malvado Favorito 2 (2013) Pierre Coffin e Chris Renaud - Anima\u00e7\u00e3o"
       ]
      },
      {
       "output_type": "stream",
       "stream": "stdout",
       "text": [
        "\n",
        "g:/filmes/2013/Meu Namorado \u00c9 um Zumbi (2013) Jonathan Levine"
       ]
      },
      {
       "output_type": "stream",
       "stream": "stdout",
       "text": [
        "\n",
        "g:/filmes/2013/Minha Desconhecida Fama (2013) Michael Urie"
       ]
      },
      {
       "output_type": "stream",
       "stream": "stdout",
       "text": [
        "\n",
        "g:/filmes/2013/Moebius (2013) Kim Ki-duk"
       ]
      },
      {
       "output_type": "stream",
       "stream": "stdout",
       "text": [
        "\n",
        "g:/filmes/2013/Muhammad Ali's Greatest Fight (2013) Stephen Frears"
       ]
      },
      {
       "output_type": "stream",
       "stream": "stdout",
       "text": [
        "\n",
        "g:/filmes/2013/M\u00f6bius - La\u00e7o Mortal (2013) Eric Rochant"
       ]
      },
      {
       "output_type": "stream",
       "stream": "stdout",
       "text": [
        "\n",
        "g:/filmes/2013/Ninfoman\u00edaca (2013) Volume I (2013) Lars Von Trier"
       ]
      },
      {
       "output_type": "stream",
       "stream": "stdout",
       "text": [
        "\n",
        "g:/filmes/2013/Ninfoman\u00edaca (2013) Volume II (2013) Lars Von Trier"
       ]
      },
      {
       "output_type": "stream",
       "stream": "stdout",
       "text": [
        "\n",
        "g:/filmes/2013/Noivos por Acaso (2013) John Burges"
       ]
      },
      {
       "output_type": "stream",
       "stream": "stdout",
       "text": [
        "\n",
        "g:/filmes/2013/Nordvest (2013) Michael Noer - Dinamarca"
       ]
      },
      {
       "output_type": "stream",
       "stream": "stdout",
       "text": [
        "\n",
        "g:/filmes/2013/N\u00f3s Somos os Melhores (2013) Lucas Moodysson"
       ]
      },
      {
       "output_type": "stream",
       "stream": "stdout",
       "text": [
        "\n",
        "g:/filmes/2013/O Assassino do Alasca (2013) Scott Walker"
       ]
      },
      {
       "output_type": "stream",
       "stream": "stdout",
       "text": [
        "\n",
        "g:/filmes/2013/O Ataque (2013) Roland Emmerich"
       ]
      },
      {
       "output_type": "stream",
       "stream": "stdout",
       "text": [
        "\n",
        "g:/filmes/2013/O Conselheiro do Crime (2013) Ridley Scott"
       ]
      },
      {
       "output_type": "stream",
       "stream": "stdout",
       "text": [
        "\n",
        "g:/filmes/2013/O Di\u00e1rio de Uma Virgem (2013) Maggie Carey"
       ]
      },
      {
       "output_type": "stream",
       "stream": "stdout",
       "text": [
        "\n",
        "g:/filmes/2013/O Enigma Chin\u00eas (2013) C\u00e9dric Klapisch"
       ]
      },
      {
       "output_type": "stream",
       "stream": "stdout",
       "text": [
        "\n",
        "g:/filmes/2013/O Fim do Mundo (2013) Edgar Wright"
       ]
      },
      {
       "output_type": "stream",
       "stream": "stdout",
       "text": [
        "\n",
        "g:/filmes/2013/O Futuro (2013) Alicia Scherson"
       ]
      },
      {
       "output_type": "stream",
       "stream": "stdout",
       "text": [
        "\n",
        "g:/filmes/2013/O Grande Gatsby (2013) Baz Luhrmann"
       ]
      },
      {
       "output_type": "stream",
       "stream": "stdout",
       "text": [
        "\n",
        "g:/filmes/2013/O Grande Her\u00f3i (2013) Peter Berg"
       ]
      },
      {
       "output_type": "stream",
       "stream": "stdout",
       "text": [
        "\n",
        "g:/filmes/2013/O Herdeiro do Diabo (2013) Bernard Rose"
       ]
      },
      {
       "output_type": "stream",
       "stream": "stdout",
       "text": [
        "\n",
        "g:/filmes/2013/O Hobbit - A Desola\u00e7\u00e3o de Smaug (2013) Peter Jackson"
       ]
      },
      {
       "output_type": "stream",
       "stream": "stdout",
       "text": [
        "\n",
        "g:/filmes/2013/O Homem de A\u00e7o (2013) Zack Snyder"
       ]
      },
      {
       "output_type": "stream",
       "stream": "stdout",
       "text": [
        "\n",
        "g:/filmes/2013/O Homem Duplicado (2013) Denis Villeneuve"
       ]
      },
      {
       "output_type": "stream",
       "stream": "stdout",
       "text": [
        "\n",
        "g:/filmes/2013/O Jogo Final (2013) Gavin Hood"
       ]
      },
      {
       "output_type": "stream",
       "stream": "stdout",
       "text": [
        "\n",
        "g:/filmes/2013/O Jogo Mortal (2013) George Isaac"
       ]
      },
      {
       "output_type": "stream",
       "stream": "stdout",
       "text": [
        "\n",
        "g:/filmes/2013/O Lobo de Wall Street (2013) Martin Scorsese"
       ]
      },
      {
       "output_type": "stream",
       "stream": "stdout",
       "text": [
        "\n",
        "g:/filmes/2013/O Mordomo da Casa Branca (2013) Lee Daniels"
       ]
      },
      {
       "output_type": "stream",
       "stream": "stdout",
       "text": [
        "\n",
        "g:/filmes/2013/O M\u00e9dico (2013) Philipp St\u00f6lzs - Alemanha"
       ]
      },
      {
       "output_type": "stream",
       "stream": "stdout",
       "text": [
        "\n",
        "g:/filmes/2013/O M\u00e9dico Alem\u00e3o (2013) Lucia Puenzo - Argentina"
       ]
      },
      {
       "output_type": "stream",
       "stream": "stdout",
       "text": [
        "\n",
        "g:/filmes/2013/O Nosso Segredo (2013) Ralph Fiennes"
       ]
      },
      {
       "output_type": "stream",
       "stream": "stdout",
       "text": [
        "\n",
        "g:/filmes/2013/O Passado (2013) Asghar Farhadi"
       ]
      },
      {
       "output_type": "stream",
       "stream": "stdout",
       "text": [
        "\n",
        "g:/filmes/2013/O Quinto Poder (2013) Bill Condon"
       ]
      },
      {
       "output_type": "stream",
       "stream": "stdout",
       "text": [
        "\n",
        "g:/filmes/2013/O Sistema (2013) Zal Batmanglij"
       ]
      },
      {
       "output_type": "stream",
       "stream": "stdout",
       "text": [
        "\n",
        "g:/filmes/2013/O \u00daltimo Amor de Mr. Morgan (2013) Sandra Nettelbech"
       ]
      },
      {
       "output_type": "stream",
       "stream": "stdout",
       "text": [
        "\n",
        "g:/filmes/2013/O \u00daltimo Desafio (2013) Jee-woon Kim"
       ]
      },
      {
       "output_type": "stream",
       "stream": "stdout",
       "text": [
        "\n",
        "g:/filmes/2013/Oblivion (2013) Joseph Kosinski"
       ]
      },
      {
       "output_type": "stream",
       "stream": "stdout",
       "text": [
        "\n",
        "g:/filmes/2013/Obsess\u00e3o Perigosa (2013) Josh C. Waller"
       ]
      },
      {
       "output_type": "stream",
       "stream": "stdout",
       "text": [
        "\n",
        "g:/filmes/2013/Odd Thomas (2013) Stephen Sommer"
       ]
      },
      {
       "output_type": "stream",
       "stream": "stdout",
       "text": [
        "\n",
        "g:/filmes/2013/Olhos Frios (2013) Ui-seok Jo e Byung-seo Kim - Cor\u00e9ia do Sul"
       ]
      },
      {
       "output_type": "stream",
       "stream": "stdout",
       "text": [
        "\n",
        "g:/filmes/2013/Open Grave (2013) Gonzalo L\u00f3pez-Gallego"
       ]
      },
      {
       "output_type": "stream",
       "stream": "stdout",
       "text": [
        "\n",
        "g:/filmes/2013/Os Amantes Passageiros (2013) Pedro Almod\u00f3var"
       ]
      },
      {
       "output_type": "stream",
       "stream": "stdout",
       "text": [
        "\n",
        "g:/filmes/2013/Os Estagi\u00e1rios (2013) Shawn Levy"
       ]
      },
      {
       "output_type": "stream",
       "stream": "stdout",
       "text": [
        "\n",
        "g:/filmes/2013/Os Feiticeiros Retornam Alex vs. Alex (2013) Victor Gonzalez"
       ]
      },
      {
       "output_type": "stream",
       "stream": "stdout",
       "text": [
        "\n",
        "g:/filmes/2013/Os Filhos do Padre (2013) Vinko Bresan - Cro\u00e1cia"
       ]
      },
      {
       "output_type": "stream",
       "stream": "stdout",
       "text": [
        "\n",
        "g:/filmes/2013/Os Instrumentos Mortais - Cidade dos Ossos (2013) Harald Zwart"
       ]
      },
      {
       "output_type": "stream",
       "stream": "stdout",
       "text": [
        "\n",
        "g:/filmes/2013/Os Lobos Maus (2013) Aharon Kesmales e Navot Papushado"
       ]
      },
      {
       "output_type": "stream",
       "stream": "stdout",
       "text": [
        "\n",
        "g:/filmes/2013/Os Suspeitos (2013) Denis Villeneuve"
       ]
      },
      {
       "output_type": "stream",
       "stream": "stdout",
       "text": [
        "\n",
        "g:/filmes/2013/Oszukane (2013) Marcin Solarz - Pol\u00f4nia"
       ]
      },
      {
       "output_type": "stream",
       "stream": "stdout",
       "text": [
        "\n",
        "g:/filmes/2013/Oz  O Grande e Poderoso (2013) Sam Raimi"
       ]
      },
      {
       "output_type": "stream",
       "stream": "stdout",
       "text": [
        "\n",
        "g:/filmes/2013/Para Maiores (2013) V\u00e1rios Diretores"
       ]
      },
      {
       "output_type": "stream",
       "stream": "stdout",
       "text": [
        "\n",
        "g:/filmes/2013/Parker (2013) Taylor Hackford"
       ]
      },
      {
       "output_type": "stream",
       "stream": "stdout",
       "text": [
        "\n",
        "g:/filmes/2013/Percy Jackson e o Mar de Monstros (2013) Thor Freudenthal"
       ]
      },
      {
       "output_type": "stream",
       "stream": "stdout",
       "text": [
        "\n",
        "g:/filmes/2013/Perigos da Mente (2013) Adam Neutzky-Wulff"
       ]
      },
      {
       "output_type": "stream",
       "stream": "stdout",
       "text": [
        "\n",
        "g:/filmes/2013/Pe\u00c3\u00a3o (2013) David A. Armstrong"
       ]
      },
      {
       "output_type": "stream",
       "stream": "stdout",
       "text": [
        "\n",
        "g:/filmes/2013/Phil Spector (2013) David Mamet"
       ]
      },
      {
       "output_type": "stream",
       "stream": "stdout",
       "text": [
        "\n",
        "g:/filmes/2013/Philomena (2013) Stephen Frears"
       ]
      },
      {
       "output_type": "stream",
       "stream": "stdout",
       "text": [
        "\n",
        "g:/filmes/2013/Plush (2013) Catherine Hardwicke"
       ]
      },
      {
       "output_type": "stream",
       "stream": "stdout",
       "text": [
        "\n",
        "g:/filmes/2013/Quando eu era Sombrio (2013) Matthew Porterfield"
       ]
      },
      {
       "output_type": "stream",
       "stream": "stdout",
       "text": [
        "\n",
        "g:/filmes/2013/Queda Livre (2013) Stephan Lacant"
       ]
      },
      {
       "output_type": "stream",
       "stream": "stdout",
       "text": [
        "\n",
        "g:/filmes/2013/Quest\u00e3o de Tempo (2013) Richard Curtis"
       ]
      },
      {
       "output_type": "stream",
       "stream": "stdout",
       "text": [
        "\n",
        "g:/filmes/2013/R. I. P. D. - Agentes do Outro Mundo (2013) Robert Schwentke"
       ]
      },
      {
       "output_type": "stream",
       "stream": "stdout",
       "text": [
        "\n",
        "g:/filmes/2013/Red 2 - Aposentados e Ainda Mais Perigosos (2013) Dean Parisot"
       ]
      },
      {
       "output_type": "stream",
       "stream": "stdout",
       "text": [
        "\n",
        "g:/filmes/2013/Reden\u00c3\u00a7\u00c3\u00a3o (2013) Steven Knight"
       ]
      },
      {
       "output_type": "stream",
       "stream": "stdout",
       "text": [
        "\n",
        "g:/filmes/2013/Ref\u00e9m da Paix\u00e3o (2013) Jason Reitman"
       ]
      },
      {
       "output_type": "stream",
       "stream": "stdout",
       "text": [
        "\n",
        "g:/filmes/2013/Resgate em Alta Velocidade (2013) Courtney Solomon"
       ]
      },
      {
       "output_type": "stream",
       "stream": "stdout",
       "text": [
        "\n",
        "g:/filmes/2013/Riaru (2013) Kiyoshi Kurosawa - Jap\u00e3o"
       ]
      },
      {
       "output_type": "stream",
       "stream": "stdout",
       "text": [
        "\n",
        "g:/filmes/2013/Riddick 3 (2013) David Twohy"
       ]
      },
      {
       "output_type": "stream",
       "stream": "stdout",
       "text": [
        "\n",
        "g:/filmes/2013/Robosapien O Meu Melhor Amigo (2013) Sean McNamara"
       ]
      },
      {
       "output_type": "stream",
       "stream": "stdout",
       "text": [
        "\n",
        "g:/filmes/2013/Rock de Casbah (2013) Laila Marrakchi"
       ]
      },
      {
       "output_type": "stream",
       "stream": "stdout",
       "text": [
        "\n",
        "g:/filmes/2013/Run (2013) Simone Bartesaghi"
       ]
      },
      {
       "output_type": "stream",
       "stream": "stdout",
       "text": [
        "\n",
        "g:/filmes/2013/Run and Jump (2013) Steph Green"
       ]
      },
      {
       "output_type": "stream",
       "stream": "stdout",
       "text": [
        "\n",
        "g:/filmes/2013/Rush - No Limite da Emo\u00e7\u00e3o (2013) Ron Howard"
       ]
      },
      {
       "output_type": "stream",
       "stream": "stdout",
       "text": [
        "\n",
        "g:/filmes/2013/Samurai X (2013) Keishi Ohtomo"
       ]
      },
      {
       "output_type": "stream",
       "stream": "stdout",
       "text": [
        "\n",
        "g:/filmes/2013/Se Beber, N\u00c3\u00a3o Case Parte 3 (2013) Todd Phillips"
       ]
      },
      {
       "output_type": "stream",
       "stream": "stdout",
       "text": [
        "\n",
        "g:/filmes/2013/Segredos de Sangue (2013) Chan-wook Park"
       ]
      },
      {
       "output_type": "stream",
       "stream": "stdout",
       "text": [
        "\n",
        "g:/filmes/2013/Sem Dor, Sem Ganho (2013) Michael Bay"
       ]
      },
      {
       "output_type": "stream",
       "stream": "stdout",
       "text": [
        "\n",
        "g:/filmes/2013/Sexy Evil Genius (2013) Shawn Piller"
       ]
      },
      {
       "output_type": "stream",
       "stream": "stdout",
       "text": [
        "\n",
        "g:/filmes/2013/Shield of Straw (2013) Takashi Miike - Jap\u00e3o"
       ]
      },
      {
       "output_type": "stream",
       "stream": "stdout",
       "text": [
        "\n",
        "g:/filmes/2013/Short Term 12 (2013) Destin Cretton"
       ]
      },
      {
       "output_type": "stream",
       "stream": "stdout",
       "text": [
        "\n",
        "g:/filmes/2013/Simon Assassino (2013) Antonio Campos"
       ]
      },
      {
       "output_type": "stream",
       "stream": "stdout",
       "text": [
        "\n",
        "g:/filmes/2013/Some Girls (2013) Daisy von Scherler Mayer"
       ]
      },
      {
       "output_type": "stream",
       "stream": "stdout",
       "text": [
        "\n",
        "g:/filmes/2013/Stand Off (2013)"
       ]
      },
      {
       "output_type": "stream",
       "stream": "stdout",
       "text": [
        "\n",
        "g:/filmes/2013/Star Trek - Al\u00c3\u00a9m da Escurid\u00c3\u00a3o (2013) J. J. Abrams"
       ]
      },
      {
       "output_type": "stream",
       "stream": "stdout",
       "text": [
        "\n",
        "g:/filmes/2013/Summer in February (2013) Christopher Menaul"
       ]
      },
      {
       "output_type": "stream",
       "stream": "stdout",
       "text": [
        "\n",
        "g:/filmes/2013/Sunlight Jr. (2013) Laurie Collyer"
       ]
      },
      {
       "output_type": "stream",
       "stream": "stdout",
       "text": [
        "\n",
        "g:/filmes/2013/Sunshine on Leith (2013) Dexter Fletcher"
       ]
      },
      {
       "output_type": "stream",
       "stream": "stdout",
       "text": [
        "\n",
        "g:/filmes/2013/S\u00c3\u00b3 Deus Perdoa (2013) Nicolas Winding Refn"
       ]
      },
      {
       "output_type": "stream",
       "stream": "stdout",
       "text": [
        "\n",
        "g:/filmes/2013/S\u00e9ptimo (2013) Paxti Amezcua - Argentina"
       ]
      },
      {
       "output_type": "stream",
       "stream": "stdout",
       "text": [
        "\n",
        "g:/filmes/2013/Teia de Mentiras (2013) Karen Moncrieff"
       ]
      },
      {
       "output_type": "stream",
       "stream": "stdout",
       "text": [
        "\n",
        "g:/filmes/2013/Temporada de Ca\u00c3\u00a7a (2013) Mark Steven"
       ]
      },
      {
       "output_type": "stream",
       "stream": "stdout",
       "text": [
        "\n",
        "g:/filmes/2013/Tempor\u00e1rio 12 (2013) Destin Cretton"
       ]
      },
      {
       "output_type": "stream",
       "stream": "stdout",
       "text": [
        "\n",
        "g:/filmes/2013/Terapia de Risco (2013) Steven Soderbergh"
       ]
      },
      {
       "output_type": "stream",
       "stream": "stdout",
       "text": [
        "\n",
        "g:/filmes/2013/Tese Sobre um Homic\u00c3\u00addio (2013) Hernan Goldfrid ( Argentina)"
       ]
      },
      {
       "output_type": "stream",
       "stream": "stdout",
       "text": [
        "\n",
        "g:/filmes/2013/The Bling Ring - A Gangue de Hollywood (2013) Sofia Coppola"
       ]
      },
      {
       "output_type": "stream",
       "stream": "stdout",
       "text": [
        "\n",
        "g:/filmes/2013/The Broken Shore (2013) Rowan Woods"
       ]
      },
      {
       "output_type": "stream",
       "stream": "stdout",
       "text": [
        "\n",
        "g:/filmes/2013/The Canyons (2013) Paul Schrader"
       ]
      },
      {
       "output_type": "stream",
       "stream": "stdout",
       "text": [
        "\n",
        "g:/filmes/2013/The Croods (2013) Kirk de Micco  e Chris Sanders - Anima\u00c3\u00a7\u00c3\u00a3o"
       ]
      },
      {
       "output_type": "stream",
       "stream": "stdout",
       "text": [
        "\n",
        "g:/filmes/2013/The Devil You Know (2013) James Oakley"
       ]
      },
      {
       "output_type": "stream",
       "stream": "stdout",
       "text": [
        "\n",
        "g:/filmes/2013/The Incredible Burt Wonderstone (2013) Don Scardino"
       ]
      },
      {
       "output_type": "stream",
       "stream": "stdout",
       "text": [
        "\n",
        "g:/filmes/2013/The Lunchbox (2013) Ritesh Batra"
       ]
      },
      {
       "output_type": "stream",
       "stream": "stdout",
       "text": [
        "\n",
        "g:/filmes/2013/The Necessary Death Of Charlie Countryman (2013) Frederick Bond"
       ]
      },
      {
       "output_type": "stream",
       "stream": "stdout",
       "text": [
        "\n",
        "g:/filmes/2013/The Place Beyond the Pines (2013) Derek Cianfrance"
       ]
      },
      {
       "output_type": "stream",
       "stream": "stdout",
       "text": [
        "\n",
        "g:/filmes/2013/The Rambler (2013) Calvin Reeder"
       ]
      },
      {
       "output_type": "stream",
       "stream": "stdout",
       "text": [
        "\n",
        "g:/filmes/2013/The Right Kind of Wrong (2013) Jeremia S. Chechik - Canad\u00e1"
       ]
      },
      {
       "output_type": "stream",
       "stream": "stdout",
       "text": [
        "\n",
        "g:/filmes/2013/The Selfish Giant (2013) Clio Barnard"
       ]
      },
      {
       "output_type": "stream",
       "stream": "stdout",
       "text": [
        "\n",
        "g:/filmes/2013/The Spectacular Now (2013) James Ponsoldt"
       ]
      },
      {
       "output_type": "stream",
       "stream": "stdout",
       "text": [
        "\n",
        "g:/filmes/2013/The Thirteenth Tale (2013) James Kent"
       ]
      },
      {
       "output_type": "stream",
       "stream": "stdout",
       "text": [
        "\n",
        "g:/filmes/2013/The Wolverine - Imortal (2013) James Man[1080p]"
       ]
      },
      {
       "output_type": "stream",
       "stream": "stdout",
       "text": [
        "\n",
        "g:/filmes/2013/Thor - O Mundo Sombrio (2013) Alan Taylor"
       ]
      },
      {
       "output_type": "stream",
       "stream": "stdout",
       "text": [
        "\n",
        "g:/filmes/2013/Todo Mundo em P\u00c3\u00a2nico 5 (2013) Malcolm D. Lee, David Zucker"
       ]
      },
      {
       "output_type": "stream",
       "stream": "stdout",
       "text": [
        "\n",
        "g:/filmes/2013/Tom na Fazenda (2013) Xavier Dolan"
       ]
      },
      {
       "output_type": "stream",
       "stream": "stdout",
       "text": [
        "\n",
        "g:/filmes/2013/Toque de Mestre (2013) Eugenio Mira"
       ]
      },
      {
       "output_type": "stream",
       "stream": "stdout",
       "text": [
        "\n",
        "g:/filmes/2013/Touchy Feely (2013) Lynn Shelton"
       ]
      },
      {
       "output_type": "stream",
       "stream": "stdout",
       "text": [
        "\n",
        "g:/filmes/2013/Transe (2013) Danny Boyle"
       ]
      },
      {
       "output_type": "stream",
       "stream": "stdout",
       "text": [
        "\n",
        "g:/filmes/2013/Trap for Cinderella (2013) Lain Softley"
       ]
      },
      {
       "output_type": "stream",
       "stream": "stdout",
       "text": [
        "\n",
        "g:/filmes/2013/Trapa\u00e7a (2013) David O. Russell"
       ]
      },
      {
       "output_type": "stream",
       "stream": "stdout",
       "text": [
        "\n",
        "g:/filmes/2013/Trem Noturno para Lisboa (2013) Bille August"
       ]
      },
      {
       "output_type": "stream",
       "stream": "stdout",
       "text": [
        "\n",
        "g:/filmes/2013/Truque de Mestre (2013) Louis Leterrier"
       ]
      },
      {
       "output_type": "stream",
       "stream": "stdout",
       "text": [
        "\n",
        "g:/filmes/2013/Tr\u00c3\u00a1fico de Inocentes (2012) Christopher Bessette"
       ]
      },
      {
       "output_type": "stream",
       "stream": "stdout",
       "text": [
        "\n",
        "g:/filmes/2013/Tudo por Justi\u00e7a (2013) Scott Cooper"
       ]
      },
      {
       "output_type": "stream",
       "stream": "stdout",
       "text": [
        "\n",
        "g:/filmes/2013/Turbo (2013) David Soren - Anima\u00c3\u00a7\u00c3\u00a3o"
       ]
      },
      {
       "output_type": "stream",
       "stream": "stdout",
       "text": [
        "\n",
        "g:/filmes/2013/Tyskungen (2013) Per Hanefjord - Su\u00c3\u00a9cia"
       ]
      },
      {
       "output_type": "stream",
       "stream": "stdout",
       "text": [
        "\n",
        "g:/filmes/2013/Um Castelo na It\u00e1lia (2013) Valeri Bruni Tedeschi"
       ]
      },
      {
       "output_type": "stream",
       "stream": "stdout",
       "text": [
        "\n",
        "g:/filmes/2013/Um Epis\u00f3dio na Vida de um Catador de Ferro-Velho (2013) Danis Tanoci - B\u00f3snia"
       ]
      },
      {
       "output_type": "stream",
       "stream": "stdout",
       "text": [
        "\n",
        "g:/filmes/2013/Um Estranho no Lago (2013) Alain Guiraudie"
       ]
      },
      {
       "output_type": "stream",
       "stream": "stdout",
       "text": [
        "\n",
        "g:/filmes/2013/Um Homem a Abater (2013) Niels Arden Oplev"
       ]
      },
      {
       "output_type": "stream",
       "stream": "stdout",
       "text": [
        "\n",
        "g:/filmes/2013/Um Homem Comum (2013) Chandra Rutnam"
       ]
      },
      {
       "output_type": "stream",
       "stream": "stdout",
       "text": [
        "\n",
        "g:/filmes/2013/Um Homem Contra Wall Street (2013) Uwel Boll"
       ]
      },
      {
       "output_type": "stream",
       "stream": "stdout",
       "text": [
        "\n",
        "g:/filmes/2013/Um Novo Amor (2013) Adam Rogers"
       ]
      },
      {
       "output_type": "stream",
       "stream": "stdout",
       "text": [
        "\n",
        "g:/filmes/2013/Um Ref\u00c3\u00bagio para a Vida (2013) Lasse Hallstr\u00c3\u00b6m"
       ]
      },
      {
       "output_type": "stream",
       "stream": "stdout",
       "text": [
        "\n",
        "g:/filmes/2013/Um Toque de Pecado (2013) Jia Zhang-Ke - China"
       ]
      },
      {
       "output_type": "stream",
       "stream": "stdout",
       "text": [
        "\n",
        "g:/filmes/2013/Um Ver\u00c3\u00a3o para N\u00c3\u00a3o Esquecer (2013) Nat Faxon e Jim Rash"
       ]
      },
      {
       "output_type": "stream",
       "stream": "stdout",
       "text": [
        "\n",
        "g:/filmes/2013/Um Week-End \u00e0 Paris (2013) Roger Michell"
       ]
      },
      {
       "output_type": "stream",
       "stream": "stdout",
       "text": [
        "\n",
        "g:/filmes/2013/Uma Fam\u00c3\u00adlia em Apuros (2013) Andy Fickman"
       ]
      },
      {
       "output_type": "stream",
       "stream": "stdout",
       "text": [
        "\n",
        "g:/filmes/2013/Uma Ju\u00edza Sem Ju\u00edzo (2013) Albert Dupontel"
       ]
      },
      {
       "output_type": "stream",
       "stream": "stdout",
       "text": [
        "\n",
        "g:/filmes/2013/Uma Longa Viagem (2013) Jonathan Teplitzky"
       ]
      },
      {
       "output_type": "stream",
       "stream": "stdout",
       "text": [
        "\n",
        "g:/filmes/2013/Uma Noite de Crime (2013) James DeMonaco"
       ]
      },
      {
       "output_type": "stream",
       "stream": "stdout",
       "text": [
        "\n",
        "g:/filmes/2013/Uma Viagem Extraordin\u00e1ria (2013) Jaen-Pierre Jeunet"
       ]
      },
      {
       "output_type": "stream",
       "stream": "stdout",
       "text": [
        "\n",
        "g:/filmes/2013/Uma Vida Comum (2013) Uberto Pasolini"
       ]
      },
      {
       "output_type": "stream",
       "stream": "stdout",
       "text": [
        "\n",
        "g:/filmes/2013/Universidade Monstro (2013) Dan Scalon - Anima\u00c3\u00a7\u00c3\u00a3o"
       ]
      },
      {
       "output_type": "stream",
       "stream": "stdout",
       "text": [
        "\n",
        "g:/filmes/2013/Upstream Color (2013) Shane Carruth"
       ]
      },
      {
       "output_type": "stream",
       "stream": "stdout",
       "text": [
        "\n",
        "g:/filmes/2013/Velozes e Furiosos 6 (2013) Justin Lin"
       ]
      },
      {
       "output_type": "stream",
       "stream": "stdout",
       "text": [
        "\n",
        "g:/filmes/2013/Versos de um Crime (2013) John Krokidas"
       ]
      },
      {
       "output_type": "stream",
       "stream": "stdout",
       "text": [
        "\n",
        "g:/filmes/2013/Vic + Flo Viram um Urso (2013) Denis C\u00f4t\u00e9 - Canad\u00e1"
       ]
      },
      {
       "output_type": "stream",
       "stream": "stdout",
       "text": [
        "\n",
        "g:/filmes/2013/Vida de Adulto (2013) Scott Coffey"
       ]
      },
      {
       "output_type": "stream",
       "stream": "stdout",
       "text": [
        "\n",
        "g:/filmes/2013/Vigarista \u00c3\u00a0 Vista (2013) Seth Gordon"
       ]
      },
      {
       "output_type": "stream",
       "stream": "stdout",
       "text": [
        "\n",
        "g:/filmes/2013/Vinganca em Paris (2013) Edgar Marie"
       ]
      },
      {
       "output_type": "stream",
       "stream": "stdout",
       "text": [
        "\n",
        "g:/filmes/2013/Viver \u00e9 F\u00e1cil com os Olhos Fechados (2013) David Trueba - Espanha"
       ]
      },
      {
       "output_type": "stream",
       "stream": "stdout",
       "text": [
        "\n",
        "g:/filmes/2013/W Imie... (2013) Malgorzata Szumowska - Pol\u00f4nia"
       ]
      },
      {
       "output_type": "stream",
       "stream": "stdout",
       "text": [
        "\n",
        "g:/filmes/2013/Walt nos Bastidores de Mary Poppins (2013) John Lee Hancock"
       ]
      },
      {
       "output_type": "stream",
       "stream": "stdout",
       "text": [
        "\n",
        "g:/filmes/2013/Zulu (2013) J\u00e9r\u00f4me Salle"
       ]
      },
      {
       "output_type": "stream",
       "stream": "stdout",
       "text": [
        "\n",
        "g:/filmes/2013/\u00c9 o Fim (2013) Evan Goldberg e Seth Rocen"
       ]
      },
      {
       "output_type": "stream",
       "stream": "stdout",
       "text": [
        "\n",
        "g:/filmes/2013/\u00daltima Viagem a Vegas (2013) Jon Turteltaub"
       ]
      },
      {
       "output_type": "stream",
       "stream": "stdout",
       "text": [
        "\n",
        "g:/filmes/2013/\u00daltimo Desejo (2013) James Franco"
       ]
      },
      {
       "output_type": "stream",
       "stream": "stdout",
       "text": [
        "\n",
        "g:/filmes/Terror/100 Bloody Acres (2012) Cameron Cairnes e Colin Cairnes - Austr\u00e1lia - Terror"
       ]
      },
      {
       "output_type": "stream",
       "stream": "stdout",
       "text": [
        "\n",
        "g:/filmes/Terror/13\u00ba Andar (1999) Josef Rusnak - Terror"
       ]
      },
      {
       "output_type": "stream",
       "stream": "stdout",
       "text": [
        "\n",
        "g:/filmes/Terror/1408 (2007) Mikael Hafstr\u00f6m - Terror"
       ]
      },
      {
       "output_type": "stream",
       "stream": "stdout",
       "text": [
        "\n",
        "g:/filmes/Terror/1\u00ba Hasta el Viento Tiene Miedo (1967) Carlos Henrique Taboada - M\u00e9xico Terror"
       ]
      },
      {
       "output_type": "stream",
       "stream": "stdout",
       "text": [
        "\n",
        "g:/filmes/Terror/2LDK (2003) Yukihiko Tsutsumi - Jap\u00e3o - Terror"
       ]
      },
      {
       "output_type": "stream",
       "stream": "stdout",
       "text": [
        "\n",
        "g:/filmes/Terror/3 A. M. (2012) Isara Nadee e Kirati Nakintanon - Filipinas - Terror"
       ]
      },
      {
       "output_type": "stream",
       "stream": "stdout",
       "text": [
        "\n",
        "g:/filmes/Terror/388 Arletta Avenue (2011) Randall Cole - Canad\u00e1 - Terror"
       ]
      },
      {
       "output_type": "stream",
       "stream": "stdout",
       "text": [
        "\n",
        "g:/filmes/Terror/4\u00ba Veneno para as Fadas (1984) Carlos Henrique Taboada"
       ]
      },
      {
       "output_type": "stream",
       "stream": "stdout",
       "text": [
        "\n",
        "g:/filmes/Terror/5 Souls (2011) Brett Donowho - Terror"
       ]
      },
      {
       "output_type": "stream",
       "stream": "stdout",
       "text": [
        "\n",
        "g:/filmes/Terror/6 Giorni Sulla Terra (2011) Varo Venturi - It\u00e1lia - Terror"
       ]
      },
      {
       "output_type": "stream",
       "stream": "stdout",
       "text": [
        "\n",
        "g:/filmes/Terror/7 Dias (2010) Daniel Grou - Canad\u00e1 - Terror"
       ]
      },
      {
       "output_type": "stream",
       "stream": "stdout",
       "text": [
        "\n",
        "g:/filmes/Terror/8-Pallo (2013) Aku Louhimies - Finl\u00e2ndia"
       ]
      },
      {
       "output_type": "stream",
       "stream": "stdout",
       "text": [
        "\n",
        "g:/filmes/Terror/9 - 9 - 81 (2012) Rapeepimol Chaiyasena - Tail\u00e2ndia - Terror"
       ]
      },
      {
       "output_type": "stream",
       "stream": "stdout",
       "text": [
        "\n",
        "g:/filmes/Terror/A Ambul\u00e2ncia (1990) Larry Cohen - Terror"
       ]
      },
      {
       "output_type": "stream",
       "stream": "stdout",
       "text": [
        "\n",
        "g:/filmes/Terror/A Bruma Assassina (1980) John Carpenter - Terror"
       ]
      },
      {
       "output_type": "stream",
       "stream": "stdout",
       "text": [
        "\n",
        "g:/filmes/Terror/A Casa das Almas Perdidas (1991) Robert Mandel"
       ]
      },
      {
       "output_type": "stream",
       "stream": "stdout",
       "text": [
        "\n",
        "g:/filmes/Terror/A Casa dos 1000 Corpos (2002) Rob Zumbie"
       ]
      },
      {
       "output_type": "stream",
       "stream": "stdout",
       "text": [
        "\n",
        "g:/filmes/Terror/A Casa na Floresta (2011) Drew Goddard"
       ]
      },
      {
       "output_type": "stream",
       "stream": "stdout",
       "text": [
        "\n",
        "g:/filmes/Terror/A Casa Silenciosa (2011) Chris Kentis & Laura Lau"
       ]
      },
      {
       "output_type": "stream",
       "stream": "stdout",
       "text": [
        "\n",
        "g:/filmes/Terror/A Costureira (2009) Jesse James Miller - Terror"
       ]
      },
      {
       "output_type": "stream",
       "stream": "stdout",
       "text": [
        "\n",
        "g:/filmes/Terror/A Criatura da Destrui\u00e7\u00e3o (2001) Sebastian Gutierrez - Terror"
       ]
      },
      {
       "output_type": "stream",
       "stream": "stdout",
       "text": [
        "\n",
        "g:/filmes/Terror/A Criatura da Montanha (2011) David Hogan"
       ]
      },
      {
       "output_type": "stream",
       "stream": "stdout",
       "text": [
        "\n",
        "g:/filmes/Terror/A Descend\u00eancia (2009)Andrew Van Den Houtin - Terror"
       ]
      },
      {
       "output_type": "stream",
       "stream": "stdout",
       "text": [
        "\n",
        "g:/filmes/Terror/A Epidemia (2010) Breck Eisner"
       ]
      },
      {
       "output_type": "stream",
       "stream": "stdout",
       "text": [
        "\n",
        "g:/filmes/Terror/A Era do Dinossauros (2013) Joseph J. Lawson - Terror"
       ]
      },
      {
       "output_type": "stream",
       "stream": "stdout",
       "text": [
        "\n",
        "g:/filmes/Terror/A Evoca\u00e7\u00e3o (2013) James Wan -Terror"
       ]
      },
      {
       "output_type": "stream",
       "stream": "stdout",
       "text": [
        "\n",
        "g:/filmes/Terror/A Field in England (2013) Ben Whetley - Reino Unido - Terror"
       ]
      },
      {
       "output_type": "stream",
       "stream": "stdout",
       "text": [
        "\n",
        "g:/filmes/Terror/A Fortaleza (1985) Arch Nicholson - Austr\u00e1lia - Terror"
       ]
      },
      {
       "output_type": "stream",
       "stream": "stdout",
       "text": [
        "\n",
        "g:/filmes/Terror/A F\u00faria de Simuroc (2013) Terror"
       ]
      },
      {
       "output_type": "stream",
       "stream": "stdout",
       "text": [
        "\n",
        "g:/filmes/Terror/A Gangue dos Doberman (1972) Byron Chudnow"
       ]
      },
      {
       "output_type": "stream",
       "stream": "stdout",
       "text": [
        "\n",
        "g:/filmes/Terror/A Hist\u00f3ria de Rick (1991) Ngai Choi Lam - Hong Kong - Terror"
       ]
      },
      {
       "output_type": "stream",
       "stream": "stdout",
       "text": [
        "\n",
        "g:/filmes/Terror/A Hora do Espanto (1985) Tom Holland - Terror"
       ]
      },
      {
       "output_type": "stream",
       "stream": "stdout",
       "text": [
        "\n",
        "g:/filmes/Terror/A Hora do Espanto 2 (1988) Tommy Lee Wallace - Terror"
       ]
      },
      {
       "output_type": "stream",
       "stream": "stdout",
       "text": [
        "\n",
        "g:/filmes/Terror/A Hora do Espanto 2 (2013) - Terror"
       ]
      },
      {
       "output_type": "stream",
       "stream": "stdout",
       "text": [
        "\n",
        "g:/filmes/Terror/A Inocente Face do Terror (1972) Robert Mulliga"
       ]
      },
      {
       "output_type": "stream",
       "stream": "stdout",
       "text": [
        "\n",
        "g:/filmes/Terror/A Lonely Place to Die (2011) Julian Gilbey"
       ]
      },
      {
       "output_type": "stream",
       "stream": "stdout",
       "text": [
        "\n",
        "g:/filmes/Terror/A Maldi\u00e7\u00e3o de Carrie (1999) Katt Shea"
       ]
      },
      {
       "output_type": "stream",
       "stream": "stdout",
       "text": [
        "\n",
        "g:/filmes/Terror/A Maldi\u00e7\u00e3o de Chucky (2013) Don Mancini - Terror"
       ]
      },
      {
       "output_type": "stream",
       "stream": "stdout",
       "text": [
        "\n",
        "g:/filmes/Terror/A Maldi\u00e7\u00e3o de Samantha (1986) Wes Craven"
       ]
      },
      {
       "output_type": "stream",
       "stream": "stdout",
       "text": [
        "\n",
        "g:/filmes/Terror/A Morte do Dem\u00f4nio (1981) Sam Raimi"
       ]
      },
      {
       "output_type": "stream",
       "stream": "stdout",
       "text": [
        "\n",
        "g:/filmes/Terror/A Morte Pede Carona (1986) Robert Harmon"
       ]
      },
      {
       "output_type": "stream",
       "stream": "stdout",
       "text": [
        "\n",
        "g:/filmes/Terror/A Morte Pede Carona 2 (2003) Louis Morneau - Terror"
       ]
      },
      {
       "output_type": "stream",
       "stream": "stdout",
       "text": [
        "\n",
        "g:/filmes/Terror/A Mother's Nightmare (2012) Vic Sarin"
       ]
      },
      {
       "output_type": "stream",
       "stream": "stdout",
       "text": [
        "\n",
        "g:/filmes/Terror/A Mulher de Preto (1989) Herbert Wise - Terror"
       ]
      },
      {
       "output_type": "stream",
       "stream": "stdout",
       "text": [
        "\n",
        "g:/filmes/Terror/A Noite do Chupacabras (2011) Rodrigo Arag\u00e3o - Brasil - Terror"
       ]
      },
      {
       "output_type": "stream",
       "stream": "stdout",
       "text": [
        "\n",
        "g:/filmes/Terror/A Noite do Dem\u00f4nio 2 (1994) Brian Trenchard-Smith - Terror"
       ]
      },
      {
       "output_type": "stream",
       "stream": "stdout",
       "text": [
        "\n",
        "g:/filmes/Terror/A Noite dos Mortos Vivos Re-Animacao (2012) Jeff Broadstreet - Terror"
       ]
      },
      {
       "output_type": "stream",
       "stream": "stdout",
       "text": [
        "\n",
        "g:/filmes/Terror/A Noite dos Mortos-Vivos (1968)  George A. Romero"
       ]
      },
      {
       "output_type": "stream",
       "stream": "stdout",
       "text": [
        "\n",
        "g:/filmes/Terror/A Noite dos Mortos-Vivos (1990) Tom Savini"
       ]
      },
      {
       "output_type": "stream",
       "stream": "stdout",
       "text": [
        "\n",
        "g:/filmes/Terror/A Noite dos Mortos-Vivos - Ressurei\u00e7\u00e3o (2012) James Plumb"
       ]
      },
      {
       "output_type": "stream",
       "stream": "stdout",
       "text": [
        "\n",
        "g:/filmes/Terror/A Nona Sess\u00e3o (2001) Brad Anderson - Terror"
       ]
      },
      {
       "output_type": "stream",
       "stream": "stdout",
       "text": [
        "\n",
        "g:/filmes/Terror/A Pata do Macaco (2013) Brett Simmons - Terror"
       ]
      },
      {
       "output_type": "stream",
       "stream": "stdout",
       "text": [
        "\n",
        "g:/filmes/Terror/A Tempestade do S\u00e9culo (1999) Craig R. Baxley"
       ]
      },
      {
       "output_type": "stream",
       "stream": "stdout",
       "text": [
        "\n",
        "g:/filmes/Terror/Abducted (2013) Lucy Phillips e Glen Scantlebury - Terror"
       ]
      },
      {
       "output_type": "stream",
       "stream": "stdout",
       "text": [
        "\n",
        "g:/filmes/Terror/Abraham Lincoln vs Zombies (2012) Richard Schenkman"
       ]
      },
      {
       "output_type": "stream",
       "stream": "stdout",
       "text": [
        "\n",
        "g:/filmes/Terror/Acacia (2003) Ki-Hyeong Dark - Cor\u00e9ia do Sul - Terror"
       ]
      },
      {
       "output_type": "stream",
       "stream": "stdout",
       "text": [
        "\n",
        "g:/filmes/Terror/Acesso Restrito (2009) Kevin Ko"
       ]
      },
      {
       "output_type": "stream",
       "stream": "stdout",
       "text": [
        "\n",
        "g:/filmes/Terror/Adoradores do Diabo (2005) David Winkler - Terror"
       ]
      },
      {
       "output_type": "stream",
       "stream": "stdout",
       "text": [
        "\n",
        "g:/filmes/Terror/Ador\u00e1vel Molly (2011) Eduardo S\u00e1nchez"
       ]
      },
      {
       "output_type": "stream",
       "stream": "stdout",
       "text": [
        "\n",
        "g:/filmes/Terror/Aftershock (2012) Nicol\u00e1s L\u00f3pez"
       ]
      },
      {
       "output_type": "stream",
       "stream": "stdout",
       "text": [
        "\n",
        "g:/filmes/Terror/Aku no Ky\u00f4ten (2012) Takashi Miike - Jap\u00e3o - Terror"
       ]
      },
      {
       "output_type": "stream",
       "stream": "stdout",
       "text": [
        "\n",
        "g:/filmes/Terror/Alien Origin (2012) Mark Atkins - Terror"
       ]
      },
      {
       "output_type": "stream",
       "stream": "stdout",
       "text": [
        "\n",
        "g:/filmes/Terror/Alien Showdown (2013) Rene Perez - Terror"
       ]
      },
      {
       "output_type": "stream",
       "stream": "stdout",
       "text": [
        "\n",
        "g:/filmes/Terror/Alien Uprising (2012) Dominic Burns - Terror"
       ]
      },
      {
       "output_type": "stream",
       "stream": "stdout",
       "text": [
        "\n",
        "g:/filmes/Terror/All About Evil (2010) Joshua Grannell - Canad\u00e1 - Terror"
       ]
      },
      {
       "output_type": "stream",
       "stream": "stdout",
       "text": [
        "\n",
        "g:/filmes/Terror/All Hallows Eve (2013) Damien Leone - Terror"
       ]
      },
      {
       "output_type": "stream",
       "stream": "stdout",
       "text": [
        "\n",
        "g:/filmes/Terror/Alpha Girls (2013) Tony Trov e Johnny Zito - Terror"
       ]
      },
      {
       "output_type": "stream",
       "stream": "stdout",
       "text": [
        "\n",
        "g:/filmes/Terror/Alta Tens\u00e3o (2003) Alexandre Aja - Fran\u00e7a - Terror"
       ]
      },
      {
       "output_type": "stream",
       "stream": "stdout",
       "text": [
        "\n",
        "g:/filmes/Terror/Alyce (2012) Jay Lee - Terror"
       ]
      },
      {
       "output_type": "stream",
       "stream": "stdout",
       "text": [
        "\n",
        "g:/filmes/Terror/Amer (2009) H\u00e9l\u00e8ne Cattet e Bruno Forzani"
       ]
      },
      {
       "output_type": "stream",
       "stream": "stdout",
       "text": [
        "\n",
        "g:/filmes/Terror/Americano Psicopata 2 (2002) Morgan J.Freeman"
       ]
      },
      {
       "output_type": "stream",
       "stream": "stdout",
       "text": [
        "\n",
        "g:/filmes/Terror/Among Friends (2012) Danielle Harris - Terror"
       ]
      },
      {
       "output_type": "stream",
       "stream": "stdout",
       "text": [
        "\n",
        "g:/filmes/Terror/Antik\u00f6rper (2005) Christian Alvart - Alemanha"
       ]
      },
      {
       "output_type": "stream",
       "stream": "stdout",
       "text": [
        "\n",
        "g:/filmes/Terror/Antisocial (2013) Cody Calahan - Terror"
       ]
      },
      {
       "output_type": "stream",
       "stream": "stdout",
       "text": [
        "\n",
        "g:/filmes/Terror/Antiviral (2012) Brandon Cronemberg - Canad\u00e1 - Terror"
       ]
      },
      {
       "output_type": "stream",
       "stream": "stdout",
       "text": [
        "\n",
        "g:/filmes/Terror/Aparecidos (2007) Paco Cabezas - Terror"
       ]
      },
      {
       "output_type": "stream",
       "stream": "stdout",
       "text": [
        "\n",
        "g:/filmes/Terror/Apartamento 1303 (2007) Ataru Oikawa - Jap\u00e3o - Terror"
       ]
      },
      {
       "output_type": "stream",
       "stream": "stdout",
       "text": [
        "\n",
        "g:/filmes/Terror/Apartamento 1303 (2012) Michael Taverna - Terror"
       ]
      },
      {
       "output_type": "stream",
       "stream": "stdout",
       "text": [
        "\n",
        "g:/filmes/Terror/Apartamento 143 (2011) Carles Torrens"
       ]
      },
      {
       "output_type": "stream",
       "stream": "stdout",
       "text": [
        "\n",
        "g:/filmes/Terror/Aprisionados (2005) Steven R. Monroe - Terror"
       ]
      },
      {
       "output_type": "stream",
       "stream": "stdout",
       "text": [
        "\n",
        "g:/filmes/Terror/Army of the Damned (2014) Tom DeNucci - Terror"
       ]
      },
      {
       "output_type": "stream",
       "stream": "stdout",
       "text": [
        "\n",
        "g:/filmes/Terror/As Vezes Eles Voltam (1991) Tom McLoughlin - Terror"
       ]
      },
      {
       "output_type": "stream",
       "stream": "stdout",
       "text": [
        "\n",
        "g:/filmes/Terror/As Vezes Eles Voltam... Para Sempre (1999) Daniel Berk - Terror"
       ]
      },
      {
       "output_type": "stream",
       "stream": "stdout",
       "text": [
        "\n",
        "g:/filmes/Terror/Asilo do Terror (1972) Roy Ward Baker - Terror"
       ]
      },
      {
       "output_type": "stream",
       "stream": "stdout",
       "text": [
        "\n",
        "g:/filmes/Terror/Atividade Paranormal - Marcados Pelo Mal (2014) Christopher Landon - Terror"
       ]
      },
      {
       "output_type": "stream",
       "stream": "stdout",
       "text": [
        "\n",
        "g:/filmes/Terror/Autumn (2009) StevenRumbelow - Canad\u00e1 - Terror"
       ]
      },
      {
       "output_type": "stream",
       "stream": "stdout",
       "text": [
        "\n",
        "g:/filmes/Terror/Baby Shower (2011) Pablo Illanes - Chile - Terror"
       ]
      },
      {
       "output_type": "stream",
       "stream": "stdout",
       "text": [
        "\n",
        "g:/filmes/Terror/Bad Faith (2010) Kristian Petri - Su\u00e9cia - Terror"
       ]
      },
      {
       "output_type": "stream",
       "stream": "stdout",
       "text": [
        "\n",
        "g:/filmes/Terror/Bad Kids Go To Hell (2012) Matthew Spradlin - Terror"
       ]
      },
      {
       "output_type": "stream",
       "stream": "stdout",
       "text": [
        "\n",
        "g:/filmes/Terror/Bad Meat (2011) Lulu Jarmen - Canad\u00e1 - Terror"
       ]
      },
      {
       "output_type": "stream",
       "stream": "stdout",
       "text": [
        "\n",
        "g:/filmes/Terror/Bad Milo (2013) Jacob Vaughan - Terror"
       ]
      },
      {
       "output_type": "stream",
       "stream": "stdout",
       "text": [
        "\n",
        "g:/filmes/Terror/Banquete Amargo (2010) Joe Maggio"
       ]
      },
      {
       "output_type": "stream",
       "stream": "stdout",
       "text": [
        "\n",
        "g:/filmes/Terror/Batalha Real (2000)"
       ]
      },
      {
       "output_type": "stream",
       "stream": "stdout",
       "text": [
        "\n",
        "g:/filmes/Terror/Batalha Real 2; Requi\u00e9m (2003) Kenta Fukasaku e Kinji Fukasaku - Jap\u00e3o"
       ]
      },
      {
       "output_type": "stream",
       "stream": "stdout",
       "text": [
        "\n",
        "g:/filmes/Terror/Begotten (1990) E. Elias Merhige"
       ]
      },
      {
       "output_type": "stream",
       "stream": "stdout",
       "text": [
        "\n",
        "g:/filmes/Terror/Below Zero (2012) Justin Thomas Ostensen - Terror"
       ]
      },
      {
       "output_type": "stream",
       "stream": "stdout",
       "text": [
        "\n",
        "g:/filmes/Terror/Beneath (2013) Larry Fessenden - Terror"
       ]
      },
      {
       "output_type": "stream",
       "stream": "stdout",
       "text": [
        "\n",
        "g:/filmes/Terror/Berberian Sound Studio (2012) Peter Strickland"
       ]
      },
      {
       "output_type": "stream",
       "stream": "stdout",
       "text": [
        "\n",
        "g:/filmes/Terror/Big Ass Spider (2013) Mike Mendez - Terror"
       ]
      },
      {
       "output_type": "stream",
       "stream": "stdout",
       "text": [
        "\n",
        "g:/filmes/Terror/Black Water Vampire (2014) Evan Tramel - Terror"
       ]
      },
      {
       "output_type": "stream",
       "stream": "stdout",
       "text": [
        "\n",
        "g:/filmes/Terror/Bloodwork (2011) Eric Wostenberg"
       ]
      },
      {
       "output_type": "stream",
       "stream": "stdout",
       "text": [
        "\n",
        "g:/filmes/Terror/Bl\u00e1cula, O Vampiro Negro (1972) William Crain"
       ]
      },
      {
       "output_type": "stream",
       "stream": "stdout",
       "text": [
        "\n",
        "g:/filmes/Terror/Borgman (2013) Alex van Warmerdam - Holanda - Terror"
       ]
      },
      {
       "output_type": "stream",
       "stream": "stdout",
       "text": [
        "\n",
        "g:/filmes/Terror/Bounty Killer (2013) Henry Saine - Terror"
       ]
      },
      {
       "output_type": "stream",
       "stream": "stdout",
       "text": [
        "\n",
        "g:/filmes/Terror/Burning Bright (2010) Carlos Brooks"
       ]
      },
      {
       "output_type": "stream",
       "stream": "stdout",
       "text": [
        "\n",
        "g:/filmes/Terror/Cadavres (2009) Benoit Guichard - Canad\u00e1"
       ]
      },
      {
       "output_type": "stream",
       "stream": "stdout",
       "text": [
        "\n",
        "g:/filmes/Terror/Calv\u00e1rio (2004) Fabrice Du Welz - Fran\u00e7a - Terror"
       ]
      },
      {
       "output_type": "stream",
       "stream": "stdout",
       "text": [
        "\n",
        "g:/filmes/Terror/Canibais (2003) Michael Spierig e Peter Spierig"
       ]
      },
      {
       "output_type": "stream",
       "stream": "stdout",
       "text": [
        "\n",
        "g:/filmes/Terror/Canibal (2013) Manuel Mart\u00edn Cuenca - Terror"
       ]
      },
      {
       "output_type": "stream",
       "stream": "stdout",
       "text": [
        "\n",
        "g:/filmes/Terror/Cannibal Diner (2012) Franck W. Montag - Alemanha - Terror"
       ]
      },
      {
       "output_type": "stream",
       "stream": "stdout",
       "text": [
        "\n",
        "g:/filmes/Terror/Cargo (2009) Ivan Engler e Ralph Etter - Su\u00ed\u00e7a"
       ]
      },
      {
       "output_type": "stream",
       "stream": "stdout",
       "text": [
        "\n",
        "g:/filmes/Terror/Carne Branca (2004) Daniel Roby - Canad\u00e1 - Terror"
       ]
      },
      {
       "output_type": "stream",
       "stream": "stdout",
       "text": [
        "\n",
        "g:/filmes/Terror/Carver (2008) Franklin Guerrero Jr"
       ]
      },
      {
       "output_type": "stream",
       "stream": "stdout",
       "text": [
        "\n",
        "g:/filmes/Terror/Cassadaga (2011) O Mal Vive Aqui (2011) Anthony Di Blasi - Terror"
       ]
      },
      {
       "output_type": "stream",
       "stream": "stdout",
       "text": [
        "\n",
        "g:/filmes/Terror/Cavaleiro das Trevas (2013) Mark Atkins - Terror"
       ]
      },
      {
       "output_type": "stream",
       "stream": "stdout",
       "text": [
        "\n",
        "g:/filmes/Terror/Cello (2005) Woo-cheol Lee - Cor\u00e9ia do Sul - Terror"
       ]
      },
      {
       "output_type": "stream",
       "stream": "stdout",
       "text": [
        "\n",
        "g:/filmes/Terror/Chamas da Morte (1981) Tony Maylam - Terror"
       ]
      },
      {
       "output_type": "stream",
       "stream": "stdout",
       "text": [
        "\n",
        "g:/filmes/Terror/Chamas da Vingan\u00e7a (1984)  - Terror"
       ]
      },
      {
       "output_type": "stream",
       "stream": "stdout",
       "text": [
        "\n",
        "g:/filmes/Terror/Chamas da Vingan\u00e7a (1984) Mark L. Lester- Terror"
       ]
      },
      {
       "output_type": "stream",
       "stream": "stdout",
       "text": [
        "\n",
        "g:/filmes/Terror/Chariot (2013) Brad Osborne - Terror"
       ]
      },
      {
       "output_type": "stream",
       "stream": "stdout",
       "text": [
        "\n",
        "g:/filmes/Terror/Chastity Bites (2013) John V. Knowles - Terror"
       ]
      },
      {
       "output_type": "stream",
       "stream": "stdout",
       "text": [
        "\n",
        "g:/filmes/Terror/Chemical Wedding (2008) Julian Doyle - Terror"
       ]
      },
      {
       "output_type": "stream",
       "stream": "stdout",
       "text": [
        "\n",
        "g:/filmes/Terror/Chernobyl (2012) Bradley Parker"
       ]
      },
      {
       "output_type": "stream",
       "stream": "stdout",
       "text": [
        "\n",
        "g:/filmes/Terror/Chilling Visions; 5 Senses of Fear (2013) V\u00e1rios - Terror"
       ]
      },
      {
       "output_type": "stream",
       "stream": "stdout",
       "text": [
        "\n",
        "g:/filmes/Terror/Citadel (2012) Claran Foy - Terror"
       ]
      },
      {
       "output_type": "stream",
       "stream": "stdout",
       "text": [
        "\n",
        "g:/filmes/Terror/Cloverfield - Monstro (2008) Matt Reeves"
       ]
      },
      {
       "output_type": "stream",
       "stream": "stdout",
       "text": [
        "\n",
        "g:/filmes/Terror/Codigo Vermelho (2012)"
       ]
      },
      {
       "output_type": "stream",
       "stream": "stdout",
       "text": [
        "\n",
        "g:/filmes/Terror/Coffin Baby (2013) Dean Jones"
       ]
      },
      {
       "output_type": "stream",
       "stream": "stdout",
       "text": [
        "\n",
        "g:/filmes/Terror/Coisa Ruim (2006) Tiago Guedes e Frederico Serra - Portugal"
       ]
      },
      {
       "output_type": "stream",
       "stream": "stdout",
       "text": [
        "\n",
        "g:/filmes/Terror/Cold Blooded (2012) Jason Lapeyre - Canad\u00e1 - Terror"
       ]
      },
      {
       "output_type": "stream",
       "stream": "stdout",
       "text": [
        "\n",
        "g:/filmes/Terror/Comboio do Terror (1986) Stephen King - Terror"
       ]
      },
      {
       "output_type": "stream",
       "stream": "stdout",
       "text": [
        "\n",
        "g:/filmes/Terror/Come Out and Play (2012)"
       ]
      },
      {
       "output_type": "stream",
       "stream": "stdout",
       "text": [
        "\n",
        "g:/filmes/Terror/Comidos Vivos (1980) Umberto Lenzi - It\u00e1lia - Terror"
       ]
      },
      {
       "output_type": "stream",
       "stream": "stdout",
       "text": [
        "\n",
        "g:/filmes/Terror/Coming Soon (2008) Sopon Sukdapisit - Tail\u00e2ndia - Terror"
       ]
      },
      {
       "output_type": "stream",
       "stream": "stdout",
       "text": [
        "\n",
        "g:/filmes/Terror/Compliance (2012) Craig Zobel"
       ]
      },
      {
       "output_type": "stream",
       "stream": "stdout",
       "text": [
        "\n",
        "g:/filmes/Terror/Comportamento Suspeito (1998) David Nutter"
       ]
      },
      {
       "output_type": "stream",
       "stream": "stdout",
       "text": [
        "\n",
        "g:/filmes/Terror/Countdown (2012) Nattawut Poonpiriya - Tail\u00e2ndia - Terror"
       ]
      },
      {
       "output_type": "stream",
       "stream": "stdout",
       "text": [
        "\n",
        "g:/filmes/Terror/Crawlspace (2012) Justin Dix - Austr\u00e1lia - Terror"
       ]
      },
      {
       "output_type": "stream",
       "stream": "stdout",
       "text": [
        "\n",
        "g:/filmes/Terror/Creepshow - Show de Horrores (1982) George A. Romero - Terror"
       ]
      },
      {
       "output_type": "stream",
       "stream": "stdout",
       "text": [
        "\n",
        "g:/filmes/Terror/Crowsnest (2012) Brenton Spencer - Terror"
       ]
      },
      {
       "output_type": "stream",
       "stream": "stdout",
       "text": [
        "\n",
        "g:/filmes/Terror/Crush (2013) Malik Bader - Terror"
       ]
      },
      {
       "output_type": "stream",
       "stream": "stdout",
       "text": [
        "\n",
        "g:/filmes/Terror/Cry Wolf - O Jogo da Mentira (2005) Jeff Wadlow"
       ]
      },
      {
       "output_type": "stream",
       "stream": "stdout",
       "text": [
        "\n",
        "g:/filmes/Terror/Cult (2013) K\u00f4ji Shiraishi - Jap\u00e3o - Terror"
       ]
      },
      {
       "output_type": "stream",
       "stream": "stdout",
       "text": [
        "\n",
        "g:/filmes/Terror/Cumplicidade (2012) C. B. Harding - Terror"
       ]
      },
      {
       "output_type": "stream",
       "stream": "stdout",
       "text": [
        "\n",
        "g:/filmes/Terror/C\u00f3digo Vermelho (2010) Turner Clay - Terror"
       ]
      },
      {
       "output_type": "stream",
       "stream": "stdout",
       "text": [
        "\n",
        "g:/filmes/Terror/Dagon (2011) Stuart Gordon - Terror"
       ]
      },
      {
       "output_type": "stream",
       "stream": "stdout",
       "text": [
        "\n",
        "g:/filmes/Terror/Danika (2006) Ariel Vromen"
       ]
      },
      {
       "output_type": "stream",
       "stream": "stdout",
       "text": [
        "\n",
        "g:/filmes/Terror/Dark Feed (2013) Michael Rasmussen e Shawn Rasmussen"
       ]
      },
      {
       "output_type": "stream",
       "stream": "stdout",
       "text": [
        "\n",
        "g:/filmes/Terror/Dead Before Dawn (2012) Aprill Mullen"
       ]
      },
      {
       "output_type": "stream",
       "stream": "stdout",
       "text": [
        "\n",
        "g:/filmes/Terror/Dead Men Walking (2005) Peter Mervis - Terror"
       ]
      },
      {
       "output_type": "stream",
       "stream": "stdout",
       "text": [
        "\n",
        "g:/filmes/Terror/Dead Mine (2012) Steven Sheil"
       ]
      },
      {
       "output_type": "stream",
       "stream": "stdout",
       "text": [
        "\n",
        "g:/filmes/Terror/Dead of the Nite (2013)   - Terror"
       ]
      },
      {
       "output_type": "stream",
       "stream": "stdout",
       "text": [
        "\n",
        "g:/filmes/Terror/Dead Souls (2012) Colin Theys - Terror"
       ]
      },
      {
       "output_type": "stream",
       "stream": "stdout",
       "text": [
        "\n",
        "g:/filmes/Terror/Dead Sushi (2012) Noboru Iguchi - Jap\u00e3o - Terror"
       ]
      },
      {
       "output_type": "stream",
       "stream": "stdout",
       "text": [
        "\n",
        "g:/filmes/Terror/Decay (2012) Luke Thopson - Terror"
       ]
      },
      {
       "output_type": "stream",
       "stream": "stdout",
       "text": [
        "\n",
        "g:/filmes/Terror/Deep Dark Canyon (2013) Abe Levy e Silver Tree"
       ]
      },
      {
       "output_type": "stream",
       "stream": "stdout",
       "text": [
        "\n",
        "g:/filmes/Terror/Desafio do Al\u00e9m (1963) Robert Wise - Terror"
       ]
      },
      {
       "output_type": "stream",
       "stream": "stdout",
       "text": [
        "\n",
        "g:/filmes/Terror/Desejo de Vingan\u00e7a (2007) Dan Reed - Terror"
       ]
      },
      {
       "output_type": "stream",
       "stream": "stdout",
       "text": [
        "\n",
        "g:/filmes/Terror/Devil Seed (2012) Terror"
       ]
      },
      {
       "output_type": "stream",
       "stream": "stdout",
       "text": [
        "\n",
        "g:/filmes/Terror/Devorador de Pecados (2003) Brian Helgeland"
       ]
      },
      {
       "output_type": "stream",
       "stream": "stdout",
       "text": [
        "\n",
        "g:/filmes/Terror/Devoured (2012) Greg Oliver -Terror"
       ]
      },
      {
       "output_type": "stream",
       "stream": "stdout",
       "text": [
        "\n",
        "g:/filmes/Terror/Dia das M\u00e3es Macabro (1980) Charles Kaufman"
       ]
      },
      {
       "output_type": "stream",
       "stream": "stdout",
       "text": [
        "\n",
        "g:/filmes/Terror/Dinheiro Sujo (2013) Tzen Chun - Terror"
       ]
      },
      {
       "output_type": "stream",
       "stream": "stdout",
       "text": [
        "\n",
        "g:/filmes/Terror/Doce Vingan\u00e7a 2 (2013) Steven R. Monroe - Terror"
       ]
      },
      {
       "output_type": "stream",
       "stream": "stdout",
       "text": [
        "\n",
        "g:/filmes/Terror/Domina\u00e7\u00e3o Zumbi (2011) Ryan Thompson"
       ]
      },
      {
       "output_type": "stream",
       "stream": "stdout",
       "text": [
        "\n",
        "g:/filmes/Terror/Don't Move (2013) Anthony Melton - Terror"
       ]
      },
      {
       "output_type": "stream",
       "stream": "stdout",
       "text": [
        "\n",
        "g:/filmes/Terror/Dont Deliver Us From Evil (1971) Jo\u00ebl S\u00e9ria - Fran\u00e7a - Terror"
       ]
      },
      {
       "output_type": "stream",
       "stream": "stdout",
       "text": [
        "\n",
        "g:/filmes/Terror/Dose of Reality (2013) Christhopher Glatis"
       ]
      },
      {
       "output_type": "stream",
       "stream": "stdout",
       "text": [
        "\n",
        "g:/filmes/Terror/Dr\u00e1cula (2012) Dario Argento"
       ]
      },
      {
       "output_type": "stream",
       "stream": "stdout",
       "text": [
        "\n",
        "g:/filmes/Terror/Dr\u00e1cula o Pr\u00edncipe das Trevas (2013) Pearry Reginald Teo - Terror"
       ]
      },
      {
       "output_type": "stream",
       "stream": "stdout",
       "text": [
        "\n",
        "g:/filmes/Terror/Eddie The Sleepwalking Cannibal (2012) Boris Rodriguez - Terror"
       ]
      },
      {
       "output_type": "stream",
       "stream": "stdout",
       "text": [
        "\n",
        "g:/filmes/Terror/Eles Vivem (1988) John Carpenter - Terror"
       ]
      },
      {
       "output_type": "stream",
       "stream": "stdout",
       "text": [
        "\n",
        "g:/filmes/Terror/Em Rota de Colis\u00e3o (2007) Stuart Gordon - Terror"
       ]
      },
      {
       "output_type": "stream",
       "stream": "stdout",
       "text": [
        "\n",
        "g:/filmes/Terror/Encontro com a Morte (2006) Richard Brandes"
       ]
      },
      {
       "output_type": "stream",
       "stream": "stdout",
       "text": [
        "\n",
        "g:/filmes/Terror/End of the Road (2011) J. P. Pierce - Terror"
       ]
      },
      {
       "output_type": "stream",
       "stream": "stdout",
       "text": [
        "\n",
        "g:/filmes/Terror/Entity (2012) Steve Stone - Reino Unido"
       ]
      },
      {
       "output_type": "stream",
       "stream": "stdout",
       "text": [
        "\n",
        "g:/filmes/Terror/Entrance (2012) Dallas Richard Hallam e Patrick Horvath - Terror"
       ]
      },
      {
       "output_type": "stream",
       "stream": "stdout",
       "text": [
        "\n",
        "g:/filmes/Terror/Equipe Ca\u00e7a Fantasmas (2013) Ben Peyser e Scott Rutherford - Terror"
       ]
      },
      {
       "output_type": "stream",
       "stream": "stdout",
       "text": [
        "\n",
        "g:/filmes/Terror/Escurid\u00e3o (2005) John Fawcett"
       ]
      },
      {
       "output_type": "stream",
       "stream": "stdout",
       "text": [
        "\n",
        "g:/filmes/Terror/Espinhos (2008) Toby Wilkins - Terror"
       ]
      },
      {
       "output_type": "stream",
       "stream": "stdout",
       "text": [
        "\n",
        "g:/filmes/Terror/Estrada Maldita (2007) Gregory Jacobs - Terror"
       ]
      },
      {
       "output_type": "stream",
       "stream": "stdout",
       "text": [
        "\n",
        "g:/filmes/Terror/Evidence (2013) Olatunde Osunsanmi - Terror"
       ]
      },
      {
       "output_type": "stream",
       "stream": "stdout",
       "text": [
        "\n",
        "g:/filmes/Terror/Evocando Esp\u00edritos 2 (2013) Tom Elkis"
       ]
      },
      {
       "output_type": "stream",
       "stream": "stdout",
       "text": [
        "\n",
        "g:/filmes/Terror/Evoca\u00e7\u00e3o a Porta para o Dem\u00f4nio (2011) Alex Wright - Terror"
       ]
      },
      {
       "output_type": "stream",
       "stream": "stdout",
       "text": [
        "\n",
        "g:/filmes/Terror/Ex\u00e9rcito do Exterm\u00ednio (1973) George A. Romero"
       ]
      },
      {
       "output_type": "stream",
       "stream": "stdout",
       "text": [
        "\n",
        "g:/filmes/Terror/Fairytale (2012) Christian Bisceglia e Ascanio Malgarini - Terror"
       ]
      },
      {
       "output_type": "stream",
       "stream": "stdout",
       "text": [
        "\n",
        "g:/filmes/Terror/Fase 7 (2011) Nicol\u00e1s Goldbart - Terror"
       ]
      },
      {
       "output_type": "stream",
       "stream": "stdout",
       "text": [
        "\n",
        "g:/filmes/Terror/Fen\u00f4menos Paranormais (2011)"
       ]
      },
      {
       "output_type": "stream",
       "stream": "stdout",
       "text": [
        "\n",
        "g:/filmes/Terror/Fen\u00f4menos Paranormais 2 (2012) John Poliquin"
       ]
      },
      {
       "output_type": "stream",
       "stream": "stdout",
       "text": [
        "\n",
        "g:/filmes/Terror/Filme Caseiro (2008) Christopher Denham - Terror"
       ]
      },
      {
       "output_type": "stream",
       "stream": "stdout",
       "text": [
        "\n",
        "g:/filmes/Terror/Fin (2012) Jorge Torregrossa - Espanha"
       ]
      },
      {
       "output_type": "stream",
       "stream": "stdout",
       "text": [
        "\n",
        "g:/filmes/Terror/Fobia (2013) Jon Keeyes - Terror"
       ]
      },
      {
       "output_type": "stream",
       "stream": "stdout",
       "text": [
        "\n",
        "g:/filmes/Terror/Forgetting the Girl (2012) Nate Taylor - Terror"
       ]
      },
      {
       "output_type": "stream",
       "stream": "stdout",
       "text": [
        "\n",
        "g:/filmes/Terror/For\u00e7a Sinistra (1985) Tobe Hooper - Terror"
       ]
      },
      {
       "output_type": "stream",
       "stream": "stdout",
       "text": [
        "\n",
        "g:/filmes/Terror/Fr\u00e1giles - Terror em Mercy Falls (2005) Jaume Balaguer\u00f3 - Espanha"
       ]
      },
      {
       "output_type": "stream",
       "stream": "stdout",
       "text": [
        "\n",
        "g:/filmes/Terror/Germ (2013) J. T.Boone e John Craddock - Terror"
       ]
      },
      {
       "output_type": "stream",
       "stream": "stdout",
       "text": [
        "\n",
        "g:/filmes/Terror/Ghost Shark (2013) Griff Furst - Terror"
       ]
      },
      {
       "output_type": "stream",
       "stream": "stdout",
       "text": [
        "\n",
        "g:/filmes/Terror/Girls Against Boys (2012) Austin Chick - Terror"
       ]
      },
      {
       "output_type": "stream",
       "stream": "stdout",
       "text": [
        "\n",
        "g:/filmes/Terror/Gosa (2008) Yoon Hong-Seung - Cor\u00e9ia do Sul - Terror"
       ]
      },
      {
       "output_type": "stream",
       "stream": "stdout",
       "text": [
        "\n",
        "g:/filmes/Terror/Grabbers (2012) Jon Wright"
       ]
      },
      {
       "output_type": "stream",
       "stream": "stdout",
       "text": [
        "\n",
        "g:/filmes/Terror/Grito de Terror (1995) Tobe Hooper - Terror"
       ]
      },
      {
       "output_type": "stream",
       "stream": "stdout",
       "text": [
        "\n",
        "g:/filmes/Terror/Gritos do Al\u00e9m (2012) Steven C. Miller"
       ]
      },
      {
       "output_type": "stream",
       "stream": "stdout",
       "text": [
        "\n",
        "g:/filmes/Terror/Grotesque (2009) K\u00f4ji Shiraishi - Jap\u00e3o - Terror - Adulto"
       ]
      },
      {
       "output_type": "stream",
       "stream": "stdout",
       "text": [
        "\n",
        "g:/filmes/Terror/Guerra Mundial Z (2013) Marc Forster (Terror)"
       ]
      },
      {
       "output_type": "stream",
       "stream": "stdout",
       "text": [
        "\n",
        "g:/filmes/Terror/H6 Di\u00e1rio de Um Assassino (2005) Martin Garrido B\u00e1ron - Espanha - Terror"
       ]
      },
      {
       "output_type": "stream",
       "stream": "stdout",
       "text": [
        "\n",
        "g:/filmes/Terror/Hansel and Gretel (2007) Pil-Sung Yim - Cor\u00e9ia do Sul - Terror"
       ]
      },
      {
       "output_type": "stream",
       "stream": "stdout",
       "text": [
        "\n",
        "g:/filmes/Terror/Hansel and Gretel Get Baked (2013) Duane Journey"
       ]
      },
      {
       "output_type": "stream",
       "stream": "stdout",
       "text": [
        "\n",
        "g:/filmes/Terror/Hansel and Gretel Warriors of Witchcraft (2013) David DeCoteau"
       ]
      },
      {
       "output_type": "stream",
       "stream": "stdout",
       "text": [
        "\n",
        "g:/filmes/Terror/Headhunters (2011) Morten Tyldum - Noruega - Terror"
       ]
      },
      {
       "output_type": "stream",
       "stream": "stdout",
       "text": [
        "\n",
        "g:/filmes/Terror/Hell Baby (2012) Robert Bengarant e Thomas  Lennon - Terror"
       ]
      },
      {
       "output_type": "stream",
       "stream": "stdout",
       "text": [
        "\n",
        "g:/filmes/Terror/Hellbenders (2013) J. T. Petty - Terror"
       ]
      },
      {
       "output_type": "stream",
       "stream": "stdout",
       "text": [
        "\n",
        "g:/filmes/Terror/Help Me I Am Dead (2013) Andreas Bethmann - Alemanha - Terror"
       ]
      },
      {
       "output_type": "stream",
       "stream": "stdout",
       "text": [
        "\n",
        "g:/filmes/Terror/Helphone (2007) James Huth - Fran\u00e7a - Terror"
       ]
      },
      {
       "output_type": "stream",
       "stream": "stdout",
       "text": [
        "\n",
        "g:/filmes/Terror/Heran\u00e7a Paranormal (2010) Tennyson Bard Well - Terror"
       ]
      },
      {
       "output_type": "stream",
       "stream": "stdout",
       "text": [
        "\n",
        "g:/filmes/Terror/Hist\u00f3rias de Terror (2012) Ji-young Hong, Sun Kim, Gok Kim e Dae-Wung - Cor\u00e9ia do Sul - Terror"
       ]
      },
      {
       "output_type": "stream",
       "stream": "stdout",
       "text": [
        "\n",
        "g:/filmes/Terror/Hold Your Breath (2012) Jared Cohn - Terror"
       ]
      },
      {
       "output_type": "stream",
       "stream": "stdout",
       "text": [
        "\n",
        "g:/filmes/Terror/Holy Ghost People (2013) Mitchel Altieri - Terror"
       ]
      },
      {
       "output_type": "stream",
       "stream": "stdout",
       "text": [
        "\n",
        "g:/filmes/Terror/Hora (2009) Reiner Kill - Noruega - Terror"
       ]
      },
      {
       "output_type": "stream",
       "stream": "stdout",
       "text": [
        "\n",
        "g:/filmes/Terror/Horror Story (2013)  Ayush Raina - \u00cdndia - Terror"
       ]
      },
      {
       "output_type": "stream",
       "stream": "stdout",
       "text": [
        "\n",
        "g:/filmes/Terror/Hotel da Morte (2011) Ti West"
       ]
      },
      {
       "output_type": "stream",
       "stream": "stdout",
       "text": [
        "\n",
        "g:/filmes/Terror/Hurt (2009) Barbara Stepansky - Terror"
       ]
      },
      {
       "output_type": "stream",
       "stream": "stdout",
       "text": [
        "\n",
        "g:/filmes/Terror/Hyenas (2010) Eric Dimster"
       ]
      },
      {
       "output_type": "stream",
       "stream": "stdout",
       "text": [
        "\n",
        "g:/filmes/Terror/Hypothermia (2010) James Felix McKenney"
       ]
      },
      {
       "output_type": "stream",
       "stream": "stdout",
       "text": [
        "\n",
        "g:/filmes/Terror/Ilsa-A Guardi\u00e3 Perversa da SS (1975) Don Edmons - Terror"
       ]
      },
      {
       "output_type": "stream",
       "stream": "stdout",
       "text": [
        "\n",
        "g:/filmes/Terror/Infectados (2013) Roger Christian - Terror"
       ]
      },
      {
       "output_type": "stream",
       "stream": "stdout",
       "text": [
        "\n",
        "g:/filmes/Terror/Infected (2013) Glenn Ciano - Terror"
       ]
      },
      {
       "output_type": "stream",
       "stream": "stdout",
       "text": [
        "\n",
        "g:/filmes/Terror/Instinto Fatal (1988) George A. Romero - Terror"
       ]
      },
      {
       "output_type": "stream",
       "stream": "stdout",
       "text": [
        "\n",
        "g:/filmes/Terror/It's In The Blood (2012) Scooter Downey"
       ]
      },
      {
       "output_type": "stream",
       "stream": "stdout",
       "text": [
        "\n",
        "g:/filmes/Terror/Jailbait (2013) Jared Cohn - Terror"
       ]
      },
      {
       "output_type": "stream",
       "stream": "stdout",
       "text": [
        "\n",
        "g:/filmes/Terror/John Dies At The End (2012) Don Coscarelli"
       ]
      },
      {
       "output_type": "stream",
       "stream": "stdout",
       "text": [
        "\n",
        "g:/filmes/Terror/Juan dos Mortos (2012) Alejandro Brugu\u00e9s - Cuba - Terror"
       ]
      },
      {
       "output_type": "stream",
       "stream": "stdout",
       "text": [
        "\n",
        "g:/filmes/Terror/Jug Face (2013) Chad Crawford Kinkle - Terror"
       ]
      },
      {
       "output_type": "stream",
       "stream": "stdout",
       "text": [
        "\n",
        "g:/filmes/Terror/Kill for Me (2013) Michael Greenspan - Canad\u00e1 - Terror"
       ]
      },
      {
       "output_type": "stream",
       "stream": "stdout",
       "text": [
        "\n",
        "g:/filmes/Terror/Killer Holiday (2013) Marty Thomas - Terror"
       ]
      },
      {
       "output_type": "stream",
       "stream": "stdout",
       "text": [
        "\n",
        "g:/filmes/Terror/Killer Toon (2013) Yong-Gyun Kim - Cor\u00e9ia do Sul - Terror"
       ]
      },
      {
       "output_type": "stream",
       "stream": "stdout",
       "text": [
        "\n",
        "g:/filmes/Terror/Koi No Tsumi (2011) Shion Sono - Jap\u00e3o - Terror"
       ]
      },
      {
       "output_type": "stream",
       "stream": "stdout",
       "text": [
        "\n",
        "g:/filmes/Terror/Kotoko (2011) Shinya Tsukamoto - Jap\u00e3o"
       ]
      },
      {
       "output_type": "stream",
       "stream": "stdout",
       "text": [
        "\n",
        "g:/filmes/Terror/La Meute (2010) Franck Richard - Fran\u00e7a - Terror"
       ]
      },
      {
       "output_type": "stream",
       "stream": "stdout",
       "text": [
        "\n",
        "g:/filmes/Terror/Lago da Morte (2007) George Bessudo- Terror"
       ]
      },
      {
       "output_type": "stream",
       "stream": "stdout",
       "text": [
        "\n",
        "g:/filmes/Terror/Laid to Rest (2009) Robert Hall - Terror"
       ]
      },
      {
       "output_type": "stream",
       "stream": "stdout",
       "text": [
        "\n",
        "g:/filmes/Terror/Laid to Rest 2 Chrome Skull (2011) Robert Hall - Terror"
       ]
      },
      {
       "output_type": "stream",
       "stream": "stdout",
       "text": [
        "\n",
        "g:/filmes/Terror/Lizzie (2013) David Dunn Jr. - Terror"
       ]
      },
      {
       "output_type": "stream",
       "stream": "stdout",
       "text": [
        "\n",
        "g:/filmes/Terror/Lizzie Borden Took an Ax (2014) Nick Gomez - Terror"
       ]
      },
      {
       "output_type": "stream",
       "stream": "stdout",
       "text": [
        "\n",
        "g:/filmes/Terror/Lobos de Arga (2011) Juan Mart\u00ednez Moreno - Espanha - Terror"
       ]
      },
      {
       "output_type": "stream",
       "stream": "stdout",
       "text": [
        "\n",
        "g:/filmes/Terror/Los Cronocr\u00edmenes (2007) Nacho Vigalondo - Espanha - Terror"
       ]
      },
      {
       "output_type": "stream",
       "stream": "stdout",
       "text": [
        "\n",
        "g:/filmes/Terror/Macabro (2009) Kimo Stamboel e Timo Tjahjanto - Terror"
       ]
      },
      {
       "output_type": "stream",
       "stream": "stdout",
       "text": [
        "\n",
        "g:/filmes/Terror/Mama (2013) Andr\u00e9s Muschietti"
       ]
      },
      {
       "output_type": "stream",
       "stream": "stdout",
       "text": [
        "\n",
        "g:/filmes/Terror/Man\u00edaco (1980) William Lustig"
       ]
      },
      {
       "output_type": "stream",
       "stream": "stdout",
       "text": [
        "\n",
        "g:/filmes/Terror/Man\u00edaco (2012) Franck Khalfoun"
       ]
      },
      {
       "output_type": "stream",
       "stream": "stdout",
       "text": [
        "\n",
        "g:/filmes/Terror/Matadouro (2013) Carlos Junior - Brasil - Terror"
       ]
      },
      {
       "output_type": "stream",
       "stream": "stdout",
       "text": [
        "\n",
        "g:/filmes/Terror/May - Obssess\u00e3o Assassina (2002) Lucky Mckee"
       ]
      },
      {
       "output_type": "stream",
       "stream": "stdout",
       "text": [
        "\n",
        "g:/filmes/Terror/Mikey (1992) Dennis Dimster"
       ]
      },
      {
       "output_type": "stream",
       "stream": "stdout",
       "text": [
        "\n",
        "g:/filmes/Terror/Mischief Night (2013) Richard Schenkman - Terror"
       ]
      },
      {
       "output_type": "stream",
       "stream": "stdout",
       "text": [
        "\n",
        "g:/filmes/Terror/Morte S\u00fabita (2007) Greg Mclean"
       ]
      },
      {
       "output_type": "stream",
       "stream": "stdout",
       "text": [
        "\n",
        "g:/filmes/Terror/Motel Diab\u00f3lico (1980) Kevin Connor - Terror"
       ]
      },
      {
       "output_type": "stream",
       "stream": "stdout",
       "text": [
        "\n",
        "g:/filmes/Terror/Mutilados (2006) Christopher Smith - Terror"
       ]
      },
      {
       "output_type": "stream",
       "stream": "stdout",
       "text": [
        "\n",
        "g:/filmes/Terror/Mysterious Island (2011) Kai-Cheung Chung - China - Terror"
       ]
      },
      {
       "output_type": "stream",
       "stream": "stdout",
       "text": [
        "\n",
        "g:/filmes/Terror/Na Srebrnym Globie (1987) Andrzej Zulawski - Pol\u00f4nia"
       ]
      },
      {
       "output_type": "stream",
       "stream": "stdout",
       "text": [
        "\n",
        "g:/filmes/Terror/Nascido do Inferno (2001) Alex Chandon"
       ]
      },
      {
       "output_type": "stream",
       "stream": "stdout",
       "text": [
        "\n",
        "g:/filmes/Terror/Necromantik (1987) J\u00f6rg Buttgereit - Alemanha"
       ]
      },
      {
       "output_type": "stream",
       "stream": "stdout",
       "text": [
        "\n",
        "g:/filmes/Terror/Necromantik 2 (1991) J\u00f6rg Buttgereit - Alemanha"
       ]
      },
      {
       "output_type": "stream",
       "stream": "stdout",
       "text": [
        "\n",
        "g:/filmes/Terror/Necromentia (2009) Pearry Reginald Teo"
       ]
      },
      {
       "output_type": "stream",
       "stream": "stdout",
       "text": [
        "\n",
        "g:/filmes/Terror/Necrophile Passion (2013) Tom Heidenberg - Alemanha - Terror"
       ]
      },
      {
       "output_type": "stream",
       "stream": "stdout",
       "text": [
        "\n",
        "g:/filmes/Terror/Ningu\u00e9m Vive (2012) Ry\u00fbhei Kitamura - Terror"
       ]
      },
      {
       "output_type": "stream",
       "stream": "stdout",
       "text": [
        "\n",
        "g:/filmes/Terror/No Cair da Noite (2003) Janathan Liebesman"
       ]
      },
      {
       "output_type": "stream",
       "stream": "stdout",
       "text": [
        "\n",
        "g:/filmes/Terror/No Reason (2010) Olaf Itten Bach - Alemanha"
       ]
      },
      {
       "output_type": "stream",
       "stream": "stdout",
       "text": [
        "\n",
        "g:/filmes/Terror/Noite de P\u00e2nico (1982) Jack Sholder - Terror"
       ]
      },
      {
       "output_type": "stream",
       "stream": "stdout",
       "text": [
        "\n",
        "g:/filmes/Terror/Noite dos Arrepios (1986) Fred Dekker"
       ]
      },
      {
       "output_type": "stream",
       "stream": "stdout",
       "text": [
        "\n",
        "g:/filmes/Terror/Nothing Left to Fear (2013) Anthony Leonardi III - Terror"
       ]
      },
      {
       "output_type": "stream",
       "stream": "stdout",
       "text": [
        "\n",
        "g:/filmes/Terror/Nurse (2013) Douglas Aarniokoski - Terror"
       ]
      },
      {
       "output_type": "stream",
       "stream": "stdout",
       "text": [
        "\n",
        "g:/filmes/Terror/O Atalho (2013) Nicholas Goossen - Terror"
       ]
      },
      {
       "output_type": "stream",
       "stream": "stdout",
       "text": [
        "\n",
        "g:/filmes/Terror/O Bug do Mil\u00eanio (2011) Kenneth Cran"
       ]
      },
      {
       "output_type": "stream",
       "stream": "stdout",
       "text": [
        "\n",
        "g:/filmes/Terror/O Caix\u00e3o (2012) Ekachai Uekrongtham"
       ]
      },
      {
       "output_type": "stream",
       "stream": "stdout",
       "text": [
        "\n",
        "g:/filmes/Terror/O Caminho (2012) - Espanha - Terror"
       ]
      },
      {
       "output_type": "stream",
       "stream": "stdout",
       "text": [
        "\n",
        "g:/filmes/Terror/O Chamado (2002) Gore Verbinski"
       ]
      },
      {
       "output_type": "stream",
       "stream": "stdout",
       "text": [
        "\n",
        "g:/filmes/Terror/O Chamado 2 (2005) Hideo Nakata"
       ]
      },
      {
       "output_type": "stream",
       "stream": "stdout",
       "text": [
        "\n",
        "g:/filmes/Terror/O Colecionador de Almas (1992) Richard Stanley - Terror"
       ]
      },
      {
       "output_type": "stream",
       "stream": "stdout",
       "text": [
        "\n",
        "g:/filmes/Terror/O Colecionador de Corpos 2 (2012) Marcus Dunstan"
       ]
      },
      {
       "output_type": "stream",
       "stream": "stdout",
       "text": [
        "\n",
        "g:/filmes/Terror/O Corpo (2012) Oriol Paulo - Espanha"
       ]
      },
      {
       "output_type": "stream",
       "stream": "stdout",
       "text": [
        "\n",
        "g:/filmes/Terror/O Corredor (2010) Evan Kelly"
       ]
      },
      {
       "output_type": "stream",
       "stream": "stdout",
       "text": [
        "\n",
        "g:/filmes/Terror/O Despertar do Mal (2013) Matt Orlando"
       ]
      },
      {
       "output_type": "stream",
       "stream": "stdout",
       "text": [
        "\n",
        "g:/filmes/Terror/O Dom\u00ednio do Mal (2006) Geoffrey Wright - Terror"
       ]
      },
      {
       "output_type": "stream",
       "stream": "stdout",
       "text": [
        "\n",
        "g:/filmes/Terror/O Enigma do Horizonte (1997) Paul W. S. Anderson"
       ]
      },
      {
       "output_type": "stream",
       "stream": "stdout",
       "text": [
        "\n",
        "g:/filmes/Terror/O Enigma do Mal (1981) Sidney J. Furie - Terror"
       ]
      },
      {
       "output_type": "stream",
       "stream": "stdout",
       "text": [
        "\n",
        "g:/filmes/Terror/O Enviado (2004) Nick Hamm - Terror"
       ]
      },
      {
       "output_type": "stream",
       "stream": "stdout",
       "text": [
        "\n",
        "g:/filmes/Terror/O Escondido (1987) Jack Sholder - Terror"
       ]
      },
      {
       "output_type": "stream",
       "stream": "stdout",
       "text": [
        "\n",
        "g:/filmes/Terror/O Ex\u00e9rcito das Trevas (2013) Richard Raaphorst - Terror"
       ]
      },
      {
       "output_type": "stream",
       "stream": "stdout",
       "text": [
        "\n",
        "g:/filmes/Terror/O Jardim dos Esquecidos (1987) Jeffrey Bloom"
       ]
      },
      {
       "output_type": "stream",
       "stream": "stdout",
       "text": [
        "\n",
        "g:/filmes/Terror/O Jardim dos Esquecidos (2014) Debora Chow - Terror"
       ]
      },
      {
       "output_type": "stream",
       "stream": "stdout",
       "text": [
        "\n",
        "g:/filmes/Terror/O Massacre da Serra El\u00e9trica (2013) John Luessenhop"
       ]
      },
      {
       "output_type": "stream",
       "stream": "stdout",
       "text": [
        "\n",
        "g:/filmes/Terror/O Misterioso Assassinato de uma Fam\u00edlia (2010) Fernando Barreda Lima - Terror - M\u00e9xico"
       ]
      },
      {
       "output_type": "stream",
       "stream": "stdout",
       "text": [
        "\n",
        "g:/filmes/Terror/O Mist\u00e9rio de Grace (2009) Paul Solet"
       ]
      },
      {
       "output_type": "stream",
       "stream": "stdout",
       "text": [
        "\n",
        "g:/filmes/Terror/O Mist\u00e9rio do Cesto (1982) Frank Henenlotter"
       ]
      },
      {
       "output_type": "stream",
       "stream": "stdout",
       "text": [
        "\n",
        "g:/filmes/Terror/O M\u00e9dico e o Monstro ((2008) Paolo Barzman"
       ]
      },
      {
       "output_type": "stream",
       "stream": "stdout",
       "text": [
        "\n",
        "g:/filmes/Terror/O M\u00e9dico e o Monstro (1941) Victor Flemming"
       ]
      },
      {
       "output_type": "stream",
       "stream": "stdout",
       "text": [
        "\n",
        "g:/filmes/Terror/O Olho que Tudo V\u00ea (2002) Marc Evans"
       ]
      },
      {
       "output_type": "stream",
       "stream": "stdout",
       "text": [
        "\n",
        "g:/filmes/Terror/O Pacto dos Lobos (2001) Christophe Gans"
       ]
      },
      {
       "output_type": "stream",
       "stream": "stdout",
       "text": [
        "\n",
        "g:/filmes/Terror/O Retorno (2006) Asif Kapadia - Terror"
       ]
      },
      {
       "output_type": "stream",
       "stream": "stdout",
       "text": [
        "\n",
        "g:/filmes/Terror/O Santo (2012) Dick Maas"
       ]
      },
      {
       "output_type": "stream",
       "stream": "stdout",
       "text": [
        "\n",
        "g:/filmes/Terror/O Sil\u00eancio do Lago (1988) George Sluizer"
       ]
      },
      {
       "output_type": "stream",
       "stream": "stdout",
       "text": [
        "\n",
        "g:/filmes/Terror/O Sil\u00eancio do Lago (1993) George Sluizer"
       ]
      },
      {
       "output_type": "stream",
       "stream": "stdout",
       "text": [
        "\n",
        "g:/filmes/Terror/O Vale (2012) Michael Axelgaard"
       ]
      },
      {
       "output_type": "stream",
       "stream": "stdout",
       "text": [
        "\n",
        "g:/filmes/Terror/Olhos de Gato (1985) Lewis Teague - Terror"
       ]
      },
      {
       "output_type": "stream",
       "stream": "stdout",
       "text": [
        "\n",
        "g:/filmes/Terror/Olhos do Mal (2009) Elio Quiroga - Espanha"
       ]
      },
      {
       "output_type": "stream",
       "stream": "stdout",
       "text": [
        "\n",
        "g:/filmes/Terror/Omn\u00edvoros (2013) \u00d3scar Rojo - Espanha - Terror"
       ]
      },
      {
       "output_type": "stream",
       "stream": "stdout",
       "text": [
        "\n",
        "g:/filmes/Terror/Os Escolhidos (2013) Scott Stewart - Terror"
       ]
      },
      {
       "output_type": "stream",
       "stream": "stdout",
       "text": [
        "\n",
        "g:/filmes/Terror/Os Estranhos (2008) Bryan Bertino"
       ]
      },
      {
       "output_type": "stream",
       "stream": "stdout",
       "text": [
        "\n",
        "g:/filmes/Terror/Os Inocentes (1961) Jack Clayton - Terror"
       ]
      },
      {
       "output_type": "stream",
       "stream": "stdout",
       "text": [
        "\n",
        "g:/filmes/Terror/Os \u00daltimos Dias (2011) R. Christian Anderson"
       ]
      },
      {
       "output_type": "stream",
       "stream": "stdout",
       "text": [
        "\n",
        "g:/filmes/Terror/Os \u00daltimos Dias (2013) \u00c0lex Pastor - Espanha - Terror"
       ]
      },
      {
       "output_type": "stream",
       "stream": "stdout",
       "text": [
        "\n",
        "g:/filmes/Terror/Ovelha Negra (2006) Jonathan Kings - Nova Zel\u00e2ndia - Terror"
       ]
      },
      {
       "output_type": "stream",
       "stream": "stdout",
       "text": [
        "\n",
        "g:/filmes/Terror/Palha\u00e7os Assassinos (1989) Victor Salva"
       ]
      },
      {
       "output_type": "stream",
       "stream": "stdout",
       "text": [
        "\n",
        "g:/filmes/Terror/Palha\u00e7os Assassinos do Espa\u00e7o Sideral (1988) Stephen Chiodo"
       ]
      },
      {
       "output_type": "stream",
       "stream": "stdout",
       "text": [
        "\n",
        "g:/filmes/Terror/Passado Obscuro (2011) Susan Jacobson - Terror"
       ]
      },
      {
       "output_type": "stream",
       "stream": "stdout",
       "text": [
        "\n",
        "g:/filmes/Terror/Perfect Number (2012) Eun-jin Pang - Cor\u00e9ia do Sul - Terror"
       ]
      },
      {
       "output_type": "stream",
       "stream": "stdout",
       "text": [
        "\n",
        "g:/filmes/Terror/Piranhaconda (2011) Jim Wynorski - Terror"
       ]
      },
      {
       "output_type": "stream",
       "stream": "stdout",
       "text": [
        "\n",
        "g:/filmes/Terror/Planeta Feroz (2011) Billy O'Brien - Terror"
       ]
      },
      {
       "output_type": "stream",
       "stream": "stdout",
       "text": [
        "\n",
        "g:/filmes/Terror/Planeta Terror (2007) Robert Rodriguez"
       ]
      },
      {
       "output_type": "stream",
       "stream": "stdout",
       "text": [
        "\n",
        "g:/filmes/Terror/Plush (2013) Catherine Hardwicke - Terror"
       ]
      },
      {
       "output_type": "stream",
       "stream": "stdout",
       "text": [
        "\n",
        "g:/filmes/Terror/Pontypool (2008) Bruce McDonald - Canad\u00e1"
       ]
      },
      {
       "output_type": "stream",
       "stream": "stdout",
       "text": [
        "\n",
        "g:/filmes/Terror/Popula\u00e7\u00e3o 436 (2006) Michelle Makwell MacLaren"
       ]
      },
      {
       "output_type": "stream",
       "stream": "stdout",
       "text": [
        "\n",
        "g:/filmes/Terror/Posto de Guarda 506 (2008) Su-chang Kong - Cor\u00e9ia do Sul"
       ]
      },
      {
       "output_type": "stream",
       "stream": "stdout",
       "text": [
        "\n",
        "g:/filmes/Terror/Prank (2013) Yiu Wing Lam - Terror"
       ]
      },
      {
       "output_type": "stream",
       "stream": "stdout",
       "text": [
        "\n",
        "g:/filmes/Terror/Pridyider (2012) Rico Maria Ilarde - Terror"
       ]
      },
      {
       "output_type": "stream",
       "stream": "stdout",
       "text": [
        "\n",
        "g:/filmes/Terror/Primer (2004) Shane Carruth -Terror"
       ]
      },
      {
       "output_type": "stream",
       "stream": "stdout",
       "text": [
        "\n",
        "g:/filmes/Terror/Pr\u00edncipe das Sombras (1987) John Carpenter - Terror"
       ]
      },
      {
       "output_type": "stream",
       "stream": "stdout",
       "text": [
        "\n",
        "g:/filmes/Terror/Psychometry (2013) Ho-Young Kweon - Cor\u00e9ia do Sul - Terror"
       ]
      },
      {
       "output_type": "stream",
       "stream": "stdout",
       "text": [
        "\n",
        "g:/filmes/Terror/Quarentena (2005) Billy O'Brien"
       ]
      },
      {
       "output_type": "stream",
       "stream": "stdout",
       "text": [
        "\n",
        "g:/filmes/Terror/Quatro Moscas Sobre Veludo Cinza (1971) Dario Argento - Terror"
       ]
      },
      {
       "output_type": "stream",
       "stream": "stdout",
       "text": [
        "\n",
        "g:/filmes/Terror/Rabid Grannies (1988) Emmanuel Kervyn - TROMA"
       ]
      },
      {
       "output_type": "stream",
       "stream": "stdout",
       "text": [
        "\n",
        "g:/filmes/Terror/Reboot (2012) Joe Kawasaki"
       ]
      },
      {
       "output_type": "stream",
       "stream": "stdout",
       "text": [
        "\n",
        "g:/filmes/Terror/REC 3 Genesis (2012) Paco Plaza"
       ]
      },
      {
       "output_type": "stream",
       "stream": "stdout",
       "text": [
        "\n",
        "g:/filmes/Terror/Recria\u00e7\u00e3o (2012) Gregory Orr"
       ]
      },
      {
       "output_type": "stream",
       "stream": "stdout",
       "text": [
        "\n",
        "g:/filmes/Terror/Redneck Zombies (1989) Pericles Lewnes - Produ\u00e7\u00e3o Troma"
       ]
      },
      {
       "output_type": "stream",
       "stream": "stdout",
       "text": [
        "\n",
        "g:/filmes/Terror/Reed Inc (2012) Daniel Krige - Austr\u00e1lia - Terror"
       ]
      },
      {
       "output_type": "stream",
       "stream": "stdout",
       "text": [
        "\n",
        "g:/filmes/Terror/Ref\u00e9ns do Desconhecido (2008) Ben Rock - Terror"
       ]
      },
      {
       "output_type": "stream",
       "stream": "stdout",
       "text": [
        "\n",
        "g:/filmes/Terror/Rei da Morte (1990) J\u00f6rg Buttgereit - Terror"
       ]
      },
      {
       "output_type": "stream",
       "stream": "stdout",
       "text": [
        "\n",
        "g:/filmes/Terror/Rejeitados pelo Diabo (2005) Rob Zombie"
       ]
      },
      {
       "output_type": "stream",
       "stream": "stdout",
       "text": [
        "\n",
        "g:/filmes/Terror/Repo the Genetic Opera (2008) Darren Lynn Bousman - Terror"
       ]
      },
      {
       "output_type": "stream",
       "stream": "stdout",
       "text": [
        "\n",
        "g:/filmes/Terror/Resolution (2012) Justin Benson e Aaron Moorhead"
       ]
      },
      {
       "output_type": "stream",
       "stream": "stdout",
       "text": [
        "\n",
        "g:/filmes/Terror/Revenant - An American Ghost Story (2012) Derek Cole"
       ]
      },
      {
       "output_type": "stream",
       "stream": "stdout",
       "text": [
        "\n",
        "g:/filmes/Terror/Riddle (2013) John O. Hartman e Nicholas Mross"
       ]
      },
      {
       "output_type": "stream",
       "stream": "stdout",
       "text": [
        "\n",
        "g:/filmes/Terror/Rigor Mortis (2013) Juno Mak - China - Terror"
       ]
      },
      {
       "output_type": "stream",
       "stream": "stdout",
       "text": [
        "\n",
        "g:/filmes/Terror/Ringu (1998) Hideo Nakata"
       ]
      },
      {
       "output_type": "stream",
       "stream": "stdout",
       "text": [
        "\n",
        "g:/filmes/Terror/Ringu 2 (1999) Hideo Nakata"
       ]
      },
      {
       "output_type": "stream",
       "stream": "stdout",
       "text": [
        "\n",
        "g:/filmes/Terror/Ringu Spiral (1998) J\u00f4ji Lida"
       ]
      },
      {
       "output_type": "stream",
       "stream": "stdout",
       "text": [
        "\n",
        "g:/filmes/Terror/Ringu Zero (2000) Norio Tsuruta"
       ]
      },
      {
       "output_type": "stream",
       "stream": "stdout",
       "text": [
        "\n",
        "g:/filmes/Terror/Rise of the Zombie (2013) Luke Kenny e Devaki Singh - \u00cdndia - Terror"
       ]
      },
      {
       "output_type": "stream",
       "stream": "stdout",
       "text": [
        "\n",
        "g:/filmes/Terror/Rota da Morte (2003) Jean-Baptiste Andrea e Fabrice Canepa - Terror"
       ]
      },
      {
       "output_type": "stream",
       "stream": "stdout",
       "text": [
        "\n",
        "g:/filmes/Terror/Rubber (2010)"
       ]
      },
      {
       "output_type": "stream",
       "stream": "stdout",
       "text": [
        "\n",
        "g:/filmes/Terror/Rushlights (2013) Antoni Stutz - Terror"
       ]
      },
      {
       "output_type": "stream",
       "stream": "stdout",
       "text": [
        "\n",
        "g:/filmes/Terror/R\u00e9plicas (2012) Jeremy Power Regimbal - Canad\u00e1 - Terror"
       ]
      },
      {
       "output_type": "stream",
       "stream": "stdout",
       "text": [
        "\n",
        "g:/filmes/Terror/Saco de Ossos (2011) Mick Garris - Terror - Minis\u00e9rie 2 Epis\u00f3dios"
       ]
      },
      {
       "output_type": "stream",
       "stream": "stdout",
       "text": [
        "\n",
        "g:/filmes/Terror/Saturday Morning Mystery (2012) Spencer Parsons"
       ]
      },
      {
       "output_type": "stream",
       "stream": "stdout",
       "text": [
        "\n",
        "g:/filmes/Terror/Sat\u00e3 (2006) Kim Chapiron - Fran\u00e7a"
       ]
      },
      {
       "output_type": "stream",
       "stream": "stdout",
       "text": [
        "\n",
        "g:/filmes/Terror/Savage Love (2012) Olaf Ittenbach - Alemanha - Terror"
       ]
      },
      {
       "output_type": "stream",
       "stream": "stdout",
       "text": [
        "\n",
        "g:/filmes/Terror/Schramm (1994) J\u00f6rg Buttgerett - Alemanha"
       ]
      },
      {
       "output_type": "stream",
       "stream": "stdout",
       "text": [
        "\n",
        "g:/filmes/Terror/Scorned (2013) Mark Jones - Terror"
       ]
      },
      {
       "output_type": "stream",
       "stream": "stdout",
       "text": [
        "\n",
        "g:/filmes/Terror/Scrapbook (2000) Eric Stanze - Terror - Adulto"
       ]
      },
      {
       "output_type": "stream",
       "stream": "stdout",
       "text": [
        "\n",
        "g:/filmes/Terror/Secrets In The Walls (2011) Christopher Leitch"
       ]
      },
      {
       "output_type": "stream",
       "stream": "stdout",
       "text": [
        "\n",
        "g:/filmes/Terror/Seres Rastejantes (2006) James Gun"
       ]
      },
      {
       "output_type": "stream",
       "stream": "stdout",
       "text": [
        "\n",
        "g:/filmes/Terror/Sharknado (2013) Anthony C. Ferrante - Terror"
       ]
      },
      {
       "output_type": "stream",
       "stream": "stdout",
       "text": [
        "\n",
        "g:/filmes/Terror/Shiver (2012) Julian Richards - Terror"
       ]
      },
      {
       "output_type": "stream",
       "stream": "stdout",
       "text": [
        "\n",
        "g:/filmes/Terror/Shocker (1989) Wes Craven - Terror"
       ]
      },
      {
       "output_type": "stream",
       "stream": "stdout",
       "text": [
        "\n",
        "g:/filmes/Terror/Silent Hill Revelation (2012) Michael J. Basset - Terror"
       ]
      },
      {
       "output_type": "stream",
       "stream": "stdout",
       "text": [
        "\n",
        "g:/filmes/Terror/Skinwalker Ranch (2013) Devin McGinn - Terror"
       ]
      },
      {
       "output_type": "stream",
       "stream": "stdout",
       "text": [
        "\n",
        "g:/filmes/Terror/Slaughter (2009) Stewart Hopewell - Terror"
       ]
      },
      {
       "output_type": "stream",
       "stream": "stdout",
       "text": [
        "\n",
        "g:/filmes/Terror/Smiley (2012) Michael J. Callagher"
       ]
      },
      {
       "output_type": "stream",
       "stream": "stdout",
       "text": [
        "\n",
        "g:/filmes/Terror/Snuff 102 (2007) Mariano Peralta - Argentina"
       ]
      },
      {
       "output_type": "stream",
       "stream": "stdout",
       "text": [
        "\n",
        "g:/filmes/Terror/Sobrenatural; Cap\u00edtulo 2 (2013) James Wan - Terror"
       ]
      },
      {
       "output_type": "stream",
       "stream": "stdout",
       "text": [
        "\n",
        "g:/filmes/Terror/Solo (2013) Isaac Cravis - Canad\u00e1 - Terror"
       ]
      },
      {
       "output_type": "stream",
       "stream": "stdout",
       "text": [
        "\n",
        "g:/filmes/Terror/Sombras do Al\u00e9m (2013) John Penney - Terror"
       ]
      },
      {
       "output_type": "stream",
       "stream": "stdout",
       "text": [
        "\n",
        "g:/filmes/Terror/Someones Knocking at the Door (2009) Chad Ferrin"
       ]
      },
      {
       "output_type": "stream",
       "stream": "stdout",
       "text": [
        "\n",
        "g:/filmes/Terror/Somos Lo Que Hay (2010) Jorge Miguel Grau - M\u00e9xico - Terror"
       ]
      },
      {
       "output_type": "stream",
       "stream": "stdout",
       "text": [
        "\n",
        "g:/filmes/Terror/Somos o que Somos (2013) Jim Mickle - Terror"
       ]
      },
      {
       "output_type": "stream",
       "stream": "stdout",
       "text": [
        "\n",
        "g:/filmes/Terror/Sorority Party Massacre (2013) Chris W. Freeman e Justin Jones - Terror"
       ]
      },
      {
       "output_type": "stream",
       "stream": "stdout",
       "text": [
        "\n",
        "g:/filmes/Terror/Stalled (2013) Christian James - Terror"
       ]
      },
      {
       "output_type": "stream",
       "stream": "stdout",
       "text": [
        "\n",
        "g:/filmes/Terror/Stitches (2012) Conor McMahon - Irlanda - Terror"
       ]
      },
      {
       "output_type": "stream",
       "stream": "stdout",
       "text": [
        "\n",
        "g:/filmes/Terror/Taped (2012) Diederik Van Rooijen - Holanda"
       ]
      },
      {
       "output_type": "stream",
       "stream": "stdout",
       "text": [
        "\n",
        "g:/filmes/Terror/Teeth; A Vagina Dentada (2007) Mitchell Lichtenstein"
       ]
      },
      {
       "output_type": "stream",
       "stream": "stdout",
       "text": [
        "\n",
        "g:/filmes/Terror/Tempestade Fantasma (2011) Paul Ziller - Terror"
       ]
      },
      {
       "output_type": "stream",
       "stream": "stdout",
       "text": [
        "\n",
        "g:/filmes/Terror/Terror na Ilha (2012) Katie Aselton - Terror"
       ]
      },
      {
       "output_type": "stream",
       "stream": "stdout",
       "text": [
        "\n",
        "g:/filmes/Terror/Thanatomorphose (2012) \u00c9ric Falardeau - Canad\u00e1 - Terror"
       ]
      },
      {
       "output_type": "stream",
       "stream": "stdout",
       "text": [
        "\n",
        "g:/filmes/Terror/The 8th Plague (2006) Franklin Guerrero Jr"
       ]
      },
      {
       "output_type": "stream",
       "stream": "stdout",
       "text": [
        "\n",
        "g:/filmes/Terror/The Asylum Tapes (2012) Sean Stone"
       ]
      },
      {
       "output_type": "stream",
       "stream": "stdout",
       "text": [
        "\n",
        "g:/filmes/Terror/The Bay (2012) Barry Levinson - Terror"
       ]
      },
      {
       "output_type": "stream",
       "stream": "stdout",
       "text": [
        "\n",
        "g:/filmes/Terror/The Bell Witch Haunting (2013) - Terror"
       ]
      },
      {
       "output_type": "stream",
       "stream": "stdout",
       "text": [
        "\n",
        "g:/filmes/Terror/The Blackout (2009) Robert David Sanders - Terror"
       ]
      },
      {
       "output_type": "stream",
       "stream": "stdout",
       "text": [
        "\n",
        "g:/filmes/Terror/The Butterfly Room (2012) Jonathan Zarantonello - Terror"
       ]
      },
      {
       "output_type": "stream",
       "stream": "stdout",
       "text": [
        "\n",
        "g:/filmes/Terror/The Canyon (2009) Richard Harrah"
       ]
      },
      {
       "output_type": "stream",
       "stream": "stdout",
       "text": [
        "\n",
        "g:/filmes/Terror/The Children (2008) Tom Shankland - Terror"
       ]
      },
      {
       "output_type": "stream",
       "stream": "stdout",
       "text": [
        "\n",
        "g:/filmes/Terror/The Cloth (2013) Justin Price - Terror"
       ]
      },
      {
       "output_type": "stream",
       "stream": "stdout",
       "text": [
        "\n",
        "g:/filmes/Terror/The Complex (2013) Hideo Nakata - Terror"
       ]
      },
      {
       "output_type": "stream",
       "stream": "stdout",
       "text": [
        "\n",
        "g:/filmes/Terror/The Conspiracy (2012) Christopher MacBride - Terror"
       ]
      },
      {
       "output_type": "stream",
       "stream": "stdout",
       "text": [
        "\n",
        "g:/filmes/Terror/The Crone (2013) Eisuke Nait\u00f4 - Jap\u00e3o - Terror"
       ]
      },
      {
       "output_type": "stream",
       "stream": "stdout",
       "text": [
        "\n",
        "g:/filmes/Terror/The Dead Inside (2011) Travis Betz - Terror"
       ]
      },
      {
       "output_type": "stream",
       "stream": "stdout",
       "text": [
        "\n",
        "g:/filmes/Terror/The Dead Outside (2008) Kerry Anne Mullaney"
       ]
      },
      {
       "output_type": "stream",
       "stream": "stdout",
       "text": [
        "\n",
        "g:/filmes/Terror/The Devils Carnival (2012) Darren Lynn Bousman"
       ]
      },
      {
       "output_type": "stream",
       "stream": "stdout",
       "text": [
        "\n",
        "g:/filmes/Terror/The Dyatlov Pass Incident (2013) Renny Harlin"
       ]
      },
      {
       "output_type": "stream",
       "stream": "stdout",
       "text": [
        "\n",
        "g:/filmes/Terror/The Flu (2013) Sung-su Kim - Cor\u00e9ia do Sul - Terror"
       ]
      },
      {
       "output_type": "stream",
       "stream": "stdout",
       "text": [
        "\n",
        "g:/filmes/Terror/The Good Doctor (2011) Lance Daly - Terror"
       ]
      },
      {
       "output_type": "stream",
       "stream": "stdout",
       "text": [
        "\n",
        "g:/filmes/Terror/The House on the Edge of the Park (1980) Ruggero Deodato"
       ]
      },
      {
       "output_type": "stream",
       "stream": "stdout",
       "text": [
        "\n",
        "g:/filmes/Terror/The Invoking (2013) Jeremy Berg - Terror"
       ]
      },
      {
       "output_type": "stream",
       "stream": "stdout",
       "text": [
        "\n",
        "g:/filmes/Terror/The Jungle (2013) Andrew Traucki - Austr\u00e1lia - Terror"
       ]
      },
      {
       "output_type": "stream",
       "stream": "stdout",
       "text": [
        "\n",
        "g:/filmes/Terror/The Last Days on Mars (2013) Ruairi Robinson - Terror"
       ]
      },
      {
       "output_type": "stream",
       "stream": "stdout",
       "text": [
        "\n",
        "g:/filmes/Terror/The Lords Of Salem (2012) Rob Zombie"
       ]
      },
      {
       "output_type": "stream",
       "stream": "stdout",
       "text": [
        "\n",
        "g:/filmes/Terror/The Lost (2009) Bryan Goeres - Terror"
       ]
      },
      {
       "output_type": "stream",
       "stream": "stdout",
       "text": [
        "\n",
        "g:/filmes/Terror/The Meat Grinder (2009) Tiwa Moeithaisong - Tail\u00e2ndia - Terror"
       ]
      },
      {
       "output_type": "stream",
       "stream": "stdout",
       "text": [
        "\n",
        "g:/filmes/Terror/The Poughkeepsie Tapes (2007) John Erick Dowdle"
       ]
      },
      {
       "output_type": "stream",
       "stream": "stdout",
       "text": [
        "\n",
        "g:/filmes/Terror/The Road (2011) Yam Laranas - Filipinas - Terror"
       ]
      },
      {
       "output_type": "stream",
       "stream": "stdout",
       "text": [
        "\n",
        "g:/filmes/Terror/The Seasoning House (2012) Paul Hyett - Terror"
       ]
      },
      {
       "output_type": "stream",
       "stream": "stdout",
       "text": [
        "\n",
        "g:/filmes/Terror/The Secret Village (2013) Swamy M. Kandan - Terror"
       ]
      },
      {
       "output_type": "stream",
       "stream": "stdout",
       "text": [
        "\n",
        "g:/filmes/Terror/The Taint (2010) Drew Bolduc e Dan Nelson"
       ]
      },
      {
       "output_type": "stream",
       "stream": "stdout",
       "text": [
        "\n",
        "g:/filmes/Terror/The Tall Man (2012) Pascal Laugier"
       ]
      },
      {
       "output_type": "stream",
       "stream": "stdout",
       "text": [
        "\n",
        "g:/filmes/Terror/The Tower (2012) Ji-hoon Kim - Cor\u00e9ia do Sul"
       ]
      },
      {
       "output_type": "stream",
       "stream": "stdout",
       "text": [
        "\n",
        "g:/filmes/Terror/The Truth About Emanuel (2013) Francesca Gregorini - Terror"
       ]
      },
      {
       "output_type": "stream",
       "stream": "stdout",
       "text": [
        "\n",
        "g:/filmes/Terror/The Unbroken (2012) Jason Murphy - Terror"
       ]
      },
      {
       "output_type": "stream",
       "stream": "stdout",
       "text": [
        "\n",
        "g:/filmes/Terror/The Wicked (2013) Peter Winther - Terror"
       ]
      },
      {
       "output_type": "stream",
       "stream": "stdout",
       "text": [
        "\n",
        "g:/filmes/Terror/Thongsook 13 (2013) Taweewat Wantha - Tail\u00e2ndia - Terror"
       ]
      },
      {
       "output_type": "stream",
       "stream": "stdout",
       "text": [
        "\n",
        "g:/filmes/Terror/Toque de Recolher (2006) Chris Gorak - Terror"
       ]
      },
      {
       "output_type": "stream",
       "stream": "stdout",
       "text": [
        "\n",
        "g:/filmes/Terror/Torched (2004) Ryan Nicholson - Canad\u00e1 - Terror"
       ]
      },
      {
       "output_type": "stream",
       "stream": "stdout",
       "text": [
        "\n",
        "g:/filmes/Terror/Tower Block (2012) James Nunn e Ronnie Thompson - Terror"
       ]
      },
      {
       "output_type": "stream",
       "stream": "stdout",
       "text": [
        "\n",
        "g:/filmes/Terror/Train (2008) Gideon Raff - Terror"
       ]
      },
      {
       "output_type": "stream",
       "stream": "stdout",
       "text": [
        "\n",
        "g:/filmes/Terror/Trilha de Sangue (2006) Robert Krause - Alemanha"
       ]
      },
      {
       "output_type": "stream",
       "stream": "stdout",
       "text": [
        "\n",
        "g:/filmes/Terror/Trilha de Sangue (2006) Robert Krause - Terror"
       ]
      },
      {
       "output_type": "stream",
       "stream": "stdout",
       "text": [
        "\n",
        "g:/filmes/Terror/Tudo po Ela (2006) Jonathan Levins - Terror"
       ]
      },
      {
       "output_type": "stream",
       "stream": "stdout",
       "text": [
        "\n",
        "g:/filmes/Terror/U.F.O. (2012) Dominic Burns - Reino Unido"
       ]
      },
      {
       "output_type": "stream",
       "stream": "stdout",
       "text": [
        "\n",
        "g:/filmes/Terror/Um Sussurro nas Trevas (2011) Sean Branney - Terror"
       ]
      },
      {
       "output_type": "stream",
       "stream": "stdout",
       "text": [
        "\n",
        "g:/filmes/Terror/Um Terror de Equipe (1999) Loyd Kaufman - TROMA"
       ]
      },
      {
       "output_type": "stream",
       "stream": "stdout",
       "text": [
        "\n",
        "g:/filmes/Terror/Under the Bed (2012) Steven C. Miller"
       ]
      },
      {
       "output_type": "stream",
       "stream": "stdout",
       "text": [
        "\n",
        "g:/filmes/Terror/Vampiro - Paix\u00e3o Imortal (1992) Shimako Sato"
       ]
      },
      {
       "output_type": "stream",
       "stream": "stdout",
       "text": [
        "\n",
        "g:/filmes/Terror/Venom (2005) Jim Gillespie - Terror"
       ]
      },
      {
       "output_type": "stream",
       "stream": "stdout",
       "text": [
        "\n",
        "g:/filmes/Terror/Verdade e Consequ\u00eancia (2012) Robert Heath"
       ]
      },
      {
       "output_type": "stream",
       "stream": "stdout",
       "text": [
        "\n",
        "g:/filmes/Terror/Vessel (2012) Clark Baker"
       ]
      },
      {
       "output_type": "stream",
       "stream": "stdout",
       "text": [
        "\n",
        "g:/filmes/Terror/VHS (2012) V\u00e1rios Diretores - Terror"
       ]
      },
      {
       "output_type": "stream",
       "stream": "stdout",
       "text": [
        "\n",
        "g:/filmes/Terror/VHS 2 (2013) Simon Barret - Terror"
       ]
      },
      {
       "output_type": "stream",
       "stream": "stdout",
       "text": [
        "\n",
        "g:/filmes/Terror/Virus (1999) John Bruno - Terror"
       ]
      },
      {
       "output_type": "stream",
       "stream": "stdout",
       "text": [
        "\n",
        "g:/filmes/Terror/Visible Scars (2012) Richard Turke - Terror"
       ]
      },
      {
       "output_type": "stream",
       "stream": "stdout",
       "text": [
        "\n",
        "g:/filmes/Terror/Voc\u00ea \u00e9 o Pr\u00f3ximo (2011) Adam Wingard - Terror"
       ]
      },
      {
       "output_type": "stream",
       "stream": "stdout",
       "text": [
        "\n",
        "g:/filmes/Terror/Wither (2012) Sonny Laguna e Tommy Wiklund - Su\u00e9cia - Terror"
       ]
      },
      {
       "output_type": "stream",
       "stream": "stdout",
       "text": [
        "\n",
        "g:/filmes/Terror/Would You Rather (2012) David Guy Levy"
       ]
      },
      {
       "output_type": "stream",
       "stream": "stdout",
       "text": [
        "\n",
        "g:/filmes/Terror/Yeti; Curse of the Snow Demon (2008) Paul Ziller - Terror"
       ]
      },
      {
       "output_type": "stream",
       "stream": "stdout",
       "text": [
        "\n",
        "g:/filmes/Terror/Zelwood (2012) Jason Sutton - Terror"
       ]
      },
      {
       "output_type": "stream",
       "stream": "stdout",
       "text": [
        "\n",
        "g:/filmes/Terror/Zombex (2013) Jesse Dayton - Terror"
       ]
      },
      {
       "output_type": "stream",
       "stream": "stdout",
       "text": [
        "\n",
        "g:/filmes/Terror/Zombie Ass Toilet of the Dead (2012) Noboru Iguchi - Jap\u00e3o - Terror"
       ]
      },
      {
       "output_type": "stream",
       "stream": "stdout",
       "text": [
        "\n",
        "g:/filmes/Terror/Zombie Hunter (2013) K.King - Terror"
       ]
      },
      {
       "output_type": "stream",
       "stream": "stdout",
       "text": [
        "\n",
        "g:/filmes/Terror/Zombie Massacre (2013) Luca Boni e Marco Ristori - Terror"
       ]
      },
      {
       "output_type": "stream",
       "stream": "stdout",
       "text": [
        "\n",
        "g:/filmes/Terror/Zwart Water (2010) Elbert Van Strien"
       ]
      },
      {
       "output_type": "stream",
       "stream": "stdout",
       "text": [
        "\n",
        "g:/filmes/Animacao/9 - A Salva\u00e7\u00e3o (2009) Shane Acker"
       ]
      },
      {
       "output_type": "stream",
       "stream": "stdout",
       "text": [
        "\n",
        "g:/filmes/Animacao/A Charlie Brown Christmas (1965) Bill Melendefz"
       ]
      },
      {
       "output_type": "stream",
       "stream": "stdout",
       "text": [
        "\n",
        "g:/filmes/Animacao/A Dama e o Vagabundo 2 (2001) Darrell Rooney"
       ]
      },
      {
       "output_type": "stream",
       "stream": "stdout",
       "text": [
        "\n",
        "g:/filmes/Animacao/A Era do Gelo (2002) Chris Wedge, Carlos Saldanha"
       ]
      },
      {
       "output_type": "stream",
       "stream": "stdout",
       "text": [
        "\n",
        "g:/filmes/Animacao/A Morte do Superman (2007)"
       ]
      },
      {
       "output_type": "stream",
       "stream": "stdout",
       "text": [
        "\n",
        "g:/filmes/Animacao/A Noiva Cad\u00e1ver (2005) Tim Burton"
       ]
      },
      {
       "output_type": "stream",
       "stream": "stdout",
       "text": [
        "\n",
        "g:/filmes/Animacao/A Viagem de Chihiro (2001) Hayao Miyazaki"
       ]
      },
      {
       "output_type": "stream",
       "stream": "stdout",
       "text": [
        "\n",
        "g:/filmes/Animacao/Akira (1988) Katsuhiro Otomo"
       ]
      },
      {
       "output_type": "stream",
       "stream": "stdout",
       "text": [
        "\n"
       ]
      },
      {
       "ename": "KeyError",
       "evalue": "'disk_path'",
       "output_type": "pyerr",
       "traceback": [
        "\u001b[1;31m---------------------------------------------------------------------------\u001b[0m\n\u001b[1;31mKeyError\u001b[0m                                  Traceback (most recent call last)",
        "\u001b[1;32m<ipython-input-68-54305a0aedf6>\u001b[0m in \u001b[0;36m<module>\u001b[1;34m()\u001b[0m\n\u001b[0;32m      1\u001b[0m \u001b[1;31m#solr.delete(q=\"*:*\")\u001b[0m\u001b[1;33m\u001b[0m\u001b[1;33m\u001b[0m\u001b[0m\n\u001b[0;32m      2\u001b[0m \u001b[1;31m#solr.commit()\u001b[0m\u001b[1;33m\u001b[0m\u001b[1;33m\u001b[0m\u001b[0m\n\u001b[1;32m----> 3\u001b[1;33m \u001b[0mle_imdb_json\u001b[0m\u001b[1;33m(\u001b[0m\u001b[1;33m)\u001b[0m\u001b[1;33m\u001b[0m\u001b[0m\n\u001b[0m",
        "\u001b[1;32m<ipython-input-67-60eb7baa1b88>\u001b[0m in \u001b[0;36mle_imdb_json\u001b[1;34m()\u001b[0m\n\u001b[0;32m     45\u001b[0m                         \u001b[0mks\u001b[0m \u001b[1;33m=\u001b[0m \u001b[0mk\u001b[0m \u001b[1;33m+\u001b[0m \u001b[1;34m\"_s\"\u001b[0m\u001b[1;33m\u001b[0m\u001b[0m\n\u001b[0;32m     46\u001b[0m                     \u001b[0mdados_solr\u001b[0m\u001b[1;33m[\u001b[0m\u001b[0mks\u001b[0m\u001b[1;33m]\u001b[0m \u001b[1;33m=\u001b[0m \u001b[0mv\u001b[0m\u001b[1;33m\u001b[0m\u001b[0m\n\u001b[1;32m---> 47\u001b[1;33m                     \u001b[0mdados_solr\u001b[0m\u001b[1;33m[\u001b[0m\u001b[1;34m'id'\u001b[0m\u001b[1;33m]\u001b[0m \u001b[1;33m=\u001b[0m \u001b[0mhashlib\u001b[0m\u001b[1;33m.\u001b[0m\u001b[0msha256\u001b[0m\u001b[1;33m(\u001b[0m\u001b[0mdados\u001b[0m\u001b[1;33m[\u001b[0m\u001b[1;34m\"disk_path\"\u001b[0m\u001b[1;33m]\u001b[0m\u001b[1;33m)\u001b[0m\u001b[1;33m.\u001b[0m\u001b[0mhexdigest\u001b[0m\u001b[1;33m(\u001b[0m\u001b[1;33m)\u001b[0m\u001b[1;33m\u001b[0m\u001b[0m\n\u001b[0m\u001b[0;32m     48\u001b[0m \u001b[1;33m\u001b[0m\u001b[0m\n\u001b[0;32m     49\u001b[0m                 \u001b[1;31m#print dados_solr\u001b[0m\u001b[1;33m\u001b[0m\u001b[1;33m\u001b[0m\u001b[0m\n",
        "\u001b[1;31mKeyError\u001b[0m: 'disk_path'"
       ]
      }
     ],
     "prompt_number": 68
    },
    {
     "cell_type": "code",
     "collapsed": false,
     "input": [],
     "language": "python",
     "metadata": {},
     "outputs": []
    }
   ],
   "metadata": {}
  }
 ]
}