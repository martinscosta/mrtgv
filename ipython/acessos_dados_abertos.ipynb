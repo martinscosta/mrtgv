{
 "metadata": {
  "name": "",
  "signature": "sha256:796909e4b55ee8df13191f0c78400de34298535c966d2b945bca0e4015b13d4c"
 },
 "nbformat": 3,
 "nbformat_minor": 0,
 "worksheets": [
  {
   "cells": [
    {
     "cell_type": "code",
     "collapsed": false,
     "input": [
      "import apachelog, sys\n",
      "import pandas as pd\n",
      "import numpy as np\n",
      "from pandas import Series, DataFrame, Panel"
     ],
     "language": "python",
     "metadata": {},
     "outputs": [],
     "prompt_number": 30
    },
    {
     "cell_type": "code",
     "collapsed": false,
     "input": [
      "fformat = r'%h %l %u %t \\\"%r\\\" %>s %b \\\"%i\\\" \\\"%{User-Agent}i\\\"'"
     ],
     "language": "python",
     "metadata": {},
     "outputs": [],
     "prompt_number": 31
    },
    {
     "cell_type": "code",
     "collapsed": false,
     "input": [
      "p = apachelog.parser(fformat)"
     ],
     "language": "python",
     "metadata": {},
     "outputs": [],
     "prompt_number": 32
    },
    {
     "cell_type": "code",
     "collapsed": false,
     "input": [
      "sample_string = 'koldunov.net 85.26.235.202 - - [16/Mar/2013:00:19:43 +0400] \"GET /?p=364 HTTP/1.0\" 200 65237 \"http://koldunov.net/?p=364\" \"Mozilla/5.0 (Windows NT 5.1) AppleWebKit/537.11 (KHTML, like Gecko) Chrome/23.0.1271.64 Safari/537.11\" 0'\n",
      "sample_string = '172.17.44.106 - - [17/Nov/2014:20:59:09 -0200] \"GET /dadoscsv/judicial/judicial_movimentos_2014_10.zip HTTP/1.1\" 200 521789 \"http://dados.mprs.mp.br/dados_abertos/datasets/judicial/movimentos/\" \"Mozilla/4.0 (compatible; MSIE 7.0; Windows NT 6.1; Trident/5.0; SLCC2; .NET CLR 2.0.50727; .NET CLR 3.5.30729; .NET CLR 3.0.30729; Media Center PC 6.0; .NET4.0C; .NET4.0E)\"'    "
     ],
     "language": "python",
     "metadata": {},
     "outputs": [],
     "prompt_number": 33
    },
    {
     "cell_type": "code",
     "collapsed": false,
     "input": [
      "\n",
      "log = open(\"D:/srv/Apache24/www/apache.marco.br/acessos_da/dados-access.log\").readlines()\n",
      "# Parse every line of it and create a list of dictionaries:\n",
      "log_list = []\n",
      "for line in log:\n",
      "       try:\n",
      "          data = p.parse(line)\n",
      "       except:\n",
      "          sys.stderr.write(\"Unable to parse %s\" % line)\n",
      "       data['%t'] = data['%t'][1:12]+' '+data['%t'][13:21]+' '+data['%t'][22:27]\n",
      "      \n",
      "       log_list.append(data)"
     ],
     "language": "python",
     "metadata": {},
     "outputs": [
      {
       "output_type": "stream",
       "stream": "stderr",
       "text": [
        "Unable to parse 172.17.224.203 - - [17/Nov/2014:07:33:43 -0200] \"GET / HTTP/1.1\" 200 8855\n",
        "Unable to parse 172.17.224.203 - - [17/Nov/2014:07:33:43 -0200] \"GET /static/dados_abertos/css/dados_abertos.css HTTP/1.1\" 304 -\n",
        "Unable to parse 172.17.224.203 - - [17/Nov/2014:07:33:43 -0200] \"GET /static/dados_abertos/img/dados-logo00.png HTTP/1.1\" 304 -\n",
        "Unable to parse 172.17.224.203 - - [17/Nov/2014:07:33:43 -0200] \"GET /static/dados_abertos/img/torres02.png HTTP/1.1\" 304 -\n",
        "Unable to parse 172.17.224.203 - - [17/Nov/2014:07:33:43 -0200] \"GET /static/dados_abertos/img/dados.png HTTP/1.1\" 304 -\n",
        "Unable to parse 172.17.224.203 - - [17/Nov/2014:07:46:48 -0200] \"GET /dados_abertos/ HTTP/1.1\" 200 8855\n",
        "Unable to parse 172.17.224.203 - - [17/Nov/2014:07:47:26 -0200] \"GET /dados_abertos/ HTTP/1.1\" 200 8855\n",
        "Unable to parse 172.17.224.203 - - [17/Nov/2014:07:47:26 -0200] \"GET /dados_abertos/ HTTP/1.1\" 200 8855\n",
        "Unable to parse 172.17.224.203 - - [17/Nov/2014:07:47:26 -0200] \"GET /static/dados_abertos/img/dados.png HTTP/1.1\" 200 1559\n",
        "Unable to parse 172.17.224.203 - - [17/Nov/2014:07:47:26 -0200] \"GET /static/dados_abertos/img/torres02.png HTTP/1.1\" 200 72790\n",
        "Unable to parse 172.17.224.203 - - [17/Nov/2014:07:47:26 -0200] \"GET /static/dados_abertos/css/dados_abertos.css HTTP/1.1\" 200 1897\n",
        "Unable to parse 172.17.224.203 - - [17/Nov/2014:07:47:26 -0200] \"GET /static/dados_abertos/img/dados-logo00.png HTTP/1.1\" 304 -\n",
        "Unable to parse 172.17.224.203 - - [17/Nov/2014:07:47:27 -0200] \"GET /dados_abertos/ HTTP/1.1\" 200 8855\n",
        "Unable to parse 172.17.144.69 - - [17/Nov/2014:08:05:54 -0200] \"GET /dados_abertos/ HTTP/1.1\" 200 8855\n",
        "Unable to parse 172.17.144.69 - - [17/Nov/2014:08:05:54 -0200] \"GET /static/dados_abertos/css/dados_abertos.css HTTP/1.1\" 200 1897\n",
        "Unable to parse 172.17.144.69 - - [17/Nov/2014:08:05:54 -0200] \"GET /static/lib/font-awesome/4.2.0/css/font-awesome.css HTTP/1.1\" 200 26651\n",
        "Unable to parse 172.17.144.69 - - [17/Nov/2014:08:05:54 -0200] \"GET /static/lib/bootstrap/3.2.0/css/bootstrap.css HTTP/1.1\" 200 132546\n",
        "Unable to parse 172.17.144.69 - - [17/Nov/2014:08:05:57 -0200] \"GET /static/dados_abertos/img/dados-logo00.png HTTP/1.1\" 200 3776\n",
        "Unable to parse 172.17.144.69 - - [17/Nov/2014:08:05:57 -0200] \"GET /static/dados_abertos/img/dados.png HTTP/1.1\" 200 1559\n",
        "Unable to parse 172.17.144.69 - - [17/Nov/2014:08:05:57 -0200] \"GET /static/lib/bootstrap/3.2.0/js/bootstrap.min.js HTTP/1.1\" 200 31819\n",
        "Unable to parse 172.17.144.69 - - [17/Nov/2014:08:05:57 -0200] \"GET /static/dados_abertos/img/torres02.png HTTP/1.1\" 200 72790\n",
        "Unable to parse 172.17.144.69 - - [17/Nov/2014:08:05:57 -0200] \"GET /static/lib/jquery/1.11.0/jquery.js HTTP/1.1\" 200 282944\n",
        "Unable to parse 172.17.144.69 - - [17/Nov/2014:08:06:04 -0200] \"GET /dados_abertos/datasets/relacao_promotorias/ HTTP/1.1\" 200 6139\n",
        "Unable to parse 172.17.144.69 - - [17/Nov/2014:08:06:05 -0200] \"GET /static/lib/select2/3.5.1/select2_locale_pt-BR.js HTTP/1.1\" 200 875\n",
        "Unable to parse 172.17.144.69 - - [17/Nov/2014:08:06:05 -0200] \"GET /static/lib/font-awesome/4.2.0/fonts/fontawesome-webfont.eot? HTTP/1.1\" 200 56006\n",
        "Unable to parse 172.17.144.69 - - [17/Nov/2014:08:06:05 -0200] \"GET /static/lib/select2/3.5.1/select2.min.js HTTP/1.1\" 200 65979\n",
        "Unable to parse 172.17.144.69 - - [17/Nov/2014:08:06:05 -0200] \"GET /static/lib/jquery/1.11.0/jquery.js HTTP/1.1\" 206 110929\n",
        "Unable to parse 172.17.144.69 - - [17/Nov/2014:08:06:09 -0200] \"GET /favicon.ico HTTP/1.1\" 404 2354\n",
        "Unable to parse 172.17.144.69 - - [17/Nov/2014:08:06:10 -0200] \"GET /dadoscsv/relacao_promotorias/relacao_promotorias.csv HTTP/1.1\" 200 6585\n",
        "Unable to parse 172.17.144.69 - - [17/Nov/2014:08:06:16 -0200] \"OPTIONS /dadoscsv/relacao_promotorias/ HTTP/1.1\" 200 -\n",
        "Unable to parse 172.17.144.69 - - [17/Nov/2014:08:06:19 -0200] \"OPTIONS /dadoscsv/relacao_promotorias HTTP/1.1\" 301 344\n",
        "Unable to parse 172.17.144.69 - - [17/Nov/2014:08:06:20 -0200] \"OPTIONS /dadoscsv/relacao_promotorias/ HTTP/1.1\" 200 -\n",
        "Unable to parse 172.17.144.69 - - [17/Nov/2014:08:06:20 -0200] \"PROPFIND /dadoscsv/relacao_promotorias HTTP/1.1\" 301 344\n",
        "Unable to parse 172.17.144.69 - - [17/Nov/2014:08:06:20 -0200] \"PROPFIND /dadoscsv/relacao_promotorias/ HTTP/1.1\" 405 338\n",
        "Unable to parse 172.17.144.69 - - [17/Nov/2014:08:06:20 -0200] \"PROPFIND /dadoscsv HTTP/1.1\" 405 317\n",
        "Unable to parse 172.17.144.69 - - [17/Nov/2014:08:06:21 -0200] \"PROPFIND /dadoscsv HTTP/1.1\" 405 317\n",
        "Unable to parse 172.17.144.69 - - [17/Nov/2014:08:06:21 -0200] \"PROPFIND /dadoscsv/relacao_promotorias HTTP/1.1\" 301 344\n",
        "Unable to parse 172.17.144.69 - - [17/Nov/2014:08:06:21 -0200] \"PROPFIND /dadoscsv/relacao_promotorias/ HTTP/1.1\" 405 338\n",
        "Unable to parse 172.17.144.69 - - [17/Nov/2014:08:06:21 -0200] \"PROPFIND /dadoscsv HTTP/1.1\" 405 317\n",
        "Unable to parse 172.17.144.69 - - [17/Nov/2014:08:06:21 -0200] \"HEAD /dadoscsv/relacao_promotorias/relacao_promotorias.csv HTTP/1.1\" 200 -\n",
        "Unable to parse 172.17.144.69 - - [17/Nov/2014:08:08:27 -0200] \"GET /favicon.ico HTTP/1.1\" 404 2354\n",
        "Unable to parse 172.17.144.69 - - [17/Nov/2014:08:08:32 -0200] \"GET /dados_abertos/datasets/extrajudicial/ HTTP/1.1\" 200 5878\n",
        "Unable to parse 172.17.144.69 - - [17/Nov/2014:08:08:41 -0200] \"GET /dados_abertos/datasets/extrajudicial/entradas/ HTTP/1.1\" 200 27081\n",
        "Unable to parse 172.17.144.69 - - [17/Nov/2014:08:08:55 -0200] \"GET /dados_abertos/dadoscsv/extrajudicial_entradas_2014_10.zip HTTP/1.1\" 302 -\n",
        "Unable to parse 172.17.144.69 - - [17/Nov/2014:08:08:55 -0200] \"GET /dadoscsv/extrajudicial/extrajudicial_entradas_2014_10.zip HTTP/1.1\" 200 93685\n",
        "Unable to parse 172.17.144.69 - - [17/Nov/2014:08:09:14 -0200] \"GET /dados_abertos/datasets/tacs/ HTTP/1.1\" 200 5346\n",
        "Unable to parse 172.17.144.69 - - [17/Nov/2014:08:09:17 -0200] \"GET /dados_abertos/datasets/tacs/firmados/ HTTP/1.1\" 200 26695\n",
        "Unable to parse 172.17.144.69 - - [17/Nov/2014:08:09:25 -0200] \"GET /dados_abertos/dadoscsv/tacs_firmados_2014_10.zip HTTP/1.1\" 302 -\n",
        "Unable to parse 172.17.144.69 - - [17/Nov/2014:08:09:25 -0200] \"GET /dadoscsv/tacs/tacs_firmados_2014_10.zip HTTP/1.1\" 200 3306\n",
        "Unable to parse 172.17.203.62 - - [17/Nov/2014:08:13:15 -0200] \"GET /dados_abertos/ HTTP/1.1\" 200 8855\n",
        "Unable to parse 172.17.203.62 - - [17/Nov/2014:08:13:15 -0200] \"GET /static/dados_abertos/css/dados_abertos.css HTTP/1.1\" 200 1897\n",
        "Unable to parse 172.17.203.62 - - [17/Nov/2014:08:13:15 -0200] \"GET /static/lib/font-awesome/4.2.0/css/font-awesome.css HTTP/1.1\" 200 26651\n",
        "Unable to parse 172.17.203.62 - - [17/Nov/2014:08:13:15 -0200] \"GET /static/lib/bootstrap/3.2.0/css/bootstrap.css HTTP/1.1\" 200 132546\n",
        "Unable to parse 172.17.203.62 - - [17/Nov/2014:08:13:18 -0200] \"GET /static/dados_abertos/img/dados.png HTTP/1.1\" 200 1559\n",
        "Unable to parse 172.17.203.62 - - [17/Nov/2014:08:13:18 -0200] \"GET /static/dados_abertos/img/dados-logo00.png HTTP/1.1\" 200 3776\n",
        "Unable to parse 172.17.203.62 - - [17/Nov/2014:08:13:18 -0200] \"GET /static/lib/bootstrap/3.2.0/js/bootstrap.min.js HTTP/1.1\" 200 31819\n",
        "Unable to parse 172.17.203.62 - - [17/Nov/2014:08:13:18 -0200] \"GET /static/dados_abertos/img/torres02.png HTTP/1.1\" 200 72790\n",
        "Unable to parse 172.17.203.62 - - [17/Nov/2014:08:13:18 -0200] \"GET /static/lib/jquery/1.11.0/jquery.js HTTP/1.1\" 200 282944\n",
        "Unable to parse 172.17.203.62 - - [17/Nov/2014:08:13:26 -0200] \"GET /dados_abertos/datasets/judicial/ HTTP/1.1\" 200 5715\n",
        "Unable to parse 172.17.203.62 - - [17/Nov/2014:08:13:26 -0200] \"GET /static/lib/bootstrap/3.2.0/css/bootstrap.css HTTP/1.1\" 304 -\n",
        "Unable to parse 172.17.203.62 - - [17/Nov/2014:08:13:26 -0200] \"GET /static/lib/font-awesome/4.2.0/css/font-awesome.css HTTP/1.1\" 304 -\n",
        "Unable to parse 172.17.203.62 - - [17/Nov/2014:08:13:26 -0200] \"GET /static/dados_abertos/css/dados_abertos.css HTTP/1.1\" 304 -\n",
        "Unable to parse 172.17.203.62 - - [17/Nov/2014:08:13:26 -0200] \"GET /static/dados_abertos/img/dados-logo00.png HTTP/1.1\" 304 -\n",
        "Unable to parse 172.17.203.62 - - [17/Nov/2014:08:13:26 -0200] \"GET /static/lib/select2/3.5.1/select2_locale_pt-BR.js HTTP/1.1\" 200 875\n",
        "Unable to parse 172.17.203.62 - - [17/Nov/2014:08:13:26 -0200] \"GET /static/lib/bootstrap/3.2.0/js/bootstrap.min.js HTTP/1.1\" 304 -\n",
        "Unable to parse 172.17.203.62 - - [17/Nov/2014:08:13:26 -0200] \"GET /static/lib/jquery/1.11.0/jquery.js HTTP/1.1\" 206 33549\n",
        "Unable to parse 172.17.203.62 - - [17/Nov/2014:08:13:26 -0200] \"GET /static/lib/select2/3.5.1/select2.min.js HTTP/1.1\" 200 65979\n",
        "Unable to parse 172.17.203.62 - - [17/Nov/2014:08:13:28 -0200] \"GET /favicon.ico HTTP/1.1\" 404 2354\n",
        "Unable to parse 172.17.203.62 - - [17/Nov/2014:08:13:34 -0200] \"GET /dados_abertos/datasets/judicial/entradas/ HTTP/1.1\" 200 26626\n",
        "Unable to parse 172.17.203.62 - - [17/Nov/2014:08:13:34 -0200] \"GET /static/lib/font-awesome/4.2.0/css/font-awesome.css HTTP/1.1\" 304 -\n",
        "Unable to parse 172.17.203.62 - - [17/Nov/2014:08:13:34 -0200] \"GET /static/lib/bootstrap/3.2.0/css/bootstrap.css HTTP/1.1\" 304 -\n",
        "Unable to parse 172.17.203.62 - - [17/Nov/2014:08:13:34 -0200] \"GET /static/dados_abertos/css/dados_abertos.css HTTP/1.1\" 304 -\n",
        "Unable to parse 172.17.203.62 - - [17/Nov/2014:08:13:34 -0200] \"GET /static/dados_abertos/img/dados-logo00.png HTTP/1.1\" 304 -\n",
        "Unable to parse 172.17.203.62 - - [17/Nov/2014:08:13:34 -0200] \"GET /static/lib/jquery/1.11.0/jquery.js HTTP/1.1\" 304 -\n",
        "Unable to parse 172.17.203.62 - - [17/Nov/2014:08:13:34 -0200] \"GET /static/lib/bootstrap/3.2.0/js/bootstrap.min.js HTTP/1.1\" 304 -\n",
        "Unable to parse 172.17.203.62 - - [17/Nov/2014:08:13:34 -0200] \"GET /static/lib/select2/3.5.1/select2.min.js HTTP/1.1\" 304 -\n",
        "Unable to parse 172.17.203.62 - - [17/Nov/2014:08:13:34 -0200] \"GET /static/lib/select2/3.5.1/select2_locale_pt-BR.js HTTP/1.1\" 304 -\n",
        "Unable to parse 172.17.203.62 - - [17/Nov/2014:08:13:34 -0200] \"GET /static/lib/font-awesome/4.2.0/fonts/fontawesome-webfont.eot? HTTP/1.1\" 200 56006\n",
        "Unable to parse 172.17.203.62 - - [17/Nov/2014:08:13:35 -0200] \"GET /favicon.ico HTTP/1.1\" 404 2354\n",
        "Unable to parse 172.17.203.62 - - [17/Nov/2014:08:13:45 -0200] \"GET /dados_abertos/dadoscsv/judicial_entradas_2014_10.zip HTTP/1.1\" 302 -\n",
        "Unable to parse 172.17.203.62 - - [17/Nov/2014:08:13:45 -0200] \"GET /dadoscsv/judicial/judicial_entradas_2014_10.zip HTTP/1.1\" 200 302103\n",
        "Unable to parse 172.17.228.79 - - [17/Nov/2014:08:14:48 -0200] \"GET /dados_abertos/ HTTP/1.1\" 200 8855\n",
        "Unable to parse 172.17.228.79 - - [17/Nov/2014:08:14:48 -0200] \"GET /static/dados_abertos/css/dados_abertos.css HTTP/1.1\" 200 1897\n",
        "Unable to parse 172.17.228.79 - - [17/Nov/2014:08:14:48 -0200] \"GET /static/lib/font-awesome/4.2.0/css/font-awesome.css HTTP/1.1\" 200 26651\n",
        "Unable to parse 172.17.228.79 - - [17/Nov/2014:08:14:48 -0200] \"GET /static/lib/bootstrap/3.2.0/css/bootstrap.css HTTP/1.1\" 200 132546\n",
        "Unable to parse 172.17.228.79 - - [17/Nov/2014:08:14:48 -0200] \"GET /static/dados_abertos/img/dados-logo00.png HTTP/1.1\" 200 3776\n",
        "Unable to parse 172.17.228.79 - - [17/Nov/2014:08:14:48 -0200] \"GET /static/dados_abertos/img/dados.png HTTP/1.1\" 200 1559\n",
        "Unable to parse 172.17.228.79 - - [17/Nov/2014:08:14:48 -0200] \"GET /static/lib/bootstrap/3.2.0/js/bootstrap.min.js HTTP/1.1\" 200 31819\n",
        "Unable to parse 172.17.228.79 - - [17/Nov/2014:08:14:48 -0200] \"GET /static/dados_abertos/img/torres02.png HTTP/1.1\" 200 72790\n",
        "Unable to parse 172.17.228.79 - - [17/Nov/2014:08:14:48 -0200] \"GET /static/lib/jquery/1.11.0/jquery.js HTTP/1.1\" 200 282944\n",
        "Unable to parse 172.17.228.79 - - [17/Nov/2014:08:14:48 -0200] \"GET /favicon.ico HTTP/1.1\" 404 2354\n",
        "Unable to parse 172.17.229.31 - - [17/Nov/2014:08:14:49 -0200] \"GET /dados_abertos/ HTTP/1.1\" 200 8855\n",
        "Unable to parse 172.17.229.31 - - [17/Nov/2014:08:14:49 -0200] \"GET /static/dados_abertos/css/dados_abertos.css HTTP/1.1\" 200 1897\n",
        "Unable to parse 172.17.229.31 - - [17/Nov/2014:08:14:49 -0200] \"GET /static/dados_abertos/img/dados-logo00.png HTTP/1.1\" 200 3776\n",
        "Unable to parse 172.17.229.31 - - [17/Nov/2014:08:14:49 -0200] \"GET /static/lib/font-awesome/4.2.0/css/font-awesome.css HTTP/1.1\" 200 26651\n",
        "Unable to parse 172.17.229.31 - - [17/Nov/2014:08:14:49 -0200] \"GET /static/lib/bootstrap/3.2.0/js/bootstrap.min.js HTTP/1.1\" 200 31819\n",
        "Unable to parse 172.17.229.31 - - [17/Nov/2014:08:14:49 -0200] \"GET /static/lib/bootstrap/3.2.0/css/bootstrap.css HTTP/1.1\" 200 132546\n",
        "Unable to parse 172.17.229.31 - - [17/Nov/2014:08:14:49 -0200] \"GET /static/dados_abertos/img/torres02.png HTTP/1.1\" 200 72790\n",
        "Unable to parse 172.17.229.31 - - [17/Nov/2014:08:14:49 -0200] \"GET /static/lib/jquery/1.11.0/jquery.js HTTP/1.1\" 200 282944\n",
        "Unable to parse 172.17.229.31 - - [17/Nov/2014:08:14:49 -0200] \"GET /static/dados_abertos/img/dados.png HTTP/1.1\" 200 1559\n",
        "Unable to parse 172.17.229.31 - - [17/Nov/2014:08:14:49 -0200] \"GET /favicon.ico HTTP/1.1\" 404 2354\n",
        "Unable to parse 172.17.228.79 - - [17/Nov/2014:08:14:52 -0200] \"GET /dados_abertos/datasets/judicial/ HTTP/1.1\" 200 5715\n",
        "Unable to parse 172.17.228.79 - - [17/Nov/2014:08:14:52 -0200] \"GET /static/lib/bootstrap/3.2.0/css/bootstrap.css HTTP/1.1\" 304 -\n",
        "Unable to parse 172.17.228.79 - - [17/Nov/2014:08:14:52 -0200] \"GET /static/lib/font-awesome/4.2.0/css/font-awesome.css HTTP/1.1\" 304 -\n",
        "Unable to parse 172.17.228.79 - - [17/Nov/2014:08:14:52 -0200] \"GET /static/dados_abertos/css/dados_abertos.css HTTP/1.1\" 304 -\n",
        "Unable to parse 172.17.228.79 - - [17/Nov/2014:08:14:52 -0200] \"GET /static/dados_abertos/img/dados-logo00.png HTTP/1.1\" 304 -\n",
        "Unable to parse 172.17.228.79 - - [17/Nov/2014:08:14:52 -0200] \"GET /static/lib/jquery/1.11.0/jquery.js HTTP/1.1\" 304 -\n",
        "Unable to parse 172.17.228.79 - - [17/Nov/2014:08:14:52 -0200] \"GET /static/lib/bootstrap/3.2.0/js/bootstrap.min.js HTTP/1.1\" 304 -\n",
        "Unable to parse 172.17.228.79 - - [17/Nov/2014:08:14:52 -0200] \"GET /static/lib/select2/3.5.1/select2_locale_pt-BR.js HTTP/1.1\" 200 875\n",
        "Unable to parse 172.17.228.79 - - [17/Nov/2014:08:14:52 -0200] \"GET /static/lib/select2/3.5.1/select2.min.js HTTP/1.1\" 200 65979\n",
        "Unable to parse 172.17.228.79 - - [17/Nov/2014:08:14:52 -0200] \"GET /favicon.ico HTTP/1.1\" 404 2354\n",
        "Unable to parse 172.17.229.31 - - [17/Nov/2014:08:14:58 -0200] \"GET /dados_abertos/datasets/tacs/ HTTP/1.1\" 200 5346\n",
        "Unable to parse 172.17.229.31 - - [17/Nov/2014:08:14:58 -0200] \"GET /static/lib/select2/3.5.1/select2_locale_pt-BR.js HTTP/1.1\" 200 875\n",
        "Unable to parse 172.17.229.31 - - [17/Nov/2014:08:14:58 -0200] \"GET /static/lib/select2/3.5.1/select2.min.js HTTP/1.1\" 200 65979\n",
        "Unable to parse 172.17.228.79 - - [17/Nov/2014:08:15:00 -0200] \"GET /dados_abertos/datasets/relacao_promotorias/ HTTP/1.1\" 200 6139\n",
        "Unable to parse 172.17.228.79 - - [17/Nov/2014:08:15:00 -0200] \"GET /static/lib/bootstrap/3.2.0/css/bootstrap.css HTTP/1.1\" 304 -\n",
        "Unable to parse 172.17.228.79 - - [17/Nov/2014:08:15:00 -0200] \"GET /static/lib/font-awesome/4.2.0/css/font-awesome.css HTTP/1.1\" 304 -\n",
        "Unable to parse 172.17.228.79 - - [17/Nov/2014:08:15:00 -0200] \"GET /static/dados_abertos/css/dados_abertos.css HTTP/1.1\" 304 -\n",
        "Unable to parse 172.17.228.79 - - [17/Nov/2014:08:15:00 -0200] \"GET /static/dados_abertos/img/dados-logo00.png HTTP/1.1\" 304 -\n",
        "Unable to parse 172.17.228.79 - - [17/Nov/2014:08:15:00 -0200] \"GET /static/lib/jquery/1.11.0/jquery.js HTTP/1.1\" 304 -\n",
        "Unable to parse 172.17.228.79 - - [17/Nov/2014:08:15:00 -0200] \"GET /static/lib/bootstrap/3.2.0/js/bootstrap.min.js HTTP/1.1\" 304 -\n",
        "Unable to parse 172.17.228.79 - - [17/Nov/2014:08:15:00 -0200] \"GET /static/lib/select2/3.5.1/select2.min.js HTTP/1.1\" 304 -\n",
        "Unable to parse 172.17.228.79 - - [17/Nov/2014:08:15:00 -0200] \"GET /static/lib/select2/3.5.1/select2_locale_pt-BR.js HTTP/1.1\" 304 -\n",
        "Unable to parse 172.17.228.79 - - [17/Nov/2014:08:15:00 -0200] \"GET /static/lib/font-awesome/4.2.0/fonts/fontawesome-webfont.eot? HTTP/1.1\" 200 56006\n",
        "Unable to parse 172.17.229.31 - - [17/Nov/2014:08:15:03 -0200] \"GET /dados_abertos/datasets/tacs/firmados/ HTTP/1.1\" 200 26695\n",
        "Unable to parse 172.17.229.31 - - [17/Nov/2014:08:15:03 -0200] \"GET /static/lib/font-awesome/4.2.0/fonts/fontawesome-webfont.woff?v=4.2.0 HTTP/1.1\" 200 65452\n",
        "Unable to parse 172.17.227.238 - - [17/Nov/2014:08:16:49 -0200] \"GET /dados_abertos/ HTTP/1.1\" 200 8855\n",
        "Unable to parse 172.17.227.238 - - [17/Nov/2014:08:16:49 -0200] \"GET /static/dados_abertos/css/dados_abertos.css HTTP/1.1\" 200 1897\n",
        "Unable to parse 172.17.227.238 - - [17/Nov/2014:08:16:49 -0200] \"GET /static/lib/font-awesome/4.2.0/css/font-awesome.css HTTP/1.1\" 200 26651\n",
        "Unable to parse 172.17.227.238 - - [17/Nov/2014:08:16:49 -0200] \"GET /static/lib/bootstrap/3.2.0/css/bootstrap.css HTTP/1.1\" 200 132546\n",
        "Unable to parse 172.17.227.238 - - [17/Nov/2014:08:16:49 -0200] \"GET /static/dados_abertos/img/dados-logo00.png HTTP/1.1\" 200 3776\n",
        "Unable to parse 172.17.227.238 - - [17/Nov/2014:08:16:49 -0200] \"GET /static/dados_abertos/img/dados.png HTTP/1.1\" 200 1559\n",
        "Unable to parse 172.17.227.238 - - [17/Nov/2014:08:16:49 -0200] \"GET /static/lib/bootstrap/3.2.0/js/bootstrap.min.js HTTP/1.1\" 200 31819\n",
        "Unable to parse 172.17.227.238 - - [17/Nov/2014:08:16:49 -0200] \"GET /static/dados_abertos/img/torres02.png HTTP/1.1\" 200 72790\n",
        "Unable to parse 172.17.227.238 - - [17/Nov/2014:08:16:49 -0200] \"GET /static/lib/jquery/1.11.0/jquery.js HTTP/1.1\" 200 282944\n",
        "Unable to parse 172.17.227.238 - - [17/Nov/2014:08:16:49 -0200] \"GET /favicon.ico HTTP/1.1\" 404 2354\n",
        "Unable to parse 172.17.227.238 - - [17/Nov/2014:08:16:49 -0200] \"GET /favicon.ico HTTP/1.1\" 404 2354\n",
        "Unable to parse 172.17.227.238 - - [17/Nov/2014:08:16:55 -0200] \"GET /dados_abertos/datasets/relacao_promotorias/ HTTP/1.1\" 200 6139\n",
        "Unable to parse 172.17.227.238 - - [17/Nov/2014:08:16:55 -0200] \"GET /static/lib/select2/3.5.1/select2_locale_pt-BR.js HTTP/1.1\" 200 875\n",
        "Unable to parse 172.17.227.238 - - [17/Nov/2014:08:16:55 -0200] \"GET /static/lib/select2/3.5.1/select2.min.js HTTP/1.1\" 200 65979\n",
        "Unable to parse 172.17.227.238 - - [17/Nov/2014:08:16:55 -0200] \"GET /static/lib/font-awesome/4.2.0/fonts/fontawesome-webfont.woff?v=4.2.0 HTTP/1.1\" 200 65452\n",
        "Unable to parse 172.17.227.238 - - [17/Nov/2014:08:17:00 -0200] \"GET /dadoscsv/relacao_promotorias/relacao_promotorias.csv HTTP/1.1\" 200 6585\n",
        "Unable to parse 172.17.227.238 - - [17/Nov/2014:08:17:12 -0200] \"GET /dados_abertos/datasets/judicial/ HTTP/1.1\" 200 5715\n",
        "Unable to parse 172.17.227.238 - - [17/Nov/2014:08:17:16 -0200] \"GET /dados_abertos/datasets/judicial/movimentos/ HTTP/1.1\" 200 26544\n",
        "Unable to parse 172.17.227.238 - - [17/Nov/2014:08:17:22 -0200] \"GET /dados_abertos/dadoscsv/judicial_movimentos_2014_10.zip HTTP/1.1\" 302 -\n",
        "Unable to parse 172.17.227.238 - - [17/Nov/2014:08:17:22 -0200] \"GET /dadoscsv/judicial/judicial_movimentos_2014_10.zip HTTP/1.1\" 200 521789\n",
        "Unable to parse 172.17.227.238 - - [17/Nov/2014:08:18:13 -0200] \"GET /dados_abertos/datasets/relacao_promotorias/ HTTP/1.1\" 200 6139\n",
        "Unable to parse 172.17.227.238 - - [17/Nov/2014:08:18:15 -0200] \"GET /dadoscsv/relacao_promotorias/relacao_promotorias.csv HTTP/1.1\" 200 6585\n",
        "Unable to parse 172.17.224.203 - - [17/Nov/2014:08:27:46 -0200] \"GET /dados_abertos/ HTTP/1.1\" 200 8855\n",
        "Unable to parse 172.17.224.203 - - [17/Nov/2014:08:27:46 -0200] \"GET /favicon.ico HTTP/1.1\" 404 2354\n",
        "Unable to parse 172.17.168.206 - - [17/Nov/2014:08:30:29 -0200] \"GET /dados_abertos/ HTTP/1.1\" 200 8855\n",
        "Unable to parse 172.17.168.206 - - [17/Nov/2014:08:30:29 -0200] \"GET /static/dados_abertos/css/dados_abertos.css HTTP/1.1\" 200 1897\n",
        "Unable to parse 172.17.168.206 - - [17/Nov/2014:08:30:29 -0200] \"GET /static/lib/bootstrap/3.2.0/css/bootstrap.css HTTP/1.1\" 200 132546\n",
        "Unable to parse 172.17.168.206 - - [17/Nov/2014:08:30:32 -0200] \"GET /static/lib/font-awesome/4.2.0/css/font-awesome.css HTTP/1.1\" 200 26651\n",
        "Unable to parse 172.17.168.206 - - [17/Nov/2014:08:30:32 -0200] \"GET /static/dados_abertos/img/dados-logo00.png HTTP/1.1\" 200 3776\n",
        "Unable to parse 172.17.168.206 - - [17/Nov/2014:08:30:32 -0200] \"GET /static/dados_abertos/img/dados.png HTTP/1.1\" 200 1559\n",
        "Unable to parse 172.17.168.206 - - [17/Nov/2014:08:30:32 -0200] \"GET /static/lib/bootstrap/3.2.0/js/bootstrap.min.js HTTP/1.1\" 200 31819\n",
        "Unable to parse 172.17.168.206 - - [17/Nov/2014:08:30:32 -0200] \"GET /static/dados_abertos/img/torres02.png HTTP/1.1\" 200 72790\n",
        "Unable to parse 172.17.168.206 - - [17/Nov/2014:08:30:32 -0200] \"GET /static/lib/jquery/1.11.0/jquery.js HTTP/1.1\" 200 282944\n",
        "Unable to parse 172.17.168.206 - - [17/Nov/2014:08:30:33 -0200] \"GET /favicon.ico HTTP/1.1\" 404 2354\n",
        "Unable to parse 172.17.168.206 - - [17/Nov/2014:08:31:47 -0200] \"GET /dados_abertos/datasets/judicial/ HTTP/1.1\" 200 5715\n",
        "Unable to parse 172.17.168.206 - - [17/Nov/2014:08:31:48 -0200] \"GET /static/lib/select2/3.5.1/select2_locale_pt-BR.js HTTP/1.1\" 200 875\n",
        "Unable to parse 172.17.168.206 - - [17/Nov/2014:08:31:48 -0200] \"GET /static/lib/select2/3.5.1/select2.min.js HTTP/1.1\" 200 65979\n",
        "Unable to parse 172.17.168.206 - - [17/Nov/2014:08:31:48 -0200] \"GET /favicon.ico HTTP/1.1\" 404 2354\n",
        "Unable to parse 172.17.168.206 - - [17/Nov/2014:08:31:55 -0200] \"GET /dados_abertos/datasets/judicial/processos_novos/ HTTP/1.1\" 200 27338\n",
        "Unable to parse 172.17.168.206 - - [17/Nov/2014:08:31:55 -0200] \"GET /static/lib/font-awesome/4.2.0/fonts/fontawesome-webfont.eot? HTTP/1.1\" 200 56006\n",
        "Unable to parse 172.17.168.206 - - [17/Nov/2014:08:32:01 -0200] \"GET /dados_abertos/dadoscsv/judicial_processos_novos_2014_10.zip HTTP/1.1\" 302 -\n",
        "Unable to parse 172.17.168.206 - - [17/Nov/2014:08:32:01 -0200] \"GET /dadoscsv/judicial/judicial_processos_novos_2014_10.zip HTTP/1.1\" 200 172114\n",
        "Unable to parse 172.17.231.3 - - [17/Nov/2014:08:36:35 -0200] \"GET /dados_abertos/ HTTP/1.1\" 200 8855\n",
        "Unable to parse 172.17.231.3 - - [17/Nov/2014:08:36:35 -0200] \"GET /static/dados_abertos/css/dados_abertos.css HTTP/1.1\" 200 1897\n",
        "Unable to parse 172.17.231.3 - - [17/Nov/2014:08:36:35 -0200] \"GET /static/lib/font-awesome/4.2.0/css/font-awesome.css HTTP/1.1\" 200 26651\n",
        "Unable to parse 172.17.231.3 - - [17/Nov/2014:08:36:35 -0200] \"GET /static/lib/bootstrap/3.2.0/css/bootstrap.css HTTP/1.1\" 200 132546\n",
        "Unable to parse 172.17.231.3 - - [17/Nov/2014:08:36:36 -0200] \"GET /static/dados_abertos/img/dados-logo00.png HTTP/1.1\" 200 3776\n",
        "Unable to parse 172.17.231.3 - - [17/Nov/2014:08:36:36 -0200] \"GET /static/dados_abertos/img/dados.png HTTP/1.1\" 200 1559\n",
        "Unable to parse 172.17.231.3 - - [17/Nov/2014:08:36:36 -0200] \"GET /static/lib/bootstrap/3.2.0/js/bootstrap.min.js HTTP/1.1\" 200 31819\n",
        "Unable to parse 172.17.231.3 - - [17/Nov/2014:08:36:36 -0200] \"GET /static/dados_abertos/img/torres02.png HTTP/1.1\" 200 72790\n",
        "Unable to parse 172.17.231.3 - - [17/Nov/2014:08:36:36 -0200] \"GET /static/lib/jquery/1.11.0/jquery.js HTTP/1.1\" 200 282944\n",
        "Unable to parse 172.17.231.3 - - [17/Nov/2014:08:36:36 -0200] \"GET /favicon.ico HTTP/1.1\" 404 2354\n",
        "Unable to parse 172.17.231.3 - - [17/Nov/2014:08:36:36 -0200] \"GET /favicon.ico HTTP/1.1\" 404 2354\n",
        "Unable to parse 172.17.231.3 - - [17/Nov/2014:08:36:40 -0200] \"GET /dados_abertos/datasets/judicial/ HTTP/1.1\" 200 5715\n",
        "Unable to parse 172.17.231.3 - - [17/Nov/2014:08:36:40 -0200] \"GET /static/lib/select2/3.5.1/select2_locale_pt-BR.js HTTP/1.1\" 200 875\n",
        "Unable to parse 172.17.231.3 - - [17/Nov/2014:08:36:40 -0200] \"GET /static/lib/select2/3.5.1/select2.min.js HTTP/1.1\" 200 65979\n",
        "Unable to parse 172.17.231.3 - - [17/Nov/2014:08:36:43 -0200] \"GET /dados_abertos/datasets/judicial/entradas/ HTTP/1.1\" 200 26626\n",
        "Unable to parse 172.17.231.3 - - [17/Nov/2014:08:36:43 -0200] \"GET /static/lib/font-awesome/4.2.0/fonts/fontawesome-webfont.woff?v=4.2.0 HTTP/1.1\" 200 65452\n",
        "Unable to parse 172.17.231.3 - - [17/Nov/2014:08:36:49 -0200] \"GET /dados_abertos/dadoscsv/judicial_entradas_2014_10.zip HTTP/1.1\" 302 -\n",
        "Unable to parse 172.17.231.3 - - [17/Nov/2014:08:36:49 -0200] \"GET /dadoscsv/judicial/judicial_entradas_2014_10.zip HTTP/1.1\" 200 302103\n",
        "Unable to parse 172.17.231.3 - - [17/Nov/2014:08:37:08 -0200] \"GET /dados_abertos/datasets/extrajudicial/ HTTP/1.1\" 200 5878\n",
        "Unable to parse 172.17.231.3 - - [17/Nov/2014:08:37:11 -0200] \"GET /dados_abertos/datasets/extrajudicial/movimentos/ HTTP/1.1\" 200 27417\n",
        "Unable to parse 172.17.168.206 - - [17/Nov/2014:08:37:16 -0200] \"GET /dados_abertos/datasets/relacao_promotorias/ HTTP/1.1\" 200 6139\n",
        "Unable to parse 172.17.231.3 - - [17/Nov/2014:08:37:17 -0200] \"GET /dados_abertos/datasets/tacs/ HTTP/1.1\" 200 5346\n",
        "Unable to parse 172.17.231.3 - - [17/Nov/2014:08:37:19 -0200] \"GET /dados_abertos/datasets/relacao_promotorias/ HTTP/1.1\" 200 6139\n",
        "Unable to parse 172.17.168.206 - - [17/Nov/2014:08:37:23 -0200] \"GET /dadoscsv/relacao_promotorias/relacao_promotorias.csv HTTP/1.1\" 200 6585\n",
        "Unable to parse 172.17.231.3 - - [17/Nov/2014:08:37:26 -0200] \"GET /dadoscsv/relacao_promotorias/relacao_promotorias.csv HTTP/1.1\" 200 6585\n",
        "Unable to parse 172.17.168.206 - - [17/Nov/2014:08:37:27 -0200] \"OPTIONS /dadoscsv/relacao_promotorias/ HTTP/1.1\" 200 -\n",
        "Unable to parse 172.17.168.206 - - [17/Nov/2014:08:37:30 -0200] \"OPTIONS /dadoscsv/relacao_promotorias HTTP/1.1\" 301 344\n",
        "Unable to parse 172.17.168.206 - - [17/Nov/2014:08:37:30 -0200] \"OPTIONS /dadoscsv/relacao_promotorias/ HTTP/1.1\" 200 -\n",
        "Unable to parse 172.17.168.206 - - [17/Nov/2014:08:37:30 -0200] \"PROPFIND /dadoscsv/relacao_promotorias HTTP/1.1\" 301 344\n",
        "Unable to parse 172.17.168.206 - - [17/Nov/2014:08:37:30 -0200] \"PROPFIND /dadoscsv/relacao_promotorias/ HTTP/1.1\" 405 338\n",
        "Unable to parse 172.17.168.206 - - [17/Nov/2014:08:37:30 -0200] \"PROPFIND /dadoscsv HTTP/1.1\" 405 317\n",
        "Unable to parse 172.17.168.206 - - [17/Nov/2014:08:37:30 -0200] \"PROPFIND /dadoscsv HTTP/1.1\" 405 317\n",
        "Unable to parse 172.17.168.206 - - [17/Nov/2014:08:37:30 -0200] \"PROPFIND /dadoscsv/relacao_promotorias HTTP/1.1\" 301 344\n",
        "Unable to parse 172.17.168.206 - - [17/Nov/2014:08:37:30 -0200] \"PROPFIND /dadoscsv/relacao_promotorias/ HTTP/1.1\" 405 338\n",
        "Unable to parse 172.17.168.206 - - [17/Nov/2014:08:37:30 -0200] \"PROPFIND /dadoscsv HTTP/1.1\" 405 317\n",
        "Unable to parse 172.17.168.206 - - [17/Nov/2014:08:37:30 -0200] \"HEAD /dadoscsv/relacao_promotorias/relacao_promotorias.csv HTTP/1.1\" 200 -\n",
        "Unable to parse 172.17.168.206 - - [17/Nov/2014:08:37:56 -0200] \"GET /dados_abertos/datasets/relacao_promotorias/ HTTP/1.1\" 200 6139\n",
        "Unable to parse 172.17.168.206 - - [17/Nov/2014:08:38:00 -0200] \"HEAD /dadoscsv/relacao_promotorias/relacao_promotorias.csv HTTP/1.1\" 200 -\n",
        "Unable to parse 172.17.224.203 - - [17/Nov/2014:08:39:48 -0200] \"GET /dados_abertos/ HTTP/1.1\" 200 8855\n",
        "Unable to parse 172.17.224.203 - - [17/Nov/2014:08:39:48 -0200] \"GET /static/dados_abertos/css/dados_abertos.css HTTP/1.1\" 304 -\n",
        "Unable to parse 172.17.224.203 - - [17/Nov/2014:08:39:48 -0200] \"GET /static/dados_abertos/img/dados-logo00.png HTTP/1.1\" 304 -\n",
        "Unable to parse 172.17.224.203 - - [17/Nov/2014:08:39:48 -0200] \"GET /static/dados_abertos/img/torres02.png HTTP/1.1\" 304 -\n",
        "Unable to parse 172.17.224.203 - - [17/Nov/2014:08:39:48 -0200] \"GET /static/dados_abertos/img/dados.png HTTP/1.1\" 304 -\n",
        "Unable to parse 172.17.224.203 - - [17/Nov/2014:08:40:03 -0200] \"GET /dados_abertos/ HTTP/1.1\" 200 8855\n",
        "Unable to parse 172.17.224.203 - - [17/Nov/2014:08:40:03 -0200] \"GET /static/dados_abertos/css/dados_abertos.css HTTP/1.1\" 200 1897\n",
        "Unable to parse 172.17.224.203 - - [17/Nov/2014:08:40:03 -0200] \"GET /static/lib/font-awesome/4.2.0/css/font-awesome.css HTTP/1.1\" 200 26651\n",
        "Unable to parse 172.17.224.203 - - [17/Nov/2014:08:40:03 -0200] \"GET /static/lib/bootstrap/3.2.0/css/bootstrap.css HTTP/1.1\" 200 132546\n",
        "Unable to parse 172.17.224.203 - - [17/Nov/2014:08:40:03 -0200] \"GET /static/lib/bootstrap/3.2.0/js/bootstrap.min.js HTTP/1.1\" 200 31819\n",
        "Unable to parse 172.17.224.203 - - [17/Nov/2014:08:40:03 -0200] \"GET /static/lib/jquery/1.11.0/jquery.js HTTP/1.1\" 200 282944\n",
        "Unable to parse 172.17.224.203 - - [17/Nov/2014:08:40:09 -0200] \"GET /dados_abertos/ HTTP/1.1\" 200 8855\n",
        "Unable to parse 172.17.224.203 - - [17/Nov/2014:08:40:09 -0200] \"GET /static/dados_abertos/css/dados_abertos.css HTTP/1.1\" 200 1897\n",
        "Unable to parse 172.17.224.203 - - [17/Nov/2014:08:40:09 -0200] \"GET /static/lib/font-awesome/4.2.0/css/font-awesome.css HTTP/1.1\" 200 26651\n",
        "Unable to parse 172.17.224.203 - - [17/Nov/2014:08:40:09 -0200] \"GET /static/lib/bootstrap/3.2.0/css/bootstrap.css HTTP/1.1\" 200 132546\n",
        "Unable to parse 172.17.224.203 - - [17/Nov/2014:08:40:09 -0200] \"GET /static/dados_abertos/img/dados-logo00.png HTTP/1.1\" 200 3776\n",
        "Unable to parse 172.17.224.203 - - [17/Nov/2014:08:40:09 -0200] \"GET /static/dados_abertos/img/dados.png HTTP/1.1\" 200 1559\n",
        "Unable to parse 172.17.224.203 - - [17/Nov/2014:08:40:09 -0200] \"GET /static/lib/bootstrap/3.2.0/js/bootstrap.min.js HTTP/1.1\" 200 31819\n",
        "Unable to parse 172.17.224.203 - - [17/Nov/2014:08:40:09 -0200] \"GET /static/dados_abertos/img/torres02.png HTTP/1.1\" 200 72790\n",
        "Unable to parse 172.17.224.203 - - [17/Nov/2014:08:40:09 -0200] \"GET /static/lib/jquery/1.11.0/jquery.js HTTP/1.1\" 200 282944\n",
        "Unable to parse 172.17.224.203 - - [17/Nov/2014:08:40:15 -0200] \"GET /dados_abertos/ HTTP/1.1\" 200 8855\n",
        "Unable to parse 172.17.224.203 - - [17/Nov/2014:08:40:15 -0200] \"GET /static/dados_abertos/css/dados_abertos.css HTTP/1.1\" 200 1897\n",
        "Unable to parse 172.17.224.203 - - [17/Nov/2014:08:40:15 -0200] \"GET /static/lib/font-awesome/4.2.0/css/font-awesome.css HTTP/1.1\" 200 26651\n",
        "Unable to parse 172.17.224.203 - - [17/Nov/2014:08:40:15 -0200] \"GET /static/lib/bootstrap/3.2.0/css/bootstrap.css HTTP/1.1\" 200 132546\n",
        "Unable to parse 172.17.224.203 - - [17/Nov/2014:08:40:15 -0200] \"GET /static/lib/bootstrap/3.2.0/js/bootstrap.min.js HTTP/1.1\" 200 31819\n",
        "Unable to parse 172.17.224.203 - - [17/Nov/2014:08:40:15 -0200] \"GET /static/lib/jquery/1.11.0/jquery.js HTTP/1.1\" 200 282944\n",
        "Unable to parse 172.17.224.203 - - [17/Nov/2014:08:40:18 -0200] \"GET /dados_abertos/ HTTP/1.1\" 200 8855\n",
        "Unable to parse 172.17.224.203 - - [17/Nov/2014:08:40:18 -0200] \"GET /static/dados_abertos/css/dados_abertos.css HTTP/1.1\" 200 1897\n",
        "Unable to parse 172.17.224.203 - - [17/Nov/2014:08:40:18 -0200] \"GET /static/lib/font-awesome/4.2.0/css/font-awesome.css HTTP/1.1\" 200 26651\n",
        "Unable to parse 172.17.224.203 - - [17/Nov/2014:08:40:18 -0200] \"GET /static/lib/bootstrap/3.2.0/css/bootstrap.css HTTP/1.1\" 200 132546\n",
        "Unable to parse 172.17.224.203 - - [17/Nov/2014:08:40:18 -0200] \"GET /static/dados_abertos/img/dados-logo00.png HTTP/1.1\" 200 3776\n",
        "Unable to parse 172.17.224.203 - - [17/Nov/2014:08:40:18 -0200] \"GET /static/dados_abertos/img/dados.png HTTP/1.1\" 200 1559\n",
        "Unable to parse 172.17.224.203 - - [17/Nov/2014:08:40:18 -0200] \"GET /static/lib/bootstrap/3.2.0/js/bootstrap.min.js HTTP/1.1\" 200 31819\n",
        "Unable to parse 172.17.224.203 - - [17/Nov/2014:08:40:18 -0200] \"GET /static/dados_abertos/img/torres02.png HTTP/1.1\" 200 72790\n",
        "Unable to parse 172.17.224.203 - - [17/Nov/2014:08:40:18 -0200] \"GET /static/lib/jquery/1.11.0/jquery.js HTTP/1.1\" 200 282944\n",
        "Unable to parse 172.17.124.91 - - [17/Nov/2014:08:40:53 -0200] \"GET /dados_abertos/ HTTP/1.1\" 200 8855\n",
        "Unable to parse 172.17.124.91 - - [17/Nov/2014:08:40:53 -0200] \"GET /static/dados_abertos/css/dados_abertos.css HTTP/1.1\" 200 1897\n",
        "Unable to parse 172.17.124.91 - - [17/Nov/2014:08:40:53 -0200] \"GET /static/lib/font-awesome/4.2.0/css/font-awesome.css HTTP/1.1\" 200 26651\n",
        "Unable to parse 172.17.124.91 - - [17/Nov/2014:08:40:53 -0200] \"GET /static/lib/bootstrap/3.2.0/css/bootstrap.css HTTP/1.1\" 200 132546\n",
        "Unable to parse 172.17.124.91 - - [17/Nov/2014:08:40:54 -0200] \"GET /static/dados_abertos/img/dados-logo00.png HTTP/1.1\" 200 3776\n",
        "Unable to parse 172.17.124.91 - - [17/Nov/2014:08:40:54 -0200] \"GET /static/dados_abertos/img/dados.png HTTP/1.1\" 200 1559\n",
        "Unable to parse 172.17.124.91 - - [17/Nov/2014:08:40:54 -0200] \"GET /static/lib/bootstrap/3.2.0/js/bootstrap.min.js HTTP/1.1\" 200 31819\n",
        "Unable to parse 172.17.124.91 - - [17/Nov/2014:08:40:54 -0200] \"GET /static/dados_abertos/img/torres02.png HTTP/1.1\" 200 72790\n",
        "Unable to parse 172.17.124.91 - - [17/Nov/2014:08:40:54 -0200] \"GET /static/lib/jquery/1.11.0/jquery.js HTTP/1.1\" 200 282944\n",
        "Unable to parse 172.17.124.91 - - [17/Nov/2014:08:40:59 -0200] \"GET /favicon.ico HTTP/1.1\" 404 2354\n",
        "Unable to parse 172.17.124.91 - - [17/Nov/2014:08:41:47 -0200] \"GET /dados_abertos/datasets/relacao_promotorias/ HTTP/1.1\" 200 6139\n",
        "Unable to parse 172.17.124.91 - - [17/Nov/2014:08:41:47 -0200] \"GET /static/lib/select2/3.5.1/select2_locale_pt-BR.js HTTP/1.1\" 200 875\n",
        "Unable to parse 172.17.124.91 - - [17/Nov/2014:08:41:47 -0200] \"GET /static/lib/select2/3.5.1/select2.min.js HTTP/1.1\" 200 65979\n",
        "Unable to parse 172.17.124.91 - - [17/Nov/2014:08:41:47 -0200] \"GET /static/lib/font-awesome/4.2.0/fonts/fontawesome-webfont.eot? HTTP/1.1\" 200 56006\n",
        "Unable to parse 172.17.124.91 - - [17/Nov/2014:08:41:48 -0200] \"GET /favicon.ico HTTP/1.1\" 404 2354\n",
        "Unable to parse 172.17.124.91 - - [17/Nov/2014:08:42:04 -0200] \"GET /dados_abertos/datasets/extrajudicial/ HTTP/1.1\" 200 5878\n",
        "Unable to parse 172.17.124.91 - - [17/Nov/2014:08:42:09 -0200] \"GET /dados_abertos/datasets/extrajudicial/em_andamento/ HTTP/1.1\" 200 28721\n",
        "Unable to parse 172.17.124.91 - - [17/Nov/2014:08:42:18 -0200] \"GET /dados_abertos/dadoscsv/extrajudicial_em_andamento_2014_10.zip HTTP/1.1\" 302 -\n",
        "Unable to parse 172.17.124.91 - - [17/Nov/2014:08:42:18 -0200] \"GET /dadoscsv/extrajudicial/extrajudicial_em_andamento_2014_10.zip HTTP/1.1\" 200 200013\n",
        "Unable to parse 172.17.12.212 - - [17/Nov/2014:08:48:56 -0200] \"GET /dados_abertos/ HTTP/1.1\" 200 8855\n",
        "Unable to parse 172.17.12.212 - - [17/Nov/2014:08:48:56 -0200] \"GET /static/dados_abertos/css/dados_abertos.css HTTP/1.1\" 200 1897\n",
        "Unable to parse 172.17.12.212 - - [17/Nov/2014:08:48:56 -0200] \"GET /static/lib/font-awesome/4.2.0/css/font-awesome.css HTTP/1.1\" 200 26651\n",
        "Unable to parse 172.17.12.212 - - [17/Nov/2014:08:48:56 -0200] \"GET /static/lib/bootstrap/3.2.0/css/bootstrap.css HTTP/1.1\" 200 132546\n",
        "Unable to parse 172.17.12.212 - - [17/Nov/2014:08:48:57 -0200] \"GET /static/dados_abertos/img/dados-logo00.png HTTP/1.1\" 200 3776\n",
        "Unable to parse 172.17.12.212 - - [17/Nov/2014:08:48:57 -0200] \"GET /static/dados_abertos/img/dados.png HTTP/1.1\" 200 1559\n",
        "Unable to parse 172.17.12.212 - - [17/Nov/2014:08:48:57 -0200] \"GET /static/lib/bootstrap/3.2.0/js/bootstrap.min.js HTTP/1.1\" 200 31819\n",
        "Unable to parse 172.17.12.212 - - [17/Nov/2014:08:48:57 -0200] \"GET /static/dados_abertos/img/torres02.png HTTP/1.1\" 200 72790\n",
        "Unable to parse 172.17.12.212 - - [17/Nov/2014:08:48:57 -0200] \"GET /static/lib/jquery/1.11.0/jquery.js HTTP/1.1\" 200 282944\n",
        "Unable to parse 172.17.12.212 - - [17/Nov/2014:08:48:59 -0200] \"GET /favicon.ico HTTP/1.1\" 404 2354\n",
        "Unable to parse 172.17.12.212 - - [17/Nov/2014:08:49:30 -0200] \"GET /dados_abertos/datasets/judicial/ HTTP/1.1\" 200 5715\n",
        "Unable to parse 172.17.12.212 - - [17/Nov/2014:08:49:30 -0200] \"GET /static/dados_abertos/css/dados_abertos.css HTTP/1.1\" 304 -\n",
        "Unable to parse 172.17.12.212 - - [17/Nov/2014:08:49:30 -0200] \"GET /static/lib/font-awesome/4.2.0/css/font-awesome.css HTTP/1.1\" 304 -\n",
        "Unable to parse 172.17.12.212 - - [17/Nov/2014:08:49:30 -0200] \"GET /static/lib/bootstrap/3.2.0/css/bootstrap.css HTTP/1.1\" 304 -\n",
        "Unable to parse 172.17.12.212 - - [17/Nov/2014:08:49:30 -0200] \"GET /static/dados_abertos/img/dados-logo00.png HTTP/1.1\" 304 -\n",
        "Unable to parse 172.17.12.212 - - [17/Nov/2014:08:49:30 -0200] \"GET /static/lib/jquery/1.11.0/jquery.js HTTP/1.1\" 304 -\n",
        "Unable to parse 172.17.12.212 - - [17/Nov/2014:08:49:30 -0200] \"GET /static/lib/bootstrap/3.2.0/js/bootstrap.min.js HTTP/1.1\" 304 -\n",
        "Unable to parse 172.17.12.212 - - [17/Nov/2014:08:49:30 -0200] \"GET /static/lib/select2/3.5.1/select2_locale_pt-BR.js HTTP/1.1\" 200 875\n",
        "Unable to parse 172.17.12.212 - - [17/Nov/2014:08:49:30 -0200] \"GET /static/lib/select2/3.5.1/select2.min.js HTTP/1.1\" 200 65979\n",
        "Unable to parse 172.17.12.212 - - [17/Nov/2014:08:49:30 -0200] \"GET /favicon.ico HTTP/1.1\" 404 2354\n",
        "Unable to parse 172.17.12.212 - - [17/Nov/2014:08:49:52 -0200] \"GET /dados_abertos/datasets/judicial/saidas/ HTTP/1.1\" 200 26140\n",
        "Unable to parse 172.17.12.212 - - [17/Nov/2014:08:49:52 -0200] \"GET /static/lib/font-awesome/4.2.0/css/font-awesome.css HTTP/1.1\" 304 -\n",
        "Unable to parse 172.17.12.212 - - [17/Nov/2014:08:49:52 -0200] \"GET /static/lib/bootstrap/3.2.0/css/bootstrap.css HTTP/1.1\" 304 -\n",
        "Unable to parse 172.17.12.212 - - [17/Nov/2014:08:49:52 -0200] \"GET /static/dados_abertos/css/dados_abertos.css HTTP/1.1\" 304 -\n",
        "Unable to parse 172.17.12.212 - - [17/Nov/2014:08:49:52 -0200] \"GET /static/dados_abertos/img/dados-logo00.png HTTP/1.1\" 304 -\n",
        "Unable to parse 172.17.12.212 - - [17/Nov/2014:08:49:52 -0200] \"GET /static/lib/jquery/1.11.0/jquery.js HTTP/1.1\" 304 -\n",
        "Unable to parse 172.17.12.212 - - [17/Nov/2014:08:49:52 -0200] \"GET /static/lib/bootstrap/3.2.0/js/bootstrap.min.js HTTP/1.1\" 304 -\n",
        "Unable to parse 172.17.12.212 - - [17/Nov/2014:08:49:52 -0200] \"GET /static/lib/select2/3.5.1/select2.min.js HTTP/1.1\" 304 -\n",
        "Unable to parse 172.17.12.212 - - [17/Nov/2014:08:49:52 -0200] \"GET /static/lib/select2/3.5.1/select2_locale_pt-BR.js HTTP/1.1\" 304 -\n",
        "Unable to parse 172.17.12.212 - - [17/Nov/2014:08:49:52 -0200] \"GET /static/lib/font-awesome/4.2.0/fonts/fontawesome-webfont.eot? HTTP/1.1\" 200 56006\n",
        "Unable to parse 172.17.12.212 - - [17/Nov/2014:08:50:00 -0200] \"GET /dados_abertos/dadoscsv/judicial_saidas_2014_10.zip HTTP/1.1\" 302 -\n",
        "Unable to parse 172.17.12.212 - - [17/Nov/2014:08:50:00 -0200] \"GET /dadoscsv/judicial/judicial_saidas_2014_10.zip HTTP/1.1\" 200 500244\n"
       ]
      }
     ],
     "prompt_number": 34
    },
    {
     "cell_type": "code",
     "collapsed": false,
     "input": [
      "df = DataFrame(log_list)"
     ],
     "language": "python",
     "metadata": {},
     "outputs": [],
     "prompt_number": 35
    },
    {
     "cell_type": "code",
     "collapsed": false,
     "input": [
      "df[0:2]"
     ],
     "language": "python",
     "metadata": {},
     "outputs": [
      {
       "html": [
        "<div style=\"max-height:1000px;max-width:1500px;overflow:auto;\">\n",
        "<table border=\"1\" class=\"dataframe\">\n",
        "  <thead>\n",
        "    <tr style=\"text-align: right;\">\n",
        "      <th></th>\n",
        "      <th>%&gt;s</th>\n",
        "      <th>%b</th>\n",
        "      <th>%h</th>\n",
        "      <th>%i</th>\n",
        "      <th>%l</th>\n",
        "      <th>%r</th>\n",
        "      <th>%t</th>\n",
        "      <th>%u</th>\n",
        "      <th>%{User-Agent}i</th>\n",
        "    </tr>\n",
        "  </thead>\n",
        "  <tbody>\n",
        "    <tr>\n",
        "      <th>0</th>\n",
        "      <td> 200</td>\n",
        "      <td> 521789</td>\n",
        "      <td> 172.17.44.106</td>\n",
        "      <td> http://dados.mprs.mp.br/dados_abertos/datasets...</td>\n",
        "      <td> -</td>\n",
        "      <td> GET /dadoscsv/judicial/judicial_movimentos_201...</td>\n",
        "      <td>                      </td>\n",
        "      <td> -</td>\n",
        "      <td> Mozilla/4.0 (compatible; MSIE 7.0; Windows NT ...</td>\n",
        "    </tr>\n",
        "    <tr>\n",
        "      <th>1</th>\n",
        "      <td> 200</td>\n",
        "      <td> 521789</td>\n",
        "      <td> 172.17.44.106</td>\n",
        "      <td> http://dados.mprs.mp.br/dados_abertos/datasets...</td>\n",
        "      <td> -</td>\n",
        "      <td> GET /dadoscsv/judicial/judicial_movimentos_201...</td>\n",
        "      <td>                      </td>\n",
        "      <td> -</td>\n",
        "      <td> Mozilla/4.0 (compatible; MSIE 7.0; Windows NT ...</td>\n",
        "    </tr>\n",
        "  </tbody>\n",
        "</table>\n",
        "</div>"
       ],
       "metadata": {},
       "output_type": "pyout",
       "prompt_number": 36,
       "text": [
        "   %>s      %b             %h  \\\n",
        "0  200  521789  172.17.44.106   \n",
        "1  200  521789  172.17.44.106   \n",
        "\n",
        "                                                  %i %l  \\\n",
        "0  http://dados.mprs.mp.br/dados_abertos/datasets...  -   \n",
        "1  http://dados.mprs.mp.br/dados_abertos/datasets...  -   \n",
        "\n",
        "                                                  %r                     %t  \\\n",
        "0  GET /dadoscsv/judicial/judicial_movimentos_201...                          \n",
        "1  GET /dadoscsv/judicial/judicial_movimentos_201...                          \n",
        "\n",
        "  %u                                     %{User-Agent}i  \n",
        "0  -  Mozilla/4.0 (compatible; MSIE 7.0; Windows NT ...  \n",
        "1  -  Mozilla/4.0 (compatible; MSIE 7.0; Windows NT ...  "
       ]
      }
     ],
     "prompt_number": 36
    },
    {
     "cell_type": "code",
     "collapsed": false,
     "input": [
      "\n",
      "# We are not going to use all the data, so let's delete some of the columns:\n",
      "\n",
      "del df['%i']; del df['%l']; del df['%u']; del df['%{User-Agent}i']\n",
      "\n",
      "#and rename columns to something that humans can understand:\n",
      "df = df.rename(columns={'%>s': 'Status', '%b':'b', \n",
      "                        '%h':'IP', '%r':'Request', '%t': 'Time'})"
     ],
     "language": "python",
     "metadata": {},
     "outputs": [],
     "prompt_number": 28
    },
    {
     "cell_type": "code",
     "collapsed": false,
     "input": [
      "df.head()"
     ],
     "language": "python",
     "metadata": {},
     "outputs": [
      {
       "html": [
        "<div style=\"max-height:1000px;max-width:1500px;overflow:auto;\">\n",
        "<table border=\"1\" class=\"dataframe\">\n",
        "  <thead>\n",
        "    <tr style=\"text-align: right;\">\n",
        "      <th></th>\n",
        "      <th>Status</th>\n",
        "      <th>b</th>\n",
        "      <th>IP</th>\n",
        "      <th>Request</th>\n",
        "      <th>Time</th>\n",
        "    </tr>\n",
        "  </thead>\n",
        "  <tbody>\n",
        "    <tr>\n",
        "      <th>0</th>\n",
        "      <td> 200</td>\n",
        "      <td> 521789</td>\n",
        "      <td> 172.17.44.106</td>\n",
        "      <td> GET /dadoscsv/judicial/judicial_movimentos_201...</td>\n",
        "      <td>                      </td>\n",
        "    </tr>\n",
        "    <tr>\n",
        "      <th>1</th>\n",
        "      <td> 200</td>\n",
        "      <td> 521789</td>\n",
        "      <td> 172.17.44.106</td>\n",
        "      <td> GET /dadoscsv/judicial/judicial_movimentos_201...</td>\n",
        "      <td>                      </td>\n",
        "    </tr>\n",
        "    <tr>\n",
        "      <th>2</th>\n",
        "      <td> 200</td>\n",
        "      <td> 521789</td>\n",
        "      <td> 172.17.44.106</td>\n",
        "      <td> GET /dadoscsv/judicial/judicial_movimentos_201...</td>\n",
        "      <td>                      </td>\n",
        "    </tr>\n",
        "    <tr>\n",
        "      <th>3</th>\n",
        "      <td> 200</td>\n",
        "      <td> 521789</td>\n",
        "      <td> 172.17.44.106</td>\n",
        "      <td> GET /dadoscsv/judicial/judicial_movimentos_201...</td>\n",
        "      <td>                      </td>\n",
        "    </tr>\n",
        "    <tr>\n",
        "      <th>4</th>\n",
        "      <td> 200</td>\n",
        "      <td> 521789</td>\n",
        "      <td> 172.17.44.106</td>\n",
        "      <td> GET /dadoscsv/judicial/judicial_movimentos_201...</td>\n",
        "      <td>                      </td>\n",
        "    </tr>\n",
        "  </tbody>\n",
        "</table>\n",
        "</div>"
       ],
       "metadata": {},
       "output_type": "pyout",
       "prompt_number": 29,
       "text": [
        "  Status       b             IP  \\\n",
        "0    200  521789  172.17.44.106   \n",
        "1    200  521789  172.17.44.106   \n",
        "2    200  521789  172.17.44.106   \n",
        "3    200  521789  172.17.44.106   \n",
        "4    200  521789  172.17.44.106   \n",
        "\n",
        "                                             Request                   Time  \n",
        "0  GET /dadoscsv/judicial/judicial_movimentos_201...                         \n",
        "1  GET /dadoscsv/judicial/judicial_movimentos_201...                         \n",
        "2  GET /dadoscsv/judicial/judicial_movimentos_201...                         \n",
        "3  GET /dadoscsv/judicial/judicial_movimentos_201...                         \n",
        "4  GET /dadoscsv/judicial/judicial_movimentos_201...                         "
       ]
      }
     ],
     "prompt_number": 29
    },
    {
     "cell_type": "code",
     "collapsed": false,
     "input": [],
     "language": "python",
     "metadata": {},
     "outputs": []
    }
   ],
   "metadata": {}
  }
 ]
}