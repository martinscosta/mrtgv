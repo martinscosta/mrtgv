{
 "metadata": {
  "name": ""
 },
 "nbformat": 3,
 "nbformat_minor": 0,
 "worksheets": [
  {
   "cells": [
    {
     "cell_type": "code",
     "collapsed": false,
     "input": [
      "import pandas as pd\n",
      "import numpy as np\n",
      "randn = np.random.randn\n",
      "from pandas import *"
     ],
     "language": "python",
     "metadata": {},
     "outputs": [],
     "prompt_number": 1
    },
    {
     "cell_type": "code",
     "collapsed": false,
     "input": [
      "path = \"d:/srv/mp/solr/util\"\n",
      "import os,sys,time,datetime"
     ],
     "language": "python",
     "metadata": {},
     "outputs": [],
     "prompt_number": 2
    },
    {
     "cell_type": "code",
     "collapsed": false,
     "input": [
      "os.listdir(path)"
     ],
     "language": "python",
     "metadata": {},
     "outputs": [
      {
       "metadata": {},
       "output_type": "pyout",
       "prompt_number": 3,
       "text": [
        "['access_log.2013-03-31.out',\n",
        " 'access_log.2013-04-01.out',\n",
        " 'access_log.2013-04-02.out',\n",
        " 'access_log.2013-04-03.out',\n",
        " 'ip_tombo.csv',\n",
        " 'ip_tombo.sql']"
       ]
      }
     ],
     "prompt_number": 3
    },
    {
     "cell_type": "code",
     "collapsed": false,
     "input": [
      "ips = pd.read_csv(path + \"/ip_tombo.csv\", names=['id','ip', 'tombo', 'unidade','und_seq','municipio','mun_seq','descricao','dh'],encoding='latin-1')"
     ],
     "language": "python",
     "metadata": {},
     "outputs": [],
     "prompt_number": 4
    },
    {
     "cell_type": "code",
     "collapsed": false,
     "input": [
      "ips"
     ],
     "language": "python",
     "metadata": {},
     "outputs": [
      {
       "metadata": {},
       "output_type": "pyout",
       "prompt_number": 5,
       "text": [
        "<class 'pandas.core.frame.DataFrame'>\n",
        "Int64Index: 978 entries, 0 to 977\n",
        "Data columns:\n",
        "id           978  non-null values\n",
        "ip           978  non-null values\n",
        "tombo        900  non-null values\n",
        "unidade      900  non-null values\n",
        "und_seq      978  non-null values\n",
        "municipio    696  non-null values\n",
        "mun_seq      978  non-null values\n",
        "descricao    900  non-null values\n",
        "dh           978  non-null values\n",
        "dtypes: float64(1), int64(3), object(5)"
       ]
      }
     ],
     "prompt_number": 5
    },
    {
     "cell_type": "code",
     "collapsed": false,
     "input": [
      "ips.head()"
     ],
     "language": "python",
     "metadata": {},
     "outputs": [
      {
       "html": [
        "<div style=\"max-height:1000px;max-width:1500px;overflow:auto;\">\n",
        "<table border=\"1\" class=\"dataframe\">\n",
        "  <thead>\n",
        "    <tr style=\"text-align: right;\">\n",
        "      <th></th>\n",
        "      <th>id</th>\n",
        "      <th>ip</th>\n",
        "      <th>tombo</th>\n",
        "      <th>unidade</th>\n",
        "      <th>und_seq</th>\n",
        "      <th>municipio</th>\n",
        "      <th>mun_seq</th>\n",
        "      <th>descricao</th>\n",
        "      <th>dh</th>\n",
        "    </tr>\n",
        "  </thead>\n",
        "  <tbody>\n",
        "    <tr>\n",
        "      <th>0</th>\n",
        "      <td> 1</td>\n",
        "      <td> 172.17.144.74</td>\n",
        "      <td> 119475</td>\n",
        "      <td>    PROMOTORIA DE JUSTI\u00c3\u0087A CRIMINAL DE CARAZINHO</td>\n",
        "      <td> 744</td>\n",
        "      <td>             CARAZINHO</td>\n",
        "      <td>  25</td>\n",
        "      <td> MICROCOMPUTADOR HP DC5750 - ATHLON 64 X2 - DVD/RW</td>\n",
        "      <td> 2013-04-03 12:54:59</td>\n",
        "    </tr>\n",
        "    <tr>\n",
        "      <th>1</th>\n",
        "      <td> 2</td>\n",
        "      <td>  172.17.65.64</td>\n",
        "      <td> 146733</td>\n",
        "      <td> PROMOTORIA DE JUSTI\u00c3\u0087A DE S\u00c3\u0083O LOUREN\u00c3\u0087O DO SUL</td>\n",
        "      <td> 893</td>\n",
        "      <td> S\u00c3\u0083O LOUREN\u00c3\u0087O DO SUL</td>\n",
        "      <td> 125</td>\n",
        "      <td>  MICROCOMPUTADOR LENOVO THINKCENTRE CORE I3 M5485</td>\n",
        "      <td> 2013-04-03 12:54:59</td>\n",
        "    </tr>\n",
        "    <tr>\n",
        "      <th>2</th>\n",
        "      <td> 3</td>\n",
        "      <td> 172.17.140.70</td>\n",
        "      <td>  99231</td>\n",
        "      <td>      PROMOTORIA DE JUSTI\u00c3\u0087A CRIMINAL DE ERECHIM</td>\n",
        "      <td> 764</td>\n",
        "      <td>               ERECHIM</td>\n",
        "      <td>  39</td>\n",
        "      <td>          MICROCOMPUTADOR HP DC5750 - ATHLON 64 X2</td>\n",
        "      <td> 2013-04-03 12:54:59</td>\n",
        "    </tr>\n",
        "    <tr>\n",
        "      <th>3</th>\n",
        "      <td> 4</td>\n",
        "      <td> 172.17.108.65</td>\n",
        "      <td> 134844</td>\n",
        "      <td>   PROMOTORIA DE JUSTI\u00c3\u0087A DE J\u00c3\u009aLIO DE CASTILHOS</td>\n",
        "      <td> 800</td>\n",
        "      <td>   J\u00c3\u009aLIO DE CASTILHOS</td>\n",
        "      <td>  70</td>\n",
        "      <td> MICROCOMPUTADOR LENOVO THINKCENTRE M58P CORE2 ...</td>\n",
        "      <td> 2013-04-03 12:54:59</td>\n",
        "    </tr>\n",
        "    <tr>\n",
        "      <th>4</th>\n",
        "      <td> 5</td>\n",
        "      <td> 172.17.122.66</td>\n",
        "      <td>  99458</td>\n",
        "      <td>       PROMOTORIA DE JUSTI\u00c3\u0087A DE VEN\u00c3\u0082NCIO AIRES</td>\n",
        "      <td> 927</td>\n",
        "      <td>       VEN\u00c3\u0082NCIO AIRES</td>\n",
        "      <td> 155</td>\n",
        "      <td>          MICROCOMPUTADOR HP DC5750 - ATHLON 64 X2</td>\n",
        "      <td> 2013-04-03 12:54:59</td>\n",
        "    </tr>\n",
        "  </tbody>\n",
        "</table>\n",
        "</div>"
       ],
       "metadata": {},
       "output_type": "pyout",
       "prompt_number": 6,
       "text": [
        "   id             ip   tombo                                          unidade  \\\n",
        "0   1  172.17.144.74  119475     PROMOTORIA DE JUSTI\u00c3\u0087A CRIMINAL DE CARAZINHO   \n",
        "1   2   172.17.65.64  146733  PROMOTORIA DE JUSTI\u00c3\u0087A DE S\u00c3\u0083O LOUREN\u00c3\u0087O DO SUL   \n",
        "2   3  172.17.140.70   99231       PROMOTORIA DE JUSTI\u00c3\u0087A CRIMINAL DE ERECHIM   \n",
        "3   4  172.17.108.65  134844    PROMOTORIA DE JUSTI\u00c3\u0087A DE J\u00c3\u009aLIO DE CASTILHOS   \n",
        "4   5  172.17.122.66   99458        PROMOTORIA DE JUSTI\u00c3\u0087A DE VEN\u00c3\u0082NCIO AIRES   \n",
        "\n",
        "   und_seq              municipio  mun_seq  \\\n",
        "0      744              CARAZINHO       25   \n",
        "1      893  S\u00c3\u0083O LOUREN\u00c3\u0087O DO SUL      125   \n",
        "2      764                ERECHIM       39   \n",
        "3      800    J\u00c3\u009aLIO DE CASTILHOS       70   \n",
        "4      927        VEN\u00c3\u0082NCIO AIRES      155   \n",
        "\n",
        "                                           descricao                   dh  \n",
        "0  MICROCOMPUTADOR HP DC5750 - ATHLON 64 X2 - DVD/RW  2013-04-03 12:54:59  \n",
        "1   MICROCOMPUTADOR LENOVO THINKCENTRE CORE I3 M5485  2013-04-03 12:54:59  \n",
        "2           MICROCOMPUTADOR HP DC5750 - ATHLON 64 X2  2013-04-03 12:54:59  \n",
        "3  MICROCOMPUTADOR LENOVO THINKCENTRE M58P CORE2 ...  2013-04-03 12:54:59  \n",
        "4           MICROCOMPUTADOR HP DC5750 - ATHLON 64 X2  2013-04-03 12:54:59  "
       ]
      }
     ],
     "prompt_number": 6
    },
    {
     "cell_type": "code",
     "collapsed": false,
     "input": [],
     "language": "python",
     "metadata": {},
     "outputs": []
    }
   ],
   "metadata": {}
  }
 ]
}