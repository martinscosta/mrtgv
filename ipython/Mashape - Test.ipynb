{
 "metadata": {
  "name": "",
  "signature": "sha256:cf7b7d611b40358df665102f4fd7cf3f3aebb67074e853b2d01559f82c0f793d"
 },
 "nbformat": 3,
 "nbformat_minor": 0,
 "worksheets": [
  {
   "cells": [
    {
     "cell_type": "code",
     "collapsed": false,
     "input": [
      "import unirest"
     ],
     "language": "python",
     "metadata": {},
     "outputs": [],
     "prompt_number": 1
    },
    {
     "cell_type": "code",
     "collapsed": false,
     "input": [
      "url = \"https://byroredux-metacritic.p.mashape.com/find/movie\""
     ],
     "language": "python",
     "metadata": {},
     "outputs": [],
     "prompt_number": 2
    },
    {
     "cell_type": "code",
     "collapsed": false,
     "input": [
      "def metacritic(titulo=\"Fast & Furious 6\"):\n",
      "    # These code snippets use an open-source library. http://unirest.io/python\n",
      "    response = unirest.post(\"https://byroredux-metacritic.p.mashape.com/find/movie\",\n",
      "      headers={\n",
      "        \"X-Mashape-Key\": \"QboycstQMxmshgdrFpxsE7SaHFzcp1jXnF8jsnstvsi6sX5P8S\",\n",
      "        \"Content-Type\": \"application/x-www-form-urlencoded\"\n",
      "      },\n",
      "      params={\n",
      "        \"retry\": 4,\n",
      "        \"title\": titulo\n",
      "      }\n",
      "    )\n",
      "    return response"
     ],
     "language": "python",
     "metadata": {},
     "outputs": [],
     "prompt_number": 9
    },
    {
     "cell_type": "code",
     "collapsed": false,
     "input": [
      "r = teste()\n",
      "print dir(r)\n",
      "print \"=\"*10\n",
      "print r.body\n",
      "print \"=\"*10\n",
      "print r.code\n",
      "print \"=\"*10\n",
      "print r.headers\n",
      "print \"=\"*10\n"
     ],
     "language": "python",
     "metadata": {},
     "outputs": [
      {
       "output_type": "stream",
       "stream": "stdout",
       "text": [
        "['__class__', '__delattr__', '__dict__', '__doc__', '__format__', '__getattribute__', '__hash__', '__init__', '__module__', '__new__', '__reduce__', '__reduce_ex__', '__repr__', '__setattr__', '__sizeof__', '__str__', '__subclasshook__', '__weakref__', '_body', '_code', '_headers', '_raw_body', 'body', 'code', 'headers', 'raw_body']\n",
        "==========\n",
        "{u'result': {u'rating': u'PG-13', u'name': u'Fast & Furious 6', u'url': u'http://www.metacritic.com/movie/fast-furious-6', u'userscore': 7, u'summary': u'Hobbs (Dwayne Johnson) asks Dom (Vin Diesel) and Brian (Paul Walker) to help him take down an organization of lethally skilled mercenary drivers. In return, their crew will receive full pardons and be allowed to return home.', u'director': u'', u'cast': u'Dwayne Johnson, Michelle Rodriguez, Paul Walker, Vin Diesel', u'score': u'61', u'rlsdate': u'2013-05-24', u'genre': u'Action\\nAdventure\\nThriller\\nCrime', u'runtime': u'130 min', u'thumbnail': u'http://static.metacritic.com/images/products/movies/4/a8ddd65df90f3c0ab204f7b0850310cb-98.jpg'}}\n",
        "==========\n",
        "200\n",
        "==========\n",
        "Cache-Control: private, must-revalidate\r\n",
        "Content-Type: application/json\r\n",
        "Date: Sun, 11 Jan 2015 13:25:37 GMT\r\n",
        "expires: -1\r\n",
        "pragma: no-cache\r\n",
        "Server: Mashape/5.0.5\r\n",
        "X-Powered-By: PleskLin\r\n",
        "Content-Length: 664\r\n",
        "Connection: Close\r\n",
        "\n",
        "==========\n"
       ]
      }
     ],
     "prompt_number": 10
    },
    {
     "cell_type": "code",
     "collapsed": false,
     "input": [],
     "language": "python",
     "metadata": {},
     "outputs": []
    }
   ],
   "metadata": {}
  }
 ]
}