{
 "metadata": {
  "name": "",
  "signature": "sha256:cb68314546cb8edb35b3925a168922be4950690d11d0f297cbee6a17f929b87b"
 },
 "nbformat": 3,
 "nbformat_minor": 0,
 "worksheets": [
  {
   "cells": [
    {
     "cell_type": "code",
     "collapsed": false,
     "input": [
      "import pandas"
     ],
     "language": "python",
     "metadata": {},
     "outputs": [
      {
       "output_type": "stream",
       "stream": "stderr",
       "text": [
        "C:\\Python27\\lib\\site-packages\\openpyxl\\xml\\__init__.py:35: UserWarning: The installed version of lxml is too old to be used with openpyxl\n",
        "  warnings.warn(\"The installed version of lxml is too old to be used with openpyxl\")\n",
        "C:\\Python27\\lib\\site-packages\\pandas\\io\\excel.py:626: UserWarning: Installed openpyxl is not supported at this time. Use >=1.6.1 and <2.0.0.\n",
        "  .format(openpyxl_compat.start_ver, openpyxl_compat.stop_ver))\n"
       ]
      }
     ],
     "prompt_number": 1
    },
    {
     "cell_type": "code",
     "collapsed": false,
     "input": [
      "dados = "
     ],
     "language": "python",
     "metadata": {},
     "outputs": []
    }
   ],
   "metadata": {}
  }
 ]
}