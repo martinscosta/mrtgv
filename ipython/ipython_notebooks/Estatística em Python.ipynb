{
 "metadata": {
  "name": ""
 },
 "nbformat": 3,
 "nbformat_minor": 0,
 "worksheets": [
  {
   "cells": [
    {
     "cell_type": "code",
     "collapsed": false,
     "input": [
      "import math\n",
      "import numpy\n",
      "\n",
      "amostra = [\n",
      "    {'altura': 1.95, 'peso': 93.1},\n",
      "    {'altura': 1.96, 'peso': 93.9},\n",
      "    {'altura': 1.95, 'peso': 89.9},\n",
      "    {'altura': 1.98, 'peso': 95.1},\n",
      "    {'altura': 2.10, 'peso': 100.2}\n",
      "    ]\n",
      "\n",
      "def media(l=[]):\n",
      "    \"\"\"\n",
      "    Calcula a media de uma lista de valores\n",
      "    \"\"\"\n",
      "    #return float(sum(l))/len(l) if len(l) > 0 else float('nan')\n",
      "    return numpy.mean(l)\n",
      "    #return math.fsum(l)/len(l) if len(l) > 0 else float('nan')\n",
      "\n",
      "    \n",
      "def covariancia(amostra=[],x='',y=''):\n",
      "    \"\"\"\n",
      "    Covariancia\n",
      "    \n",
      "    # http://pt.wikipedia.org/wiki/Covari%C3%A2ncia\n",
      "    \"\"\"\n",
      "    \n",
      "    soma_x = 0\n",
      "    soma_y = 0\n",
      "    for a in amostra:\n",
      "        soma_x += a[x]        \n",
      "        soma_y += a[y]\n",
      "    media_x = media([r[x] for r in amostra])\n",
      "    media_y = media([r[y] for r in amostra])\n",
      "    print \"media_\" + x + \" = \", media_x\n",
      "    print \"media_\" + y + \" = \", media_y\n",
      "    \n",
      "    soma_produto_desvios = 0\n",
      "    for a in amostra:\n",
      "        # Desvio (valor menos m\u00e9dia da vari\u00e1vel)\n",
      "        a['desvio_x'] = a[x] - media_x\n",
      "        a['desvio_y']   = a[y] - media_y\n",
      "        soma_produto_desvios += a['desvio_x'] * a['desvio_y']\n",
      "        \n",
      "        print a\n",
      "    print \"soma_produto_desvios=\",soma_produto_desvios\n",
      "    #0,8784/5=0,17568=covari\u00e2ncia de X e Y\n",
      "    cv = soma_produto_desvios / len(amostra)\n",
      "    print \"covariancia = =\",cv\n",
      "    \n",
      "def desvio_padrao(l=[]):\n",
      "    \"\"\"\n",
      "    Desvio padrao em python - O desvio padr\u00e3o define-se como a raiz quadrada da vari\u00e2ncia\n",
      "    \"\"\"\n",
      "    return math.sqrt(variancia(l))\n",
      "\n",
      "def variancia(l=[]):\n",
      "    \"\"\"\n",
      "    A m\u00e9dia do quadrado da dist\u00e2ncia de cada ponto at\u00e9 a m\u00e9dia\n",
      "    \"\"\"\n",
      "    m = media(l)\n",
      "    n = len(l)\n",
      "    soma = 0\n",
      "    for v in l:\n",
      "        soma += ((v - m) ** 2) * 1.\n",
      "    return soma / n\n",
      "        \n",
      "        "
     ],
     "language": "python",
     "metadata": {},
     "outputs": [],
     "prompt_number": 17
    },
    {
     "cell_type": "code",
     "collapsed": false,
     "input": [
      "alturas = [r['altura'] for r in amostra]\n",
      "pesos = [r['peso'] for r in amostra]\n",
      "print \"Variancia dos pesos = \", variancia(pesos)\n",
      "print \"Variancia das alturas = \", variancia(alturas)\n",
      "covariancia(amostra=amostra,x='altura',y='peso')\n",
      "print \"numpy.cov(alturas,pesos)=\", numpy.cov(alturas,pesos,1)\n"
     ],
     "language": "python",
     "metadata": {},
     "outputs": [
      {
       "output_type": "stream",
       "stream": "stdout",
       "text": [
        "Variancia dos pesos =  11.2624\n",
        "Variancia das alturas =  0.003256\n",
        "media_altura =  1.988\n",
        "media_peso =  94.44\n",
        "{'peso': 93.1, 'desvio_x': -0.038000000000000034, 'desvio_y': -1.3400000000000034, 'altura': 1.95}\n",
        "{'peso': 93.9, 'desvio_x': -0.028000000000000025, 'desvio_y': -0.53999999999999204, 'altura': 1.96}\n",
        "{'peso': 89.9, 'desvio_x': -0.038000000000000034, 'desvio_y': -4.539999999999992, 'altura': 1.95}\n",
        "{'peso': 95.1, 'desvio_x': -0.0080000000000000071, 'desvio_y': 0.65999999999999659, 'altura': 1.98}\n",
        "{'peso': 100.2, 'desvio_x': 0.1120000000000001, 'desvio_y': 5.7600000000000051, 'altura': 2.1}\n",
        "soma_produto_desvios= 0.8784\n",
        "covariancia = = 0.17568\n",
        "numpy.cov(alturas,pesos)= [[  4.07000000e-03   2.19600000e-01]\n",
        " [  2.19600000e-01   1.40780000e+01]]\n"
       ]
      }
     ],
     "prompt_number": 24
    },
    {
     "cell_type": "code",
     "collapsed": false,
     "input": [],
     "language": "python",
     "metadata": {},
     "outputs": []
    }
   ],
   "metadata": {}
  }
 ]
}